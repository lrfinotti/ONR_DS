{
 "cells": [
  {
   "cell_type": "markdown",
   "id": "313028fc-689e-40aa-82a6-92ebd1b0e197",
   "metadata": {},
   "source": [
    "# Introduction Python and Jupyter Lab (for Data Science)"
   ]
  },
  {
   "cell_type": "markdown",
   "id": "f63eac6c-5f1d-4486-921a-0536407aba0f",
   "metadata": {},
   "source": [
    "## Introduction\n",
    "\n",
    "In this notebook we introduce the very basics of the [Python](https://www.python.org/) programming language and [Jupyter Notebooks](https://jupyter.org/).\n",
    "\n",
    "We will only discuss the basics and still rather fast, but hopefully it will be enough to get students started.\n",
    "\n",
    "We will focus on (basic) tools that are most commonly used in applications to data science."
   ]
  },
  {
   "cell_type": "markdown",
   "id": "1b11746e-ca50-4970-92fd-0fe6be5d83b1",
   "metadata": {},
   "source": [
    "## Python\n",
    "\n",
    "[Python](https://www.python.org/) is a simple yet powerful programming language.\n",
    "\n",
    "Some of its good qualities:\n",
    "\n",
    "* **Easy syntax:** it is easy to learn, and quick to write programs.\n",
    "* **Extensible:** there are thousands of modules/libraries that make it easy to accomplish most tasks.\n",
    "* **Resources:** due to its popularity, it is very easy to find help on how to do something in Python.  (In particular, [Stack Overflow](https://stackoverflow.com/) (which contains Q&A) and [YouTube](https://www.youtube.com/) contain extensive content on Python.)\n",
    "* **Free and Open Source:** there is no cost to use it, it's been continually improved, and has a strong community behind it.\n",
    "\n",
    "Some of its drawbacks:\n",
    "\n",
    "* **Relatively slow:** it cannot compete with some languages, such as C/C++, Java, and Rust in speed.\n",
    "* **\"Quirky\":** it sometimes does things differently than other languages.\n",
    "\n",
    "In *many* cases, the \"slow\" problem is not a real problem: would you rather spend one hour writing code that will run in 0.1 millisecond, or 10 minutes writing code that will run in 10 milliseconds?  Computers today are so fast that for most \"mundane\" tasks, Python will be more than fast enough, and considerably easier to use.\n",
    "\n",
    "\n",
    "### Python for Data Sciences\n",
    "\n",
    "Python became popular for data science due to its ease of use (and thus gentle learning curve).  But since data science often requires *a lot* of computational power, it seems that it might not be the best option.  This indeed would be the case if were not for specialized libraries that allow Python to perform specific kinds of computations (including the ones we need in data science) almost as fast as faster (and more complex) languages! \n",
    "\n",
    "More specifically, [NumPy](https://numpy.org/) allows us to perform computations with arrays of data extremely fast, and it is used by most other packages/libraries that require such computations, such as [pandas](https://pandas.pydata.org/), one of the main libraries for data science.  (We will not discuss those in this notebook, though.)"
   ]
  },
  {
   "cell_type": "markdown",
   "id": "3eafbd8a-fcd1-41ca-8249-8ab1c826612d",
   "metadata": {},
   "source": [
    "## Jupyter Notebooks\n",
    "\n",
    "[Jupyter Notebooks](https://jupyter.org/) allow us to create interactive documents containing code along  with properly formatted text, and thus is quite useful for teaching, presentations, and documenting code.\n",
    "\n",
    "This is a Jupyter notebook!\n",
    "\n",
    "Below we have an example of a *code cell*, which runs Python code:"
   ]
  },
  {
   "cell_type": "code",
   "execution_count": 1,
   "id": "6c466fd3-3ddf-476a-b430-79449a9b4fc5",
   "metadata": {
    "execution": {
     "iopub.execute_input": "2023-10-19T18:00:41.185121Z",
     "iopub.status.busy": "2023-10-19T18:00:41.184514Z",
     "iopub.status.idle": "2023-10-19T18:00:41.193501Z",
     "shell.execute_reply": "2023-10-19T18:00:41.192800Z"
    }
   },
   "outputs": [
    {
     "name": "stdout",
     "output_type": "stream",
     "text": [
      "Hello worlds!\n"
     ]
    }
   ],
   "source": [
    "print(\"Hello worlds!\")"
   ]
  },
  {
   "cell_type": "markdown",
   "id": "7aa3259e-54b1-4494-9af3-ab0acc0c37d8",
   "metadata": {},
   "source": [
    "(You can run other languages in a Jupyter notebook, but here will stick with Python only.)"
   ]
  },
  {
   "cell_type": "markdown",
   "id": "d27fa41f-b03b-4251-9f94-192c33f964cc",
   "metadata": {},
   "source": [
    "You can edit the code, by clicking in *cell* containing and editing it, and run the code by pressing `Shift + Enter` in your keyboard.  It will also select the next cell (code or text). If there is no cell following it, it will create a new one.\n",
    "\n",
    "You can also edit the text you see here: just double click on the text (the cell will enter in *Edit mode* and will look a bit different and will not be formatted), make the necessary changes, and then press `Shift + Enter`."
   ]
  },
  {
   "cell_type": "markdown",
   "id": "5b331738-1955-46d7-af07-bc7dcbc70e6d",
   "metadata": {},
   "source": [
    "### Working with Jupyter Notebooks\n",
    "\n",
    "There are different software that can load and run Jupyter notebooks.  I recommend [Jupyter Lab](https://jupyter.org/) and will describe here how its interface works with Jupyter notebooks.  (Other software that also run Jupyter notebooks often behave similarly.)  Jupyter Lab runs on your browser.\n",
    "\n",
    "**Creating a new notebook:** You can create a new notebook by clicking on the plus symbol (`+`) on the top of the Jupyter Lab window.  Then, click on the Python icon under *Notebook* (on top).\n",
    "\n",
    "**Open an existing notebook:** After launching Jupyter Lab, you can open saved notebooks (which are files with extension `ipynb` by default) by clicking on the folder icon on the left pane, navigating to the file, and then double-clicking on the desired file.\n",
    "\n",
    "**The main menu:** You will find a familiar menu on top, from which you can find most operations, such as saving, closing, shutting down, copying/cutting/pasting, etc.\n",
    "\n",
    "**Notebook toolbar:** Under the tab with the name of the notebook you will find icons for: \n",
    "* saving the notebook, \n",
    "* adding a cell (below current), \n",
    "* cut, copy, paste cells, \n",
    "* run cell (as an alternative to pressing `Shift + Enter`), \n",
    "* interrupt kernel (which stops a computation that might be taking to long), \n",
    "* restart kernel (which will give a fresh start for the notebook --- code cells need to be run again to take effect), \n",
    "* restart kernel and run all cells, \n",
    "* a drop down menu to choose the cell type between between *Markdown* (used for text), *Code*, and *Raw*."
   ]
  },
  {
   "cell_type": "markdown",
   "id": "b7fa6d63-1a11-42ba-a1eb-aec94c6173d9",
   "metadata": {
    "jp-MarkdownHeadingCollapsed": true,
    "tags": []
   },
   "source": [
    "### Notebook Modes\n",
    "\n",
    "A notebook has two modes: *edit mode* or *command mode*.  You are in edit mode when you are editing a cell.  (Remember, you can edit a code cell by simply clicking on it, and a text cell by *double*-clicking on it.)\n",
    "\n",
    "In edit mode, you will always see the blinking cursor that allows you to enter text.  You can exit edit mode (and thus enter command mode) by pressing the `Escape` key.\n",
    "\n",
    "In command mode, you will see no blinking cursor, but you will see a blue vertical line to the left of the current selected cell.  In this mode you can issue keyboard commands.  For example:\n",
    "\n",
    "| Key | Command |\n",
    "|-----|---------|\n",
    "| `A` | Add cell *above* selected one |\n",
    "| `B` | Add cell *below* selected one |\n",
    "| `M` | Change selected cell to Markdown/Text cell |\n",
    "| `Y` | Change selected cell to Code cell |\n",
    "| `C` | Copy selected cells |\n",
    "| `X` | Cut selected cells |\n",
    "| `V` | Paste copied/cut cells below selected cell |\n",
    "| `Z` | Undo |\n",
    "| `DD` (press `D` twice) | Delete selected cells |\n",
    "\n",
    "\n",
    "(Note that we follow the convention that `A` represents that key in the keyboard, so *without pressing the `Shift` key*.  We would write `Shift + A` if `Shift` needs to be pressed.)\n",
    "\n",
    "### Cells\n",
    "\n",
    "A Jupyter notebook is divided in cells.  We have (basically) two types of cells: text and code.\n",
    "\n",
    "Code cells have a different darker background and have square brackets `[ ]` on its left, often with an number.  The number represents the order in which the code cell was run.\n",
    "\n",
    "You can run Python code in code cells.  The code us evaluated by running it (with `Shift + Enter` or clicking on the \"Run\" icon in the notebook menu).  If the last line of code in the cell produces any output, this result is printed below the cell after running it.  (Note that *only the output of the **last line** is printed*.)\n",
    "\n",
    "Text cells cannot immediately be seen, as they simply appear as text.  If we have many text cells together, it is not clear at first where one ends and the other begins.  But if you click on a text cell, a blue line appears to its left.\n",
    "\n",
    "\n",
    "#### Changing Cell Types\n",
    "\n",
    "If you create a new cell by clicking on the `+` in the notebook menu (below the tab with the notebook file name) or by pressing `A` or `B` in command mode.  By default it will be a code cell, but you can change it either by pressing `M` in command mode (pressing `Escape` to enter command mode) or from the notebook menu.\n",
    "\n",
    "To change a text cell to a code cell, press `Y` in command mode or choose this option from the notebook menu.\n",
    "\n",
    "\n",
    "### Keyboard Shortcuts\n",
    "\n",
    "If you intend to use Jupyter notebooks often, it is *strongly* recommend that you get used to using keyboard shortcuts, as it will greatly increase your productivity.\n",
    "\n",
    "Besides the ones given above, there are many others that could be useful, and can be found from a simple web search."
   ]
  },
  {
   "cell_type": "markdown",
   "id": "eca211c8-ed9b-4089-b40d-5edf8240789e",
   "metadata": {},
   "source": [
    "### Entering Text\n",
    "\n",
    "Text cells are formatted with [Markdown](https://daringfireball.net/projects/markdown/), which provides a quick syntax to format text.  Click on [Syntax](https://daringfireball.net/projects/markdown/syntax) in the previous link to learn more about how to use it.\n",
    "\n",
    "Here are some of the basics:\n",
    "\n",
    "* **Italic:** `*italic*` produces *italic*.\n",
    "* **Bold:**  `**bold**` produces **bold**.\n",
    "* **Headers:**\n",
    "  - use `# Top Header Title` to produce a top level header;\n",
    "  - use `## Second Level Header Title` to produce a second level header;\n",
    "  - use `### Third Level Header Title` to produce a third level header;\n",
    "* **Links:** use `[link text](link URL)` to create links, for instance `[Python](https://www.python.org/)` produces [Python](https://www.python.org/).\n",
    "  \n",
    "Here is an example of an **bullet point list**:\n",
    "\n",
    "```\n",
    "* first item\n",
    "* second item\n",
    "* third item\n",
    "```\n",
    "\n",
    "produces\n",
    "\n",
    "* first item\n",
    "* second item\n",
    "* third item\n",
    "\n",
    "\n",
    "Here is an example of a **numbered list**:\n",
    "\n",
    "```\n",
    "1. first item\n",
    "2. second item\n",
    "3. third item\n",
    "```\n",
    "\n",
    "produces\n",
    "\n",
    "1. first item\n",
    "2. second item\n",
    "3. third item\n"
   ]
  },
  {
   "cell_type": "markdown",
   "id": "8c4f98d6-c363-4ca4-a542-54d699a3a293",
   "metadata": {},
   "source": [
    "### Math in Text Cells\n",
    "\n",
    "You can also enter mathematical expressions using [LaTeX](https://www.latex-project.org/).  We will not go into much detail here, but there also countless resources for LaTeX online.\n",
    "\n",
    "But here are some of the basics:\n",
    "\n",
    "* Surround basic expressions with `$` to get **math formatted expressions**.  For instance, `$x + 1$` produces $x + 1$.  (Compare to what we get without the `$`'s: x + 1 versus $x + 1$.)\n",
    "\n",
    "* Use `^` for **powers** (between `$`'s), with braces `{ }` surrounding the powers.  For instance `$a^{2} + b^{2} = c^{2}$` produces $a^{2} + b^{2} = c^{2}$.\n",
    "\n",
    "* Use `\\frac` or `\\dfrac` to produce **fractions**, with braces `{ }` surrounding the numerator and denominator.  For instance:\n",
    "  - `$\\frac{a^{2} + b^{2}}{c^{2}}$` produces $\\frac{a^{2} + b^{2}}{c^{2}}$,\n",
    "  - `$\\dfrac{a^{2} + b^{2}}{c^{2}}$` produces $\\dfrac{a^{2} + b^{2}}{c^{2}}$.\n",
    "\n",
    "* Use `\\sqrt` to produce **square roots**, with braces `{ }` surrounding what goes inside.  For instance:\n",
    "  - `$\\sqrt{a^{2} + b^{2}}$` produces $\\sqrt{a^{2} + b^{2}}$,\n",
    "  - `$\\sqrt{\\dfrac{a^{2} + b^{2}}{c^{2}}}$` produces $\\sqrt{\\dfrac{a^{2} + b^{2}}{c^{2}}}$.\n",
    "\n",
    "* Use `$\\left({ ... }\\right)$` to produce **adjustable parentheses**.  For instance `$\\left({ \\dfrac{a^{2} + {b^{2^{3}}}}{c^{2}} }\\right)$` produces $\\left({ \\dfrac{a^{2} + {b^{2^{3}}}}{c^{2}} }\\right)$.\n",
    "\n",
    "\n"
   ]
  },
  {
   "cell_type": "markdown",
   "id": "0005e0f4-8f8b-44ab-b3cd-5495325f5e5c",
   "metadata": {},
   "source": [
    "## Installation\n",
    "\n",
    "We will *not* go over the installation of [Python](https://www.python.org/) and [Jupyter Lab](https://jupyter.org/) here, but you can find instructions on their respective web sites.\n",
    "\n",
    "One easier way to install them, along with other Python packages for data science, that seems popular is to install [Anaconda](https://www.anaconda.com/).  On the other hand, the installation process takes a long time and the requires considerable amount of disk space.  Moreover, I've seen the process fail a couple of times for some of my students, so I feel somewhat reluctant to recommend it.\n",
    "\n",
    "Another alternative is to completely avoid installing it and using some online provider that has all you need already available.  Here are some options, although I only have personal experience with the first on the list:\n",
    "\n",
    "* [Cocalc](https://cocalc.com/)\n",
    "* [Google Colab](https://colab.research.google.com/)\n",
    "* [Kaggle](https://www.kaggle.com/)\n",
    "\n",
    "Cocalc is quite good and has a free tier, although I do pay a small monthly fee for it, so I am not sure how limited it is.  If they have not changed it since I last tried, it does work well, as long as you do not require a lot of computing power.  It seems good enough for experimentation with Python and Jupyter Notebooks.\n",
    "\n",
    "I've used Cocalc because it also provides other math tools (and I am a mathematician!), but the other two options seem popular for data science."
   ]
  },
  {
   "cell_type": "markdown",
   "id": "07022721-6b83-47fa-8fa9-856b5f18d7d6",
   "metadata": {},
   "source": [
    "## Numbers and Computations\n",
    "\n",
    "Python (within a Jupyter notebook or in its [shell](https://www.python.org/shell/), which allows us to enter single lines of code) can be used as a calculator.  For instance, to compute:\n",
    "\n",
    "$$\n",
    " 1 + \\frac{2 \\cdot 3}{4}\n",
    "$$\n",
    "\n",
    "we simply do:"
   ]
  },
  {
   "cell_type": "code",
   "execution_count": 2,
   "id": "d8c73d82-7e3f-4378-ab05-9334dab6034f",
   "metadata": {
    "execution": {
     "iopub.execute_input": "2023-10-19T18:00:41.197806Z",
     "iopub.status.busy": "2023-10-19T18:00:41.197373Z",
     "iopub.status.idle": "2023-10-19T18:00:41.204041Z",
     "shell.execute_reply": "2023-10-19T18:00:41.203492Z"
    },
    "tags": []
   },
   "outputs": [
    {
     "data": {
      "text/plain": [
       "2.5"
      ]
     },
     "execution_count": 2,
     "metadata": {},
     "output_type": "execute_result"
    }
   ],
   "source": [
    "1 + (2 * 3) / 4"
   ]
  },
  {
   "cell_type": "markdown",
   "id": "41605a74-963a-4cd3-adc1-5e918b321851",
   "metadata": {},
   "source": [
    "(Again, press `Shift + Enter` to *evaluate* the cell and see the result.)\n",
    "\n",
    "The syntax for these computations are mostly intuitive, but it needs to be observed that Python uses `**` for exponentiation instead of the more usual `^`:"
   ]
  },
  {
   "cell_type": "code",
   "execution_count": 3,
   "id": "909d4271-0cf6-4748-b998-b2e750c4c18f",
   "metadata": {
    "execution": {
     "iopub.execute_input": "2023-10-19T18:00:41.207694Z",
     "iopub.status.busy": "2023-10-19T18:00:41.207319Z",
     "iopub.status.idle": "2023-10-19T18:00:41.211305Z",
     "shell.execute_reply": "2023-10-19T18:00:41.210731Z"
    },
    "tags": []
   },
   "outputs": [
    {
     "data": {
      "text/plain": [
       "8"
      ]
     },
     "execution_count": 3,
     "metadata": {},
     "output_type": "execute_result"
    }
   ],
   "source": [
    "2 ** 3"
   ]
  },
  {
   "cell_type": "markdown",
   "id": "73392982-b5a7-4c34-8f9a-b66912bd8978",
   "metadata": {},
   "source": [
    "Even worse, the symbol `^` does have a meaning, so you will not get an error when you run it, you will just get an unexpected (and incorrect, if you are expecting powers) result:"
   ]
  },
  {
   "cell_type": "code",
   "execution_count": 4,
   "id": "9cabc064-23f4-455a-8ba7-b65ba6925c60",
   "metadata": {
    "execution": {
     "iopub.execute_input": "2023-10-19T18:00:41.214275Z",
     "iopub.status.busy": "2023-10-19T18:00:41.213928Z",
     "iopub.status.idle": "2023-10-19T18:00:41.217584Z",
     "shell.execute_reply": "2023-10-19T18:00:41.217150Z"
    },
    "tags": []
   },
   "outputs": [
    {
     "data": {
      "text/plain": [
       "1"
      ]
     },
     "execution_count": 4,
     "metadata": {},
     "output_type": "execute_result"
    }
   ],
   "source": [
    "2 ^ 3"
   ]
  },
  {
   "cell_type": "markdown",
   "id": "9f44c17f-43e4-40a1-9964-b7ab8fd3a0ba",
   "metadata": {},
   "source": [
    "(If you are curious, the `^` is used as an [exclusive or](https://en.wikipedia.org/wiki/Exclusive_or), but it will not be important to us here.)\n",
    "\n",
    "As usual, one thing to be extremely careful when doing computations in a computer is the use of parentheses.  For example, if we want to compute $\\dfrac{1}{2 + 3}$, we need `1 / (2 + 3)`, as `1 / 2 + 3` represents $\\dfrac{1}{2} + 3$:"
   ]
  },
  {
   "cell_type": "code",
   "execution_count": 5,
   "id": "a520ed61-0696-404c-a89e-9dc10f7f8c84",
   "metadata": {
    "execution": {
     "iopub.execute_input": "2023-10-19T18:00:41.220539Z",
     "iopub.status.busy": "2023-10-19T18:00:41.220189Z",
     "iopub.status.idle": "2023-10-19T18:00:41.223596Z",
     "shell.execute_reply": "2023-10-19T18:00:41.223211Z"
    },
    "tags": []
   },
   "outputs": [
    {
     "data": {
      "text/plain": [
       "0.2"
      ]
     },
     "execution_count": 5,
     "metadata": {},
     "output_type": "execute_result"
    }
   ],
   "source": [
    "1 / (2 + 3)"
   ]
  },
  {
   "cell_type": "code",
   "execution_count": 6,
   "id": "659c2c25-e426-40f0-b445-718e198df02e",
   "metadata": {
    "execution": {
     "iopub.execute_input": "2023-10-19T18:00:41.225919Z",
     "iopub.status.busy": "2023-10-19T18:00:41.225621Z",
     "iopub.status.idle": "2023-10-19T18:00:41.228787Z",
     "shell.execute_reply": "2023-10-19T18:00:41.228399Z"
    },
    "tags": []
   },
   "outputs": [
    {
     "data": {
      "text/plain": [
       "3.5"
      ]
     },
     "execution_count": 6,
     "metadata": {},
     "output_type": "execute_result"
    }
   ],
   "source": [
    "1 / 2 + 3"
   ]
  },
  {
   "cell_type": "markdown",
   "id": "2da37906-2b1d-46ae-985e-e7b6909453d4",
   "metadata": {},
   "source": [
    "Python has (basically) two types of numbers: `int` (for integers) and `float` (for \"floating point\").  In Python, they differ simply by introducing a decimal point.  Thus, we have that `2` and `2.0` *are not the same* in Python (as they are different kinds of numbers).\n",
    "\n",
    "One peculiarity of Python is that when using the division `/`, even an exact division of integers result in a float:"
   ]
  },
  {
   "cell_type": "code",
   "execution_count": 7,
   "id": "0da00ad2-4096-4aaf-b7c9-cbf9aa02748b",
   "metadata": {
    "execution": {
     "iopub.execute_input": "2023-10-19T18:00:41.231233Z",
     "iopub.status.busy": "2023-10-19T18:00:41.230979Z",
     "iopub.status.idle": "2023-10-19T18:00:41.233855Z",
     "shell.execute_reply": "2023-10-19T18:00:41.233492Z"
    },
    "tags": []
   },
   "outputs": [
    {
     "data": {
      "text/plain": [
       "2.0"
      ]
     },
     "execution_count": 7,
     "metadata": {},
     "output_type": "execute_result"
    }
   ],
   "source": [
    "4 / 2"
   ]
  },
  {
   "cell_type": "markdown",
   "id": "bfd299ca-4433-4975-a4e9-805a22eabcf0",
   "metadata": {},
   "source": [
    "We can use `//` instead, which gives an integer:"
   ]
  },
  {
   "cell_type": "code",
   "execution_count": 8,
   "id": "e4de04cf-4a7c-4a29-9a85-e17a125425a4",
   "metadata": {
    "execution": {
     "iopub.execute_input": "2023-10-19T18:00:41.236063Z",
     "iopub.status.busy": "2023-10-19T18:00:41.235814Z",
     "iopub.status.idle": "2023-10-19T18:00:41.238549Z",
     "shell.execute_reply": "2023-10-19T18:00:41.238219Z"
    },
    "tags": []
   },
   "outputs": [
    {
     "data": {
      "text/plain": [
       "2"
      ]
     },
     "execution_count": 8,
     "metadata": {},
     "output_type": "execute_result"
    }
   ],
   "source": [
    "4 // 2"
   ]
  },
  {
   "cell_type": "markdown",
   "id": "1ffb2ef3-b8ee-49a7-bda1-74f2f26393e8",
   "metadata": {},
   "source": [
    "But note that it gives the *quotient* of the division (as in long division) of integers:"
   ]
  },
  {
   "cell_type": "code",
   "execution_count": 9,
   "id": "b2281413-32ee-44b2-bbf4-e61aa2acbc4c",
   "metadata": {
    "execution": {
     "iopub.execute_input": "2023-10-19T18:00:41.240277Z",
     "iopub.status.busy": "2023-10-19T18:00:41.240148Z",
     "iopub.status.idle": "2023-10-19T18:00:41.242647Z",
     "shell.execute_reply": "2023-10-19T18:00:41.242349Z"
    },
    "tags": []
   },
   "outputs": [
    {
     "data": {
      "text/plain": [
       "3"
      ]
     },
     "execution_count": 9,
     "metadata": {},
     "output_type": "execute_result"
    }
   ],
   "source": [
    "14 // 4"
   ]
  },
  {
   "cell_type": "markdown",
   "id": "b5ceb82c-4403-47fe-a002-bca80e2e4f78",
   "metadata": {},
   "source": [
    "The remainder of the division can be obtained with `%`:"
   ]
  },
  {
   "cell_type": "code",
   "execution_count": 10,
   "id": "be41e802-745d-438e-b453-d190b29cb1b6",
   "metadata": {
    "execution": {
     "iopub.execute_input": "2023-10-19T18:00:41.244566Z",
     "iopub.status.busy": "2023-10-19T18:00:41.244349Z",
     "iopub.status.idle": "2023-10-19T18:00:41.246744Z",
     "shell.execute_reply": "2023-10-19T18:00:41.246453Z"
    },
    "tags": []
   },
   "outputs": [
    {
     "data": {
      "text/plain": [
       "2"
      ]
     },
     "execution_count": 10,
     "metadata": {},
     "output_type": "execute_result"
    }
   ],
   "source": [
    "14 % 4"
   ]
  },
  {
   "cell_type": "markdown",
   "id": "7455a993-544c-450b-aa08-87c2b8c49f89",
   "metadata": {},
   "source": [
    "Here are some of the most common operations:\n",
    "\n",
    "| Command | Operation |\n",
    "|---------|-----------|\n",
    "| `+` | Addition |\n",
    "| `-` | Subtraction |\n",
    "| `*` | Multiplication |\n",
    "| `/` | Division (with decimals) |\n",
    "| `**` | Exponentiation |\n",
    "| `//` | Quotient of division (for intergers) |\n",
    "| `%` | Remainder of division (for intergers) |"
   ]
  },
  {
   "cell_type": "markdown",
   "id": "29abe2e1-6a10-4e39-8e08-c9d5adbb9e7f",
   "metadata": {},
   "source": [
    "We also have a few math functions, such as `abs` for the *absolute value*:"
   ]
  },
  {
   "cell_type": "code",
   "execution_count": 11,
   "id": "7d2c9f89-47c2-4071-b416-ac7210be7571",
   "metadata": {
    "execution": {
     "iopub.execute_input": "2023-10-19T18:00:41.248185Z",
     "iopub.status.busy": "2023-10-19T18:00:41.248073Z",
     "iopub.status.idle": "2023-10-19T18:00:41.250235Z",
     "shell.execute_reply": "2023-10-19T18:00:41.249984Z"
    },
    "tags": []
   },
   "outputs": [
    {
     "data": {
      "text/plain": [
       "5"
      ]
     },
     "execution_count": 11,
     "metadata": {},
     "output_type": "execute_result"
    }
   ],
   "source": [
    "abs(5)"
   ]
  },
  {
   "cell_type": "code",
   "execution_count": 12,
   "id": "6aaba148-b78e-4eb3-bab9-86aabdb62896",
   "metadata": {
    "execution": {
     "iopub.execute_input": "2023-10-19T18:00:41.251725Z",
     "iopub.status.busy": "2023-10-19T18:00:41.251516Z",
     "iopub.status.idle": "2023-10-19T18:00:41.253616Z",
     "shell.execute_reply": "2023-10-19T18:00:41.253392Z"
    },
    "tags": []
   },
   "outputs": [
    {
     "data": {
      "text/plain": [
       "5"
      ]
     },
     "execution_count": 12,
     "metadata": {},
     "output_type": "execute_result"
    }
   ],
   "source": [
    "abs(-5)"
   ]
  },
  {
   "cell_type": "markdown",
   "id": "428db33b-baf5-4913-8fe5-5ec0acaeb88b",
   "metadata": {},
   "source": [
    "The function `round` rounds a float to a given number of decimals:"
   ]
  },
  {
   "cell_type": "code",
   "execution_count": 13,
   "id": "0bd20ab3-ae24-4fb6-8c03-a80c0ac9428d",
   "metadata": {
    "execution": {
     "iopub.execute_input": "2023-10-19T18:00:41.254707Z",
     "iopub.status.busy": "2023-10-19T18:00:41.254608Z",
     "iopub.status.idle": "2023-10-19T18:00:41.256606Z",
     "shell.execute_reply": "2023-10-19T18:00:41.256385Z"
    },
    "tags": []
   },
   "outputs": [
    {
     "data": {
      "text/plain": [
       "123.457"
      ]
     },
     "execution_count": 13,
     "metadata": {},
     "output_type": "execute_result"
    }
   ],
   "source": [
    "round(123.456789, 3)"
   ]
  },
  {
   "cell_type": "markdown",
   "id": "067d12db-ec03-49bc-ba96-9fc66bd6c3e5",
   "metadata": {},
   "source": [
    "### The `math` Module\n",
    "\n",
    "Python does not have many math functions loaded from the start.  To get them we need to import the math module:"
   ]
  },
  {
   "cell_type": "code",
   "execution_count": 14,
   "id": "95154b80-775d-4ea6-98f7-7d55ba1fbc0a",
   "metadata": {
    "execution": {
     "iopub.execute_input": "2023-10-19T18:00:41.257887Z",
     "iopub.status.busy": "2023-10-19T18:00:41.257785Z",
     "iopub.status.idle": "2023-10-19T18:00:41.259299Z",
     "shell.execute_reply": "2023-10-19T18:00:41.259083Z"
    },
    "tags": []
   },
   "outputs": [],
   "source": [
    "import math"
   ]
  },
  {
   "cell_type": "markdown",
   "id": "7d904b10-d9dd-4536-8ed1-b111f44a9520",
   "metadata": {},
   "source": [
    "After running the import command above, we get many mathematical functions (and some constants).  They all start with `math.`.  For instance, we can compute square roots with `math.sqrt`:"
   ]
  },
  {
   "cell_type": "code",
   "execution_count": 15,
   "id": "4622f177-e2cb-4a54-9d53-8111d8934304",
   "metadata": {
    "execution": {
     "iopub.execute_input": "2023-10-19T18:00:41.260579Z",
     "iopub.status.busy": "2023-10-19T18:00:41.260489Z",
     "iopub.status.idle": "2023-10-19T18:00:41.262406Z",
     "shell.execute_reply": "2023-10-19T18:00:41.262207Z"
    },
    "tags": []
   },
   "outputs": [
    {
     "data": {
      "text/plain": [
       "4.0"
      ]
     },
     "execution_count": 15,
     "metadata": {},
     "output_type": "execute_result"
    }
   ],
   "source": [
    "math.sqrt(16)"
   ]
  },
  {
   "cell_type": "markdown",
   "id": "b45f9135-336f-415a-9611-c6e5df957457",
   "metadata": {},
   "source": [
    "We also get `math.sin` to compute the sine:"
   ]
  },
  {
   "cell_type": "code",
   "execution_count": 16,
   "id": "7f4449ee-4836-46ab-80d0-b1daa3e3da5b",
   "metadata": {
    "execution": {
     "iopub.execute_input": "2023-10-19T18:00:41.263742Z",
     "iopub.status.busy": "2023-10-19T18:00:41.263552Z",
     "iopub.status.idle": "2023-10-19T18:00:41.265504Z",
     "shell.execute_reply": "2023-10-19T18:00:41.265299Z"
    },
    "tags": []
   },
   "outputs": [
    {
     "data": {
      "text/plain": [
       "0.9092974268256817"
      ]
     },
     "execution_count": 16,
     "metadata": {},
     "output_type": "execute_result"
    }
   ],
   "source": [
    "math.sin(2)"
   ]
  },
  {
   "cell_type": "markdown",
   "id": "53729b50-583c-48ca-9c15-2a006e4e4a59",
   "metadata": {},
   "source": [
    "We have `math.log` for the *natural log*:"
   ]
  },
  {
   "cell_type": "code",
   "execution_count": 17,
   "id": "553c310b-9e33-4571-8414-8fa70177e6e7",
   "metadata": {
    "execution": {
     "iopub.execute_input": "2023-10-19T18:00:41.266722Z",
     "iopub.status.busy": "2023-10-19T18:00:41.266629Z",
     "iopub.status.idle": "2023-10-19T18:00:41.268458Z",
     "shell.execute_reply": "2023-10-19T18:00:41.268260Z"
    },
    "tags": []
   },
   "outputs": [
    {
     "data": {
      "text/plain": [
       "1.6094379124341003"
      ]
     },
     "execution_count": 17,
     "metadata": {},
     "output_type": "execute_result"
    }
   ],
   "source": [
    "math.log(5)"
   ]
  },
  {
   "cell_type": "markdown",
   "id": "fc4252f7-b906-4dca-9deb-afcf95adbdcc",
   "metadata": {},
   "source": [
    "The number $\\pi$ is obtained with `math.pi`:"
   ]
  },
  {
   "cell_type": "code",
   "execution_count": 18,
   "id": "2b8a86ee-f425-4310-9ede-d516958aa316",
   "metadata": {
    "execution": {
     "iopub.execute_input": "2023-10-19T18:00:41.269623Z",
     "iopub.status.busy": "2023-10-19T18:00:41.269469Z",
     "iopub.status.idle": "2023-10-19T18:00:41.271274Z",
     "shell.execute_reply": "2023-10-19T18:00:41.271085Z"
    },
    "tags": []
   },
   "outputs": [
    {
     "data": {
      "text/plain": [
       "3.141592653589793"
      ]
     },
     "execution_count": 18,
     "metadata": {},
     "output_type": "execute_result"
    }
   ],
   "source": [
    "math.pi  # no parentheses!"
   ]
  },
  {
   "cell_type": "code",
   "execution_count": 19,
   "id": "5d80945f-240f-4080-bdc0-3f08afbd6889",
   "metadata": {
    "execution": {
     "iopub.execute_input": "2023-10-19T18:00:41.272352Z",
     "iopub.status.busy": "2023-10-19T18:00:41.272272Z",
     "iopub.status.idle": "2023-10-19T18:00:41.274011Z",
     "shell.execute_reply": "2023-10-19T18:00:41.273828Z"
    },
    "tags": []
   },
   "outputs": [
    {
     "data": {
      "text/plain": [
       "1.0"
      ]
     },
     "execution_count": 19,
     "metadata": {},
     "output_type": "execute_result"
    }
   ],
   "source": [
    "math.sin(math.pi / 2)"
   ]
  },
  {
   "cell_type": "markdown",
   "id": "fe6eef11-6b0f-4023-99bb-0f571a0e6d6c",
   "metadata": {},
   "source": [
    "The base of the natural log (usually denoted by $e$) is given by `math.e`:"
   ]
  },
  {
   "cell_type": "code",
   "execution_count": 20,
   "id": "edaee778-42d2-4465-a850-1a049ceacf3f",
   "metadata": {
    "execution": {
     "iopub.execute_input": "2023-10-19T18:00:41.275038Z",
     "iopub.status.busy": "2023-10-19T18:00:41.274960Z",
     "iopub.status.idle": "2023-10-19T18:00:41.276602Z",
     "shell.execute_reply": "2023-10-19T18:00:41.276422Z"
    },
    "tags": []
   },
   "outputs": [
    {
     "data": {
      "text/plain": [
       "2.718281828459045"
      ]
     },
     "execution_count": 20,
     "metadata": {},
     "output_type": "execute_result"
    }
   ],
   "source": [
    "math.e"
   ]
  },
  {
   "cell_type": "code",
   "execution_count": 21,
   "id": "0d20314c-a4e5-482b-b3f5-d4285cafdfec",
   "metadata": {
    "execution": {
     "iopub.execute_input": "2023-10-19T18:00:41.277479Z",
     "iopub.status.busy": "2023-10-19T18:00:41.277410Z",
     "iopub.status.idle": "2023-10-19T18:00:41.278972Z",
     "shell.execute_reply": "2023-10-19T18:00:41.278818Z"
    },
    "tags": []
   },
   "outputs": [
    {
     "data": {
      "text/plain": [
       "1.0"
      ]
     },
     "execution_count": 21,
     "metadata": {},
     "output_type": "execute_result"
    }
   ],
   "source": [
    "math.log(math.e)"
   ]
  },
  {
   "cell_type": "markdown",
   "id": "10aeb587-10f7-4e44-9559-d5f8074acc01",
   "metadata": {},
   "source": [
    "We can find what the module `math` provides by running `help(math)`:"
   ]
  },
  {
   "cell_type": "code",
   "execution_count": 22,
   "id": "ef2028f2-da5d-4b16-aac7-aadd34f16b09",
   "metadata": {
    "execution": {
     "iopub.execute_input": "2023-10-19T18:00:41.279874Z",
     "iopub.status.busy": "2023-10-19T18:00:41.279813Z",
     "iopub.status.idle": "2023-10-19T18:00:41.285113Z",
     "shell.execute_reply": "2023-10-19T18:00:41.284956Z"
    },
    "tags": []
   },
   "outputs": [
    {
     "name": "stdout",
     "output_type": "stream",
     "text": [
      "Help on built-in module math:\n",
      "\n",
      "NAME\n",
      "    math\n",
      "\n",
      "DESCRIPTION\n",
      "    This module provides access to the mathematical functions\n",
      "    defined by the C standard.\n",
      "\n",
      "FUNCTIONS\n",
      "    acos(x, /)\n",
      "        Return the arc cosine (measured in radians) of x.\n",
      "        \n",
      "        The result is between 0 and pi.\n",
      "    \n",
      "    acosh(x, /)\n",
      "        Return the inverse hyperbolic cosine of x.\n",
      "    \n",
      "    asin(x, /)\n",
      "        Return the arc sine (measured in radians) of x.\n",
      "        \n",
      "        The result is between -pi/2 and pi/2.\n",
      "    \n",
      "    asinh(x, /)\n",
      "        Return the inverse hyperbolic sine of x.\n",
      "    \n",
      "    atan(x, /)\n",
      "        Return the arc tangent (measured in radians) of x.\n",
      "        \n",
      "        The result is between -pi/2 and pi/2.\n",
      "    \n",
      "    atan2(y, x, /)\n",
      "        Return the arc tangent (measured in radians) of y/x.\n",
      "        \n",
      "        Unlike atan(y/x), the signs of both x and y are considered.\n",
      "    \n",
      "    atanh(x, /)\n",
      "        Return the inverse hyperbolic tangent of x.\n",
      "    \n",
      "    cbrt(x, /)\n",
      "        Return the cube root of x.\n",
      "    \n",
      "    ceil(x, /)\n",
      "        Return the ceiling of x as an Integral.\n",
      "        \n",
      "        This is the smallest integer >= x.\n",
      "    \n",
      "    comb(n, k, /)\n",
      "        Number of ways to choose k items from n items without repetition and without order.\n",
      "        \n",
      "        Evaluates to n! / (k! * (n - k)!) when k <= n and evaluates\n",
      "        to zero when k > n.\n",
      "        \n",
      "        Also called the binomial coefficient because it is equivalent\n",
      "        to the coefficient of k-th term in polynomial expansion of the\n",
      "        expression (1 + x)**n.\n",
      "        \n",
      "        Raises TypeError if either of the arguments are not integers.\n",
      "        Raises ValueError if either of the arguments are negative.\n",
      "    \n",
      "    copysign(x, y, /)\n",
      "        Return a float with the magnitude (absolute value) of x but the sign of y.\n",
      "        \n",
      "        On platforms that support signed zeros, copysign(1.0, -0.0)\n",
      "        returns -1.0.\n",
      "    \n",
      "    cos(x, /)\n",
      "        Return the cosine of x (measured in radians).\n",
      "    \n",
      "    cosh(x, /)\n",
      "        Return the hyperbolic cosine of x.\n",
      "    \n",
      "    degrees(x, /)\n",
      "        Convert angle x from radians to degrees.\n",
      "    \n",
      "    dist(p, q, /)\n",
      "        Return the Euclidean distance between two points p and q.\n",
      "        \n",
      "        The points should be specified as sequences (or iterables) of\n",
      "        coordinates.  Both inputs must have the same dimension.\n",
      "        \n",
      "        Roughly equivalent to:\n",
      "            sqrt(sum((px - qx) ** 2.0 for px, qx in zip(p, q)))\n",
      "    \n",
      "    erf(x, /)\n",
      "        Error function at x.\n",
      "    \n",
      "    erfc(x, /)\n",
      "        Complementary error function at x.\n",
      "    \n",
      "    exp(x, /)\n",
      "        Return e raised to the power of x.\n",
      "    \n",
      "    exp2(x, /)\n",
      "        Return 2 raised to the power of x.\n",
      "    \n",
      "    expm1(x, /)\n",
      "        Return exp(x)-1.\n",
      "        \n",
      "        This function avoids the loss of precision involved in the direct evaluation of exp(x)-1 for small x.\n",
      "    \n",
      "    fabs(x, /)\n",
      "        Return the absolute value of the float x.\n",
      "    \n",
      "    factorial(n, /)\n",
      "        Find n!.\n",
      "        \n",
      "        Raise a ValueError if x is negative or non-integral.\n",
      "    \n",
      "    floor(x, /)\n",
      "        Return the floor of x as an Integral.\n",
      "        \n",
      "        This is the largest integer <= x.\n",
      "    \n",
      "    fmod(x, y, /)\n",
      "        Return fmod(x, y), according to platform C.\n",
      "        \n",
      "        x % y may differ.\n",
      "    \n",
      "    frexp(x, /)\n",
      "        Return the mantissa and exponent of x, as pair (m, e).\n",
      "        \n",
      "        m is a float and e is an int, such that x = m * 2.**e.\n",
      "        If x is 0, m and e are both 0.  Else 0.5 <= abs(m) < 1.0.\n",
      "    \n",
      "    fsum(seq, /)\n",
      "        Return an accurate floating point sum of values in the iterable seq.\n",
      "        \n",
      "        Assumes IEEE-754 floating point arithmetic.\n",
      "    \n",
      "    gamma(x, /)\n",
      "        Gamma function at x.\n",
      "    \n",
      "    gcd(*integers)\n",
      "        Greatest Common Divisor.\n",
      "    \n",
      "    hypot(...)\n",
      "        hypot(*coordinates) -> value\n",
      "        \n",
      "        Multidimensional Euclidean distance from the origin to a point.\n",
      "        \n",
      "        Roughly equivalent to:\n",
      "            sqrt(sum(x**2 for x in coordinates))\n",
      "        \n",
      "        For a two dimensional point (x, y), gives the hypotenuse\n",
      "        using the Pythagorean theorem:  sqrt(x*x + y*y).\n",
      "        \n",
      "        For example, the hypotenuse of a 3/4/5 right triangle is:\n",
      "        \n",
      "            >>> hypot(3.0, 4.0)\n",
      "            5.0\n",
      "    \n",
      "    isclose(a, b, *, rel_tol=1e-09, abs_tol=0.0)\n",
      "        Determine whether two floating point numbers are close in value.\n",
      "        \n",
      "          rel_tol\n",
      "            maximum difference for being considered \"close\", relative to the\n",
      "            magnitude of the input values\n",
      "          abs_tol\n",
      "            maximum difference for being considered \"close\", regardless of the\n",
      "            magnitude of the input values\n",
      "        \n",
      "        Return True if a is close in value to b, and False otherwise.\n",
      "        \n",
      "        For the values to be considered close, the difference between them\n",
      "        must be smaller than at least one of the tolerances.\n",
      "        \n",
      "        -inf, inf and NaN behave similarly to the IEEE 754 Standard.  That\n",
      "        is, NaN is not close to anything, even itself.  inf and -inf are\n",
      "        only close to themselves.\n",
      "    \n",
      "    isfinite(x, /)\n",
      "        Return True if x is neither an infinity nor a NaN, and False otherwise.\n",
      "    \n",
      "    isinf(x, /)\n",
      "        Return True if x is a positive or negative infinity, and False otherwise.\n",
      "    \n",
      "    isnan(x, /)\n",
      "        Return True if x is a NaN (not a number), and False otherwise.\n",
      "    \n",
      "    isqrt(n, /)\n",
      "        Return the integer part of the square root of the input.\n",
      "    \n",
      "    lcm(*integers)\n",
      "        Least Common Multiple.\n",
      "    \n",
      "    ldexp(x, i, /)\n",
      "        Return x * (2**i).\n",
      "        \n",
      "        This is essentially the inverse of frexp().\n",
      "    \n",
      "    lgamma(x, /)\n",
      "        Natural logarithm of absolute value of Gamma function at x.\n",
      "    \n",
      "    log(...)\n",
      "        log(x, [base=math.e])\n",
      "        Return the logarithm of x to the given base.\n",
      "        \n",
      "        If the base not specified, returns the natural logarithm (base e) of x.\n",
      "    \n",
      "    log10(x, /)\n",
      "        Return the base 10 logarithm of x.\n",
      "    \n",
      "    log1p(x, /)\n",
      "        Return the natural logarithm of 1+x (base e).\n",
      "        \n",
      "        The result is computed in a way which is accurate for x near zero.\n",
      "    \n",
      "    log2(x, /)\n",
      "        Return the base 2 logarithm of x.\n",
      "    \n",
      "    modf(x, /)\n",
      "        Return the fractional and integer parts of x.\n",
      "        \n",
      "        Both results carry the sign of x and are floats.\n",
      "    \n",
      "    nextafter(x, y, /)\n",
      "        Return the next floating-point value after x towards y.\n",
      "    \n",
      "    perm(n, k=None, /)\n",
      "        Number of ways to choose k items from n items without repetition and with order.\n",
      "        \n",
      "        Evaluates to n! / (n - k)! when k <= n and evaluates\n",
      "        to zero when k > n.\n",
      "        \n",
      "        If k is not specified or is None, then k defaults to n\n",
      "        and the function returns n!.\n",
      "        \n",
      "        Raises TypeError if either of the arguments are not integers.\n",
      "        Raises ValueError if either of the arguments are negative.\n",
      "    \n",
      "    pow(x, y, /)\n",
      "        Return x**y (x to the power of y).\n",
      "    \n",
      "    prod(iterable, /, *, start=1)\n",
      "        Calculate the product of all the elements in the input iterable.\n",
      "        \n",
      "        The default start value for the product is 1.\n",
      "        \n",
      "        When the iterable is empty, return the start value.  This function is\n",
      "        intended specifically for use with numeric values and may reject\n",
      "        non-numeric types.\n",
      "    \n",
      "    radians(x, /)\n",
      "        Convert angle x from degrees to radians.\n",
      "    \n",
      "    remainder(x, y, /)\n",
      "        Difference between x and the closest integer multiple of y.\n",
      "        \n",
      "        Return x - n*y where n*y is the closest integer multiple of y.\n",
      "        In the case where x is exactly halfway between two multiples of\n",
      "        y, the nearest even value of n is used. The result is always exact.\n",
      "    \n",
      "    sin(x, /)\n",
      "        Return the sine of x (measured in radians).\n",
      "    \n",
      "    sinh(x, /)\n",
      "        Return the hyperbolic sine of x.\n",
      "    \n",
      "    sqrt(x, /)\n",
      "        Return the square root of x.\n",
      "    \n",
      "    tan(x, /)\n",
      "        Return the tangent of x (measured in radians).\n",
      "    \n",
      "    tanh(x, /)\n",
      "        Return the hyperbolic tangent of x.\n",
      "    \n",
      "    trunc(x, /)\n",
      "        Truncates the Real x to the nearest Integral toward 0.\n",
      "        \n",
      "        Uses the __trunc__ magic method.\n",
      "    \n",
      "    ulp(x, /)\n",
      "        Return the value of the least significant bit of the float x.\n",
      "\n",
      "DATA\n",
      "    e = 2.718281828459045\n",
      "    inf = inf\n",
      "    nan = nan\n",
      "    pi = 3.141592653589793\n",
      "    tau = 6.283185307179586\n",
      "\n",
      "FILE\n",
      "    (built-in)\n",
      "\n",
      "\n"
     ]
    }
   ],
   "source": [
    "help(math)"
   ]
  },
  {
   "cell_type": "markdown",
   "id": "66f670ae-524a-4315-bfa0-09ed0a7b1a77",
   "metadata": {},
   "source": [
    "## Variables"
   ]
  },
  {
   "cell_type": "markdown",
   "id": "0687d250-5041-4533-9302-ec3c5c491ec8",
   "metadata": {},
   "source": [
    "We can store values in variables, so that these can be used later.  Here is an example of a computation of a restaurant bill:"
   ]
  },
  {
   "cell_type": "code",
   "execution_count": 23,
   "id": "94766157-b38a-4081-8a7a-e585fa81bdd0",
   "metadata": {
    "execution": {
     "iopub.execute_input": "2023-10-19T18:00:41.285992Z",
     "iopub.status.busy": "2023-10-19T18:00:41.285896Z",
     "iopub.status.idle": "2023-10-19T18:00:41.287574Z",
     "shell.execute_reply": "2023-10-19T18:00:41.287437Z"
    },
    "tags": []
   },
   "outputs": [
    {
     "data": {
      "text/plain": [
       "38.99"
      ]
     },
     "execution_count": 23,
     "metadata": {},
     "output_type": "execute_result"
    }
   ],
   "source": [
    "subtotal = 30.17\n",
    "tax_rate = 0.0925\n",
    "tip_percentage = 0.2\n",
    "\n",
    "tax = subtotal * tax_rate\n",
    "tip = subtotal * tip_percentage\n",
    "\n",
    "total = subtotal + tax + tip\n",
    "\n",
    "round(total, 2)"
   ]
  },
  {
   "cell_type": "markdown",
   "id": "2c0f5b26-341f-42ed-99a6-a983ef03adbb",
   "metadata": {},
   "source": [
    "Note how the variable names make clear what the code does, and allows us to reused it by changing the values of `subtotal`, `tax_rate`, and `tip_percentage`."
   ]
  },
  {
   "cell_type": "markdown",
   "id": "e5cce97d-0efb-4d79-963f-4b5a03a2cf4b",
   "metadata": {},
   "source": [
    "Variable names can only have:\n",
    "* letters (lower and upper case),\n",
    "* numbers, and\n",
    "* the underscore `_`.\n",
    "\n",
    "Moreover, variable names *cannot* start with a number and *should* not start with the underscore (unless you are aware of the [conventions for such variable names](https://peps.python.org/pep-0008/#naming-conventions)).\n",
    "\n",
    "You should always name your variables with descriptive names to make your code more readable.\n",
    "\n",
    "You should also try to avoid variable names already used in Python, as it would override their builtin values.  For instance, names like `print`, `int`, `abs`, `round` are already used in Python, so you should not used them.\n",
    "\n",
    "(If the name appears in a green in a code cell in Jupyter, then it is already taken!)"
   ]
  },
  {
   "cell_type": "markdown",
   "id": "cc2e3380-699a-47ab-b795-2ac215c0be0b",
   "metadata": {},
   "source": [
    "## Comments\n",
    "\n",
    "We can enter *comments* in code cells to help describe what the code is doing.  Comments are text entered in Python (e.g., in code cells) that is ignored when running the code, so it is only present to provide information about the code.\n",
    "\n",
    "Comments in Python start with `#`.  All text after a `#` and in the same line is ignored by the Python interpreter.  (By convention, we usually leave two spaces between the code and `#` and one space after it.)\n",
    "\n",
    "As an illustration, here are some comments added to our previous restaurant code:"
   ]
  },
  {
   "cell_type": "code",
   "execution_count": 24,
   "id": "3b2442f5-8fc2-45ce-90d0-67cd3dc34fb5",
   "metadata": {
    "execution": {
     "iopub.execute_input": "2023-10-19T18:00:41.288399Z",
     "iopub.status.busy": "2023-10-19T18:00:41.288339Z",
     "iopub.status.idle": "2023-10-19T18:00:41.290038Z",
     "shell.execute_reply": "2023-10-19T18:00:41.289896Z"
    },
    "tags": []
   },
   "outputs": [
    {
     "data": {
      "text/plain": [
       "33.13"
      ]
     },
     "execution_count": 24,
     "metadata": {},
     "output_type": "execute_result"
    }
   ],
   "source": [
    "# compute restaurant bill\n",
    "\n",
    "subtotal = 25.63  # meal cost in dollars\n",
    "tax_rate = 0.0925  # tax rate\n",
    "tip_percentage = 0.2  # percentage for the tip\n",
    "\n",
    "tax = subtotal * tax_rate  # tax amount\n",
    "tip = subtotal * tip_percentage  # tip amount\n",
    "\n",
    "# compute the total:\n",
    "total = subtotal + tax + tip\n",
    "\n",
    "# round to two decimal places\n",
    "round(total, 2)"
   ]
  },
  {
   "cell_type": "markdown",
   "id": "11bfe285-bce5-425d-8db4-307e6b136615",
   "metadata": {},
   "source": [
    "Note that the code above probably did not need the comments, as it was already pretty clear.  Although there is such a thing as \"too many comments\", it is preferable to write too many than too few comments."
   ]
  },
  {
   "cell_type": "markdown",
   "id": "e2ea42bf-4d47-48c9-9306-e801f8a6e2c2",
   "metadata": {},
   "source": [
    "## String (Text)\n",
    "\n",
    "*Strings* is the name for text blocks in Python (and in most programming languages).  To have a text (or string) object in Python, we simply surround it by single quotes `' '` or double quotes `\" \"`:"
   ]
  },
  {
   "cell_type": "code",
   "execution_count": 25,
   "id": "128845e8-9627-477d-80d0-0bc95d3ae0d5",
   "metadata": {
    "execution": {
     "iopub.execute_input": "2023-10-19T18:00:41.290870Z",
     "iopub.status.busy": "2023-10-19T18:00:41.290807Z",
     "iopub.status.idle": "2023-10-19T18:00:41.292198Z",
     "shell.execute_reply": "2023-10-19T18:00:41.292064Z"
    },
    "tags": []
   },
   "outputs": [
    {
     "data": {
      "text/plain": [
       "'This is some text.'"
      ]
     },
     "execution_count": 25,
     "metadata": {},
     "output_type": "execute_result"
    }
   ],
   "source": [
    "'This is some text.'"
   ]
  },
  {
   "cell_type": "code",
   "execution_count": 26,
   "id": "a6fe9540-ab2d-4b10-9eb0-49e264202fcf",
   "metadata": {
    "execution": {
     "iopub.execute_input": "2023-10-19T18:00:41.292959Z",
     "iopub.status.busy": "2023-10-19T18:00:41.292898Z",
     "iopub.status.idle": "2023-10-19T18:00:41.294300Z",
     "shell.execute_reply": "2023-10-19T18:00:41.294162Z"
    },
    "tags": []
   },
   "outputs": [
    {
     "data": {
      "text/plain": [
       "'This is also some text!'"
      ]
     },
     "execution_count": 26,
     "metadata": {},
     "output_type": "execute_result"
    }
   ],
   "source": [
    "\"This is also some text!\""
   ]
  },
  {
   "cell_type": "markdown",
   "id": "acb3d439-97e2-4bdf-8185-57f7b7df1a87",
   "metadata": {},
   "source": [
    "If we need quotes inside the string, we need to use the other kind to delimit it:"
   ]
  },
  {
   "cell_type": "code",
   "execution_count": 27,
   "id": "d3333d4e-2a49-4a7b-82f2-3cf8af4fdc97",
   "metadata": {
    "execution": {
     "iopub.execute_input": "2023-10-19T18:00:41.295097Z",
     "iopub.status.busy": "2023-10-19T18:00:41.295039Z",
     "iopub.status.idle": "2023-10-19T18:00:41.296457Z",
     "shell.execute_reply": "2023-10-19T18:00:41.296322Z"
    },
    "tags": []
   },
   "outputs": [
    {
     "data": {
      "text/plain": [
       "\"There's always time to learn something new.\""
      ]
     },
     "execution_count": 27,
     "metadata": {},
     "output_type": "execute_result"
    }
   ],
   "source": [
    "\"There's always time to learn something new.\""
   ]
  },
  {
   "cell_type": "code",
   "execution_count": 28,
   "id": "8c042d92-285f-4266-ab71-4a3ec3ffb01a",
   "metadata": {
    "execution": {
     "iopub.execute_input": "2023-10-19T18:00:41.297212Z",
     "iopub.status.busy": "2023-10-19T18:00:41.297156Z",
     "iopub.status.idle": "2023-10-19T18:00:41.298604Z",
     "shell.execute_reply": "2023-10-19T18:00:41.298453Z"
    },
    "tags": []
   },
   "outputs": [
    {
     "data": {
      "text/plain": [
       "'Descates said: \"I think, therefore I am.\"'"
      ]
     },
     "execution_count": 28,
     "metadata": {},
     "output_type": "execute_result"
    }
   ],
   "source": [
    "'Descates said: \"I think, therefore I am.\"'"
   ]
  },
  {
   "cell_type": "markdown",
   "id": "f475c187-ac5f-4039-bcd3-430780656518",
   "metadata": {},
   "source": [
    "What if we need both kinds of quotes in a string?\n",
    "\n",
    "We can *escape the quote* with a `\\` as in:"
   ]
  },
  {
   "cell_type": "code",
   "execution_count": 29,
   "id": "4ebb8c51-1fbc-4f3c-99b5-621a5b78087f",
   "metadata": {
    "execution": {
     "iopub.execute_input": "2023-10-19T18:00:41.299336Z",
     "iopub.status.busy": "2023-10-19T18:00:41.299241Z",
     "iopub.status.idle": "2023-10-19T18:00:41.300662Z",
     "shell.execute_reply": "2023-10-19T18:00:41.300524Z"
    },
    "tags": []
   },
   "outputs": [
    {
     "data": {
      "text/plain": [
       "'It\\'s well know that Descartes has said: \"I think, therefore I am.\"'"
      ]
     },
     "execution_count": 29,
     "metadata": {},
     "output_type": "execute_result"
    }
   ],
   "source": [
    "\"It's well know that Descartes has said: \\\"I think, therefore I am.\\\"\""
   ]
  },
  {
   "cell_type": "code",
   "execution_count": 30,
   "id": "cb4e3e58-0c56-4205-958e-b9eaec7fa720",
   "metadata": {
    "execution": {
     "iopub.execute_input": "2023-10-19T18:00:41.301378Z",
     "iopub.status.busy": "2023-10-19T18:00:41.301287Z",
     "iopub.status.idle": "2023-10-19T18:00:41.302676Z",
     "shell.execute_reply": "2023-10-19T18:00:41.302542Z"
    },
    "tags": []
   },
   "outputs": [
    {
     "data": {
      "text/plain": [
       "'It\\'s well know that Descartes has said: \"I think, therefore I am.\"'"
      ]
     },
     "execution_count": 30,
     "metadata": {},
     "output_type": "execute_result"
    }
   ],
   "source": [
    "'It\\'s well know that Descartes has said: \"I think, therefore I am.\"'"
   ]
  },
  {
   "cell_type": "markdown",
   "id": "4c9c2ca3-c4ef-4a4c-8644-67cd3a114971",
   "metadata": {},
   "source": [
    "Thus, when you repeat the string quote inside of it, put a `\\` before it.\n",
    "\n",
    "Note that you can *always* escape the quotes, even when not necessary.  (It will do no harm.)  In the example below, there was no need to escape the single quote, as seen above:"
   ]
  },
  {
   "cell_type": "code",
   "execution_count": 31,
   "id": "e19a414c-8ace-4113-adc2-ef1e22297ed6",
   "metadata": {
    "execution": {
     "iopub.execute_input": "2023-10-19T18:00:41.303419Z",
     "iopub.status.busy": "2023-10-19T18:00:41.303324Z",
     "iopub.status.idle": "2023-10-19T18:00:41.304735Z",
     "shell.execute_reply": "2023-10-19T18:00:41.304598Z"
    },
    "tags": []
   },
   "outputs": [
    {
     "data": {
      "text/plain": [
       "'It\\'s well know that Descartes has said: \"I think, therefore I am.\"'"
      ]
     },
     "execution_count": 31,
     "metadata": {},
     "output_type": "execute_result"
    }
   ],
   "source": [
    "\"It\\'s well know that Descartes has said: \\\"I think, therefore I am.\\\"\""
   ]
  },
  {
   "cell_type": "markdown",
   "id": "3ad3520a-20b2-458d-8005-e8ecdad6acff",
   "metadata": {},
   "source": [
    "Another option is to use *triple quotes*, i.e., to surround the text by either `''' '''` or `\"\"\" \"\"\"` (and then there is no need for escaping):"
   ]
  },
  {
   "cell_type": "code",
   "execution_count": 32,
   "id": "9999ebc8-ad72-4ee9-8111-bc84901d1e55",
   "metadata": {
    "execution": {
     "iopub.execute_input": "2023-10-19T18:00:41.305445Z",
     "iopub.status.busy": "2023-10-19T18:00:41.305355Z",
     "iopub.status.idle": "2023-10-19T18:00:41.306864Z",
     "shell.execute_reply": "2023-10-19T18:00:41.306724Z"
    },
    "tags": []
   },
   "outputs": [
    {
     "data": {
      "text/plain": [
       "'It\\'s well know that Descartes has said: \"I think, therefore I am.\"'"
      ]
     },
     "execution_count": 32,
     "metadata": {},
     "output_type": "execute_result"
    }
   ],
   "source": [
    "'''It's well know that Descartes has said: \"I think, therefore I am.\"'''"
   ]
  },
  {
   "cell_type": "markdown",
   "id": "70a85c21-6d4d-45e9-bf77-384b26b38212",
   "metadata": {},
   "source": [
    "On the other hand, we cannot use `\"\"\" \"\"\"` here because our original string *ends* with a `\"`.  If it did not, it would also work.  We can simply add a space:"
   ]
  },
  {
   "cell_type": "code",
   "execution_count": 33,
   "id": "2c40e8c8-6ff9-4270-bfe3-9677065e3bed",
   "metadata": {
    "execution": {
     "iopub.execute_input": "2023-10-19T18:00:41.307570Z",
     "iopub.status.busy": "2023-10-19T18:00:41.307513Z",
     "iopub.status.idle": "2023-10-19T18:00:41.308990Z",
     "shell.execute_reply": "2023-10-19T18:00:41.308847Z"
    },
    "tags": []
   },
   "outputs": [
    {
     "data": {
      "text/plain": [
       "'It\\'s well know that Descartes has said: \"I think, therefore I am.\" '"
      ]
     },
     "execution_count": 33,
     "metadata": {},
     "output_type": "execute_result"
    }
   ],
   "source": [
    "\"\"\"It's well know that Descartes has said: \"I think, therefore I am.\" \"\"\""
   ]
  },
  {
   "cell_type": "markdown",
   "id": "19c4ffee-5ade-499c-a63a-00e8583d9d71",
   "metadata": {},
   "source": [
    "Triple quote strings can also contain *multiple lines* (unlike single quote ones):"
   ]
  },
  {
   "cell_type": "code",
   "execution_count": 34,
   "id": "d2052574-9e7e-4402-96e4-87dab0bcf7c9",
   "metadata": {
    "execution": {
     "iopub.execute_input": "2023-10-19T18:00:41.309657Z",
     "iopub.status.busy": "2023-10-19T18:00:41.309598Z",
     "iopub.status.idle": "2023-10-19T18:00:41.310992Z",
     "shell.execute_reply": "2023-10-19T18:00:41.310843Z"
    },
    "tags": []
   },
   "outputs": [
    {
     "data": {
      "text/plain": [
       "'First line.\\nSecond line.\\n\\nThird line (after a blank line).'"
      ]
     },
     "execution_count": 34,
     "metadata": {},
     "output_type": "execute_result"
    }
   ],
   "source": [
    "\"\"\"First line.\n",
    "Second line.\n",
    "\n",
    "Third line (after a blank line).\"\"\""
   ]
  },
  {
   "cell_type": "markdown",
   "id": "79a7a883-e59b-4ff8-bc9b-d33ff8e12d89",
   "metadata": {},
   "source": [
    "The output seems a bit strange (we have `\\n` in place of line breaks --- we will talk about it below), but it *prints* correctly:"
   ]
  },
  {
   "cell_type": "code",
   "execution_count": 35,
   "id": "c8ff385f-eb30-4537-9190-bf473f3ab4c6",
   "metadata": {
    "execution": {
     "iopub.execute_input": "2023-10-19T18:00:41.311678Z",
     "iopub.status.busy": "2023-10-19T18:00:41.311620Z",
     "iopub.status.idle": "2023-10-19T18:00:41.313136Z",
     "shell.execute_reply": "2023-10-19T18:00:41.312884Z"
    },
    "tags": []
   },
   "outputs": [
    {
     "name": "stdout",
     "output_type": "stream",
     "text": [
      "First line.\n",
      "Second line.\n",
      "\n",
      "Third line (after a blank line).\n"
     ]
    }
   ],
   "source": [
    "multi_line_text = \"\"\"First line.\n",
    "Second line.\n",
    "\n",
    "Third line (after a blank line).\"\"\"\n",
    "\n",
    "print(multi_line_text)"
   ]
  },
  {
   "cell_type": "markdown",
   "id": "4427197d-0541-41b5-bdcc-f9ba35a8bcf6",
   "metadata": {},
   "source": [
    "### Special Characters\n",
    "\n",
    "The backslash `\\` is used to give special characters.  (Note that it is *not* the forward slash `/` that is used for division!)\n",
    "\n",
    "Besides producing quotes (as in `\\'` and `\\\"`), it can also produce line breaks, as seen above.\n",
    "\n",
    "For instance:"
   ]
  },
  {
   "cell_type": "code",
   "execution_count": 36,
   "id": "82ad790f-1073-4c8d-a1f6-d5059412f8cd",
   "metadata": {
    "execution": {
     "iopub.execute_input": "2023-10-19T18:00:41.313899Z",
     "iopub.status.busy": "2023-10-19T18:00:41.313800Z",
     "iopub.status.idle": "2023-10-19T18:00:41.315225Z",
     "shell.execute_reply": "2023-10-19T18:00:41.315056Z"
    },
    "tags": []
   },
   "outputs": [
    {
     "name": "stdout",
     "output_type": "stream",
     "text": [
      "First line.\n",
      "Second line.\n",
      "\n",
      "Third line (after a blank line).\n"
     ]
    }
   ],
   "source": [
    "multi_line_text = \"First line.\\nSecond line.\\n\\nThird line (after a blank line).\"\n",
    "\n",
    "print(multi_line_text)"
   ]
  },
  {
   "cell_type": "markdown",
   "id": "11cc82b6-a6d8-4c25-b1b9-3aa251e9849a",
   "metadata": {},
   "source": [
    "We can also use `\\t` for *tabs*: it gives a \"stretchable space\" which can be convenient to align text:"
   ]
  },
  {
   "cell_type": "code",
   "execution_count": 37,
   "id": "e728578b-5c16-4400-820a-2ac0c8f8b613",
   "metadata": {
    "execution": {
     "iopub.execute_input": "2023-10-19T18:00:41.315990Z",
     "iopub.status.busy": "2023-10-19T18:00:41.315926Z",
     "iopub.status.idle": "2023-10-19T18:00:41.317240Z",
     "shell.execute_reply": "2023-10-19T18:00:41.317084Z"
    },
    "tags": []
   },
   "outputs": [
    {
     "name": "stdout",
     "output_type": "stream",
     "text": [
      "1\tA\n",
      "22\tBB\n",
      "333\tCCC\n",
      "4444\tDDDD\n"
     ]
    }
   ],
   "source": [
    "aligned_text = \"1\\tA\\n22\\tBB\\n333\\tCCC\\n4444\\tDDDD\"\n",
    "\n",
    "print(aligned_text)"
   ]
  },
  {
   "cell_type": "markdown",
   "id": "a801516d-d066-448a-a748-642aed68d1e8",
   "metadata": {},
   "source": [
    "We could also use triple quotes to make it more readable:"
   ]
  },
  {
   "cell_type": "code",
   "execution_count": 38,
   "id": "bf3964aa-2129-4195-9f7a-3c74f8531854",
   "metadata": {
    "execution": {
     "iopub.execute_input": "2023-10-19T18:00:41.318210Z",
     "iopub.status.busy": "2023-10-19T18:00:41.318150Z",
     "iopub.status.idle": "2023-10-19T18:00:41.319454Z",
     "shell.execute_reply": "2023-10-19T18:00:41.319290Z"
    },
    "tags": []
   },
   "outputs": [
    {
     "name": "stdout",
     "output_type": "stream",
     "text": [
      "\n",
      "1 \t A\n",
      "22 \t BB\n",
      "333 \t CCC\n",
      "4444 \t DDDD\n"
     ]
    }
   ],
   "source": [
    "aligned_text = \"\"\"\n",
    "1 \\t A\n",
    "22 \\t BB\n",
    "333 \\t CCC\n",
    "4444 \\t DDDD\"\"\"\n",
    "\n",
    "print(aligned_text)"
   ]
  },
  {
   "cell_type": "markdown",
   "id": "65e737ca-e69a-4363-9e6e-66c843ae2ed8",
   "metadata": {},
   "source": [
    "Finally, if we need the backslash in our text, we use `\\\\` (i.e., we also *escape it*):"
   ]
  },
  {
   "cell_type": "code",
   "execution_count": 39,
   "id": "0f0a3e55-82b9-4ae7-846a-65ae53b21601",
   "metadata": {
    "execution": {
     "iopub.execute_input": "2023-10-19T18:00:41.320530Z",
     "iopub.status.busy": "2023-10-19T18:00:41.320462Z",
     "iopub.status.idle": "2023-10-19T18:00:41.321961Z",
     "shell.execute_reply": "2023-10-19T18:00:41.321762Z"
    },
    "tags": []
   },
   "outputs": [
    {
     "name": "stdout",
     "output_type": "stream",
     "text": [
      "The backslash \\ is used for special charaters in Python.\n",
      "To use it in a string, we need double backslashes: \\\\.\n"
     ]
    }
   ],
   "source": [
    "backslash_test = \"The backslash \\\\ is used for special charaters in Python.\\nTo use it in a string, we need double backslashes: \\\\\\\\.\"\n",
    "\n",
    "print(backslash_test)"
   ]
  },
  {
   "cell_type": "markdown",
   "id": "093bb05a-a306-4fa0-be27-322000ab5874",
   "metadata": {},
   "source": [
    "### f-Strings\n",
    "\n",
    "[f-strings](https://docs.python.org/3/reference/lexical_analysis.html#f-strings) (or *formatted string literals*) are helpful when you want to print variables with a string.\n",
    "\n",
    "For example:"
   ]
  },
  {
   "cell_type": "code",
   "execution_count": 40,
   "id": "38fa0fdc-3bc8-4e45-87af-17c6e3f08bfa",
   "metadata": {
    "execution": {
     "iopub.execute_input": "2023-10-19T18:00:41.323128Z",
     "iopub.status.busy": "2023-10-19T18:00:41.323035Z",
     "iopub.status.idle": "2023-10-19T18:00:41.324890Z",
     "shell.execute_reply": "2023-10-19T18:00:41.324618Z"
    },
    "tags": []
   },
   "outputs": [
    {
     "name": "stdout",
     "output_type": "stream",
     "text": [
      "I was born in 2008, so I am 15 years old.\n"
     ]
    }
   ],
   "source": [
    "birth_year = 2008\n",
    "current_year = 2023\n",
    "\n",
    "print(f\"I was born in {birth_year}, so I am {current_year - birth_year} years old.\")"
   ]
  },
  {
   "cell_type": "markdown",
   "id": "e834173c-80cb-4b48-b52f-cc176fc23322",
   "metadata": {},
   "source": [
    "So, we need to preface our (single quoted or double quoted) string with `f` and put our expression inside curly braces `{ }`.  It can be a variable (as in `birth_year`) or an expression.\n",
    "\n",
    "f-strings also allow us to format the expressions inside braces.  (Check the [documentation](https://docs.python.org/3/reference/lexical_analysis.html#f-strings) if you want to learn more.)"
   ]
  },
  {
   "cell_type": "markdown",
   "id": "96832aa9-6ccc-48f0-bed8-4fc8d0b5d6ba",
   "metadata": {},
   "source": [
    "### String Manipulation\n",
    "\n",
    "We can concatenate string with `+`:"
   ]
  },
  {
   "cell_type": "code",
   "execution_count": 41,
   "id": "d6e16957-de32-4cec-9a5b-5a3e8d3b5546",
   "metadata": {
    "execution": {
     "iopub.execute_input": "2023-10-19T18:00:41.326605Z",
     "iopub.status.busy": "2023-10-19T18:00:41.326423Z",
     "iopub.status.idle": "2023-10-19T18:00:41.328861Z",
     "shell.execute_reply": "2023-10-19T18:00:41.328587Z"
    },
    "tags": []
   },
   "outputs": [
    {
     "data": {
      "text/plain": [
       "'Alice has brown eyes.'"
      ]
     },
     "execution_count": 41,
     "metadata": {},
     "output_type": "execute_result"
    }
   ],
   "source": [
    "name = \"Alice\"\n",
    "eye_color = \"brown\"\n",
    "\n",
    "name + \" has \" + eye_color + \" eyes.\""
   ]
  },
  {
   "cell_type": "markdown",
   "id": "a79bb6c2-2e52-4b19-ac2b-e5617da8d50b",
   "metadata": {},
   "source": [
    "Note that we could have use an f-sting in the example above:"
   ]
  },
  {
   "cell_type": "code",
   "execution_count": 42,
   "id": "16114056-423f-43b1-a2b5-c4a67e455a76",
   "metadata": {
    "execution": {
     "iopub.execute_input": "2023-10-19T18:00:41.330611Z",
     "iopub.status.busy": "2023-10-19T18:00:41.330434Z",
     "iopub.status.idle": "2023-10-19T18:00:41.332668Z",
     "shell.execute_reply": "2023-10-19T18:00:41.332408Z"
    },
    "tags": []
   },
   "outputs": [
    {
     "data": {
      "text/plain": [
       "'Alice has brown eyes.'"
      ]
     },
     "execution_count": 42,
     "metadata": {},
     "output_type": "execute_result"
    }
   ],
   "source": [
    "f\"{name} has {eye_color} eyes.\""
   ]
  },
  {
   "cell_type": "markdown",
   "id": "3f58e1fe-0544-4573-9641-6b7991f5c642",
   "metadata": {},
   "source": [
    "We also have *methods* to help us manipulate strings.\n",
    "\n",
    "*Methods* are functions that belong to a particular object type, like strings, integers, and floats.  The syntax is `object.method(arguments)`.\n",
    "\n",
    "We can convert to upper case with the `upper` method:"
   ]
  },
  {
   "cell_type": "code",
   "execution_count": 43,
   "id": "eeba09ae-00f0-4ccb-809f-61afed6ade9a",
   "metadata": {
    "execution": {
     "iopub.execute_input": "2023-10-19T18:00:41.334274Z",
     "iopub.status.busy": "2023-10-19T18:00:41.334159Z",
     "iopub.status.idle": "2023-10-19T18:00:41.336624Z",
     "shell.execute_reply": "2023-10-19T18:00:41.336365Z"
    },
    "tags": []
   },
   "outputs": [
    {
     "data": {
      "text/plain": [
       "'ABC XYZ 123'"
      ]
     },
     "execution_count": 43,
     "metadata": {},
     "output_type": "execute_result"
    }
   ],
   "source": [
    "test_string = \"abc XYZ 123\"\n",
    "test_string.upper()"
   ]
  },
  {
   "cell_type": "markdown",
   "id": "b7725e4f-3db6-474f-b1e6-cbd6f094d235",
   "metadata": {},
   "source": [
    "Similarly, the method `lower` converts to lower case:"
   ]
  },
  {
   "cell_type": "code",
   "execution_count": 44,
   "id": "d42caf70-2bd2-431d-b754-49ec5809978c",
   "metadata": {
    "execution": {
     "iopub.execute_input": "2023-10-19T18:00:41.338170Z",
     "iopub.status.busy": "2023-10-19T18:00:41.338050Z",
     "iopub.status.idle": "2023-10-19T18:00:41.340494Z",
     "shell.execute_reply": "2023-10-19T18:00:41.340196Z"
    },
    "tags": []
   },
   "outputs": [
    {
     "data": {
      "text/plain": [
       "'abc xyz 123'"
      ]
     },
     "execution_count": 44,
     "metadata": {},
     "output_type": "execute_result"
    }
   ],
   "source": [
    "test_string.lower()"
   ]
  },
  {
   "cell_type": "markdown",
   "id": "4b80f5aa-8619-43de-b2ef-78c5fc16615f",
   "metadata": {},
   "source": [
    "We can also spit a string into a *list* of strings (more about lists below) with `split`:"
   ]
  },
  {
   "cell_type": "code",
   "execution_count": 45,
   "id": "87bddbbb-32eb-4841-ac02-d906a7813964",
   "metadata": {
    "execution": {
     "iopub.execute_input": "2023-10-19T18:00:41.342570Z",
     "iopub.status.busy": "2023-10-19T18:00:41.342232Z",
     "iopub.status.idle": "2023-10-19T18:00:41.345084Z",
     "shell.execute_reply": "2023-10-19T18:00:41.344737Z"
    },
    "tags": []
   },
   "outputs": [
    {
     "data": {
      "text/plain": [
       "['abc', 'XYZ', '123']"
      ]
     },
     "execution_count": 45,
     "metadata": {},
     "output_type": "execute_result"
    }
   ],
   "source": [
    "test_string.split()"
   ]
  },
  {
   "cell_type": "markdown",
   "id": "35a9cacb-8a9d-433a-a3ed-1461dd9da944",
   "metadata": {},
   "source": [
    "By default, it splits on spaces, but you can give a different character as an argument to specify the separator:"
   ]
  },
  {
   "cell_type": "code",
   "execution_count": 46,
   "id": "ce431e7f-de12-433e-acd6-e586a8aa7f80",
   "metadata": {
    "execution": {
     "iopub.execute_input": "2023-10-19T18:00:41.346803Z",
     "iopub.status.busy": "2023-10-19T18:00:41.346652Z",
     "iopub.status.idle": "2023-10-19T18:00:41.349658Z",
     "shell.execute_reply": "2023-10-19T18:00:41.349333Z"
    },
    "tags": []
   },
   "outputs": [
    {
     "data": {
      "text/plain": [
       "['abc', 'XYZ', '123']"
      ]
     },
     "execution_count": 46,
     "metadata": {},
     "output_type": "execute_result"
    }
   ],
   "source": [
    "\"abc-XYZ-123\".split(\"-\")"
   ]
  },
  {
   "cell_type": "code",
   "execution_count": 47,
   "id": "8814f6a5-8c50-49fd-9de8-1d42500c53c3",
   "metadata": {
    "execution": {
     "iopub.execute_input": "2023-10-19T18:00:41.351119Z",
     "iopub.status.busy": "2023-10-19T18:00:41.351000Z",
     "iopub.status.idle": "2023-10-19T18:00:41.353486Z",
     "shell.execute_reply": "2023-10-19T18:00:41.353196Z"
    },
    "tags": []
   },
   "outputs": [
    {
     "data": {
      "text/plain": [
       "['', 'b', 'cc', '', 'ddd']"
      ]
     },
     "execution_count": 47,
     "metadata": {},
     "output_type": "execute_result"
    }
   ],
   "source": [
    "\"abaccaaddd\".split(\"a\")"
   ]
  },
  {
   "cell_type": "markdown",
   "id": "3c213c41-0048-4e46-8217-3f404d13f141",
   "metadata": {},
   "source": [
    "## Lists\n",
    "\n",
    "*Lists* are (ordered) sequences of Python objects.  To create at list, you surround the elements by square brackets `[ ]` and separate them with commas `,`.  For example:"
   ]
  },
  {
   "cell_type": "code",
   "execution_count": 48,
   "id": "fc71602a-95ed-4ccb-88d2-b50e921b12c0",
   "metadata": {
    "execution": {
     "iopub.execute_input": "2023-10-19T18:00:41.355180Z",
     "iopub.status.busy": "2023-10-19T18:00:41.354878Z",
     "iopub.status.idle": "2023-10-19T18:00:41.357811Z",
     "shell.execute_reply": "2023-10-19T18:00:41.357437Z"
    },
    "tags": []
   },
   "outputs": [
    {
     "data": {
      "text/plain": [
       "[5, 7, 3, 2]"
      ]
     },
     "execution_count": 48,
     "metadata": {},
     "output_type": "execute_result"
    }
   ],
   "source": [
    "list_of_numbers = [5, 7, 3, 2]\n",
    "\n",
    "list_of_numbers"
   ]
  },
  {
   "cell_type": "markdown",
   "id": "a653e8cb-a013-4547-aa54-6816fa65eea2",
   "metadata": {},
   "source": [
    "But lists can have elements of any type:"
   ]
  },
  {
   "cell_type": "code",
   "execution_count": 49,
   "id": "c2756cd0-b9f5-469e-966f-7e552927e70c",
   "metadata": {
    "execution": {
     "iopub.execute_input": "2023-10-19T18:00:41.359805Z",
     "iopub.status.busy": "2023-10-19T18:00:41.359514Z",
     "iopub.status.idle": "2023-10-19T18:00:41.362713Z",
     "shell.execute_reply": "2023-10-19T18:00:41.362356Z"
    },
    "tags": []
   },
   "outputs": [
    {
     "data": {
      "text/plain": [
       "[0, 1.2, 'some string', [1, 2, 3]]"
      ]
     },
     "execution_count": 49,
     "metadata": {},
     "output_type": "execute_result"
    }
   ],
   "source": [
    "mixed_list = [0, 1.2, \"some string\", [1, 2, 3]]\n",
    "\n",
    "mixed_list"
   ]
  },
  {
   "cell_type": "markdown",
   "id": "00619c77-435d-4cca-b1a2-3c08a09bea43",
   "metadata": {},
   "source": [
    "We can also have an empty list (to which we can later add elements):"
   ]
  },
  {
   "cell_type": "code",
   "execution_count": 50,
   "id": "7cd26b6c-eeb4-4d1f-9bfa-ba78fc943204",
   "metadata": {
    "execution": {
     "iopub.execute_input": "2023-10-19T18:00:41.364783Z",
     "iopub.status.busy": "2023-10-19T18:00:41.364459Z",
     "iopub.status.idle": "2023-10-19T18:00:41.367519Z",
     "shell.execute_reply": "2023-10-19T18:00:41.367139Z"
    },
    "tags": []
   },
   "outputs": [
    {
     "data": {
      "text/plain": [
       "[]"
      ]
     },
     "execution_count": 50,
     "metadata": {},
     "output_type": "execute_result"
    }
   ],
   "source": [
    "empty_list = []\n",
    "\n",
    "empty_list"
   ]
  },
  {
   "cell_type": "markdown",
   "id": "24c2e247-13e9-4926-9216-4b8e3ac6b132",
   "metadata": {},
   "source": [
    "### Ranges"
   ]
  },
  {
   "cell_type": "markdown",
   "id": "cdc851ee-b17f-4703-a50c-066df2d59386",
   "metadata": {},
   "source": [
    "We can also create lists of consecutive numbers using `range`.  For instance, to have a list with elements from 0 to 5 we do:"
   ]
  },
  {
   "cell_type": "code",
   "execution_count": 51,
   "id": "9aa15258-d9d9-4cdc-b960-218803773122",
   "metadata": {
    "execution": {
     "iopub.execute_input": "2023-10-19T18:00:41.369275Z",
     "iopub.status.busy": "2023-10-19T18:00:41.369144Z",
     "iopub.status.idle": "2023-10-19T18:00:41.371835Z",
     "shell.execute_reply": "2023-10-19T18:00:41.371478Z"
    },
    "tags": []
   },
   "outputs": [
    {
     "data": {
      "text/plain": [
       "[0, 1, 2, 3, 4, 5]"
      ]
     },
     "execution_count": 51,
     "metadata": {},
     "output_type": "execute_result"
    }
   ],
   "source": [
    "list(range(6))"
   ]
  },
  {
   "cell_type": "markdown",
   "id": "f60be3d9-ce28-4ded-8f1e-5ecf101b55a9",
   "metadata": {},
   "source": [
    "(Technically, `range` gives an object similar to a list, but not quite the same.  Using the function `list` we convert this object to an actual list.  Most often we do *not* need to convert the object to a list in practice, though.)\n",
    "\n",
    "Note then that `list(range(n))` gives a list `[0, 1, 2, ..., n - 1]`, so `n` itself is *not* included!  (This is huge pitfall when first learning with Python!)\n",
    "\n",
    "We can also tell where to start the list (if not at 0), by passing two arguments:"
   ]
  },
  {
   "cell_type": "code",
   "execution_count": 52,
   "id": "88d98790-7838-446b-b7ba-8bd294f045f8",
   "metadata": {
    "execution": {
     "iopub.execute_input": "2023-10-19T18:00:41.373585Z",
     "iopub.status.busy": "2023-10-19T18:00:41.373366Z",
     "iopub.status.idle": "2023-10-19T18:00:41.376044Z",
     "shell.execute_reply": "2023-10-19T18:00:41.375715Z"
    },
    "tags": []
   },
   "outputs": [
    {
     "data": {
      "text/plain": [
       "[3, 4, 5, 6, 7, 8, 9]"
      ]
     },
     "execution_count": 52,
     "metadata": {},
     "output_type": "execute_result"
    }
   ],
   "source": [
    "list(range(3, 10))"
   ]
  },
  {
   "cell_type": "markdown",
   "id": "4f800e7f-abd2-4dc4-8eb0-24a2ca5f6859",
   "metadata": {},
   "source": [
    "In this case the list start at 3, but ends at 9 (and not 10).\n",
    "\n",
    "We can also pass a third argument, which is the *step size*:"
   ]
  },
  {
   "cell_type": "code",
   "execution_count": 53,
   "id": "797be8aa-2188-4a9a-9f6f-8a114bae99a6",
   "metadata": {
    "execution": {
     "iopub.execute_input": "2023-10-19T18:00:41.377952Z",
     "iopub.status.busy": "2023-10-19T18:00:41.377712Z",
     "iopub.status.idle": "2023-10-19T18:00:41.380507Z",
     "shell.execute_reply": "2023-10-19T18:00:41.380155Z"
    },
    "tags": []
   },
   "outputs": [
    {
     "data": {
      "text/plain": [
       "[4, 7, 10, 13, 16, 19]"
      ]
     },
     "execution_count": 53,
     "metadata": {},
     "output_type": "execute_result"
    }
   ],
   "source": [
    "list(range(4, 20, 3))"
   ]
  },
  {
   "cell_type": "markdown",
   "id": "3d3a9a4c-5753-43b6-9cc6-51e314eb0837",
   "metadata": {},
   "source": [
    "So, we start at exactly the first argument (4 in this case), skip by the third argument (3 in this case), and stop in the last number *before* the second argument (20 in this case)."
   ]
  },
  {
   "cell_type": "markdown",
   "id": "97655823-a29e-40af-8232-740c4c8d932a",
   "metadata": {},
   "source": [
    "### Extracting Elements\n",
    "\n",
    "First, remember our `list_of_numbers` and `mixed_list`:"
   ]
  },
  {
   "cell_type": "code",
   "execution_count": 54,
   "id": "48f4b7f9-7a33-4b80-bebe-811372e9a734",
   "metadata": {
    "execution": {
     "iopub.execute_input": "2023-10-19T18:00:41.382345Z",
     "iopub.status.busy": "2023-10-19T18:00:41.382111Z",
     "iopub.status.idle": "2023-10-19T18:00:41.384752Z",
     "shell.execute_reply": "2023-10-19T18:00:41.384431Z"
    }
   },
   "outputs": [
    {
     "data": {
      "text/plain": [
       "[5, 7, 3, 2]"
      ]
     },
     "execution_count": 54,
     "metadata": {},
     "output_type": "execute_result"
    }
   ],
   "source": [
    "list_of_numbers"
   ]
  },
  {
   "cell_type": "code",
   "execution_count": 55,
   "id": "efcf8b0d-099a-4ef7-90b0-5accc58adf6f",
   "metadata": {
    "execution": {
     "iopub.execute_input": "2023-10-19T18:00:41.386316Z",
     "iopub.status.busy": "2023-10-19T18:00:41.386110Z",
     "iopub.status.idle": "2023-10-19T18:00:41.388571Z",
     "shell.execute_reply": "2023-10-19T18:00:41.388287Z"
    }
   },
   "outputs": [
    {
     "data": {
      "text/plain": [
       "[0, 1.2, 'some string', [1, 2, 3]]"
      ]
     },
     "execution_count": 55,
     "metadata": {},
     "output_type": "execute_result"
    }
   ],
   "source": [
    "mixed_list"
   ]
  },
  {
   "cell_type": "markdown",
   "id": "1fc2d238-c30d-4da7-83d6-5f30528d64bd",
   "metadata": {},
   "source": [
    "We can extract elements from a list by position.  But, **Python counts from 0** and not 1.  So, to extract the first element of `list_of_numbers` we do:"
   ]
  },
  {
   "cell_type": "code",
   "execution_count": 56,
   "id": "10bb6231-bd21-4385-b4d4-b89961e72b8e",
   "metadata": {
    "execution": {
     "iopub.execute_input": "2023-10-19T18:00:41.390067Z",
     "iopub.status.busy": "2023-10-19T18:00:41.389871Z",
     "iopub.status.idle": "2023-10-19T18:00:41.392149Z",
     "shell.execute_reply": "2023-10-19T18:00:41.391873Z"
    },
    "tags": []
   },
   "outputs": [
    {
     "data": {
      "text/plain": [
       "5"
      ]
     },
     "execution_count": 56,
     "metadata": {},
     "output_type": "execute_result"
    }
   ],
   "source": [
    "list_of_numbers[0]"
   ]
  },
  {
   "cell_type": "markdown",
   "id": "e47a1e1b-b4b4-4bd4-b199-ffdf3f17b68e",
   "metadata": {
    "tags": []
   },
   "source": [
    "To extract the second:"
   ]
  },
  {
   "cell_type": "code",
   "execution_count": 57,
   "id": "e9f71efd-1103-4ce6-a4a4-b445f4193a7d",
   "metadata": {
    "execution": {
     "iopub.execute_input": "2023-10-19T18:00:41.393451Z",
     "iopub.status.busy": "2023-10-19T18:00:41.393341Z",
     "iopub.status.idle": "2023-10-19T18:00:41.395688Z",
     "shell.execute_reply": "2023-10-19T18:00:41.395403Z"
    },
    "tags": []
   },
   "outputs": [
    {
     "data": {
      "text/plain": [
       "7"
      ]
     },
     "execution_count": 57,
     "metadata": {},
     "output_type": "execute_result"
    }
   ],
   "source": [
    "list_of_numbers[1]"
   ]
  },
  {
   "cell_type": "markdown",
   "id": "5be2e425-0f4c-4954-923b-8ca8eaa61ef4",
   "metadata": {},
   "source": [
    "We can also count from the end using *negative indices*.  So, to extract the last element we use index `-1`:"
   ]
  },
  {
   "cell_type": "code",
   "execution_count": 58,
   "id": "acebc486-7908-496b-8759-36a45c5dd63d",
   "metadata": {
    "execution": {
     "iopub.execute_input": "2023-10-19T18:00:41.396926Z",
     "iopub.status.busy": "2023-10-19T18:00:41.396750Z",
     "iopub.status.idle": "2023-10-19T18:00:41.398729Z",
     "shell.execute_reply": "2023-10-19T18:00:41.398515Z"
    },
    "tags": []
   },
   "outputs": [
    {
     "data": {
      "text/plain": [
       "[1, 2, 3]"
      ]
     },
     "execution_count": 58,
     "metadata": {},
     "output_type": "execute_result"
    }
   ],
   "source": [
    "mixed_list[-1]"
   ]
  },
  {
   "cell_type": "markdown",
   "id": "b0357d42-b436-4fcd-b093-145d3c01978e",
   "metadata": {},
   "source": [
    "The element before last:"
   ]
  },
  {
   "cell_type": "code",
   "execution_count": 59,
   "id": "ae422196-7ace-46a3-b611-01068a92a49c",
   "metadata": {
    "execution": {
     "iopub.execute_input": "2023-10-19T18:00:41.399928Z",
     "iopub.status.busy": "2023-10-19T18:00:41.399700Z",
     "iopub.status.idle": "2023-10-19T18:00:41.401657Z",
     "shell.execute_reply": "2023-10-19T18:00:41.401459Z"
    },
    "tags": []
   },
   "outputs": [
    {
     "data": {
      "text/plain": [
       "'some string'"
      ]
     },
     "execution_count": 59,
     "metadata": {},
     "output_type": "execute_result"
    }
   ],
   "source": [
    "mixed_list[-2]"
   ]
  },
  {
   "cell_type": "markdown",
   "id": "f12c6d8e-758c-4ab9-b2ae-6153657915e6",
   "metadata": {},
   "source": [
    "To extract the `2` from `[1, 2, 3]` in `mixed_list`:"
   ]
  },
  {
   "cell_type": "code",
   "execution_count": 60,
   "id": "9d4b1ba1-ea8e-4522-a6c8-426b6ed6970a",
   "metadata": {
    "execution": {
     "iopub.execute_input": "2023-10-19T18:00:41.402658Z",
     "iopub.status.busy": "2023-10-19T18:00:41.402567Z",
     "iopub.status.idle": "2023-10-19T18:00:41.404422Z",
     "shell.execute_reply": "2023-10-19T18:00:41.404222Z"
    },
    "tags": []
   },
   "outputs": [
    {
     "data": {
      "text/plain": [
       "2"
      ]
     },
     "execution_count": 60,
     "metadata": {},
     "output_type": "execute_result"
    }
   ],
   "source": [
    "mixed_list[3][1]"
   ]
  },
  {
   "cell_type": "markdown",
   "id": "aeca75ad-7c8b-443c-9b1a-2877a89f78e1",
   "metadata": {},
   "source": [
    "(`[1, 2, 3]` is at index `3` of `mixed_list`, and `2` is at index `1` of `[1, 2, 3]`.)"
   ]
  },
  {
   "cell_type": "markdown",
   "id": "b0bb0184-6456-4bd0-a450-8e96a4db7fb7",
   "metadata": {},
   "source": [
    "### Slicing\n",
    "\n",
    "We can get sublists from a list using what is called *slicing*.  For instance, let's start with the list:"
   ]
  },
  {
   "cell_type": "code",
   "execution_count": 61,
   "id": "97ae0691-ff00-4c3c-a1ca-25b1a675a867",
   "metadata": {
    "execution": {
     "iopub.execute_input": "2023-10-19T18:00:41.405528Z",
     "iopub.status.busy": "2023-10-19T18:00:41.405348Z",
     "iopub.status.idle": "2023-10-19T18:00:41.407340Z",
     "shell.execute_reply": "2023-10-19T18:00:41.407135Z"
    },
    "tags": []
   },
   "outputs": [
    {
     "data": {
      "text/plain": [
       "[5, 9, 13, 17, 21, 25, 29, 33, 37]"
      ]
     },
     "execution_count": 61,
     "metadata": {},
     "output_type": "execute_result"
    }
   ],
   "source": [
    "list_example = list(range(5, 40, 4))\n",
    "\n",
    "list_example"
   ]
  },
  {
   "cell_type": "markdown",
   "id": "de318641-0aef-43b8-9975-a375e2115680",
   "metadata": {},
   "source": [
    "If I want to get a sublist of `list_example` starting at index 3 and ending at index 6, we do:"
   ]
  },
  {
   "cell_type": "code",
   "execution_count": 62,
   "id": "81f3c4f4-3972-47de-b337-55be826affac",
   "metadata": {
    "execution": {
     "iopub.execute_input": "2023-10-19T18:00:41.408279Z",
     "iopub.status.busy": "2023-10-19T18:00:41.408197Z",
     "iopub.status.idle": "2023-10-19T18:00:41.409990Z",
     "shell.execute_reply": "2023-10-19T18:00:41.409794Z"
    },
    "tags": []
   },
   "outputs": [
    {
     "data": {
      "text/plain": [
       "[17, 21, 25, 29]"
      ]
     },
     "execution_count": 62,
     "metadata": {},
     "output_type": "execute_result"
    }
   ],
   "source": [
    "list_example[3:7]"
   ]
  },
  {
   "cell_type": "markdown",
   "id": "d2d48f57-327b-4836-9fe5-53cdab56f266",
   "metadata": {},
   "source": [
    "**Note we used 7 instead of 6!**  Just like with ranges, we stop *before* the second number.\n",
    "\n",
    "If we want to start at the beginning, we can use 0 for the first number, or simply omit it altogether:"
   ]
  },
  {
   "cell_type": "code",
   "execution_count": 63,
   "id": "3db9e8e0-04b5-4d52-b7f4-194568a35380",
   "metadata": {
    "execution": {
     "iopub.execute_input": "2023-10-19T18:00:41.410931Z",
     "iopub.status.busy": "2023-10-19T18:00:41.410852Z",
     "iopub.status.idle": "2023-10-19T18:00:41.412649Z",
     "shell.execute_reply": "2023-10-19T18:00:41.412456Z"
    },
    "tags": []
   },
   "outputs": [
    {
     "data": {
      "text/plain": [
       "[5, 9, 13, 17, 21]"
      ]
     },
     "execution_count": 63,
     "metadata": {},
     "output_type": "execute_result"
    }
   ],
   "source": [
    "list_example[0:5]  # first 5 elements -- does not include index 5"
   ]
  },
  {
   "cell_type": "code",
   "execution_count": 64,
   "id": "0f5f3bf6-914b-4f5e-aee5-3b324d7a54e4",
   "metadata": {
    "execution": {
     "iopub.execute_input": "2023-10-19T18:00:41.413495Z",
     "iopub.status.busy": "2023-10-19T18:00:41.413415Z",
     "iopub.status.idle": "2023-10-19T18:00:41.415172Z",
     "shell.execute_reply": "2023-10-19T18:00:41.414986Z"
    },
    "tags": []
   },
   "outputs": [
    {
     "data": {
      "text/plain": [
       "[5, 9, 13, 17, 21]"
      ]
     },
     "execution_count": 64,
     "metadata": {},
     "output_type": "execute_result"
    }
   ],
   "source": [
    "list_example[:5]  # same as above"
   ]
  },
  {
   "cell_type": "markdown",
   "id": "519a67dc-bfd4-4af0-98ab-6c16d4365eec",
   "metadata": {},
   "source": [
    "Omitting the second number, we go all the way to the end:"
   ]
  },
  {
   "cell_type": "code",
   "execution_count": 65,
   "id": "dee62506-5ce0-42fa-816d-fce07f490382",
   "metadata": {
    "execution": {
     "iopub.execute_input": "2023-10-19T18:00:41.416123Z",
     "iopub.status.busy": "2023-10-19T18:00:41.415995Z",
     "iopub.status.idle": "2023-10-19T18:00:41.417717Z",
     "shell.execute_reply": "2023-10-19T18:00:41.417538Z"
    },
    "tags": []
   },
   "outputs": [
    {
     "data": {
      "text/plain": [
       "[29, 33, 37]"
      ]
     },
     "execution_count": 65,
     "metadata": {},
     "output_type": "execute_result"
    }
   ],
   "source": [
    "list_example[-3:]"
   ]
  },
  {
   "cell_type": "markdown",
   "id": "b2666139-095d-4a22-a965-a952198ef897",
   "metadata": {},
   "source": [
    "We can get the length of a list with the function `len`:"
   ]
  },
  {
   "cell_type": "code",
   "execution_count": 66,
   "id": "2388f624-b298-4f8a-a3ec-1ad30df46711",
   "metadata": {
    "execution": {
     "iopub.execute_input": "2023-10-19T18:00:41.418591Z",
     "iopub.status.busy": "2023-10-19T18:00:41.418515Z",
     "iopub.status.idle": "2023-10-19T18:00:41.420248Z",
     "shell.execute_reply": "2023-10-19T18:00:41.419986Z"
    },
    "tags": []
   },
   "outputs": [
    {
     "data": {
      "text/plain": [
       "9"
      ]
     },
     "execution_count": 66,
     "metadata": {},
     "output_type": "execute_result"
    }
   ],
   "source": [
    "len(list_example)"
   ]
  },
  {
   "cell_type": "markdown",
   "id": "0da3b326-a896-4886-99bd-8559cb692124",
   "metadata": {},
   "source": [
    "So, we could also do:"
   ]
  },
  {
   "cell_type": "code",
   "execution_count": 67,
   "id": "fa4d89e9-bf5d-4a91-89bc-2b87b2dfd753",
   "metadata": {
    "execution": {
     "iopub.execute_input": "2023-10-19T18:00:41.421103Z",
     "iopub.status.busy": "2023-10-19T18:00:41.421027Z",
     "iopub.status.idle": "2023-10-19T18:00:41.422785Z",
     "shell.execute_reply": "2023-10-19T18:00:41.422605Z"
    },
    "tags": []
   },
   "outputs": [
    {
     "data": {
      "text/plain": [
       "[21, 25, 29, 33, 37]"
      ]
     },
     "execution_count": 67,
     "metadata": {},
     "output_type": "execute_result"
    }
   ],
   "source": [
    "list_example[4:len(list_example)]  # all elements from index 4 until the end"
   ]
  },
  {
   "cell_type": "markdown",
   "id": "1814d41a-b196-4a76-a423-257ddaf59a9a",
   "metadata": {},
   "source": [
    "Note that the last valid index of the list is `len(list_example) - 1`, and *not* `len(list_example)`, since, again, we start counting from 0 and not 1."
   ]
  },
  {
   "cell_type": "markdown",
   "id": "f8f61066-04f4-4d2a-baca-bf915fa453ab",
   "metadata": {},
   "source": [
    "We can also give a step size for the third argument, similar to `range`:"
   ]
  },
  {
   "cell_type": "code",
   "execution_count": 68,
   "id": "a70b7473-6f86-4a33-8b9a-3442324ee7c1",
   "metadata": {
    "execution": {
     "iopub.execute_input": "2023-10-19T18:00:41.423714Z",
     "iopub.status.busy": "2023-10-19T18:00:41.423638Z",
     "iopub.status.idle": "2023-10-19T18:00:41.425558Z",
     "shell.execute_reply": "2023-10-19T18:00:41.425377Z"
    },
    "tags": []
   },
   "outputs": [
    {
     "data": {
      "text/plain": [
       "[0,\n",
       " 1,\n",
       " 2,\n",
       " 3,\n",
       " 4,\n",
       " 5,\n",
       " 6,\n",
       " 7,\n",
       " 8,\n",
       " 9,\n",
       " 10,\n",
       " 11,\n",
       " 12,\n",
       " 13,\n",
       " 14,\n",
       " 15,\n",
       " 16,\n",
       " 17,\n",
       " 18,\n",
       " 19,\n",
       " 20,\n",
       " 21,\n",
       " 22,\n",
       " 23,\n",
       " 24,\n",
       " 25,\n",
       " 26,\n",
       " 27,\n",
       " 28,\n",
       " 29,\n",
       " 30]"
      ]
     },
     "execution_count": 68,
     "metadata": {},
     "output_type": "execute_result"
    }
   ],
   "source": [
    "new_list = list(range(31))\n",
    "\n",
    "new_list"
   ]
  },
  {
   "cell_type": "code",
   "execution_count": 69,
   "id": "db4e71c8-8357-473b-9c6d-9c7397e7ba9e",
   "metadata": {
    "execution": {
     "iopub.execute_input": "2023-10-19T18:00:41.426498Z",
     "iopub.status.busy": "2023-10-19T18:00:41.426374Z",
     "iopub.status.idle": "2023-10-19T18:00:41.428122Z",
     "shell.execute_reply": "2023-10-19T18:00:41.427943Z"
    },
    "tags": []
   },
   "outputs": [
    {
     "data": {
      "text/plain": [
       "[4, 7, 10, 13, 16, 19, 22]"
      ]
     },
     "execution_count": 69,
     "metadata": {},
     "output_type": "execute_result"
    }
   ],
   "source": [
    "new_list[4:25:3]"
   ]
  },
  {
   "cell_type": "markdown",
   "id": "fb370066-30e7-45a8-b641-9de0da151971",
   "metadata": {},
   "source": [
    "### Changing a List\n",
    "\n",
    "We can also *change elements* in a list.\n",
    "\n",
    "First, recall our `list_of_numbers`:"
   ]
  },
  {
   "cell_type": "code",
   "execution_count": 70,
   "id": "ee615f6e-7d6f-4af5-b11d-6a43cf65f1dd",
   "metadata": {
    "execution": {
     "iopub.execute_input": "2023-10-19T18:00:41.429025Z",
     "iopub.status.busy": "2023-10-19T18:00:41.428943Z",
     "iopub.status.idle": "2023-10-19T18:00:41.430594Z",
     "shell.execute_reply": "2023-10-19T18:00:41.430422Z"
    },
    "tags": []
   },
   "outputs": [
    {
     "data": {
      "text/plain": [
       "[5, 7, 3, 2]"
      ]
     },
     "execution_count": 70,
     "metadata": {},
     "output_type": "execute_result"
    }
   ],
   "source": [
    "list_of_numbers"
   ]
  },
  {
   "cell_type": "markdown",
   "id": "29abaa59-91ba-4845-b70f-b80cf8038b75",
   "metadata": {},
   "source": [
    "If then, for instance, we want to change the element at index 2 in `list_of_numbers` (originally a 3) to a 10, we can do:"
   ]
  },
  {
   "cell_type": "code",
   "execution_count": 71,
   "id": "96baf768-7ca9-46be-98bd-7869d4941bd2",
   "metadata": {
    "execution": {
     "iopub.execute_input": "2023-10-19T18:00:41.431487Z",
     "iopub.status.busy": "2023-10-19T18:00:41.431368Z",
     "iopub.status.idle": "2023-10-19T18:00:41.433089Z",
     "shell.execute_reply": "2023-10-19T18:00:41.432912Z"
    },
    "tags": []
   },
   "outputs": [
    {
     "data": {
      "text/plain": [
       "[5, 7, 10, 2]"
      ]
     },
     "execution_count": 71,
     "metadata": {},
     "output_type": "execute_result"
    }
   ],
   "source": [
    "list_of_numbers[2] = 10\n",
    "\n",
    "list_of_numbers"
   ]
  },
  {
   "cell_type": "markdown",
   "id": "02db3a31-1e81-4722-af52-cc857e8b32ce",
   "metadata": {},
   "source": [
    "We can add an element to the end of a list using the `append` *method*.  So, to add $-1$ to the end of `list_of_numbers`, we can do:"
   ]
  },
  {
   "cell_type": "code",
   "execution_count": 72,
   "id": "c1aea236-b4b3-4534-84f2-ce5d2a1a6741",
   "metadata": {
    "execution": {
     "iopub.execute_input": "2023-10-19T18:00:41.433932Z",
     "iopub.status.busy": "2023-10-19T18:00:41.433860Z",
     "iopub.status.idle": "2023-10-19T18:00:41.435589Z",
     "shell.execute_reply": "2023-10-19T18:00:41.435417Z"
    },
    "tags": []
   },
   "outputs": [
    {
     "data": {
      "text/plain": [
       "[5, 7, 10, 2, -1]"
      ]
     },
     "execution_count": 72,
     "metadata": {},
     "output_type": "execute_result"
    }
   ],
   "source": [
    "list_of_numbers.append(-1)\n",
    "\n",
    "list_of_numbers"
   ]
  },
  {
   "cell_type": "markdown",
   "id": "335f394e-7514-4ff6-802b-ed58f7a42b23",
   "metadata": {},
   "source": [
    "Note that `append` *changes the original list* and *returns no output*!"
   ]
  },
  {
   "cell_type": "markdown",
   "id": "67dd4c55-7ff4-4f23-9fb2-d07d902f41ab",
   "metadata": {},
   "source": [
    "We can sort with the `sort` method:"
   ]
  },
  {
   "cell_type": "code",
   "execution_count": 73,
   "id": "e63a8169-9120-4137-80a8-c16f8eb96896",
   "metadata": {
    "execution": {
     "iopub.execute_input": "2023-10-19T18:00:41.436524Z",
     "iopub.status.busy": "2023-10-19T18:00:41.436405Z",
     "iopub.status.idle": "2023-10-19T18:00:41.438120Z",
     "shell.execute_reply": "2023-10-19T18:00:41.437940Z"
    },
    "tags": []
   },
   "outputs": [
    {
     "data": {
      "text/plain": [
       "[-1, 2, 5, 7, 10]"
      ]
     },
     "execution_count": 73,
     "metadata": {},
     "output_type": "execute_result"
    }
   ],
   "source": [
    "list_of_numbers.sort()\n",
    "\n",
    "list_of_numbers"
   ]
  },
  {
   "cell_type": "markdown",
   "id": "07b6ebfa-a390-48b7-a48b-3a56ca768c42",
   "metadata": {},
   "source": [
    "(Again, it *changes the list and returns no output*!)"
   ]
  },
  {
   "cell_type": "markdown",
   "id": "ed0ffbc8-2992-462d-96a1-0907c65376c1",
   "metadata": {},
   "source": [
    "To sort in reverse order, we can use the optional argument `reverse=True`:"
   ]
  },
  {
   "cell_type": "code",
   "execution_count": 74,
   "id": "83619592-707c-4dc6-8a1e-72046586ea80",
   "metadata": {
    "execution": {
     "iopub.execute_input": "2023-10-19T18:00:41.438943Z",
     "iopub.status.busy": "2023-10-19T18:00:41.438873Z",
     "iopub.status.idle": "2023-10-19T18:00:41.440529Z",
     "shell.execute_reply": "2023-10-19T18:00:41.440361Z"
    },
    "tags": []
   },
   "outputs": [
    {
     "data": {
      "text/plain": [
       "[10, 7, 5, 2, -1]"
      ]
     },
     "execution_count": 74,
     "metadata": {},
     "output_type": "execute_result"
    }
   ],
   "source": [
    "list_of_numbers.sort(reverse=True)\n",
    "\n",
    "list_of_numbers"
   ]
  },
  {
   "cell_type": "markdown",
   "id": "e1c32980-bd12-403b-a267-bf3e393eb196",
   "metadata": {},
   "source": [
    "We can reverse the order of elements with the `reverse` method.  (This method does *no sorting at all*, it just reverse the whole list in its given order.)"
   ]
  },
  {
   "cell_type": "code",
   "execution_count": 75,
   "id": "6dd2dcd5-3dd9-4698-8514-14f691b1fe0e",
   "metadata": {
    "execution": {
     "iopub.execute_input": "2023-10-19T18:00:41.441395Z",
     "iopub.status.busy": "2023-10-19T18:00:41.441281Z",
     "iopub.status.idle": "2023-10-19T18:00:41.442924Z",
     "shell.execute_reply": "2023-10-19T18:00:41.442751Z"
    },
    "tags": []
   },
   "outputs": [
    {
     "data": {
      "text/plain": [
       "[0, 1.2, 'some string', [1, 2, 3]]"
      ]
     },
     "execution_count": 75,
     "metadata": {},
     "output_type": "execute_result"
    }
   ],
   "source": [
    "mixed_list"
   ]
  },
  {
   "cell_type": "code",
   "execution_count": 76,
   "id": "34be188d-3391-456b-ba77-e3a6f4f81734",
   "metadata": {
    "execution": {
     "iopub.execute_input": "2023-10-19T18:00:41.443727Z",
     "iopub.status.busy": "2023-10-19T18:00:41.443651Z",
     "iopub.status.idle": "2023-10-19T18:00:41.445344Z",
     "shell.execute_reply": "2023-10-19T18:00:41.445174Z"
    },
    "tags": []
   },
   "outputs": [
    {
     "data": {
      "text/plain": [
       "[[1, 2, 3], 'some string', 1.2, 0]"
      ]
     },
     "execution_count": 76,
     "metadata": {},
     "output_type": "execute_result"
    }
   ],
   "source": [
    "mixed_list.reverse()\n",
    "\n",
    "mixed_list"
   ]
  },
  {
   "cell_type": "markdown",
   "id": "1d1804e7-3e78-4a4c-87b5-5b78e1e8d85c",
   "metadata": {},
   "source": [
    "We can remove elements with the `pop` method.  By default it removes the last element of the list, but you can also pass it the index of the element to removed.\n",
    "\n",
    "`pop` changes the original list *and* returns the element removed!"
   ]
  },
  {
   "cell_type": "code",
   "execution_count": 77,
   "id": "97e0dc80-ad9e-45bc-8129-006b1ae52c90",
   "metadata": {
    "execution": {
     "iopub.execute_input": "2023-10-19T18:00:41.446213Z",
     "iopub.status.busy": "2023-10-19T18:00:41.446075Z",
     "iopub.status.idle": "2023-10-19T18:00:41.447685Z",
     "shell.execute_reply": "2023-10-19T18:00:41.447521Z"
    },
    "tags": []
   },
   "outputs": [
    {
     "data": {
      "text/plain": [
       "[10, 7, 5, 2, -1]"
      ]
     },
     "execution_count": 77,
     "metadata": {},
     "output_type": "execute_result"
    }
   ],
   "source": [
    "list_of_numbers"
   ]
  },
  {
   "cell_type": "code",
   "execution_count": 78,
   "id": "bfc136f1-daa8-41c6-af95-3edb00715b32",
   "metadata": {
    "execution": {
     "iopub.execute_input": "2023-10-19T18:00:41.448513Z",
     "iopub.status.busy": "2023-10-19T18:00:41.448441Z",
     "iopub.status.idle": "2023-10-19T18:00:41.450097Z",
     "shell.execute_reply": "2023-10-19T18:00:41.449929Z"
    },
    "tags": []
   },
   "outputs": [
    {
     "data": {
      "text/plain": [
       "-1"
      ]
     },
     "execution_count": 78,
     "metadata": {},
     "output_type": "execute_result"
    }
   ],
   "source": [
    "removed_element = list_of_numbers.pop()  # remove last element\n",
    "\n",
    "removed_element"
   ]
  },
  {
   "cell_type": "code",
   "execution_count": 79,
   "id": "4615c267-2adb-4fe6-9c73-3258493d43ca",
   "metadata": {
    "execution": {
     "iopub.execute_input": "2023-10-19T18:00:41.450862Z",
     "iopub.status.busy": "2023-10-19T18:00:41.450791Z",
     "iopub.status.idle": "2023-10-19T18:00:41.452426Z",
     "shell.execute_reply": "2023-10-19T18:00:41.452256Z"
    },
    "tags": []
   },
   "outputs": [
    {
     "data": {
      "text/plain": [
       "[10, 7, 5, 2]"
      ]
     },
     "execution_count": 79,
     "metadata": {},
     "output_type": "execute_result"
    }
   ],
   "source": [
    "list_of_numbers  # the list was changed!"
   ]
  },
  {
   "cell_type": "code",
   "execution_count": 80,
   "id": "9b88f28c-2987-4525-a038-a0da6d8c99f2",
   "metadata": {
    "execution": {
     "iopub.execute_input": "2023-10-19T18:00:41.453220Z",
     "iopub.status.busy": "2023-10-19T18:00:41.453152Z",
     "iopub.status.idle": "2023-10-19T18:00:41.454811Z",
     "shell.execute_reply": "2023-10-19T18:00:41.454640Z"
    },
    "tags": []
   },
   "outputs": [
    {
     "data": {
      "text/plain": [
       "7"
      ]
     },
     "execution_count": 80,
     "metadata": {},
     "output_type": "execute_result"
    }
   ],
   "source": [
    "removed_element = list_of_numbers.pop(1)  # remove element at index 1\n",
    "\n",
    "removed_element"
   ]
  },
  {
   "cell_type": "code",
   "execution_count": 81,
   "id": "7efb6b10-d0da-4cc8-b078-16869159bd2c",
   "metadata": {
    "execution": {
     "iopub.execute_input": "2023-10-19T18:00:41.455590Z",
     "iopub.status.busy": "2023-10-19T18:00:41.455518Z",
     "iopub.status.idle": "2023-10-19T18:00:41.457140Z",
     "shell.execute_reply": "2023-10-19T18:00:41.456960Z"
    },
    "tags": []
   },
   "outputs": [
    {
     "data": {
      "text/plain": [
       "[10, 5, 2]"
      ]
     },
     "execution_count": 81,
     "metadata": {},
     "output_type": "execute_result"
    }
   ],
   "source": [
    "list_of_numbers  # again, list has changed!"
   ]
  },
  {
   "cell_type": "markdown",
   "id": "35add874-f23f-4eab-b749-629c344e2c0f",
   "metadata": {},
   "source": [
    "### List and Strings\n",
    "\n",
    "One can think of strings as (more or less) lists of characters.  (This is not 100% accurate, as we will see, but it is pretty close.)\n",
    "\n",
    "So, many of the operations we can do with list, we can also do with strings.\n",
    "\n",
    "For instance, we can use `len` to find the lenght (or number of characters) of a string:"
   ]
  },
  {
   "cell_type": "code",
   "execution_count": 82,
   "id": "d60d3361-0a9f-4922-b98d-0cab42ffe18a",
   "metadata": {
    "execution": {
     "iopub.execute_input": "2023-10-19T18:00:41.457991Z",
     "iopub.status.busy": "2023-10-19T18:00:41.457915Z",
     "iopub.status.idle": "2023-10-19T18:00:41.459544Z",
     "shell.execute_reply": "2023-10-19T18:00:41.459380Z"
    },
    "tags": []
   },
   "outputs": [
    {
     "data": {
      "text/plain": [
       "24"
      ]
     },
     "execution_count": 82,
     "metadata": {},
     "output_type": "execute_result"
    }
   ],
   "source": [
    "quote = \"I think, therefore I am.\"\n",
    "\n",
    "len(quote)"
   ]
  },
  {
   "cell_type": "markdown",
   "id": "ae0752c9-2b06-4fc7-bb92-16adb6dd814f",
   "metadata": {},
   "source": [
    "We can also extract elements by index:"
   ]
  },
  {
   "cell_type": "code",
   "execution_count": 83,
   "id": "d57692f5-3ffa-4957-bc68-0deb30675bda",
   "metadata": {
    "execution": {
     "iopub.execute_input": "2023-10-19T18:00:41.460366Z",
     "iopub.status.busy": "2023-10-19T18:00:41.460256Z",
     "iopub.status.idle": "2023-10-19T18:00:41.461844Z",
     "shell.execute_reply": "2023-10-19T18:00:41.461683Z"
    },
    "tags": []
   },
   "outputs": [
    {
     "data": {
      "text/plain": [
       "'h'"
      ]
     },
     "execution_count": 83,
     "metadata": {},
     "output_type": "execute_result"
    }
   ],
   "source": [
    "quote[3]  # 4th character"
   ]
  },
  {
   "cell_type": "markdown",
   "id": "7a7403b9-2957-4a44-89a1-6d4fb2aec294",
   "metadata": {},
   "source": [
    "And, we can slice a string:"
   ]
  },
  {
   "cell_type": "code",
   "execution_count": 84,
   "id": "4745ae7e-5891-40c4-98ca-80413160b758",
   "metadata": {
    "execution": {
     "iopub.execute_input": "2023-10-19T18:00:41.462771Z",
     "iopub.status.busy": "2023-10-19T18:00:41.462585Z",
     "iopub.status.idle": "2023-10-19T18:00:41.464286Z",
     "shell.execute_reply": "2023-10-19T18:00:41.464122Z"
    },
    "tags": []
   },
   "outputs": [
    {
     "data": {
      "text/plain": [
       "'tn efe'"
      ]
     },
     "execution_count": 84,
     "metadata": {},
     "output_type": "execute_result"
    }
   ],
   "source": [
    "quote[2:20:3]"
   ]
  },
  {
   "cell_type": "markdown",
   "id": "bff08df7-b316-4bc6-90cb-bceb15b10a63",
   "metadata": {},
   "source": [
    "Conversely, just as we could concatenate strings with `+`, we can concatenate lists with `+`:"
   ]
  },
  {
   "cell_type": "code",
   "execution_count": 85,
   "id": "975c5735-3e13-4476-ab52-93580498c726",
   "metadata": {
    "execution": {
     "iopub.execute_input": "2023-10-19T18:00:41.465060Z",
     "iopub.status.busy": "2023-10-19T18:00:41.464993Z",
     "iopub.status.idle": "2023-10-19T18:00:41.466670Z",
     "shell.execute_reply": "2023-10-19T18:00:41.466508Z"
    },
    "tags": []
   },
   "outputs": [
    {
     "data": {
      "text/plain": [
       "[1, 2, 3, 4, 5, 6, 7]"
      ]
     },
     "execution_count": 85,
     "metadata": {},
     "output_type": "execute_result"
    }
   ],
   "source": [
    "[1, 2, 3] + [4, 5, 6, 7]"
   ]
  },
  {
   "cell_type": "markdown",
   "id": "ee0390c3-0ab5-4327-8842-f1b0f35ecec2",
   "metadata": {},
   "source": [
    "The crucial difference is that **we cannot change a string** (like we can change a list).\n",
    "\n",
    "If, for instance, you try\n",
    "\n",
    "```python\n",
    "quote[3] = \"X\"\n",
    "```\n",
    "\n",
    "you get an error."
   ]
  },
  {
   "cell_type": "markdown",
   "id": "e5a9ce34-ccf6-4b72-932a-96eb0b984e34",
   "metadata": {},
   "source": [
    "Finally, if we have a list of strings, we can join them with the *string* method`join`.  (It is not a *list* method.)  The string in question is used to *separate* the strings in the list.  For instance:"
   ]
  },
  {
   "cell_type": "code",
   "execution_count": 86,
   "id": "5344ad39-1f9d-4af0-8b82-f2e2e3ec58bf",
   "metadata": {
    "execution": {
     "iopub.execute_input": "2023-10-19T18:00:41.467480Z",
     "iopub.status.busy": "2023-10-19T18:00:41.467413Z",
     "iopub.status.idle": "2023-10-19T18:00:41.469112Z",
     "shell.execute_reply": "2023-10-19T18:00:41.468946Z"
    },
    "tags": []
   },
   "outputs": [
    {
     "data": {
      "text/plain": [
       "'all you need is love'"
      ]
     },
     "execution_count": 86,
     "metadata": {},
     "output_type": "execute_result"
    }
   ],
   "source": [
    "list_of_strings = [\"all\", \"you\", \"need\", \"is\", \"love\"]\n",
    "\n",
    "\" \".join(list_of_strings)"
   ]
  },
  {
   "cell_type": "code",
   "execution_count": 87,
   "id": "bc5456c8-0309-4934-a601-9a6c94585a92",
   "metadata": {
    "execution": {
     "iopub.execute_input": "2023-10-19T18:00:41.469932Z",
     "iopub.status.busy": "2023-10-19T18:00:41.469817Z",
     "iopub.status.idle": "2023-10-19T18:00:41.471417Z",
     "shell.execute_reply": "2023-10-19T18:00:41.471263Z"
    },
    "tags": []
   },
   "outputs": [
    {
     "data": {
      "text/plain": [
       "'all---you---need---is---love'"
      ]
     },
     "execution_count": 87,
     "metadata": {},
     "output_type": "execute_result"
    }
   ],
   "source": [
    "\"---\".join(list_of_strings)"
   ]
  },
  {
   "cell_type": "code",
   "execution_count": 88,
   "id": "8acfa48c-21b4-4386-8353-93844b89c855",
   "metadata": {
    "execution": {
     "iopub.execute_input": "2023-10-19T18:00:41.472140Z",
     "iopub.status.busy": "2023-10-19T18:00:41.472067Z",
     "iopub.status.idle": "2023-10-19T18:00:41.473663Z",
     "shell.execute_reply": "2023-10-19T18:00:41.473504Z"
    },
    "tags": []
   },
   "outputs": [
    {
     "data": {
      "text/plain": [
       "'allyouneedislove'"
      ]
     },
     "execution_count": 88,
     "metadata": {},
     "output_type": "execute_result"
    }
   ],
   "source": [
    "\"\".join(list_of_strings)"
   ]
  },
  {
   "cell_type": "markdown",
   "id": "d4864839-64d3-452c-9fbc-1019d00f28e6",
   "metadata": {},
   "source": [
    "## Dictionaries\n",
    "\n",
    "*Dictionaries* are used to store data that can be retrieve from a *key*, instead of from position.  (In principle, a dictionary has no order!)  So, to each *key* (which must be unique) we have an associate *value*.\n",
    "\n",
    "You can think of a real dictionary, where you look up definitions for a word.  In this example the keys are the words, and the values are the definitions.\n",
    "\n",
    "In Python's dictionaries we have the key/value pairs surrounded by curly braces `{ }` and separated by commas `,`, and the key/value pairs are separated by a colon `:`.\n",
    "\n",
    "For instance, here is a dictionary with the weekdays in French:"
   ]
  },
  {
   "cell_type": "code",
   "execution_count": 89,
   "id": "671eb171-6ff1-4302-8baf-a1acc2f6d13f",
   "metadata": {
    "execution": {
     "iopub.execute_input": "2023-10-19T18:00:41.474410Z",
     "iopub.status.busy": "2023-10-19T18:00:41.474342Z",
     "iopub.status.idle": "2023-10-19T18:00:41.476116Z",
     "shell.execute_reply": "2023-10-19T18:00:41.475955Z"
    },
    "tags": []
   },
   "outputs": [
    {
     "data": {
      "text/plain": [
       "{'Sunday': 'dimanche',\n",
       " 'Monday': 'lundi',\n",
       " 'Tuesday': 'mardi',\n",
       " 'Wednesday': 'mercredi',\n",
       " 'Thursday': 'jeudi',\n",
       " 'Friday': 'vendredi',\n",
       " 'Saturday': 'samedi'}"
      ]
     },
     "execution_count": 89,
     "metadata": {},
     "output_type": "execute_result"
    }
   ],
   "source": [
    "french_days = {\"Sunday\": \"dimanche\", \"Monday\": \"lundi\", \"Tuesday\": \"mardi\", \n",
    "               \"Wednesday\": \"mercredi\", \"Thursday\": \"jeudi\", \"Friday\": \"vendredi\", \"Saturday\": \"samedi\"}\n",
    "\n",
    "french_days"
   ]
  },
  {
   "cell_type": "markdown",
   "id": "93dec8db-ca1f-4025-a0e6-1c873762735d",
   "metadata": {},
   "source": [
    "(Here the keys are the days in English, and to each key the associate value is the corresponding day in French.)\n",
    "\n",
    "\n",
    "Then, when I want to look up what is Thursday in French, I can do:"
   ]
  },
  {
   "cell_type": "code",
   "execution_count": 90,
   "id": "5ab473f5-52fc-487b-a802-61d6c9849b9d",
   "metadata": {
    "execution": {
     "iopub.execute_input": "2023-10-19T18:00:41.476831Z",
     "iopub.status.busy": "2023-10-19T18:00:41.476767Z",
     "iopub.status.idle": "2023-10-19T18:00:41.478298Z",
     "shell.execute_reply": "2023-10-19T18:00:41.478145Z"
    },
    "tags": []
   },
   "outputs": [
    {
     "data": {
      "text/plain": [
       "'jeudi'"
      ]
     },
     "execution_count": 90,
     "metadata": {},
     "output_type": "execute_result"
    }
   ],
   "source": [
    "french_days[\"Thursday\"]"
   ]
  },
  {
   "cell_type": "markdown",
   "id": "fefc8cd9-a026-41df-9b90-232aa20335ed",
   "metadata": {},
   "source": [
    "As another example, we can have a dictionary that has all the grades (in a list) o students in a course:"
   ]
  },
  {
   "cell_type": "code",
   "execution_count": 91,
   "id": "8772e943-50ee-4dfd-923b-32aa3c93e7d5",
   "metadata": {
    "execution": {
     "iopub.execute_input": "2023-10-19T18:00:41.479016Z",
     "iopub.status.busy": "2023-10-19T18:00:41.478949Z",
     "iopub.status.idle": "2023-10-19T18:00:41.480716Z",
     "shell.execute_reply": "2023-10-19T18:00:41.480542Z"
    },
    "tags": []
   },
   "outputs": [
    {
     "data": {
      "text/plain": [
       "{'Alice': [89, 100, 93], 'Bob': [78, 83, 80], 'Carl': [85, 92, 100]}"
      ]
     },
     "execution_count": 91,
     "metadata": {},
     "output_type": "execute_result"
    }
   ],
   "source": [
    "grades = {\"Alice\": [89, 100, 93], \"Bob\": [78, 83, 80], \"Carl\": [85, 92, 100]}\n",
    "\n",
    "grades"
   ]
  },
  {
   "cell_type": "markdown",
   "id": "12b910a1-e2c7-4e93-b6e7-eac3c7203bf4",
   "metadata": {},
   "source": [
    "To see Bob's grades:"
   ]
  },
  {
   "cell_type": "code",
   "execution_count": 92,
   "id": "a72ec094-bf19-4cfb-bfed-19fcd75ec56a",
   "metadata": {
    "execution": {
     "iopub.execute_input": "2023-10-19T18:00:41.481516Z",
     "iopub.status.busy": "2023-10-19T18:00:41.481400Z",
     "iopub.status.idle": "2023-10-19T18:00:41.482997Z",
     "shell.execute_reply": "2023-10-19T18:00:41.482824Z"
    },
    "tags": []
   },
   "outputs": [
    {
     "data": {
      "text/plain": [
       "[78, 83, 80]"
      ]
     },
     "execution_count": 92,
     "metadata": {},
     "output_type": "execute_result"
    }
   ],
   "source": [
    "grades[\"Bob\"]"
   ]
  },
  {
   "cell_type": "markdown",
   "id": "4ec54a26-747d-4059-b98d-3ed5111c8808",
   "metadata": {},
   "source": [
    "To get the grade of Carl's second exam:"
   ]
  },
  {
   "cell_type": "code",
   "execution_count": 93,
   "id": "4d75fd6c-ee64-4da6-9c90-483a4b24c362",
   "metadata": {
    "execution": {
     "iopub.execute_input": "2023-10-19T18:00:41.483783Z",
     "iopub.status.busy": "2023-10-19T18:00:41.483713Z",
     "iopub.status.idle": "2023-10-19T18:00:41.485265Z",
     "shell.execute_reply": "2023-10-19T18:00:41.485114Z"
    },
    "tags": []
   },
   "outputs": [
    {
     "data": {
      "text/plain": [
       "92"
      ]
     },
     "execution_count": 93,
     "metadata": {},
     "output_type": "execute_result"
    }
   ],
   "source": [
    "grades[\"Carl\"][1]"
   ]
  },
  {
   "cell_type": "markdown",
   "id": "5f68486e-0c9c-467f-9448-11dce7f4b115",
   "metadata": {},
   "source": [
    "We can also add a pair of key/value to a dictionary.  For instance, to enter Denise's grades, we can do:"
   ]
  },
  {
   "cell_type": "code",
   "execution_count": 94,
   "id": "7e03eead-70f0-4a33-a12f-ccc6b35f489f",
   "metadata": {
    "execution": {
     "iopub.execute_input": "2023-10-19T18:00:41.486022Z",
     "iopub.status.busy": "2023-10-19T18:00:41.485950Z",
     "iopub.status.idle": "2023-10-19T18:00:41.487657Z",
     "shell.execute_reply": "2023-10-19T18:00:41.487498Z"
    },
    "tags": []
   },
   "outputs": [
    {
     "data": {
      "text/plain": [
       "{'Alice': [89, 100, 93],\n",
       " 'Bob': [78, 83, 80],\n",
       " 'Carl': [85, 92, 100],\n",
       " 'Denise': [98, 93, 100]}"
      ]
     },
     "execution_count": 94,
     "metadata": {},
     "output_type": "execute_result"
    }
   ],
   "source": [
    "grades[\"Denise\"] = [98, 93, 100]\n",
    "\n",
    "grades"
   ]
  },
  {
   "cell_type": "markdown",
   "id": "65988d6e-8996-4770-84e8-c53d23bf3561",
   "metadata": {},
   "source": [
    "We can also change the values:"
   ]
  },
  {
   "cell_type": "code",
   "execution_count": 95,
   "id": "96597e80-e9b6-45cd-8a46-2c5234fd5be8",
   "metadata": {
    "execution": {
     "iopub.execute_input": "2023-10-19T18:00:41.488570Z",
     "iopub.status.busy": "2023-10-19T18:00:41.488489Z",
     "iopub.status.idle": "2023-10-19T18:00:41.490751Z",
     "shell.execute_reply": "2023-10-19T18:00:41.490476Z"
    },
    "tags": []
   },
   "outputs": [
    {
     "data": {
      "text/plain": [
       "{'Alice': [89, 100, 93],\n",
       " 'Bob': [80, 85, 77],\n",
       " 'Carl': [85, 92, 100],\n",
       " 'Denise': [98, 93, 100]}"
      ]
     },
     "execution_count": 95,
     "metadata": {},
     "output_type": "execute_result"
    }
   ],
   "source": [
    "grades[\"Bob\"] = [80, 85, 77]\n",
    "\n",
    "grades"
   ]
  },
  {
   "cell_type": "markdown",
   "id": "5b2dbaad-f986-4407-a40a-e17c10a728ca",
   "metadata": {},
   "source": [
    "Or, to change a single grade:"
   ]
  },
  {
   "cell_type": "code",
   "execution_count": 96,
   "id": "eafa95f7-70d3-4f18-a253-57c92a928855",
   "metadata": {
    "execution": {
     "iopub.execute_input": "2023-10-19T18:00:41.491632Z",
     "iopub.status.busy": "2023-10-19T18:00:41.491555Z",
     "iopub.status.idle": "2023-10-19T18:00:41.493388Z",
     "shell.execute_reply": "2023-10-19T18:00:41.493203Z"
    },
    "tags": []
   },
   "outputs": [
    {
     "data": {
      "text/plain": [
       "{'Alice': [89, 100, 95],\n",
       " 'Bob': [80, 85, 77],\n",
       " 'Carl': [85, 92, 100],\n",
       " 'Denise': [98, 93, 100]}"
      ]
     },
     "execution_count": 96,
     "metadata": {},
     "output_type": "execute_result"
    }
   ],
   "source": [
    "grades[\"Alice\"][2] = 95\n",
    "\n",
    "grades"
   ]
  },
  {
   "cell_type": "markdown",
   "id": "31b596a7-4035-498e-85b4-fda75fd42f84",
   "metadata": {},
   "source": [
    "We can use `pop` to remove a pair of key/value by passing the corresponding key.  It returns the *value* for the given key and changes the dictionary (by removing the pair):"
   ]
  },
  {
   "cell_type": "code",
   "execution_count": 97,
   "id": "aeb1ec2b-6a5a-4192-93e4-ccce2df0f1a8",
   "metadata": {
    "execution": {
     "iopub.execute_input": "2023-10-19T18:00:41.494367Z",
     "iopub.status.busy": "2023-10-19T18:00:41.494235Z",
     "iopub.status.idle": "2023-10-19T18:00:41.496121Z",
     "shell.execute_reply": "2023-10-19T18:00:41.495909Z"
    },
    "tags": []
   },
   "outputs": [
    {
     "data": {
      "text/plain": [
       "[80, 85, 77]"
      ]
     },
     "execution_count": 97,
     "metadata": {},
     "output_type": "execute_result"
    }
   ],
   "source": [
    "bobs_grades = grades.pop(\"Bob\")\n",
    "\n",
    "bobs_grades"
   ]
  },
  {
   "cell_type": "code",
   "execution_count": 98,
   "id": "771b15c4-386b-42e0-a9c0-0ca3e5f1f9fe",
   "metadata": {
    "execution": {
     "iopub.execute_input": "2023-10-19T18:00:41.497143Z",
     "iopub.status.busy": "2023-10-19T18:00:41.497051Z",
     "iopub.status.idle": "2023-10-19T18:00:41.498950Z",
     "shell.execute_reply": "2023-10-19T18:00:41.498744Z"
    },
    "tags": []
   },
   "outputs": [
    {
     "data": {
      "text/plain": [
       "{'Alice': [89, 100, 95], 'Carl': [85, 92, 100], 'Denise': [98, 93, 100]}"
      ]
     },
     "execution_count": 98,
     "metadata": {},
     "output_type": "execute_result"
    }
   ],
   "source": [
    "grades"
   ]
  },
  {
   "cell_type": "markdown",
   "id": "e8efbc2f-e581-4464-9442-940cad7c11e1",
   "metadata": {},
   "source": [
    "## Conditionals\n",
    "\n",
    "### Booleans\n",
    "\n",
    "Python has two reserved names for true and false: `True` and `False`.  (Note it *must* be capitalized for Python to recognize them as booleans!  `true` and `false` do not work!)\n",
    "\n",
    "For instance:"
   ]
  },
  {
   "cell_type": "code",
   "execution_count": 99,
   "id": "3d0f3a31-b8d1-4fb0-9b4e-180c420d9cc9",
   "metadata": {
    "execution": {
     "iopub.execute_input": "2023-10-19T18:00:41.499997Z",
     "iopub.status.busy": "2023-10-19T18:00:41.499857Z",
     "iopub.status.idle": "2023-10-19T18:00:41.501672Z",
     "shell.execute_reply": "2023-10-19T18:00:41.501474Z"
    },
    "tags": []
   },
   "outputs": [
    {
     "data": {
      "text/plain": [
       "True"
      ]
     },
     "execution_count": 99,
     "metadata": {},
     "output_type": "execute_result"
    }
   ],
   "source": [
    "2 < 3"
   ]
  },
  {
   "cell_type": "code",
   "execution_count": 100,
   "id": "440227b2-2a4f-411d-8219-76885c2e95bf",
   "metadata": {
    "execution": {
     "iopub.execute_input": "2023-10-19T18:00:41.502625Z",
     "iopub.status.busy": "2023-10-19T18:00:41.502538Z",
     "iopub.status.idle": "2023-10-19T18:00:41.504310Z",
     "shell.execute_reply": "2023-10-19T18:00:41.504112Z"
    },
    "tags": []
   },
   "outputs": [
    {
     "data": {
      "text/plain": [
       "False"
      ]
     },
     "execution_count": 100,
     "metadata": {},
     "output_type": "execute_result"
    }
   ],
   "source": [
    "2 > 3"
   ]
  },
  {
   "cell_type": "markdown",
   "id": "4ac40cf3-5f89-4930-a489-4af8282236f3",
   "metadata": {},
   "source": [
    "One can flip their values with `not`:"
   ]
  },
  {
   "cell_type": "code",
   "execution_count": 101,
   "id": "cef92a07-7a61-45c1-a699-da1157e980d6",
   "metadata": {
    "execution": {
     "iopub.execute_input": "2023-10-19T18:00:41.505408Z",
     "iopub.status.busy": "2023-10-19T18:00:41.505220Z",
     "iopub.status.idle": "2023-10-19T18:00:41.507031Z",
     "shell.execute_reply": "2023-10-19T18:00:41.506836Z"
    },
    "tags": []
   },
   "outputs": [
    {
     "data": {
      "text/plain": [
       "False"
      ]
     },
     "execution_count": 101,
     "metadata": {},
     "output_type": "execute_result"
    }
   ],
   "source": [
    "not (2 < 3)"
   ]
  },
  {
   "cell_type": "code",
   "execution_count": 102,
   "id": "850d9865-2b4b-4f4f-a335-d633a60b9d5e",
   "metadata": {
    "execution": {
     "iopub.execute_input": "2023-10-19T18:00:41.507945Z",
     "iopub.status.busy": "2023-10-19T18:00:41.507866Z",
     "iopub.status.idle": "2023-10-19T18:00:41.509565Z",
     "shell.execute_reply": "2023-10-19T18:00:41.509385Z"
    },
    "tags": []
   },
   "outputs": [
    {
     "data": {
      "text/plain": [
       "True"
      ]
     },
     "execution_count": 102,
     "metadata": {},
     "output_type": "execute_result"
    }
   ],
   "source": [
    "not (3 < 2)"
   ]
  },
  {
   "cell_type": "code",
   "execution_count": 103,
   "id": "53cc244e-6ba8-4624-b231-c2f3cac9319d",
   "metadata": {
    "execution": {
     "iopub.execute_input": "2023-10-19T18:00:41.510458Z",
     "iopub.status.busy": "2023-10-19T18:00:41.510335Z",
     "iopub.status.idle": "2023-10-19T18:00:41.512026Z",
     "shell.execute_reply": "2023-10-19T18:00:41.511811Z"
    },
    "tags": []
   },
   "outputs": [
    {
     "data": {
      "text/plain": [
       "False"
      ]
     },
     "execution_count": 103,
     "metadata": {},
     "output_type": "execute_result"
    }
   ],
   "source": [
    "not True"
   ]
  },
  {
   "cell_type": "code",
   "execution_count": 104,
   "id": "ade8f3d3-7b7e-46ef-8b91-5ae0fa3607e9",
   "metadata": {
    "execution": {
     "iopub.execute_input": "2023-10-19T18:00:41.512949Z",
     "iopub.status.busy": "2023-10-19T18:00:41.512866Z",
     "iopub.status.idle": "2023-10-19T18:00:41.515082Z",
     "shell.execute_reply": "2023-10-19T18:00:41.514788Z"
    },
    "tags": []
   },
   "outputs": [
    {
     "data": {
      "text/plain": [
       "True"
      ]
     },
     "execution_count": 104,
     "metadata": {},
     "output_type": "execute_result"
    }
   ],
   "source": [
    "not False"
   ]
  },
  {
   "cell_type": "markdown",
   "id": "ca382204-6548-4acd-a98a-289ac1b0a5d0",
   "metadata": {},
   "source": [
    "These can also be combined with `and` and `or`:"
   ]
  },
  {
   "cell_type": "code",
   "execution_count": 105,
   "id": "11e9a795-88ad-4c1f-b9fe-3d6c318b5722",
   "metadata": {
    "execution": {
     "iopub.execute_input": "2023-10-19T18:00:41.516042Z",
     "iopub.status.busy": "2023-10-19T18:00:41.515959Z",
     "iopub.status.idle": "2023-10-19T18:00:41.518190Z",
     "shell.execute_reply": "2023-10-19T18:00:41.517903Z"
    },
    "tags": []
   },
   "outputs": [
    {
     "data": {
      "text/plain": [
       "True"
      ]
     },
     "execution_count": 105,
     "metadata": {},
     "output_type": "execute_result"
    }
   ],
   "source": [
    "(2 < 3) and (4 < 5)"
   ]
  },
  {
   "cell_type": "code",
   "execution_count": 106,
   "id": "841e7918-2c16-4d32-a599-e246b33c1e8a",
   "metadata": {
    "execution": {
     "iopub.execute_input": "2023-10-19T18:00:41.519088Z",
     "iopub.status.busy": "2023-10-19T18:00:41.519006Z",
     "iopub.status.idle": "2023-10-19T18:00:41.521265Z",
     "shell.execute_reply": "2023-10-19T18:00:41.520973Z"
    },
    "tags": []
   },
   "outputs": [
    {
     "data": {
      "text/plain": [
       "False"
      ]
     },
     "execution_count": 106,
     "metadata": {},
     "output_type": "execute_result"
    }
   ],
   "source": [
    "(2 < 3) and (4 > 5)"
   ]
  },
  {
   "cell_type": "code",
   "execution_count": 107,
   "id": "17f42491-5ac5-49ff-8034-64e6c970543d",
   "metadata": {
    "execution": {
     "iopub.execute_input": "2023-10-19T18:00:41.522194Z",
     "iopub.status.busy": "2023-10-19T18:00:41.522106Z",
     "iopub.status.idle": "2023-10-19T18:00:41.524350Z",
     "shell.execute_reply": "2023-10-19T18:00:41.524054Z"
    },
    "tags": []
   },
   "outputs": [
    {
     "data": {
      "text/plain": [
       "True"
      ]
     },
     "execution_count": 107,
     "metadata": {},
     "output_type": "execute_result"
    }
   ],
   "source": [
    "(2 < 3) or (4 > 5)"
   ]
  },
  {
   "cell_type": "code",
   "execution_count": 108,
   "id": "5f73d03b-7d82-4b23-96e6-34a370f27927",
   "metadata": {
    "execution": {
     "iopub.execute_input": "2023-10-19T18:00:41.525333Z",
     "iopub.status.busy": "2023-10-19T18:00:41.525254Z",
     "iopub.status.idle": "2023-10-19T18:00:41.527429Z",
     "shell.execute_reply": "2023-10-19T18:00:41.527141Z"
    },
    "tags": []
   },
   "outputs": [
    {
     "data": {
      "text/plain": [
       "False"
      ]
     },
     "execution_count": 108,
     "metadata": {},
     "output_type": "execute_result"
    }
   ],
   "source": [
    "(2 > 3) or (4 > 5)"
   ]
  },
  {
   "cell_type": "markdown",
   "id": "bfece2d1-0bde-4b2a-961f-01420cf1242c",
   "metadata": {},
   "source": [
    "Note that `or` is not exclusive (as usually in common language).  In a restaurant, if an entree comes with \"soup or salad\", both is *not* an option.  But in math and computer science, `or` allows both possibilities being true:"
   ]
  },
  {
   "cell_type": "code",
   "execution_count": 109,
   "id": "1357207f-93d0-4b11-bf62-e89d87dd7651",
   "metadata": {
    "execution": {
     "iopub.execute_input": "2023-10-19T18:00:41.528539Z",
     "iopub.status.busy": "2023-10-19T18:00:41.528408Z",
     "iopub.status.idle": "2023-10-19T18:00:41.530781Z",
     "shell.execute_reply": "2023-10-19T18:00:41.530454Z"
    },
    "tags": []
   },
   "outputs": [
    {
     "data": {
      "text/plain": [
       "True"
      ]
     },
     "execution_count": 109,
     "metadata": {},
     "output_type": "execute_result"
    }
   ],
   "source": [
    "(2 < 3) or (4 < 5)"
   ]
  },
  {
   "cell_type": "markdown",
   "id": "3a036269-f98e-47f9-a6e6-b7785423e80b",
   "metadata": {},
   "source": [
    "### Comparisons\n",
    "\n",
    "We have the following comparison operators:\n",
    "\n",
    "| **Operator** | **Description** |\n",
    "|--------------|-----------------|\n",
    "| `==`         | Equality ($=$)  |\n",
    "| `!=`         | Different ($\\neq$) |\n",
    "| `<`          | Less than ($<$) |\n",
    "| `<=`         | Less than or equal to ($\\leq$) |\n",
    "| `>`          | Greater than ($>$) |\n",
    "| `>=`         | Greater than or equal to ($\\geq$) |\n",
    "\n",
    "\n",
    "Note that since we use `=` to assign values to variables, we need `==` for comparisons.  \n",
    "\n",
    "*It's a common mistake to try to use `=` in a comparison, so be careful!*"
   ]
  },
  {
   "cell_type": "markdown",
   "id": "c6c8dbc6-62eb-47cf-978c-f789cdaa5c31",
   "metadata": {},
   "source": [
    "Note that we can use\n",
    "\n",
    "```python\n",
    "2 < 3 <= 4\n",
    "```\n",
    "\n",
    "as a shortcut for\n",
    "\n",
    "```python\n",
    "(2 < 3) and (3 <= 4)\n",
    "```"
   ]
  },
  {
   "cell_type": "code",
   "execution_count": 110,
   "id": "bfef6bec-18f0-466a-aa9a-d3d242635b84",
   "metadata": {
    "execution": {
     "iopub.execute_input": "2023-10-19T18:00:41.532033Z",
     "iopub.status.busy": "2023-10-19T18:00:41.531853Z",
     "iopub.status.idle": "2023-10-19T18:00:41.534695Z",
     "shell.execute_reply": "2023-10-19T18:00:41.534247Z"
    },
    "tags": []
   },
   "outputs": [
    {
     "data": {
      "text/plain": [
       "True"
      ]
     },
     "execution_count": 110,
     "metadata": {},
     "output_type": "execute_result"
    }
   ],
   "source": [
    "2 < 3 <= 4"
   ]
  },
  {
   "cell_type": "code",
   "execution_count": 111,
   "id": "7364a7f5-98a3-4db1-b76e-6db8c3ddcd8f",
   "metadata": {
    "execution": {
     "iopub.execute_input": "2023-10-19T18:00:41.536182Z",
     "iopub.status.busy": "2023-10-19T18:00:41.536044Z",
     "iopub.status.idle": "2023-10-19T18:00:41.539848Z",
     "shell.execute_reply": "2023-10-19T18:00:41.539239Z"
    },
    "tags": []
   },
   "outputs": [
    {
     "data": {
      "text/plain": [
       "False"
      ]
     },
     "execution_count": 111,
     "metadata": {},
     "output_type": "execute_result"
    }
   ],
   "source": [
    "2 < 5 <= 4"
   ]
  },
  {
   "cell_type": "markdown",
   "id": "54b599a7-7f46-4e0a-918d-e198f91e0906",
   "metadata": {},
   "source": [
    "#### String Comparisons\n",
    "\n",
    "Note that these can also be used with other objects, such as strings:"
   ]
  },
  {
   "cell_type": "code",
   "execution_count": 112,
   "id": "9b3b2955-d142-45ce-9197-e67dc1caa3f0",
   "metadata": {
    "execution": {
     "iopub.execute_input": "2023-10-19T18:00:41.541549Z",
     "iopub.status.busy": "2023-10-19T18:00:41.541396Z",
     "iopub.status.idle": "2023-10-19T18:00:41.545053Z",
     "shell.execute_reply": "2023-10-19T18:00:41.544435Z"
    },
    "tags": []
   },
   "outputs": [
    {
     "data": {
      "text/plain": [
       "True"
      ]
     },
     "execution_count": 112,
     "metadata": {},
     "output_type": "execute_result"
    }
   ],
   "source": [
    "\"alice\" == \"alice\""
   ]
  },
  {
   "cell_type": "code",
   "execution_count": 113,
   "id": "3b1a2797-d7f6-42c7-9096-1ec392edc1a6",
   "metadata": {
    "execution": {
     "iopub.execute_input": "2023-10-19T18:00:41.546702Z",
     "iopub.status.busy": "2023-10-19T18:00:41.546553Z",
     "iopub.status.idle": "2023-10-19T18:00:41.550182Z",
     "shell.execute_reply": "2023-10-19T18:00:41.549572Z"
    },
    "tags": []
   },
   "outputs": [
    {
     "data": {
      "text/plain": [
       "False"
      ]
     },
     "execution_count": 113,
     "metadata": {},
     "output_type": "execute_result"
    }
   ],
   "source": [
    "\"alice\" == \"bob\""
   ]
  },
  {
   "cell_type": "markdown",
   "id": "666b972b-60c2-4e76-88c1-71cd0079bf36",
   "metadata": {},
   "source": [
    "It's case sensitive:"
   ]
  },
  {
   "cell_type": "code",
   "execution_count": 114,
   "id": "1b3f35bf-8062-4eb1-b5e5-73dea08f0ef8",
   "metadata": {
    "execution": {
     "iopub.execute_input": "2023-10-19T18:00:41.552155Z",
     "iopub.status.busy": "2023-10-19T18:00:41.551994Z",
     "iopub.status.idle": "2023-10-19T18:00:41.555077Z",
     "shell.execute_reply": "2023-10-19T18:00:41.554634Z"
    },
    "tags": []
   },
   "outputs": [
    {
     "data": {
      "text/plain": [
       "False"
      ]
     },
     "execution_count": 114,
     "metadata": {},
     "output_type": "execute_result"
    }
   ],
   "source": [
    "\"alice\" == \"Alice\""
   ]
  },
  {
   "cell_type": "markdown",
   "id": "25df9096-ca6b-4691-a22e-e363d80e6f3a",
   "metadata": {},
   "source": [
    "The inequalities follow *dictionary order*:"
   ]
  },
  {
   "cell_type": "code",
   "execution_count": 115,
   "id": "caa5eac5-c5ae-4eaa-b097-3e933b9ff89e",
   "metadata": {
    "execution": {
     "iopub.execute_input": "2023-10-19T18:00:41.557461Z",
     "iopub.status.busy": "2023-10-19T18:00:41.557252Z",
     "iopub.status.idle": "2023-10-19T18:00:41.560903Z",
     "shell.execute_reply": "2023-10-19T18:00:41.560429Z"
    },
    "tags": []
   },
   "outputs": [
    {
     "data": {
      "text/plain": [
       "True"
      ]
     },
     "execution_count": 115,
     "metadata": {},
     "output_type": "execute_result"
    }
   ],
   "source": [
    "\"aardvark\" < \"zebra\""
   ]
  },
  {
   "cell_type": "code",
   "execution_count": 116,
   "id": "f51c621a-86a3-40d7-94b5-16057103e6f2",
   "metadata": {
    "execution": {
     "iopub.execute_input": "2023-10-19T18:00:41.563263Z",
     "iopub.status.busy": "2023-10-19T18:00:41.562902Z",
     "iopub.status.idle": "2023-10-19T18:00:41.566322Z",
     "shell.execute_reply": "2023-10-19T18:00:41.565908Z"
    },
    "tags": []
   },
   "outputs": [
    {
     "data": {
      "text/plain": [
       "False"
      ]
     },
     "execution_count": 116,
     "metadata": {},
     "output_type": "execute_result"
    }
   ],
   "source": [
    "\"giraffe\" < \"elephant\""
   ]
  },
  {
   "cell_type": "code",
   "execution_count": 117,
   "id": "ba353884-208e-48e5-95ce-6f218f423dae",
   "metadata": {
    "execution": {
     "iopub.execute_input": "2023-10-19T18:00:41.568288Z",
     "iopub.status.busy": "2023-10-19T18:00:41.568107Z",
     "iopub.status.idle": "2023-10-19T18:00:41.571251Z",
     "shell.execute_reply": "2023-10-19T18:00:41.570872Z"
    },
    "tags": []
   },
   "outputs": [
    {
     "data": {
      "text/plain": [
       "True"
      ]
     },
     "execution_count": 117,
     "metadata": {},
     "output_type": "execute_result"
    }
   ],
   "source": [
    "\"car\" < \"care\""
   ]
  },
  {
   "cell_type": "markdown",
   "id": "2b4ed43d-6640-4565-8f15-dfd3b28d8e84",
   "metadata": {},
   "source": [
    "But note that capital letters come earlier than all lower case letters:"
   ]
  },
  {
   "cell_type": "code",
   "execution_count": 118,
   "id": "7a846763-58f7-4138-8cf4-7761b11d59d2",
   "metadata": {
    "execution": {
     "iopub.execute_input": "2023-10-19T18:00:41.573066Z",
     "iopub.status.busy": "2023-10-19T18:00:41.572908Z",
     "iopub.status.idle": "2023-10-19T18:00:41.575764Z",
     "shell.execute_reply": "2023-10-19T18:00:41.575382Z"
    },
    "tags": []
   },
   "outputs": [
    {
     "data": {
      "text/plain": [
       "True"
      ]
     },
     "execution_count": 118,
     "metadata": {},
     "output_type": "execute_result"
    }
   ],
   "source": [
    "\"Z\" < \"a\""
   ]
  },
  {
   "cell_type": "code",
   "execution_count": 119,
   "id": "8b05994e-d69a-4690-94a4-5da82e56ce8b",
   "metadata": {
    "execution": {
     "iopub.execute_input": "2023-10-19T18:00:41.577584Z",
     "iopub.status.busy": "2023-10-19T18:00:41.577356Z",
     "iopub.status.idle": "2023-10-19T18:00:41.580094Z",
     "shell.execute_reply": "2023-10-19T18:00:41.579771Z"
    },
    "tags": []
   },
   "outputs": [
    {
     "data": {
      "text/plain": [
       "False"
      ]
     },
     "execution_count": 119,
     "metadata": {},
     "output_type": "execute_result"
    }
   ],
   "source": [
    "\"aardvark\" < \"Zebra\""
   ]
  },
  {
   "cell_type": "markdown",
   "id": "d1c14a15-a65f-4cc5-8fde-e06babddc22e",
   "metadata": {},
   "source": [
    "### Methods that Return Booleans\n",
    "\n",
    "We have functions/methods that return booleans.\n",
    "\n",
    "For instance, to test if a string is made of lower case letters:"
   ]
  },
  {
   "cell_type": "code",
   "execution_count": 120,
   "id": "fc14f1b2-c74d-4cef-b21a-5cf1fc699923",
   "metadata": {
    "execution": {
     "iopub.execute_input": "2023-10-19T18:00:41.581749Z",
     "iopub.status.busy": "2023-10-19T18:00:41.581528Z",
     "iopub.status.idle": "2023-10-19T18:00:41.584161Z",
     "shell.execute_reply": "2023-10-19T18:00:41.583864Z"
    },
    "tags": []
   },
   "outputs": [
    {
     "data": {
      "text/plain": [
       "True"
      ]
     },
     "execution_count": 120,
     "metadata": {},
     "output_type": "execute_result"
    }
   ],
   "source": [
    "test_string = \"abc\"\n",
    "\n",
    "test_string.islower()"
   ]
  },
  {
   "cell_type": "code",
   "execution_count": 121,
   "id": "45cdbf7c-ab4f-4b0b-b378-69a6f6c3710d",
   "metadata": {
    "execution": {
     "iopub.execute_input": "2023-10-19T18:00:41.585598Z",
     "iopub.status.busy": "2023-10-19T18:00:41.585463Z",
     "iopub.status.idle": "2023-10-19T18:00:41.587924Z",
     "shell.execute_reply": "2023-10-19T18:00:41.587660Z"
    },
    "tags": []
   },
   "outputs": [
    {
     "data": {
      "text/plain": [
       "False"
      ]
     },
     "execution_count": 121,
     "metadata": {},
     "output_type": "execute_result"
    }
   ],
   "source": [
    "test_string = \"aBc\"\n",
    "\n",
    "test_string.islower()"
   ]
  },
  {
   "cell_type": "code",
   "execution_count": 122,
   "id": "c60b6473-133d-45b6-92cb-f9cc4f291dbc",
   "metadata": {
    "execution": {
     "iopub.execute_input": "2023-10-19T18:00:41.589241Z",
     "iopub.status.busy": "2023-10-19T18:00:41.589092Z",
     "iopub.status.idle": "2023-10-19T18:00:41.591565Z",
     "shell.execute_reply": "2023-10-19T18:00:41.591286Z"
    },
    "tags": []
   },
   "outputs": [
    {
     "data": {
      "text/plain": [
       "True"
      ]
     },
     "execution_count": 122,
     "metadata": {},
     "output_type": "execute_result"
    }
   ],
   "source": [
    "test_string = \"abc1\"\n",
    "\n",
    "test_string.islower()"
   ]
  },
  {
   "cell_type": "markdown",
   "id": "7845c2b2-0194-4e35-ae36-9fc6865f180f",
   "metadata": {},
   "source": [
    "Here some other methods for strings:\n",
    "\n",
    "| **Method** | **Description** |\n",
    "|------------|-----------------|\n",
    "| `is.lower` | Checks if all letters are lower case |\n",
    "| `is.upper` | Checks if all letters are upper case |\n",
    "| `is.alnum` | Checks if all characters are letters and numbers |\n",
    "| `is.alpha` | Checks if all characters are letters |\n",
    "| `is.numeric` | Checks if all characters are numbers |\n"
   ]
  },
  {
   "cell_type": "markdown",
   "id": "9e3cb96b-a2c2-4a49-b929-c0bfdba120cd",
   "metadata": {},
   "source": [
    "### Membership\n",
    "\n",
    "We can test for membership with the keywords `in`:"
   ]
  },
  {
   "cell_type": "code",
   "execution_count": 123,
   "id": "fa37ca1e-91f9-42ec-8d63-c7c2d62e47f5",
   "metadata": {
    "execution": {
     "iopub.execute_input": "2023-10-19T18:00:41.593123Z",
     "iopub.status.busy": "2023-10-19T18:00:41.592989Z",
     "iopub.status.idle": "2023-10-19T18:00:41.595719Z",
     "shell.execute_reply": "2023-10-19T18:00:41.595418Z"
    },
    "tags": []
   },
   "outputs": [
    {
     "data": {
      "text/plain": [
       "True"
      ]
     },
     "execution_count": 123,
     "metadata": {},
     "output_type": "execute_result"
    }
   ],
   "source": [
    "2 in [1, 2, 3]"
   ]
  },
  {
   "cell_type": "code",
   "execution_count": 124,
   "id": "c913796a-1c66-41b5-a666-ceb4b355c369",
   "metadata": {
    "execution": {
     "iopub.execute_input": "2023-10-19T18:00:41.597140Z",
     "iopub.status.busy": "2023-10-19T18:00:41.597018Z",
     "iopub.status.idle": "2023-10-19T18:00:41.599522Z",
     "shell.execute_reply": "2023-10-19T18:00:41.599232Z"
    },
    "tags": []
   },
   "outputs": [
    {
     "data": {
      "text/plain": [
       "False"
      ]
     },
     "execution_count": 124,
     "metadata": {},
     "output_type": "execute_result"
    }
   ],
   "source": [
    "5 in [1, 2, 3]"
   ]
  },
  {
   "cell_type": "code",
   "execution_count": 125,
   "id": "0012680b-1232-4f76-ba48-bddf8a2eb74b",
   "metadata": {
    "execution": {
     "iopub.execute_input": "2023-10-19T18:00:41.600916Z",
     "iopub.status.busy": "2023-10-19T18:00:41.600719Z",
     "iopub.status.idle": "2023-10-19T18:00:41.603139Z",
     "shell.execute_reply": "2023-10-19T18:00:41.602867Z"
    },
    "tags": []
   },
   "outputs": [
    {
     "data": {
      "text/plain": [
       "False"
      ]
     },
     "execution_count": 125,
     "metadata": {},
     "output_type": "execute_result"
    }
   ],
   "source": [
    "1 in [0, [1, 2, 3], 4]"
   ]
  },
  {
   "cell_type": "code",
   "execution_count": 126,
   "id": "4a21dc98-b519-4738-806b-9429e86c9030",
   "metadata": {
    "execution": {
     "iopub.execute_input": "2023-10-19T18:00:41.604506Z",
     "iopub.status.busy": "2023-10-19T18:00:41.604283Z",
     "iopub.status.idle": "2023-10-19T18:00:41.606624Z",
     "shell.execute_reply": "2023-10-19T18:00:41.606365Z"
    },
    "tags": []
   },
   "outputs": [
    {
     "data": {
      "text/plain": [
       "True"
      ]
     },
     "execution_count": 126,
     "metadata": {},
     "output_type": "execute_result"
    }
   ],
   "source": [
    "[1, 2, 3] in [0, [1, 2, 3], 4]"
   ]
  },
  {
   "cell_type": "markdown",
   "id": "d937e18a-1265-4f9a-a6cb-569b14091420",
   "metadata": {},
   "source": [
    "It also work for strings:"
   ]
  },
  {
   "cell_type": "code",
   "execution_count": 127,
   "id": "af21ed8a-0a9f-4e38-a566-6ab1fef2be69",
   "metadata": {
    "execution": {
     "iopub.execute_input": "2023-10-19T18:00:41.607805Z",
     "iopub.status.busy": "2023-10-19T18:00:41.607703Z",
     "iopub.status.idle": "2023-10-19T18:00:41.609696Z",
     "shell.execute_reply": "2023-10-19T18:00:41.609467Z"
    },
    "tags": []
   },
   "outputs": [
    {
     "data": {
      "text/plain": [
       "True"
      ]
     },
     "execution_count": 127,
     "metadata": {},
     "output_type": "execute_result"
    }
   ],
   "source": [
    "\"vi\" in \"evil\""
   ]
  },
  {
   "cell_type": "code",
   "execution_count": 128,
   "id": "9dfd9c82-faba-4c2f-83fb-27e21b06bf59",
   "metadata": {
    "execution": {
     "iopub.execute_input": "2023-10-19T18:00:41.610915Z",
     "iopub.status.busy": "2023-10-19T18:00:41.610719Z",
     "iopub.status.idle": "2023-10-19T18:00:41.612746Z",
     "shell.execute_reply": "2023-10-19T18:00:41.612524Z"
    },
    "tags": []
   },
   "outputs": [
    {
     "data": {
      "text/plain": [
       "False"
      ]
     },
     "execution_count": 128,
     "metadata": {},
     "output_type": "execute_result"
    }
   ],
   "source": [
    "\"vim\" in \"evil\""
   ]
  },
  {
   "cell_type": "markdown",
   "id": "b99b0f68-6189-48fa-b6ea-d6eea51f4bb7",
   "metadata": {},
   "source": [
    "Note the the character must appear together:"
   ]
  },
  {
   "cell_type": "code",
   "execution_count": 129,
   "id": "82ec2154-e8aa-4228-8728-ab522f6ed60d",
   "metadata": {
    "execution": {
     "iopub.execute_input": "2023-10-19T18:00:41.613756Z",
     "iopub.status.busy": "2023-10-19T18:00:41.613656Z",
     "iopub.status.idle": "2023-10-19T18:00:41.615600Z",
     "shell.execute_reply": "2023-10-19T18:00:41.615377Z"
    },
    "tags": []
   },
   "outputs": [
    {
     "data": {
      "text/plain": [
       "False"
      ]
     },
     "execution_count": 129,
     "metadata": {},
     "output_type": "execute_result"
    }
   ],
   "source": [
    "\"abc\" in \"axbxc\" "
   ]
  },
  {
   "cell_type": "markdown",
   "id": "8e29d9cc-fd06-42d7-9670-6c5f32011a5f",
   "metadata": {},
   "source": [
    "We can also write `not in`.  So\n",
    "\n",
    "```python\n",
    "\"vim\" not in \"evil\"\n",
    "```\n",
    "\n",
    "is the same as \n",
    "\n",
    "```python\n",
    "not \"vim\" in \"evil\"\n",
    "```"
   ]
  },
  {
   "cell_type": "code",
   "execution_count": 130,
   "id": "77a09305-89da-4fef-bbc1-2120ca1725c0",
   "metadata": {
    "execution": {
     "iopub.execute_input": "2023-10-19T18:00:41.616680Z",
     "iopub.status.busy": "2023-10-19T18:00:41.616553Z",
     "iopub.status.idle": "2023-10-19T18:00:41.618427Z",
     "shell.execute_reply": "2023-10-19T18:00:41.618217Z"
    },
    "tags": []
   },
   "outputs": [
    {
     "data": {
      "text/plain": [
       "True"
      ]
     },
     "execution_count": 130,
     "metadata": {},
     "output_type": "execute_result"
    }
   ],
   "source": [
    "\"vim\" not in \"evil\""
   ]
  },
  {
   "cell_type": "markdown",
   "id": "c58c06d1-7306-41de-bdf1-e47bbe5299b1",
   "metadata": {},
   "source": [
    "## if-Statements\n",
    "\n",
    "We can use conditionals to decide what code to run using *if-statements*:"
   ]
  },
  {
   "cell_type": "code",
   "execution_count": 131,
   "id": "f0edb9a7-f45d-43f8-bd9b-f169fb243e1f",
   "metadata": {
    "execution": {
     "iopub.execute_input": "2023-10-19T18:00:41.619460Z",
     "iopub.status.busy": "2023-10-19T18:00:41.619368Z",
     "iopub.status.idle": "2023-10-19T18:00:41.621224Z",
     "shell.execute_reply": "2023-10-19T18:00:41.620958Z"
    },
    "tags": []
   },
   "outputs": [
    {
     "name": "stdout",
     "output_type": "stream",
     "text": [
      "Water will boil.\n"
     ]
    }
   ],
   "source": [
    "water_temp = 110  # in Celsius\n",
    "\n",
    "if water_temp >= 100:\n",
    "    print(\"Water will boil.\")"
   ]
  },
  {
   "cell_type": "code",
   "execution_count": 132,
   "id": "b15a1422-3232-4611-97d3-64aa43cd8826",
   "metadata": {
    "execution": {
     "iopub.execute_input": "2023-10-19T18:00:41.622462Z",
     "iopub.status.busy": "2023-10-19T18:00:41.622266Z",
     "iopub.status.idle": "2023-10-19T18:00:41.624103Z",
     "shell.execute_reply": "2023-10-19T18:00:41.623840Z"
    },
    "tags": []
   },
   "outputs": [],
   "source": [
    "water_temp = 80  # in Celsius\n",
    "\n",
    "if water_temp >= 100:\n",
    "    print(\"Water will boil.\")"
   ]
  },
  {
   "cell_type": "markdown",
   "id": "b9c8a833-2bad-4b67-b2bd-25cffb8528e5",
   "metadata": {},
   "source": [
    "The syntax is:\n",
    "\n",
    "```\n",
    "if <condition>:\n",
    "    <code to run if condition is true>\n",
    "```"
   ]
  },
  {
   "cell_type": "markdown",
   "id": "a1bd4e62-7b35-4651-ad7d-2397e7a6d2a2",
   "metadata": {},
   "source": [
    "Note the indentation: all code that is indented will run when the condition is true!"
   ]
  },
  {
   "cell_type": "code",
   "execution_count": 133,
   "id": "4d0affb1-831b-40b4-a748-344fc207e56d",
   "metadata": {
    "execution": {
     "iopub.execute_input": "2023-10-19T18:00:41.625479Z",
     "iopub.status.busy": "2023-10-19T18:00:41.625215Z",
     "iopub.status.idle": "2023-10-19T18:00:41.627299Z",
     "shell.execute_reply": "2023-10-19T18:00:41.627036Z"
    },
    "tags": []
   },
   "outputs": [
    {
     "name": "stdout",
     "output_type": "stream",
     "text": [
      "Water will boil.\n",
      "(Temperature above 100.)\n"
     ]
    }
   ],
   "source": [
    "water_temp = 110  # in Celsius\n",
    "\n",
    "if water_temp >= 100:\n",
    "    print(\"Water will boil.\")\n",
    "    print(\"(Temperature above 100.)\")"
   ]
  },
  {
   "cell_type": "code",
   "execution_count": 134,
   "id": "e8069832-98f6-4d5d-935e-16057bba44e5",
   "metadata": {
    "execution": {
     "iopub.execute_input": "2023-10-19T18:00:41.628532Z",
     "iopub.status.busy": "2023-10-19T18:00:41.628347Z",
     "iopub.status.idle": "2023-10-19T18:00:41.630320Z",
     "shell.execute_reply": "2023-10-19T18:00:41.630074Z"
    },
    "tags": []
   },
   "outputs": [
    {
     "name": "stdout",
     "output_type": "stream",
     "text": [
      "Non-indented code does not depend on the condition!\n"
     ]
    }
   ],
   "source": [
    "water_temp = 80  # in Celsius\n",
    "\n",
    "if water_temp >= 100:\n",
    "    print(\"Water will boil.\")\n",
    "print(\"Non-indented code does not depend on the condition!\")"
   ]
  },
  {
   "cell_type": "markdown",
   "id": "a02afc4c-df69-46e6-bd35-16997193d9ac",
   "metadata": {},
   "source": [
    "We can add an `else` statement for code we want to run *only when the condition is false*:"
   ]
  },
  {
   "cell_type": "code",
   "execution_count": 135,
   "id": "baef5310-9abd-4424-be0a-b900efe5c732",
   "metadata": {
    "execution": {
     "iopub.execute_input": "2023-10-19T18:00:41.631548Z",
     "iopub.status.busy": "2023-10-19T18:00:41.631366Z",
     "iopub.status.idle": "2023-10-19T18:00:41.633329Z",
     "shell.execute_reply": "2023-10-19T18:00:41.633086Z"
    },
    "tags": []
   },
   "outputs": [
    {
     "name": "stdout",
     "output_type": "stream",
     "text": [
      "Water will boil.\n",
      "This will always be printed.\n"
     ]
    }
   ],
   "source": [
    "water_temp = 110  # in Celsius\n",
    "\n",
    "if water_temp >= 100:\n",
    "    print(\"Water will boil.\")\n",
    "else:\n",
    "    print(\"Water will not boil.\")\n",
    "\n",
    "print(\"This will always be printed.\")"
   ]
  },
  {
   "cell_type": "code",
   "execution_count": 136,
   "id": "efbf49ad-4037-4b50-8057-0ea9fbebf707",
   "metadata": {
    "execution": {
     "iopub.execute_input": "2023-10-19T18:00:41.634357Z",
     "iopub.status.busy": "2023-10-19T18:00:41.634265Z",
     "iopub.status.idle": "2023-10-19T18:00:41.636148Z",
     "shell.execute_reply": "2023-10-19T18:00:41.635911Z"
    },
    "tags": []
   },
   "outputs": [
    {
     "name": "stdout",
     "output_type": "stream",
     "text": [
      "Water will not boil.\n",
      "This will always be printed.\n"
     ]
    }
   ],
   "source": [
    "water_temp = 80  # in Celsius\n",
    "\n",
    "if water_temp >= 100:\n",
    "    print(\"Water will boil.\")\n",
    "else:\n",
    "    print(\"Water will not boil.\")\n",
    "\n",
    "print(\"This will always be printed.\")"
   ]
  },
  {
   "cell_type": "markdown",
   "id": "3f79b581-ff22-47cc-a3bc-da5fb74943f4",
   "metadata": {},
   "source": [
    "We can add more conditions with `elif`, which stands for *else if*.  \n",
    "\n",
    "For instance, if we want to check if the water will freeze:"
   ]
  },
  {
   "cell_type": "code",
   "execution_count": 137,
   "id": "5cb0794a-879a-4d7b-8f31-fba0d75d7e03",
   "metadata": {
    "execution": {
     "iopub.execute_input": "2023-10-19T18:00:41.637263Z",
     "iopub.status.busy": "2023-10-19T18:00:41.637089Z",
     "iopub.status.idle": "2023-10-19T18:00:41.638920Z",
     "shell.execute_reply": "2023-10-19T18:00:41.638688Z"
    },
    "tags": []
   },
   "outputs": [
    {
     "name": "stdout",
     "output_type": "stream",
     "text": [
      "Water will boil.\n"
     ]
    }
   ],
   "source": [
    "water_temp = 110  # in Celsius\n",
    "\n",
    "if water_temp >= 100:\n",
    "    print(\"Water will boil.\")\n",
    "elif water_temp <= 0:\n",
    "    print(\"Water will freeze.\")"
   ]
  },
  {
   "cell_type": "code",
   "execution_count": 138,
   "id": "c1ffdfdf-06a9-444f-a8f7-8822634b905b",
   "metadata": {
    "execution": {
     "iopub.execute_input": "2023-10-19T18:00:41.639929Z",
     "iopub.status.busy": "2023-10-19T18:00:41.639840Z",
     "iopub.status.idle": "2023-10-19T18:00:41.641567Z",
     "shell.execute_reply": "2023-10-19T18:00:41.641347Z"
    },
    "tags": []
   },
   "outputs": [
    {
     "name": "stdout",
     "output_type": "stream",
     "text": [
      "Water will freeze.\n"
     ]
    }
   ],
   "source": [
    "water_temp = -5  # in Celsius\n",
    "\n",
    "if water_temp >= 100:\n",
    "    print(\"Water will boil.\")\n",
    "elif water_temp <= 0:\n",
    "    print(\"Water will freeze.\")"
   ]
  },
  {
   "cell_type": "code",
   "execution_count": 139,
   "id": "6698e9c0-21f9-4025-ae8f-77c0565c897a",
   "metadata": {
    "execution": {
     "iopub.execute_input": "2023-10-19T18:00:41.642566Z",
     "iopub.status.busy": "2023-10-19T18:00:41.642482Z",
     "iopub.status.idle": "2023-10-19T18:00:41.644045Z",
     "shell.execute_reply": "2023-10-19T18:00:41.643838Z"
    },
    "tags": []
   },
   "outputs": [],
   "source": [
    "water_temp = 50  # in Celsius\n",
    "\n",
    "if water_temp >= 100:\n",
    "    print(\"Water will boil.\")\n",
    "elif water_temp <= 0:\n",
    "    print(\"Water will freeze.\")"
   ]
  },
  {
   "cell_type": "markdown",
   "id": "f4a683a3-ddcd-4822-aac8-d79b285c9d3d",
   "metadata": {},
   "source": [
    "Note that if we have overlapping conditions, only the *first* to be met runs!"
   ]
  },
  {
   "cell_type": "code",
   "execution_count": 140,
   "id": "864629a3-5ced-41e7-b3ad-ff6331c4c716",
   "metadata": {
    "execution": {
     "iopub.execute_input": "2023-10-19T18:00:41.644985Z",
     "iopub.status.busy": "2023-10-19T18:00:41.644898Z",
     "iopub.status.idle": "2023-10-19T18:00:41.646553Z",
     "shell.execute_reply": "2023-10-19T18:00:41.646347Z"
    },
    "tags": []
   },
   "outputs": [
    {
     "name": "stdout",
     "output_type": "stream",
     "text": [
      "First condition met.\n"
     ]
    }
   ],
   "source": [
    "number = 70\n",
    "\n",
    "if number > 50:\n",
    "    print(\"First condition met.\")\n",
    "elif number > 30:\n",
    "    print(\"Second condition met, but not first\")"
   ]
  },
  {
   "cell_type": "code",
   "execution_count": 141,
   "id": "1258b10d-7cfb-483d-a13b-321fc297c9f8",
   "metadata": {
    "execution": {
     "iopub.execute_input": "2023-10-19T18:00:41.647492Z",
     "iopub.status.busy": "2023-10-19T18:00:41.647363Z",
     "iopub.status.idle": "2023-10-19T18:00:41.649024Z",
     "shell.execute_reply": "2023-10-19T18:00:41.648821Z"
    },
    "tags": []
   },
   "outputs": [
    {
     "name": "stdout",
     "output_type": "stream",
     "text": [
      "Second condition met, but not first\n"
     ]
    }
   ],
   "source": [
    "number = 40\n",
    "\n",
    "if number > 50:\n",
    "    print(\"First condition met.\")\n",
    "elif number > 30:\n",
    "    print(\"Second condition met, but not first\")"
   ]
  },
  {
   "cell_type": "code",
   "execution_count": 142,
   "id": "d77a8056-231c-4fe5-8d1b-40e551132952",
   "metadata": {
    "execution": {
     "iopub.execute_input": "2023-10-19T18:00:41.649913Z",
     "iopub.status.busy": "2023-10-19T18:00:41.649832Z",
     "iopub.status.idle": "2023-10-19T18:00:41.651333Z",
     "shell.execute_reply": "2023-10-19T18:00:41.651151Z"
    },
    "tags": []
   },
   "outputs": [],
   "source": [
    "number = 20\n",
    "\n",
    "if number > 50:\n",
    "    print(\"First condition met.\")\n",
    "elif number > 30:\n",
    "    print(\"Second condition met, but not first\")"
   ]
  },
  {
   "cell_type": "markdown",
   "id": "b2f82e3d-9174-4d53-b188-898ae6a036c6",
   "metadata": {},
   "source": [
    "We can add an `else` at the end, which will run when all conditions above it (from `if` an `elif`'s) are false:"
   ]
  },
  {
   "cell_type": "code",
   "execution_count": 143,
   "id": "ccf90833-f69f-4783-a082-5cbd2d5d5d01",
   "metadata": {
    "execution": {
     "iopub.execute_input": "2023-10-19T18:00:41.652227Z",
     "iopub.status.busy": "2023-10-19T18:00:41.652101Z",
     "iopub.status.idle": "2023-10-19T18:00:41.653774Z",
     "shell.execute_reply": "2023-10-19T18:00:41.653586Z"
    },
    "tags": []
   },
   "outputs": [
    {
     "name": "stdout",
     "output_type": "stream",
     "text": [
      "Water will boil.\n"
     ]
    }
   ],
   "source": [
    "water_temp = 110  # in Celsius\n",
    "\n",
    "if water_temp >= 100:\n",
    "    print(\"Water will boil.\")\n",
    "elif water_temp <= 0:\n",
    "    print(\"Water will freeze.\")\n",
    "else:\n",
    "    print(\"Water will neither boil, nor freeze.\")"
   ]
  },
  {
   "cell_type": "code",
   "execution_count": 144,
   "id": "27200358-ce71-470e-af3b-20c29e73d73f",
   "metadata": {
    "execution": {
     "iopub.execute_input": "2023-10-19T18:00:41.654661Z",
     "iopub.status.busy": "2023-10-19T18:00:41.654575Z",
     "iopub.status.idle": "2023-10-19T18:00:41.656525Z",
     "shell.execute_reply": "2023-10-19T18:00:41.656328Z"
    },
    "tags": []
   },
   "outputs": [
    {
     "name": "stdout",
     "output_type": "stream",
     "text": [
      "Water will freeze.\n"
     ]
    }
   ],
   "source": [
    "water_temp = -5  # in Celsius\n",
    "\n",
    "if water_temp >= 100:\n",
    "    print(\"Water will boil.\")\n",
    "elif water_temp <= 0:\n",
    "    print(\"Water will freeze.\")\n",
    "else:\n",
    "    print(\"Water will neither boil, nor freeze.\")"
   ]
  },
  {
   "cell_type": "code",
   "execution_count": 145,
   "id": "fd8458ff-f542-4c4f-8cb7-6fef04af589d",
   "metadata": {
    "execution": {
     "iopub.execute_input": "2023-10-19T18:00:41.657426Z",
     "iopub.status.busy": "2023-10-19T18:00:41.657345Z",
     "iopub.status.idle": "2023-10-19T18:00:41.659026Z",
     "shell.execute_reply": "2023-10-19T18:00:41.658831Z"
    },
    "tags": []
   },
   "outputs": [
    {
     "name": "stdout",
     "output_type": "stream",
     "text": [
      "Water will neither boil, nor freeze.\n"
     ]
    }
   ],
   "source": [
    "water_temp = 40  # in Celsius\n",
    "\n",
    "if water_temp >= 100:\n",
    "    print(\"Water will boil.\")\n",
    "elif water_temp <= 0:\n",
    "    print(\"Water will freeze.\")\n",
    "else:\n",
    "    print(\"Water will neither boil, nor freeze.\")"
   ]
  },
  {
   "cell_type": "markdown",
   "id": "e77a19f5-bd71-441a-afc7-e11336b8865c",
   "metadata": {},
   "source": [
    "We can have as many `elif`'s as we need:"
   ]
  },
  {
   "cell_type": "code",
   "execution_count": 146,
   "id": "2ab37a23-0a12-4896-831a-efa12bd2e9e9",
   "metadata": {
    "execution": {
     "iopub.execute_input": "2023-10-19T18:00:41.659912Z",
     "iopub.status.busy": "2023-10-19T18:00:41.659837Z",
     "iopub.status.idle": "2023-10-19T18:00:41.661614Z",
     "shell.execute_reply": "2023-10-19T18:00:41.661421Z"
    },
    "tags": []
   },
   "outputs": [
    {
     "name": "stdout",
     "output_type": "stream",
     "text": [
      "Water will boil.\n"
     ]
    }
   ],
   "source": [
    "water_temp = 110  # in Celsius\n",
    "\n",
    "if water_temp >= 100:\n",
    "    print(\"Water will boil.\")\n",
    "elif water_temp >= 90:\n",
    "    print(\"Water is close to boiling!\")\n",
    "elif 0 < water_temp <= 10:\n",
    "    print(\"Water is close to freezing!\")\n",
    "elif water_temp <= 0:\n",
    "    print(\"Water will freeze.\")\n",
    "else:\n",
    "    print(\"Water will neither boil, nor freeze, nor it is close to either.\")"
   ]
  },
  {
   "cell_type": "code",
   "execution_count": 147,
   "id": "9f4dbb1c-59f5-4f81-9acf-2994f0309f43",
   "metadata": {
    "execution": {
     "iopub.execute_input": "2023-10-19T18:00:41.662479Z",
     "iopub.status.busy": "2023-10-19T18:00:41.662399Z",
     "iopub.status.idle": "2023-10-19T18:00:41.664164Z",
     "shell.execute_reply": "2023-10-19T18:00:41.663982Z"
    },
    "tags": []
   },
   "outputs": [
    {
     "name": "stdout",
     "output_type": "stream",
     "text": [
      "Water is close to boiling!\n"
     ]
    }
   ],
   "source": [
    "water_temp = 90  # in Celsius\n",
    "\n",
    "if water_temp >= 100:\n",
    "    print(\"Water will boil.\")\n",
    "elif water_temp >= 90:\n",
    "    print(\"Water is close to boiling!\")\n",
    "elif 0 < water_temp <= 10:\n",
    "    print(\"Water is close to freezing!\")\n",
    "elif water_temp <= 0:\n",
    "    print(\"Water will freeze.\")\n",
    "else:\n",
    "    print(\"Water will neither boil, nor freeze, nor it is close to either.\")"
   ]
  },
  {
   "cell_type": "code",
   "execution_count": 148,
   "id": "7c8c657d-0346-4b1f-9eac-edd03882f0ac",
   "metadata": {
    "execution": {
     "iopub.execute_input": "2023-10-19T18:00:41.664966Z",
     "iopub.status.busy": "2023-10-19T18:00:41.664889Z",
     "iopub.status.idle": "2023-10-19T18:00:41.666672Z",
     "shell.execute_reply": "2023-10-19T18:00:41.666484Z"
    },
    "tags": []
   },
   "outputs": [
    {
     "name": "stdout",
     "output_type": "stream",
     "text": [
      "Water will neither boil, nor freeze, nor it is close to either.\n"
     ]
    }
   ],
   "source": [
    "water_temp = 40  # in Celsius\n",
    "\n",
    "if water_temp >= 100:\n",
    "    print(\"Water will boil.\")\n",
    "elif water_temp >= 90:\n",
    "    print(\"Water is close to boiling!\")\n",
    "elif 0 < water_temp <= 10:\n",
    "    print(\"Water is close to freezing!\")\n",
    "elif water_temp <= 0:\n",
    "    print(\"Water will freeze.\")\n",
    "else:\n",
    "    print(\"Water will neither boil, nor freeze, nor it is close to either.\")"
   ]
  },
  {
   "cell_type": "code",
   "execution_count": 149,
   "id": "0d0758fd-d2c3-410a-8b97-d28a13a2b885",
   "metadata": {
    "execution": {
     "iopub.execute_input": "2023-10-19T18:00:41.667508Z",
     "iopub.status.busy": "2023-10-19T18:00:41.667430Z",
     "iopub.status.idle": "2023-10-19T18:00:41.669169Z",
     "shell.execute_reply": "2023-10-19T18:00:41.668982Z"
    },
    "tags": []
   },
   "outputs": [
    {
     "name": "stdout",
     "output_type": "stream",
     "text": [
      "Water is close to freezing!\n"
     ]
    }
   ],
   "source": [
    "water_temp = 3  # in Celsius\n",
    "\n",
    "if water_temp >= 100:\n",
    "    print(\"Water will boil.\")\n",
    "elif water_temp >= 90:\n",
    "    print(\"Water is close to boiling!\")\n",
    "elif 0 < water_temp <= 10:\n",
    "    print(\"Water is close to freezing!\")\n",
    "elif water_temp <= 0:\n",
    "    print(\"Water will freeze.\")\n",
    "else:\n",
    "    print(\"Water will neither boil, nor freeze, nor it is close to either.\")"
   ]
  },
  {
   "cell_type": "code",
   "execution_count": 150,
   "id": "a037e5dc-7c24-41b1-88c3-c1aaf61a07c9",
   "metadata": {
    "execution": {
     "iopub.execute_input": "2023-10-19T18:00:41.669991Z",
     "iopub.status.busy": "2023-10-19T18:00:41.669914Z",
     "iopub.status.idle": "2023-10-19T18:00:41.671670Z",
     "shell.execute_reply": "2023-10-19T18:00:41.671485Z"
    },
    "tags": []
   },
   "outputs": [
    {
     "name": "stdout",
     "output_type": "stream",
     "text": [
      "Water will freeze.\n"
     ]
    }
   ],
   "source": [
    "water_temp = -5  # in Celsius\n",
    "\n",
    "if water_temp >= 100:\n",
    "    print(\"Water will boil.\")\n",
    "elif water_temp >= 90:\n",
    "    print(\"Water is close to boiling!\")\n",
    "elif 0 < water_temp <= 10:\n",
    "    print(\"Water is close to freezing!\")\n",
    "elif water_temp <= 0:\n",
    "    print(\"Water will freeze.\")\n",
    "else:\n",
    "    print(\"Water will neither boil, nor freeze, nor it is close to either.\")"
   ]
  },
  {
   "cell_type": "markdown",
   "id": "3864a1e2-0c37-43f1-ac39-a52a292faf69",
   "metadata": {},
   "source": [
    "Note that we could also have used instead\n",
    "\n",
    "```python\n",
    "if water_temp >= 100:\n",
    "    print(\"Water will boil.\")\n",
    "elif water_temp >= 90:\n",
    "    print(\"Water is close to boiling!\")\n",
    "elif water_temp <= 0:\n",
    "    print(\"Water will freeze.\")\n",
    "elif water_temp <= 10:\n",
    "    print(\"Water is close to freezing!\")\n",
    "else:\n",
    "    print(\"Water will neither boil, nor freeze, nor it is close to either.\")\n",
    "```\n",
    "\n",
    "but *not*\n",
    "\n",
    "```python\n",
    "if water_temp >= 100:\n",
    "    print(\"Water will boil.\")\n",
    "elif water_temp >= 90:\n",
    "    print(\"Water is close to boiling!\")\n",
    "elif water_temp <= 10:\n",
    "    print(\"Water is close to freezing!\")\n",
    "elif water_temp <= 0:\n",
    "    print(\"Water will freeze.\")\n",
    "else:\n",
    "    print(\"Water will neither boil, nor freeze, nor it is close to either.\")\n",
    "```"
   ]
  },
  {
   "cell_type": "code",
   "execution_count": 151,
   "id": "06427ca9-4a30-4e64-b478-f150a6f93473",
   "metadata": {
    "execution": {
     "iopub.execute_input": "2023-10-19T18:00:41.672473Z",
     "iopub.status.busy": "2023-10-19T18:00:41.672401Z",
     "iopub.status.idle": "2023-10-19T18:00:41.674084Z",
     "shell.execute_reply": "2023-10-19T18:00:41.673900Z"
    },
    "tags": []
   },
   "outputs": [
    {
     "name": "stdout",
     "output_type": "stream",
     "text": [
      "Water is close to freezing!\n"
     ]
    }
   ],
   "source": [
    "water_temp = -5  # should say it is freezing!\n",
    "\n",
    "if water_temp >= 100:\n",
    "    print(\"Water will boil.\")\n",
    "elif water_temp >= 90:\n",
    "    print(\"Water is close to boiling!\")\n",
    "elif water_temp <= 10:\n",
    "    print(\"Water is close to freezing!\")\n",
    "elif water_temp <=0:\n",
    "    print(\"Water will freeze.\")\n",
    "else:\n",
    "    print(\"Water will neither boil, nor freeze, nor it is close to either.\")"
   ]
  },
  {
   "cell_type": "markdown",
   "id": "0e30bcad-d421-4820-825a-dd326c40912c",
   "metadata": {},
   "source": [
    "## for Loops\n",
    "\n",
    "We can use *for-loops* for repeating tasks.\n",
    "\n",
    "Let's show its use with an example.\n",
    "\n",
    "### Loops with `range`\n",
    "\n",
    "To print *Beetlejuice* three times we can do:"
   ]
  },
  {
   "cell_type": "code",
   "execution_count": 152,
   "id": "256df78d-8fe2-488a-a895-848ea0ebf72e",
   "metadata": {
    "execution": {
     "iopub.execute_input": "2023-10-19T18:00:41.674893Z",
     "iopub.status.busy": "2023-10-19T18:00:41.674818Z",
     "iopub.status.idle": "2023-10-19T18:00:41.676234Z",
     "shell.execute_reply": "2023-10-19T18:00:41.676063Z"
    },
    "tags": []
   },
   "outputs": [
    {
     "name": "stdout",
     "output_type": "stream",
     "text": [
      "Beetlejuice\n",
      "Beetlejuice\n",
      "Beetlejuice\n"
     ]
    }
   ],
   "source": [
    "for i in range(3):\n",
    "    print(\"Beetlejuice\")"
   ]
  },
  {
   "cell_type": "markdown",
   "id": "7883ab90-a8d4-48c9-915b-6baee20ff0da",
   "metadata": {},
   "source": [
    "The `3` in `range(3)` is the number of repetitions, and the indented block below the `for` line is the code to be repeated.  The `i` is the *loop variable*, but it is not used in this example.  (We will examples when we do use it soon, though.)\n",
    "\n",
    "Here `range(3)` can be thought as the list `[0, 1, 2]` (as seen above), and in each of the three times that the loop runs, the loop variable, `i` in this case, receives one of the values in this list *in order*.\n",
    "\n",
    "Let's illustrate this with another example:"
   ]
  },
  {
   "cell_type": "code",
   "execution_count": 153,
   "id": "2247133b-545a-4916-b0cd-fc24dabd2f96",
   "metadata": {
    "execution": {
     "iopub.execute_input": "2023-10-19T18:00:41.676985Z",
     "iopub.status.busy": "2023-10-19T18:00:41.676918Z",
     "iopub.status.idle": "2023-10-19T18:00:41.678314Z",
     "shell.execute_reply": "2023-10-19T18:00:41.678140Z"
    },
    "tags": []
   },
   "outputs": [
    {
     "name": "stdout",
     "output_type": "stream",
     "text": [
      "The value of i is 0\n",
      "The value of i is 1\n",
      "The value of i is 2\n"
     ]
    }
   ],
   "source": [
    "for i in range(3):\n",
    "    print(f\"The value of i is {i}\")  # print the value of i"
   ]
  },
  {
   "cell_type": "markdown",
   "id": "d2059727-e67c-4929-b048-8b84b39d60d5",
   "metadata": {},
   "source": [
    "So, the code above is equivalent to running:"
   ]
  },
  {
   "cell_type": "code",
   "execution_count": 154,
   "id": "671739d1-d87d-419b-b57f-55f35041f05e",
   "metadata": {
    "execution": {
     "iopub.execute_input": "2023-10-19T18:00:41.679072Z",
     "iopub.status.busy": "2023-10-19T18:00:41.679004Z",
     "iopub.status.idle": "2023-10-19T18:00:41.680500Z",
     "shell.execute_reply": "2023-10-19T18:00:41.680332Z"
    },
    "tags": []
   },
   "outputs": [
    {
     "name": "stdout",
     "output_type": "stream",
     "text": [
      "The value of i is 0\n",
      "The value of i is 1\n",
      "The value of i is 2\n"
     ]
    }
   ],
   "source": [
    "# first iteration\n",
    "i = 0\n",
    "print(f\"The value of i is {i}\")\n",
    "\n",
    "# second iteration\n",
    "i = 1\n",
    "print(f\"The value of i is {i}\")\n",
    "\n",
    "# third iteration\n",
    "i = 2\n",
    "print(f\"The value of i is {i}\")"
   ]
  },
  {
   "cell_type": "markdown",
   "id": "53a16af7-db5c-497b-bf88-c6125624cf54",
   "metadata": {},
   "source": [
    "Here the `range` function becomes quite useful (and we should not surround it by `list`!).  For instance, if we want to add all even numbers, between 4 and 200 (both inclusive), we could do:"
   ]
  },
  {
   "cell_type": "code",
   "execution_count": 155,
   "id": "a1008a84-f504-4c56-bc78-5da6a8e813c0",
   "metadata": {
    "execution": {
     "iopub.execute_input": "2023-10-19T18:00:41.681239Z",
     "iopub.status.busy": "2023-10-19T18:00:41.681171Z",
     "iopub.status.idle": "2023-10-19T18:00:41.682655Z",
     "shell.execute_reply": "2023-10-19T18:00:41.682490Z"
    },
    "tags": []
   },
   "outputs": [
    {
     "name": "stdout",
     "output_type": "stream",
     "text": [
      "10100\n"
     ]
    }
   ],
   "source": [
    "total = 0  # start with 0 as total\n",
    "\n",
    "for i in range(2, 201, 2):  # note the 201 instead of 200!\n",
    "    total = total + i  # replace total by its current value plus the value of i\n",
    "\n",
    "print(total)  # print the result"
   ]
  },
  {
   "cell_type": "markdown",
   "id": "fe7ef4db-d84e-4178-aa5b-08c9b1f29c8b",
   "metadata": {},
   "source": [
    "It's worth observing that `total += i` is a shortcut (and more efficient than) `total = total + i`, so we could have done:"
   ]
  },
  {
   "cell_type": "code",
   "execution_count": 156,
   "id": "40eb4148-914f-40a4-ac75-d6c0d1134dc7",
   "metadata": {
    "execution": {
     "iopub.execute_input": "2023-10-19T18:00:41.683401Z",
     "iopub.status.busy": "2023-10-19T18:00:41.683298Z",
     "iopub.status.idle": "2023-10-19T18:00:41.684736Z",
     "shell.execute_reply": "2023-10-19T18:00:41.684582Z"
    },
    "tags": []
   },
   "outputs": [
    {
     "name": "stdout",
     "output_type": "stream",
     "text": [
      "10100\n"
     ]
    }
   ],
   "source": [
    "total = 0  # start with 0 as total\n",
    "\n",
    "for i in range(2, 201, 2):  # note the 201 instead of 200!\n",
    "    total += i  # replace total by its current value plus the value of i\n",
    "\n",
    "print(total)  # print the result"
   ]
  },
  {
   "cell_type": "markdown",
   "id": "24ec271b-015d-4ee1-bc87-57302dcb30ab",
   "metadata": {},
   "source": [
    "Let's now create a list with the first $10$ perfect squares:"
   ]
  },
  {
   "cell_type": "code",
   "execution_count": 157,
   "id": "cc8bb267-ede5-4488-b316-b017111dda86",
   "metadata": {
    "execution": {
     "iopub.execute_input": "2023-10-19T18:00:41.685483Z",
     "iopub.status.busy": "2023-10-19T18:00:41.685379Z",
     "iopub.status.idle": "2023-10-19T18:00:41.687095Z",
     "shell.execute_reply": "2023-10-19T18:00:41.686947Z"
    },
    "tags": []
   },
   "outputs": [
    {
     "data": {
      "text/plain": [
       "[0, 1, 4, 9, 16, 25, 36, 49, 64, 81]"
      ]
     },
     "execution_count": 157,
     "metadata": {},
     "output_type": "execute_result"
    }
   ],
   "source": [
    "squares = []  # start with an empty list\n",
    "\n",
    "for i in range(10):  # i = 0, 1, 2, ... 9\n",
    "    squares.append(i ** 2)  # add i ** 2 to the end of squares\n",
    "\n",
    "squares"
   ]
  },
  {
   "cell_type": "markdown",
   "id": "5397e22e-f2e6-41ab-939e-8675025e6dfb",
   "metadata": {},
   "source": [
    "### Loops with Lists\n",
    "\n",
    "One can use any list instead of just `range`.  For instance:"
   ]
  },
  {
   "cell_type": "code",
   "execution_count": 158,
   "id": "9dcf4049-ca30-4693-ad87-d1481df2d7ac",
   "metadata": {
    "execution": {
     "iopub.execute_input": "2023-10-19T18:00:41.687808Z",
     "iopub.status.busy": "2023-10-19T18:00:41.687747Z",
     "iopub.status.idle": "2023-10-19T18:00:41.689141Z",
     "shell.execute_reply": "2023-10-19T18:00:41.688983Z"
    },
    "tags": []
   },
   "outputs": [
    {
     "name": "stdout",
     "output_type": "stream",
     "text": [
      "Python is a programming language.\n",
      "Java is a programming language.\n",
      "C is a programming language.\n",
      "Rust is a programming language.\n",
      "Julia is a programming language.\n"
     ]
    }
   ],
   "source": [
    "languages = [\"Python\", \"Java\", \"C\", \"Rust\", \"Julia\"]\n",
    "\n",
    "for language in languages:\n",
    "    print(f\"{language} is a programming language.\")"
   ]
  },
  {
   "cell_type": "markdown",
   "id": "f57ec073-a0df-4e89-aba6-426d49413daf",
   "metadata": {},
   "source": [
    "The code above is equivalent to"
   ]
  },
  {
   "cell_type": "code",
   "execution_count": 159,
   "id": "b87f0e9a-c641-420b-a34e-3a1a29afb2e8",
   "metadata": {
    "execution": {
     "iopub.execute_input": "2023-10-19T18:00:41.689851Z",
     "iopub.status.busy": "2023-10-19T18:00:41.689788Z",
     "iopub.status.idle": "2023-10-19T18:00:41.691346Z",
     "shell.execute_reply": "2023-10-19T18:00:41.691185Z"
    },
    "tags": []
   },
   "outputs": [
    {
     "name": "stdout",
     "output_type": "stream",
     "text": [
      "Python is a programming language.\n",
      "Java is a programming language.\n",
      "C is a programming language.\n",
      "Rust is a programming language.\n",
      "Julia is a programming language.\n"
     ]
    }
   ],
   "source": [
    "language = \"Python\"\n",
    "print(f\"{language} is a programming language.\")\n",
    "\n",
    "language = \"Java\"\n",
    "print(f\"{language} is a programming language.\")\n",
    "\n",
    "language = \"C\"\n",
    "print(f\"{language} is a programming language.\")\n",
    "\n",
    "language = \"Rust\"\n",
    "print(f\"{language} is a programming language.\")\n",
    "\n",
    "language = \"Julia\"\n",
    "print(f\"{language} is a programming language.\")"
   ]
  },
  {
   "cell_type": "markdown",
   "id": "2d14aeb1-1db6-475c-8f25-d066eaa6afc2",
   "metadata": {},
   "source": [
    "### Loops with Dictionaries\n",
    "\n",
    "We can also loop over dictionaries.  In this case the loop variable receives the *keys* of the dictionary:"
   ]
  },
  {
   "cell_type": "code",
   "execution_count": 160,
   "id": "e57d4f4a-27b9-4150-bd60-87d254938b3b",
   "metadata": {
    "execution": {
     "iopub.execute_input": "2023-10-19T18:00:41.692041Z",
     "iopub.status.busy": "2023-10-19T18:00:41.691973Z",
     "iopub.status.idle": "2023-10-19T18:00:41.693469Z",
     "shell.execute_reply": "2023-10-19T18:00:41.693325Z"
    },
    "tags": []
   },
   "outputs": [
    {
     "data": {
      "text/plain": [
       "{'Sunday': 'dimanche',\n",
       " 'Monday': 'lundi',\n",
       " 'Tuesday': 'mardi',\n",
       " 'Wednesday': 'mercredi',\n",
       " 'Thursday': 'jeudi',\n",
       " 'Friday': 'vendredi',\n",
       " 'Saturday': 'samedi'}"
      ]
     },
     "execution_count": 160,
     "metadata": {},
     "output_type": "execute_result"
    }
   ],
   "source": [
    "french_days"
   ]
  },
  {
   "cell_type": "code",
   "execution_count": 161,
   "id": "43e216bb-310e-4435-a3b1-a2097b0f76f2",
   "metadata": {
    "execution": {
     "iopub.execute_input": "2023-10-19T18:00:41.694142Z",
     "iopub.status.busy": "2023-10-19T18:00:41.694077Z",
     "iopub.status.idle": "2023-10-19T18:00:41.695396Z",
     "shell.execute_reply": "2023-10-19T18:00:41.695246Z"
    },
    "tags": []
   },
   "outputs": [
    {
     "name": "stdout",
     "output_type": "stream",
     "text": [
      "Sunday in French is dimanche.\n",
      "Monday in French is lundi.\n",
      "Tuesday in French is mardi.\n",
      "Wednesday in French is mercredi.\n",
      "Thursday in French is jeudi.\n",
      "Friday in French is vendredi.\n",
      "Saturday in French is samedi.\n"
     ]
    }
   ],
   "source": [
    "for day in french_days:\n",
    "    print(f\"{day} in French is {french_days[day]}.\")"
   ]
  },
  {
   "cell_type": "markdown",
   "id": "2eb1315b-b36c-4d55-a57a-5e9e7dd6165b",
   "metadata": {},
   "source": [
    "### List Comprehensions\n",
    "\n",
    "Python has a shortcut to create lists that we would usually created with a for loop.  It is easier to see how it works with a couple of examples.\n",
    "\n",
    "Suppose we want to create a function with the first ten positive cubes.  We can start with an empty list and add the cubes in a loop, as so:"
   ]
  },
  {
   "cell_type": "code",
   "execution_count": 162,
   "id": "1d958599-8d7b-494c-8be8-5b1b119e1dad",
   "metadata": {
    "execution": {
     "iopub.execute_input": "2023-10-19T18:00:41.696092Z",
     "iopub.status.busy": "2023-10-19T18:00:41.696029Z",
     "iopub.status.idle": "2023-10-19T18:00:41.697665Z",
     "shell.execute_reply": "2023-10-19T18:00:41.697517Z"
    },
    "tags": []
   },
   "outputs": [
    {
     "data": {
      "text/plain": [
       "[1, 8, 27, 64, 125, 216, 343, 512, 729, 1000]"
      ]
     },
     "execution_count": 162,
     "metadata": {},
     "output_type": "execute_result"
    }
   ],
   "source": [
    "# empty list\n",
    "cubes = []\n",
    "\n",
    "for i in range(1, 11):\n",
    "    cubes.append(i ** 3)\n",
    "    \n",
    "cubes"
   ]
  },
  {
   "cell_type": "markdown",
   "id": "98dfcea4-3547-434b-987b-61a76bf68ae6",
   "metadata": {},
   "source": [
    "Using *list comprehension*, we can obtain the same list with:"
   ]
  },
  {
   "cell_type": "code",
   "execution_count": 163,
   "id": "220806f6-e643-4670-9e5e-bf407a4214e7",
   "metadata": {
    "execution": {
     "iopub.execute_input": "2023-10-19T18:00:41.698356Z",
     "iopub.status.busy": "2023-10-19T18:00:41.698296Z",
     "iopub.status.idle": "2023-10-19T18:00:41.699878Z",
     "shell.execute_reply": "2023-10-19T18:00:41.699732Z"
    },
    "tags": []
   },
   "outputs": [
    {
     "data": {
      "text/plain": [
       "[1, 8, 27, 64, 125, 216, 343, 512, 729, 1000]"
      ]
     },
     "execution_count": 163,
     "metadata": {},
     "output_type": "execute_result"
    }
   ],
   "source": [
    "cubes = [i ** 3 for i in range(1, 11)]\n",
    "\n",
    "cubes"
   ]
  },
  {
   "cell_type": "markdown",
   "id": "9dad318f-1cac-49a0-a937-b750976027b4",
   "metadata": {},
   "source": [
    "Here is a more complex example.  Suppose we want to create a list of lists like:\n",
    "\n",
    "```python\n",
    "[[1],\n",
    " [1, 2],\n",
    " [1, 2, 3], \n",
    " [1, 2, 3, 4],\n",
    " [1, 2, 3, 4, 5]]\n",
    "```\n",
    "\n",
    "To do that, we need *nested for loops:"
   ]
  },
  {
   "cell_type": "code",
   "execution_count": 164,
   "id": "408ae068-65b7-4959-874d-618d80e67f55",
   "metadata": {
    "execution": {
     "iopub.execute_input": "2023-10-19T18:00:41.700566Z",
     "iopub.status.busy": "2023-10-19T18:00:41.700501Z",
     "iopub.status.idle": "2023-10-19T18:00:41.702313Z",
     "shell.execute_reply": "2023-10-19T18:00:41.702167Z"
    },
    "tags": []
   },
   "outputs": [
    {
     "data": {
      "text/plain": [
       "[[1], [1, 2], [1, 2, 3], [1, 2, 3, 4], [1, 2, 3, 4, 5]]"
      ]
     },
     "execution_count": 164,
     "metadata": {},
     "output_type": "execute_result"
    }
   ],
   "source": [
    "nested_lists = []\n",
    "\n",
    "for i in range(1, 6):\n",
    "    inner_list = []\n",
    "    for j in range(1, i + 1):\n",
    "        inner_list.append(j)\n",
    "    nested_lists.append(inner_list)\n",
    "    \n",
    "nested_lists"
   ]
  },
  {
   "cell_type": "markdown",
   "id": "5fd2f546-be7e-48db-b5f1-795f05810a97",
   "metadata": {},
   "source": [
    "(Note that we could have replaced the inner loop with `inner_list = list(range(1, i + 1)`, but let's keep the loops to illustrate the mechanics of the process of changing from loops to list comprehensions.)\n",
    "\n",
    "Here is how we can do it using list comprehension:"
   ]
  },
  {
   "cell_type": "code",
   "execution_count": 165,
   "id": "afda317f-22d5-4a38-be5c-2a4af79bf238",
   "metadata": {
    "execution": {
     "iopub.execute_input": "2023-10-19T18:00:41.703102Z",
     "iopub.status.busy": "2023-10-19T18:00:41.703039Z",
     "iopub.status.idle": "2023-10-19T18:00:41.704747Z",
     "shell.execute_reply": "2023-10-19T18:00:41.704601Z"
    },
    "tags": []
   },
   "outputs": [
    {
     "data": {
      "text/plain": [
       "[[1], [1, 2], [1, 2, 3], [1, 2, 3, 4], [1, 2, 3, 4, 5]]"
      ]
     },
     "execution_count": 165,
     "metadata": {},
     "output_type": "execute_result"
    }
   ],
   "source": [
    "nested_lists = [[j for j in range(1, i + 1)] for i in range(1, 6)]\n",
    "\n",
    "nested_lists"
   ]
  },
  {
   "cell_type": "markdown",
   "id": "91b96095-043c-4527-b572-fa5f8acf40e2",
   "metadata": {},
   "source": [
    "## Functions\n",
    "\n",
    "You are probably familiar with functions in mathematics.  For instance, if $f(x) = x^2$, then $f$ take some number $x$ as its *input* and returns its square $x^2$ as the *output*.  So,\n",
    "\n",
    "$$\n",
    "\\begin{align*}\n",
    "  f(1) &= 1^2 = 1, && \\text{(input: $1$, output: $1$)}; \\\\\n",
    "  f(2) &= 2^2 = 4, && \\text{(input: $2$, output: $4$)}; \\\\\n",
    "  f(3) &= 3^2 = 9, && \\text{(input: $3$, output: $9$)}; \\\\\n",
    "  f(4) &= 4^2 = 16, && \\text{(input: $4$, output: $16$)}.\n",
    "\\end{align*}\n",
    "$$"
   ]
  },
  {
   "cell_type": "markdown",
   "id": "e3069556-7060-4cac-84b3-140d69a1603e",
   "metadata": {},
   "source": [
    "We can do the same in Python:"
   ]
  },
  {
   "cell_type": "code",
   "execution_count": 166,
   "id": "9a48589c-9d2f-4def-90a0-49318add79ef",
   "metadata": {
    "execution": {
     "iopub.execute_input": "2023-10-19T18:00:41.705553Z",
     "iopub.status.busy": "2023-10-19T18:00:41.705486Z",
     "iopub.status.idle": "2023-10-19T18:00:41.706698Z",
     "shell.execute_reply": "2023-10-19T18:00:41.706551Z"
    },
    "tags": []
   },
   "outputs": [],
   "source": [
    "def square(x):\n",
    "    return x ** 2"
   ]
  },
  {
   "cell_type": "markdown",
   "id": "803de013-fdd0-4d8a-8c0d-2e2c2b67007d",
   "metadata": {},
   "source": [
    "Here is a brief description of the syntax:\n",
    "\n",
    "* `def` is the keyword that tell Python we are *defining* a function;\n",
    "* `square` is the name of the function we chose (it has the same requirements as variable names);\n",
    "* inside the parentheses after the name come the parameter(s), i.e., the inputs of the function, in this case only `x`;\n",
    "* indented comes the code that runs when the function is called;\n",
    "* `return` gives the value that will be returned by the function, i.e., the output.\n",
    "\n",
    "Now to run, we just use the name with the desired input inside the parentheses:"
   ]
  },
  {
   "cell_type": "code",
   "execution_count": 167,
   "id": "6fac3965-f52d-45ba-a3d3-3e90ce6d80bf",
   "metadata": {
    "execution": {
     "iopub.execute_input": "2023-10-19T18:00:41.707374Z",
     "iopub.status.busy": "2023-10-19T18:00:41.707308Z",
     "iopub.status.idle": "2023-10-19T18:00:41.708788Z",
     "shell.execute_reply": "2023-10-19T18:00:41.708643Z"
    },
    "tags": []
   },
   "outputs": [
    {
     "data": {
      "text/plain": [
       "1"
      ]
     },
     "execution_count": 167,
     "metadata": {},
     "output_type": "execute_result"
    }
   ],
   "source": [
    "square(1)"
   ]
  },
  {
   "cell_type": "code",
   "execution_count": 168,
   "id": "185aae7c-d15d-41a9-8d36-d79afe4a3c7a",
   "metadata": {
    "execution": {
     "iopub.execute_input": "2023-10-19T18:00:41.709462Z",
     "iopub.status.busy": "2023-10-19T18:00:41.709400Z",
     "iopub.status.idle": "2023-10-19T18:00:41.710882Z",
     "shell.execute_reply": "2023-10-19T18:00:41.710734Z"
    },
    "tags": []
   },
   "outputs": [
    {
     "data": {
      "text/plain": [
       "4"
      ]
     },
     "execution_count": 168,
     "metadata": {},
     "output_type": "execute_result"
    }
   ],
   "source": [
    "square(2)"
   ]
  },
  {
   "cell_type": "code",
   "execution_count": 169,
   "id": "cb4d2538-d215-43fb-891a-29658b7d90e9",
   "metadata": {
    "execution": {
     "iopub.execute_input": "2023-10-19T18:00:41.711531Z",
     "iopub.status.busy": "2023-10-19T18:00:41.711473Z",
     "iopub.status.idle": "2023-10-19T18:00:41.712894Z",
     "shell.execute_reply": "2023-10-19T18:00:41.712754Z"
    },
    "tags": []
   },
   "outputs": [
    {
     "data": {
      "text/plain": [
       "9"
      ]
     },
     "execution_count": 169,
     "metadata": {},
     "output_type": "execute_result"
    }
   ],
   "source": [
    "square(3)"
   ]
  },
  {
   "cell_type": "code",
   "execution_count": 170,
   "id": "c24216f0-4a9d-4d1e-b697-fc08931e3dce",
   "metadata": {
    "execution": {
     "iopub.execute_input": "2023-10-19T18:00:41.713572Z",
     "iopub.status.busy": "2023-10-19T18:00:41.713512Z",
     "iopub.status.idle": "2023-10-19T18:00:41.714950Z",
     "shell.execute_reply": "2023-10-19T18:00:41.714810Z"
    },
    "tags": []
   },
   "outputs": [
    {
     "data": {
      "text/plain": [
       "16"
      ]
     },
     "execution_count": 170,
     "metadata": {},
     "output_type": "execute_result"
    }
   ],
   "source": [
    "square(4)"
   ]
  },
  {
   "cell_type": "markdown",
   "id": "bbd6a5ec-eeb6-494a-9635-942c6d64abde",
   "metadata": {},
   "source": [
    "It is *strongly recommended* that you add a *docstring* describing the function right below its `def` line.  We use triple quotes for that:"
   ]
  },
  {
   "cell_type": "code",
   "execution_count": 171,
   "id": "d412ed71-5952-4d28-872d-7eca2a718360",
   "metadata": {
    "execution": {
     "iopub.execute_input": "2023-10-19T18:00:41.715646Z",
     "iopub.status.busy": "2023-10-19T18:00:41.715587Z",
     "iopub.status.idle": "2023-10-19T18:00:41.716823Z",
     "shell.execute_reply": "2023-10-19T18:00:41.716670Z"
    },
    "tags": []
   },
   "outputs": [],
   "source": [
    "def square(x):\n",
    "    \"\"\"\n",
    "    Given a value x, returns its square x ** 2.\n",
    "    \n",
    "    INPUT:\n",
    "    x: a number.\n",
    "    \n",
    "    OUTPUT:\n",
    "    The square of the input.\n",
    "    \"\"\"\n",
    "    return x ** 2"
   ]
  },
  {
   "cell_type": "markdown",
   "id": "1d29bce8-c720-4bd1-8af7-1e662a916953",
   "metadata": {},
   "source": [
    "It does not affect how the function works:"
   ]
  },
  {
   "cell_type": "code",
   "execution_count": 172,
   "id": "ed593b26-ac67-41a4-aa8b-6aba829d9cae",
   "metadata": {
    "execution": {
     "iopub.execute_input": "2023-10-19T18:00:41.717509Z",
     "iopub.status.busy": "2023-10-19T18:00:41.717446Z",
     "iopub.status.idle": "2023-10-19T18:00:41.718904Z",
     "shell.execute_reply": "2023-10-19T18:00:41.718758Z"
    },
    "tags": []
   },
   "outputs": [
    {
     "data": {
      "text/plain": [
       "9"
      ]
     },
     "execution_count": 172,
     "metadata": {},
     "output_type": "execute_result"
    }
   ],
   "source": [
    "square(3)"
   ]
  },
  {
   "cell_type": "markdown",
   "id": "50f105e7-91ba-4d1e-87e5-76d0a0bb9776",
   "metadata": {},
   "source": [
    "But it allows whoever reads the code for the function to understand what it does.  (This might be *you* after a few days not working on the code!)\n",
    "\n",
    "It also allows anyone to get help for the function:"
   ]
  },
  {
   "cell_type": "code",
   "execution_count": 173,
   "id": "60be55d3-7a30-40ce-9522-652f18caa8cc",
   "metadata": {
    "execution": {
     "iopub.execute_input": "2023-10-19T18:00:41.719585Z",
     "iopub.status.busy": "2023-10-19T18:00:41.719525Z",
     "iopub.status.idle": "2023-10-19T18:00:41.720847Z",
     "shell.execute_reply": "2023-10-19T18:00:41.720696Z"
    },
    "tags": []
   },
   "outputs": [
    {
     "name": "stdout",
     "output_type": "stream",
     "text": [
      "Help on function square in module __main__:\n",
      "\n",
      "square(x)\n",
      "    Given a value x, returns its square x ** 2.\n",
      "    \n",
      "    INPUT:\n",
      "    x: a number.\n",
      "    \n",
      "    OUTPUT:\n",
      "    The square of the input.\n",
      "\n"
     ]
    }
   ],
   "source": [
    "help(square)"
   ]
  },
  {
   "cell_type": "markdown",
   "id": "b544b752-c2ba-46ac-b493-2dcfb400a6d4",
   "metadata": {},
   "source": [
    "Functions are like mini-programs.  For instance, remember the code to compute a restaurant bill:"
   ]
  },
  {
   "cell_type": "code",
   "execution_count": 174,
   "id": "251c515d-b43c-481b-8f9d-ab85e8a36f1a",
   "metadata": {
    "execution": {
     "iopub.execute_input": "2023-10-19T18:00:41.721538Z",
     "iopub.status.busy": "2023-10-19T18:00:41.721478Z",
     "iopub.status.idle": "2023-10-19T18:00:41.723199Z",
     "shell.execute_reply": "2023-10-19T18:00:41.723052Z"
    },
    "tags": []
   },
   "outputs": [
    {
     "data": {
      "text/plain": [
       "33.13"
      ]
     },
     "execution_count": 174,
     "metadata": {},
     "output_type": "execute_result"
    }
   ],
   "source": [
    "# compute restaurant bill\n",
    "\n",
    "subtotal = 25.63  # meal cost in dollars\n",
    "tax_rate = 0.0925  # tax rate\n",
    "tip_percentage = 0.2  # percentage for the tip\n",
    "\n",
    "tax = subtotal * tax_rate  # tax amount\n",
    "tip = subtotal * tip_percentage  # tip amount\n",
    "\n",
    "# compute the total:\n",
    "total = subtotal + tax + tip\n",
    "\n",
    "# round to two decimal places\n",
    "round(total, 2)"
   ]
  },
  {
   "cell_type": "markdown",
   "id": "93612b11-8c3b-4cd3-8108-f6fe07f4d247",
   "metadata": {},
   "source": [
    "We can turn it into a function!  We can pass `subtotal`, `tax_rate`, and `tip_percentage` as arguments, and get the total.\n",
    "\n",
    "Here is how it is done:"
   ]
  },
  {
   "cell_type": "code",
   "execution_count": 175,
   "id": "2f83c06c-f6e4-49e1-98ea-6368ec39db84",
   "metadata": {
    "execution": {
     "iopub.execute_input": "2023-10-19T18:00:41.723884Z",
     "iopub.status.busy": "2023-10-19T18:00:41.723797Z",
     "iopub.status.idle": "2023-10-19T18:00:41.725565Z",
     "shell.execute_reply": "2023-10-19T18:00:41.725279Z"
    },
    "tags": []
   },
   "outputs": [],
   "source": [
    "def restaurant_bill(subtotal, tax_rate, tip_percentage):\n",
    "    \"\"\"\n",
    "    Given the subtotal of a meal, tax rate, and tip percentage, returns\n",
    "    the total for the bill.\n",
    "    \n",
    "    INPUTS:\n",
    "    subtotal: total cost of the meal (before tips and taxes);\n",
    "    tax_rate: the tax rate to be used;\n",
    "    tip_percentage: percentage of subtotal to be used for the tip.\n",
    "    \n",
    "    OUTPUT:\n",
    "    Total price of the meal with taxes and tip.\n",
    "    \"\"\"\n",
    "    tax = subtotal * tax_rate  # tax amount\n",
    "    tip = subtotal * tip_percentage  # tip amount\n",
    "\n",
    "    # compute the total:\n",
    "    total = subtotal + tax + tip\n",
    "\n",
    "    # return total rounded to two decimal places\n",
    "    return round(total, 2)"
   ]
  },
  {
   "cell_type": "markdown",
   "id": "4ca38f46-a2c0-4c0e-a6fd-d4eac5750846",
   "metadata": {},
   "source": [
    "So, `restaurant_bill(25.63, 0.0925, 0.2)` should return the same value as above, `33.13`:"
   ]
  },
  {
   "cell_type": "code",
   "execution_count": 176,
   "id": "9345a960-5adb-46e2-a802-fc33bd5785c9",
   "metadata": {
    "execution": {
     "iopub.execute_input": "2023-10-19T18:00:41.726215Z",
     "iopub.status.busy": "2023-10-19T18:00:41.726157Z",
     "iopub.status.idle": "2023-10-19T18:00:41.727949Z",
     "shell.execute_reply": "2023-10-19T18:00:41.727746Z"
    },
    "tags": []
   },
   "outputs": [
    {
     "data": {
      "text/plain": [
       "33.13"
      ]
     },
     "execution_count": 176,
     "metadata": {},
     "output_type": "execute_result"
    }
   ],
   "source": [
    "restaurant_bill(25.63, 0.0925, 0.2)"
   ]
  },
  {
   "cell_type": "markdown",
   "id": "60b10a3c-7e7a-4252-87e4-284a7bdfc71f",
   "metadata": {},
   "source": [
    "But now we can use other values, without having to type all the code again.  For instance, if the boll was $\\$30$, tax rate is $8.75\\%$, and we tip $18\\%$, our bill comes to:"
   ]
  },
  {
   "cell_type": "code",
   "execution_count": 177,
   "id": "9972850a-7a90-4dbb-8270-e80426dc8d2a",
   "metadata": {
    "execution": {
     "iopub.execute_input": "2023-10-19T18:00:41.728707Z",
     "iopub.status.busy": "2023-10-19T18:00:41.728588Z",
     "iopub.status.idle": "2023-10-19T18:00:41.730355Z",
     "shell.execute_reply": "2023-10-19T18:00:41.730136Z"
    },
    "tags": []
   },
   "outputs": [
    {
     "data": {
      "text/plain": [
       "38.02"
      ]
     },
     "execution_count": 177,
     "metadata": {},
     "output_type": "execute_result"
    }
   ],
   "source": [
    "restaurant_bill(30, 0.0875, 0.18)"
   ]
  },
  {
   "cell_type": "markdown",
   "id": "fc11c990-9add-4f3d-b1b2-86c899e2782e",
   "metadata": {},
   "source": [
    "### Default Values\n",
    "\n",
    "If we the tax rate and tip percentages don't usually change, we can set some default values for them in our function.  \n",
    "\n",
    "For instance, let's assume that the tax rate is usually $9.25\\%$ and the tip percentage is $20\\%$.  We just set these values in the declaration of the function.  I also change the docstring to reflect the changes, but the rest remains the same."
   ]
  },
  {
   "cell_type": "code",
   "execution_count": 178,
   "id": "310317cb-b8be-4764-8071-68af7a9e8183",
   "metadata": {
    "execution": {
     "iopub.execute_input": "2023-10-19T18:00:41.731159Z",
     "iopub.status.busy": "2023-10-19T18:00:41.731094Z",
     "iopub.status.idle": "2023-10-19T18:00:41.732801Z",
     "shell.execute_reply": "2023-10-19T18:00:41.732577Z"
    },
    "tags": []
   },
   "outputs": [],
   "source": [
    "def restaurant_bill(subtotal, tax_rate=0.0925, tip_percentage=0.2):\n",
    "    \"\"\"\n",
    "    Given the subtotal of a meal, tax rate, and tip percentage, returns\n",
    "    the total for the bill.\n",
    "    \n",
    "    INPUTS:\n",
    "    subtotal: total cost of the meal (before tips and taxes);\n",
    "    tax_rate: the tax rate to be used;\n",
    "              default value: 0.0925 (9.25%);\n",
    "    tip_percentage: percentage of subtotal to be used for the tip;\n",
    "                    default value: 0.2 (20%).\n",
    "    \n",
    "    OUTPUT:\n",
    "    Total price of the meal with taxes and tip.\n",
    "    \"\"\"\n",
    "    tax = subtotal * tax_rate  # tax amount\n",
    "    tip = subtotal * tip_percentage  # tip amount\n",
    "\n",
    "    # compute the total:\n",
    "    total = subtotal + tax + tip\n",
    "\n",
    "    # return total rounded to two decimal places\n",
    "    return round(total, 2)"
   ]
  },
  {
   "cell_type": "markdown",
   "id": "895465e1-631e-4728-bc62-13d88d2d332c",
   "metadata": {},
   "source": [
    "Now, every time I use the default values, we can omit them:"
   ]
  },
  {
   "cell_type": "code",
   "execution_count": 179,
   "id": "f4db7f89-ed10-4f06-908c-c60358e42216",
   "metadata": {
    "execution": {
     "iopub.execute_input": "2023-10-19T18:00:41.733502Z",
     "iopub.status.busy": "2023-10-19T18:00:41.733437Z",
     "iopub.status.idle": "2023-10-19T18:00:41.734978Z",
     "shell.execute_reply": "2023-10-19T18:00:41.734832Z"
    },
    "tags": []
   },
   "outputs": [
    {
     "data": {
      "text/plain": [
       "33.13"
      ]
     },
     "execution_count": 179,
     "metadata": {},
     "output_type": "execute_result"
    }
   ],
   "source": [
    "restaurant_bill(25.63)"
   ]
  },
  {
   "cell_type": "markdown",
   "id": "6556e476-40b7-414e-a4fb-b7e4dd437307",
   "metadata": {},
   "source": [
    "But I still can change them!  If I want to give a tip of $22\\%$, I can do:"
   ]
  },
  {
   "cell_type": "code",
   "execution_count": 180,
   "id": "55110679-24bb-4ceb-b74f-09643b0052a5",
   "metadata": {
    "execution": {
     "iopub.execute_input": "2023-10-19T18:00:41.735709Z",
     "iopub.status.busy": "2023-10-19T18:00:41.735608Z",
     "iopub.status.idle": "2023-10-19T18:00:41.737132Z",
     "shell.execute_reply": "2023-10-19T18:00:41.736983Z"
    },
    "tags": []
   },
   "outputs": [
    {
     "data": {
      "text/plain": [
       "33.64"
      ]
     },
     "execution_count": 180,
     "metadata": {},
     "output_type": "execute_result"
    }
   ],
   "source": [
    "restaurant_bill(25.63, tip_percentage=0.22)"
   ]
  },
  {
   "cell_type": "markdown",
   "id": "cd14f5fa-6d61-4330-b2b3-2fbbdde61824",
   "metadata": {},
   "source": [
    "And if I am at a different state, where the tax rate is $8.75\\%$:"
   ]
  },
  {
   "cell_type": "code",
   "execution_count": 181,
   "id": "582620ac-0c3e-4489-a226-c43163b53225",
   "metadata": {
    "execution": {
     "iopub.execute_input": "2023-10-19T18:00:41.737820Z",
     "iopub.status.busy": "2023-10-19T18:00:41.737759Z",
     "iopub.status.idle": "2023-10-19T18:00:41.739290Z",
     "shell.execute_reply": "2023-10-19T18:00:41.739145Z"
    },
    "tags": []
   },
   "outputs": [
    {
     "data": {
      "text/plain": [
       "33.0"
      ]
     },
     "execution_count": 181,
     "metadata": {},
     "output_type": "execute_result"
    }
   ],
   "source": [
    "restaurant_bill(25.63, tax_rate=0.0875)"
   ]
  },
  {
   "cell_type": "markdown",
   "id": "5f771f2a-b875-4a24-9e12-a740731418c8",
   "metadata": {},
   "source": [
    "And I can alter both, of course:"
   ]
  },
  {
   "cell_type": "code",
   "execution_count": 182,
   "id": "f8db8002-0a55-4035-a5b4-7dae2ff62e43",
   "metadata": {
    "execution": {
     "iopub.execute_input": "2023-10-19T18:00:41.740005Z",
     "iopub.status.busy": "2023-10-19T18:00:41.739942Z",
     "iopub.status.idle": "2023-10-19T18:00:41.741483Z",
     "shell.execute_reply": "2023-10-19T18:00:41.741342Z"
    },
    "tags": []
   },
   "outputs": [
    {
     "data": {
      "text/plain": [
       "38.02"
      ]
     },
     "execution_count": 182,
     "metadata": {},
     "output_type": "execute_result"
    }
   ],
   "source": [
    "restaurant_bill(30, tax_rate=0.0875, tip_percentage=0.18)"
   ]
  },
  {
   "cell_type": "markdown",
   "id": "0f3aff7a-6007-4f4e-9c7c-2ade0541c036",
   "metadata": {},
   "source": [
    "### Lambda (or Nameless) Functions\n",
    "\n",
    "We can create simple one line functions with a shortcut, using the `lambda` keyword.\n",
    "\n",
    "For instance, here is how we can create the `square` function from above with:"
   ]
  },
  {
   "cell_type": "code",
   "execution_count": 183,
   "id": "91dfffd0-ab04-4c0b-9da7-7eed82cafae6",
   "metadata": {
    "execution": {
     "iopub.execute_input": "2023-10-19T18:00:41.742185Z",
     "iopub.status.busy": "2023-10-19T18:00:41.742091Z",
     "iopub.status.idle": "2023-10-19T18:00:41.743285Z",
     "shell.execute_reply": "2023-10-19T18:00:41.743136Z"
    },
    "tags": []
   },
   "outputs": [],
   "source": [
    "square = lambda x: x ** 2"
   ]
  },
  {
   "cell_type": "markdown",
   "id": "ee26a40f-72b2-4334-9a9f-e2735511549f",
   "metadata": {},
   "source": [
    "Here is a description of the syntax:\n",
    "\n",
    "* `square =` just tells to store the result of the expression following `=` into the variable `square` (as usual).  In this case, the expression gives a *function*.\n",
    "* `lambda` is the keyword that tells Python we are creating a (lambda) function.\n",
    "* What comes before the `:` are the arguments of the function (only `x` in this case).\n",
    "* What comes after the `:` is what the function returns (`x ** 2` in this case).  (It must be a single line, containing what would come after `return` in a regular function.)\n",
    "\n",
    "Again, except for the docstring, which we *cannot* add with lambda functions, the code is equivalent to what we had before for the `square` function."
   ]
  },
  {
   "cell_type": "code",
   "execution_count": 184,
   "id": "45cc68f8-2a67-46cf-aaa9-6f277882b139",
   "metadata": {
    "execution": {
     "iopub.execute_input": "2023-10-19T18:00:41.744030Z",
     "iopub.status.busy": "2023-10-19T18:00:41.743913Z",
     "iopub.status.idle": "2023-10-19T18:00:41.745388Z",
     "shell.execute_reply": "2023-10-19T18:00:41.745238Z"
    },
    "tags": []
   },
   "outputs": [
    {
     "data": {
      "text/plain": [
       "9"
      ]
     },
     "execution_count": 184,
     "metadata": {},
     "output_type": "execute_result"
    }
   ],
   "source": [
    "square(3)"
   ]
  },
  {
   "cell_type": "code",
   "execution_count": 185,
   "id": "9a01c5e1-fbd9-452a-b5d4-a102b055d0b5",
   "metadata": {
    "execution": {
     "iopub.execute_input": "2023-10-19T18:00:41.746118Z",
     "iopub.status.busy": "2023-10-19T18:00:41.746056Z",
     "iopub.status.idle": "2023-10-19T18:00:41.747513Z",
     "shell.execute_reply": "2023-10-19T18:00:41.747370Z"
    },
    "tags": []
   },
   "outputs": [
    {
     "data": {
      "text/plain": [
       "16"
      ]
     },
     "execution_count": 185,
     "metadata": {},
     "output_type": "execute_result"
    }
   ],
   "source": [
    "square(4)"
   ]
  },
  {
   "cell_type": "markdown",
   "id": "e1a7e37b-d407-47e9-9926-4692eb336606",
   "metadata": {},
   "source": [
    "Here is another example, with two arguments:"
   ]
  },
  {
   "cell_type": "code",
   "execution_count": 186,
   "id": "1fbd685e-6b42-4116-9b80-cc9cd5df93dc",
   "metadata": {
    "execution": {
     "iopub.execute_input": "2023-10-19T18:00:41.748201Z",
     "iopub.status.busy": "2023-10-19T18:00:41.748142Z",
     "iopub.status.idle": "2023-10-19T18:00:41.749388Z",
     "shell.execute_reply": "2023-10-19T18:00:41.749242Z"
    },
    "tags": []
   },
   "outputs": [],
   "source": [
    "average_of_two = lambda x, y: (x + y) / 2"
   ]
  },
  {
   "cell_type": "code",
   "execution_count": 187,
   "id": "f74ad028-b3b5-4567-8d31-c12b8dab122a",
   "metadata": {
    "execution": {
     "iopub.execute_input": "2023-10-19T18:00:41.750037Z",
     "iopub.status.busy": "2023-10-19T18:00:41.749977Z",
     "iopub.status.idle": "2023-10-19T18:00:41.751452Z",
     "shell.execute_reply": "2023-10-19T18:00:41.751307Z"
    },
    "tags": []
   },
   "outputs": [
    {
     "data": {
      "text/plain": [
       "5.0"
      ]
     },
     "execution_count": 187,
     "metadata": {},
     "output_type": "execute_result"
    }
   ],
   "source": [
    "average_of_two(3, 7)"
   ]
  },
  {
   "cell_type": "code",
   "execution_count": 188,
   "id": "19b33e25-d8ed-4d28-b003-0799a63e970e",
   "metadata": {
    "execution": {
     "iopub.execute_input": "2023-10-19T18:00:41.752134Z",
     "iopub.status.busy": "2023-10-19T18:00:41.752073Z",
     "iopub.status.idle": "2023-10-19T18:00:41.753543Z",
     "shell.execute_reply": "2023-10-19T18:00:41.753394Z"
    },
    "tags": []
   },
   "outputs": [
    {
     "data": {
      "text/plain": [
       "5.5"
      ]
     },
     "execution_count": 188,
     "metadata": {},
     "output_type": "execute_result"
    }
   ],
   "source": [
    "average_of_two(5, 6)"
   ]
  },
  {
   "cell_type": "markdown",
   "id": "c56fffcb-7a30-4b58-8414-f5591579ad7b",
   "metadata": {},
   "source": [
    "**Note:** The most common use for lambda functions is to create functions that we pass *as arguments to other functions or methods*.  \n",
    "\n",
    "In this scenario, we do not need to first create a function with `def`, giving it a name, and then pass this name as the argument of the other function/method.  We can simply create the function *inside the parentheses of the argument of the function*.  Thus, we do not need to name this function in the argument, which is why we sometimes call these lambda functions *nameless*.\n",
    "\n",
    "Here is an example.  Let's create a function that takes another function as an argument and returns the result of this function when evaluated at $1$:"
   ]
  },
  {
   "cell_type": "code",
   "execution_count": 189,
   "id": "53f80757-159d-4159-8015-7060290c9d4f",
   "metadata": {
    "execution": {
     "iopub.execute_input": "2023-10-19T18:00:41.754265Z",
     "iopub.status.busy": "2023-10-19T18:00:41.754203Z",
     "iopub.status.idle": "2023-10-19T18:00:41.755504Z",
     "shell.execute_reply": "2023-10-19T18:00:41.755342Z"
    },
    "tags": []
   },
   "outputs": [],
   "source": [
    "def evaluate_at_1(function):\n",
    "    \"\"\"\n",
    "    Evaluates given function at 1.\n",
    "    \n",
    "    INPUT:\n",
    "    function: some funciton with one (numerical) argument.\n",
    "    \n",
    "    OUTPUT:\n",
    "    The function evaluated at 1.\n",
    "    \n",
    "    \"\"\"\n",
    "    return function(1)"
   ]
  },
  {
   "cell_type": "markdown",
   "id": "3a7ac0d1-ed5a-47a6-b204-5d650a098821",
   "metadata": {},
   "source": [
    "So, if we call `evaluate_at_1(square)`, we should get `1 ** 2`, i.e., `1`:"
   ]
  },
  {
   "cell_type": "code",
   "execution_count": 190,
   "id": "600587a1-eb17-4bc4-9bb5-4140732dc8c5",
   "metadata": {
    "execution": {
     "iopub.execute_input": "2023-10-19T18:00:41.756202Z",
     "iopub.status.busy": "2023-10-19T18:00:41.756140Z",
     "iopub.status.idle": "2023-10-19T18:00:41.757626Z",
     "shell.execute_reply": "2023-10-19T18:00:41.757474Z"
    },
    "tags": []
   },
   "outputs": [
    {
     "data": {
      "text/plain": [
       "1"
      ]
     },
     "execution_count": 190,
     "metadata": {},
     "output_type": "execute_result"
    }
   ],
   "source": [
    "evaluate_at_1(square)"
   ]
  },
  {
   "cell_type": "markdown",
   "id": "67875117-c268-47b3-9828-ec35f748a5a5",
   "metadata": {},
   "source": [
    "Now consider the function `add_one`:"
   ]
  },
  {
   "cell_type": "code",
   "execution_count": 191,
   "id": "326c8981-5022-4878-80b5-f3d0de821315",
   "metadata": {
    "execution": {
     "iopub.execute_input": "2023-10-19T18:00:41.758340Z",
     "iopub.status.busy": "2023-10-19T18:00:41.758274Z",
     "iopub.status.idle": "2023-10-19T18:00:41.759557Z",
     "shell.execute_reply": "2023-10-19T18:00:41.759401Z"
    },
    "tags": []
   },
   "outputs": [],
   "source": [
    "def add_one(x):\n",
    "    \"\"\"\n",
    "    Given x, returns x + 1.\n",
    "    \n",
    "    INPUT:\n",
    "    x: some number.\n",
    "    \n",
    "    OUTPUT:\n",
    "    The number given plus 1.\n",
    "    \"\"\"\n",
    "    return x + 1"
   ]
  },
  {
   "cell_type": "markdown",
   "id": "e2290dd2-1727-4e96-9aca-f93e1ab7ed0c",
   "metadata": {},
   "source": [
    "Now, if we call `evaluate_at_one(add_one)`, we should get `1 + 1`, i.e., `2`:"
   ]
  },
  {
   "cell_type": "code",
   "execution_count": 192,
   "id": "5738c0ce-09e7-4df3-8318-4f766ec97633",
   "metadata": {
    "execution": {
     "iopub.execute_input": "2023-10-19T18:00:41.760256Z",
     "iopub.status.busy": "2023-10-19T18:00:41.760193Z",
     "iopub.status.idle": "2023-10-19T18:00:41.761690Z",
     "shell.execute_reply": "2023-10-19T18:00:41.761534Z"
    },
    "tags": []
   },
   "outputs": [
    {
     "data": {
      "text/plain": [
       "2"
      ]
     },
     "execution_count": 192,
     "metadata": {},
     "output_type": "execute_result"
    }
   ],
   "source": [
    "evaluate_at_1(add_one)"
   ]
  },
  {
   "cell_type": "markdown",
   "id": "ad98ac8d-d615-4f3a-a8ef-387ddbdd2896",
   "metadata": {},
   "source": [
    "I could also create a function `add_two` that would return the input plus $2$.  But if all I need of this function is to pass it as an argument to `evaluate_at_1`, I can create it directly, without first creating and giving it a name:"
   ]
  },
  {
   "cell_type": "code",
   "execution_count": 193,
   "id": "6f293c49-0fdc-454c-9c49-1196bcb39aff",
   "metadata": {
    "execution": {
     "iopub.execute_input": "2023-10-19T18:00:41.762465Z",
     "iopub.status.busy": "2023-10-19T18:00:41.762368Z",
     "iopub.status.idle": "2023-10-19T18:00:41.763891Z",
     "shell.execute_reply": "2023-10-19T18:00:41.763744Z"
    },
    "tags": []
   },
   "outputs": [
    {
     "data": {
      "text/plain": [
       "3"
      ]
     },
     "execution_count": 193,
     "metadata": {},
     "output_type": "execute_result"
    }
   ],
   "source": [
    "evaluate_at_1(lambda x: x + 2)"
   ]
  },
  {
   "cell_type": "markdown",
   "id": "157ceed4-18ca-4813-9250-128e31ea5b26",
   "metadata": {},
   "source": [
    "This example is a bit artificial, but this need to pass functions as arguments often occurs in practice, and lambda functions come handy."
   ]
  },
  {
   "cell_type": "markdown",
   "id": "189ffe85-deea-4c5e-ae7d-29387c654311",
   "metadata": {},
   "source": [
    "## Comments, Suggestions, Corrections\n",
    "\n",
    "Please send your comments, suggestions, and corrections to lfinotti@utk.edu."
   ]
  }
 ],
 "metadata": {
  "kernelspec": {
   "display_name": "Python 3 (ipykernel)",
   "language": "python",
   "name": "python3"
  },
  "language_info": {
   "codemirror_mode": {
    "name": "ipython",
    "version": 3
   },
   "file_extension": ".py",
   "mimetype": "text/x-python",
   "name": "python",
   "nbconvert_exporter": "python",
   "pygments_lexer": "ipython3",
   "version": "3.11.6"
  }
 },
 "nbformat": 4,
 "nbformat_minor": 5
}
