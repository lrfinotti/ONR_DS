{
 "cells": [
  {
   "cell_type": "markdown",
   "id": "011909f9-63ea-46f8-8aee-28095b4d456a",
   "metadata": {},
   "source": [
    "# A/B Testing"
   ]
  },
  {
   "cell_type": "markdown",
   "id": "a67d3e78-9c19-4681-a28b-5f32fb27d331",
   "metadata": {},
   "source": [
    "## Acknowledgment \n",
    "\n",
    "Some of the content here is based on [Computational and Inferential Thinking: The Foundations of Data Science](https://inferentialthinking.com/chapters/intro.html), by A. Adhikari, J. DeNero, D. Wagner.\n",
    "\n",
    "On the other hand, this text uses its own module `datascience` for data frame manipulations, while we will use pandas, which is the most commonly used library for data frames in Python."
   ]
  },
  {
   "cell_type": "markdown",
   "id": "b032d396-7d52-4a5e-a8ee-2e9e834f4cf7",
   "metadata": {},
   "source": [
    "## Importing Modules\n",
    "\n",
    "Let's start by importing the necessary modules:"
   ]
  },
  {
   "cell_type": "code",
   "execution_count": 1,
   "id": "c20170e9-1519-440c-9096-9f812c0f0ca2",
   "metadata": {
    "execution": {
     "iopub.execute_input": "2023-10-19T18:01:14.779321Z",
     "iopub.status.busy": "2023-10-19T18:01:14.778625Z",
     "iopub.status.idle": "2023-10-19T18:01:15.037635Z",
     "shell.execute_reply": "2023-10-19T18:01:15.037228Z"
    },
    "tags": []
   },
   "outputs": [],
   "source": [
    "import numpy as np\n",
    "import pandas as pd\n",
    "import matplotlib.pyplot as plt\n",
    "\n",
    "plt.rcParams['figure.figsize'] = (8, 6)  # default figure size\n",
    "plt.style.use(\"ggplot\")  # style sheet"
   ]
  },
  {
   "cell_type": "markdown",
   "id": "5fc7f9a9-e051-442f-9d76-f02148a4a005",
   "metadata": {},
   "source": [
    "## Introduction\n",
    "\n",
    "Often we are faced with questions about *association* between two variables, meaning that a change in one variable usually comes with a change in the other.\n",
    "\n",
    "Here we will investigate this sorts of questions when one of the variable breaks the data in two distinct categories.  For example:\n",
    "\n",
    "* Is a person a smoker or non-smoker?\n",
    "* Did a person received a treatment or not (i.e., received a [placebo](https://en.wikipedia.org/wiki/Placebo) instead)?\n",
    "* Does the person exercise regularly or not?\n",
    "\n",
    "Each of this can be associated (or not) to another variable, for example:\n",
    "\n",
    "* Does the person have lung cancer?\n",
    "* Does the person recover from the disease?\n",
    "* What is the person's weight?\n",
    "\n",
    "\n",
    "### Association is Not Causation\n",
    "\n",
    "The fact that two variables are associated does not imply that there is actual causation.\n",
    "\n",
    "For example, if students living in a particular region of a town have higher SAT scores, the fact that they actually live there is not what is causing this result.  More likely is that the schools in the region are better.  Or maybe it is more privileged area, where students are well fed, don't have to work while studying, have a stable home, etc.  Any of these other factors (or a combination of them) is more likely to *cause* the effect that students have higher SAT scores than the geographical location.\n",
    "\n",
    "On the other hand, we see quite often association being conflated with causation.  But, **association does not imply causation**.  Extra steps are need to establish actual causation.  \n",
    "\n",
    "One way to establish causation (although not always possible to do in practice) is to verify that *all* other variables between individuals in the two different categories have the exact same distribution (or as close as possible).\n",
    "\n",
    "\n",
    "## Smoking and Birth Weight\n",
    "\n",
    "The file [baby.csv](baby.csv) (provided with this notebook) contains the following variables for 1,174 mother-baby pairs:\n",
    "\n",
    "- birth weight in ounces, \n",
    "- the number of gestational days, \n",
    "- the mother's age, \n",
    "- the mother's height in inches, \n",
    "- pregnancy weight in pounds, \n",
    "- and whether or not the mother smoked during pregnancy."
   ]
  },
  {
   "cell_type": "code",
   "execution_count": 2,
   "id": "00c9d410-4208-433a-9ae3-deec2fbed484",
   "metadata": {
    "execution": {
     "iopub.execute_input": "2023-10-19T18:01:15.039533Z",
     "iopub.status.busy": "2023-10-19T18:01:15.039398Z",
     "iopub.status.idle": "2023-10-19T18:01:15.046121Z",
     "shell.execute_reply": "2023-10-19T18:01:15.045758Z"
    },
    "tags": []
   },
   "outputs": [
    {
     "data": {
      "text/html": [
       "<div>\n",
       "<style scoped>\n",
       "    .dataframe tbody tr th:only-of-type {\n",
       "        vertical-align: middle;\n",
       "    }\n",
       "\n",
       "    .dataframe tbody tr th {\n",
       "        vertical-align: top;\n",
       "    }\n",
       "\n",
       "    .dataframe thead th {\n",
       "        text-align: right;\n",
       "    }\n",
       "</style>\n",
       "<table border=\"1\" class=\"dataframe\">\n",
       "  <thead>\n",
       "    <tr style=\"text-align: right;\">\n",
       "      <th></th>\n",
       "      <th>Birth Weight</th>\n",
       "      <th>Gestational Days</th>\n",
       "      <th>Maternal Age</th>\n",
       "      <th>Maternal Height</th>\n",
       "      <th>Maternal Pregnancy Weight</th>\n",
       "      <th>Maternal Smoker</th>\n",
       "    </tr>\n",
       "  </thead>\n",
       "  <tbody>\n",
       "    <tr>\n",
       "      <th>0</th>\n",
       "      <td>120</td>\n",
       "      <td>284</td>\n",
       "      <td>27</td>\n",
       "      <td>62</td>\n",
       "      <td>100</td>\n",
       "      <td>False</td>\n",
       "    </tr>\n",
       "    <tr>\n",
       "      <th>1</th>\n",
       "      <td>113</td>\n",
       "      <td>282</td>\n",
       "      <td>33</td>\n",
       "      <td>64</td>\n",
       "      <td>135</td>\n",
       "      <td>False</td>\n",
       "    </tr>\n",
       "    <tr>\n",
       "      <th>2</th>\n",
       "      <td>128</td>\n",
       "      <td>279</td>\n",
       "      <td>28</td>\n",
       "      <td>64</td>\n",
       "      <td>115</td>\n",
       "      <td>True</td>\n",
       "    </tr>\n",
       "    <tr>\n",
       "      <th>3</th>\n",
       "      <td>108</td>\n",
       "      <td>282</td>\n",
       "      <td>23</td>\n",
       "      <td>67</td>\n",
       "      <td>125</td>\n",
       "      <td>True</td>\n",
       "    </tr>\n",
       "    <tr>\n",
       "      <th>4</th>\n",
       "      <td>136</td>\n",
       "      <td>286</td>\n",
       "      <td>25</td>\n",
       "      <td>62</td>\n",
       "      <td>93</td>\n",
       "      <td>False</td>\n",
       "    </tr>\n",
       "    <tr>\n",
       "      <th>...</th>\n",
       "      <td>...</td>\n",
       "      <td>...</td>\n",
       "      <td>...</td>\n",
       "      <td>...</td>\n",
       "      <td>...</td>\n",
       "      <td>...</td>\n",
       "    </tr>\n",
       "    <tr>\n",
       "      <th>1169</th>\n",
       "      <td>113</td>\n",
       "      <td>275</td>\n",
       "      <td>27</td>\n",
       "      <td>60</td>\n",
       "      <td>100</td>\n",
       "      <td>False</td>\n",
       "    </tr>\n",
       "    <tr>\n",
       "      <th>1170</th>\n",
       "      <td>128</td>\n",
       "      <td>265</td>\n",
       "      <td>24</td>\n",
       "      <td>67</td>\n",
       "      <td>120</td>\n",
       "      <td>False</td>\n",
       "    </tr>\n",
       "    <tr>\n",
       "      <th>1171</th>\n",
       "      <td>130</td>\n",
       "      <td>291</td>\n",
       "      <td>30</td>\n",
       "      <td>65</td>\n",
       "      <td>150</td>\n",
       "      <td>True</td>\n",
       "    </tr>\n",
       "    <tr>\n",
       "      <th>1172</th>\n",
       "      <td>125</td>\n",
       "      <td>281</td>\n",
       "      <td>21</td>\n",
       "      <td>65</td>\n",
       "      <td>110</td>\n",
       "      <td>False</td>\n",
       "    </tr>\n",
       "    <tr>\n",
       "      <th>1173</th>\n",
       "      <td>117</td>\n",
       "      <td>297</td>\n",
       "      <td>38</td>\n",
       "      <td>65</td>\n",
       "      <td>129</td>\n",
       "      <td>False</td>\n",
       "    </tr>\n",
       "  </tbody>\n",
       "</table>\n",
       "<p>1174 rows × 6 columns</p>\n",
       "</div>"
      ],
      "text/plain": [
       "      Birth Weight  Gestational Days  Maternal Age  Maternal Height  \\\n",
       "0              120               284            27               62   \n",
       "1              113               282            33               64   \n",
       "2              128               279            28               64   \n",
       "3              108               282            23               67   \n",
       "4              136               286            25               62   \n",
       "...            ...               ...           ...              ...   \n",
       "1169           113               275            27               60   \n",
       "1170           128               265            24               67   \n",
       "1171           130               291            30               65   \n",
       "1172           125               281            21               65   \n",
       "1173           117               297            38               65   \n",
       "\n",
       "      Maternal Pregnancy Weight  Maternal Smoker  \n",
       "0                           100            False  \n",
       "1                           135            False  \n",
       "2                           115             True  \n",
       "3                           125             True  \n",
       "4                            93            False  \n",
       "...                         ...              ...  \n",
       "1169                        100            False  \n",
       "1170                        120            False  \n",
       "1171                        150             True  \n",
       "1172                        110            False  \n",
       "1173                        129            False  \n",
       "\n",
       "[1174 rows x 6 columns]"
      ]
     },
     "execution_count": 2,
     "metadata": {},
     "output_type": "execute_result"
    }
   ],
   "source": [
    "births = pd.read_csv(\"baby.csv\")\n",
    "births"
   ]
  },
  {
   "cell_type": "markdown",
   "id": "35fb787e-9f6a-48d7-ad9d-18bdb5f562b7",
   "metadata": {},
   "source": [
    "**Question:** Does maternal smoking affect birth weight?\n",
    "\n",
    "We'll start by selecting just `Birth Weight` and `Maternal Smoker`. There are 715 non-smokers among the women in the sample, and 459 smokers."
   ]
  },
  {
   "cell_type": "code",
   "execution_count": 3,
   "id": "ef9b45f4-8cbd-4f95-b42a-1439c29f5c8f",
   "metadata": {
    "execution": {
     "iopub.execute_input": "2023-10-19T18:01:15.047589Z",
     "iopub.status.busy": "2023-10-19T18:01:15.047515Z",
     "iopub.status.idle": "2023-10-19T18:01:15.049550Z",
     "shell.execute_reply": "2023-10-19T18:01:15.049301Z"
    },
    "tags": []
   },
   "outputs": [],
   "source": [
    "smoking_and_birthweight = births[[\"Maternal Smoker\", \"Birth Weight\"]]"
   ]
  },
  {
   "cell_type": "code",
   "execution_count": 4,
   "id": "7cdbeb1f-f1b4-432c-9c80-cf7364dfab55",
   "metadata": {
    "execution": {
     "iopub.execute_input": "2023-10-19T18:01:15.050623Z",
     "iopub.status.busy": "2023-10-19T18:01:15.050557Z",
     "iopub.status.idle": "2023-10-19T18:01:15.053483Z",
     "shell.execute_reply": "2023-10-19T18:01:15.053268Z"
    },
    "tags": []
   },
   "outputs": [
    {
     "data": {
      "text/html": [
       "<div>\n",
       "<style scoped>\n",
       "    .dataframe tbody tr th:only-of-type {\n",
       "        vertical-align: middle;\n",
       "    }\n",
       "\n",
       "    .dataframe tbody tr th {\n",
       "        vertical-align: top;\n",
       "    }\n",
       "\n",
       "    .dataframe thead th {\n",
       "        text-align: right;\n",
       "    }\n",
       "</style>\n",
       "<table border=\"1\" class=\"dataframe\">\n",
       "  <thead>\n",
       "    <tr style=\"text-align: right;\">\n",
       "      <th></th>\n",
       "      <th>Count</th>\n",
       "    </tr>\n",
       "    <tr>\n",
       "      <th>Maternal Smoker</th>\n",
       "      <th></th>\n",
       "    </tr>\n",
       "  </thead>\n",
       "  <tbody>\n",
       "    <tr>\n",
       "      <th>False</th>\n",
       "      <td>715</td>\n",
       "    </tr>\n",
       "    <tr>\n",
       "      <th>True</th>\n",
       "      <td>459</td>\n",
       "    </tr>\n",
       "  </tbody>\n",
       "</table>\n",
       "</div>"
      ],
      "text/plain": [
       "                 Count\n",
       "Maternal Smoker       \n",
       "False              715\n",
       "True               459"
      ]
     },
     "execution_count": 4,
     "metadata": {},
     "output_type": "execute_result"
    }
   ],
   "source": [
    "smoking_and_birthweight.groupby(\"Maternal Smoker\").size().to_frame(\"Count\")"
   ]
  },
  {
   "cell_type": "markdown",
   "id": "ca391c74-d03e-4e0e-9fd7-87517f8e8025",
   "metadata": {},
   "source": [
    "Let's look at the distribution of the birth weights of the babies of the non-smoking mothers compared to those of the smoking mothers.\n",
    "\n",
    "The function below allows use to overlay two histograms to inspect the differences in the distributions:"
   ]
  },
  {
   "cell_type": "code",
   "execution_count": 5,
   "id": "7fbe93f7-d949-4523-ac33-804358c31cee",
   "metadata": {
    "execution": {
     "iopub.execute_input": "2023-10-19T18:01:15.054443Z",
     "iopub.status.busy": "2023-10-19T18:01:15.054380Z",
     "iopub.status.idle": "2023-10-19T18:01:15.056676Z",
     "shell.execute_reply": "2023-10-19T18:01:15.056459Z"
    },
    "tags": []
   },
   "outputs": [],
   "source": [
    "def overlaid_hist(df, column, by, bins=10, alpha=0.7):\n",
    "    \"\"\"\n",
    "    Given a data frame, a column for the histogram, and another\n",
    "    one (by) to break up the values by, display overlaid histograms\n",
    "    for each value of the the by-column.\n",
    "    \n",
    "    INPUTS\"\n",
    "    df: data frame containing the data for the scatter plot;\n",
    "    column: the column label for the data in question;\n",
    "    by: label for the column with the category by which we split the plot (one per category);\n",
    "    bins: number of equally spaced bins, or list/array giving the bins;\n",
    "    alpha: level of transparency (between 0 (opaque) and 1 (invisible))\n",
    "    \n",
    "    OUTPUT:\n",
    "    Overlaid histograms for each category given by column \"by\".\n",
    "    \"\"\"\n",
    "\n",
    "    # check if bins is integer\n",
    "    # if so, define the bins in equal parts\n",
    "    if isinstance(bins, int):\n",
    "        numb_bins = bins\n",
    "        bins = np.linspace(\n",
    "            df[column].min(),\n",
    "            df[column].max(),\n",
    "            numb_bins,\n",
    "        )\n",
    "\n",
    "    # values to group by\n",
    "    values = np.sort(df[by].unique())\n",
    "\n",
    "    # initialize plot\n",
    "    fig, ax = plt.subplots()\n",
    "    \n",
    "    # histograms\n",
    "    for value in values:\n",
    "        df.loc[df[by] == value].hist(\n",
    "            column,\n",
    "            density=True,\n",
    "            ec=\"white\",\n",
    "            bins=bins,\n",
    "            alpha=alpha,\n",
    "            label=str(value),\n",
    "            ax=ax,\n",
    "        )\n",
    "\n",
    "    plt.legend()"
   ]
  },
  {
   "cell_type": "markdown",
   "id": "76068178-de1d-4e01-ae11-5656eeee465e",
   "metadata": {},
   "source": [
    "Applying to our data, we can compare the distribution of birth weights between smoking and non-smoking mothers:"
   ]
  },
  {
   "cell_type": "code",
   "execution_count": 6,
   "id": "d450b4b8-eb02-4cd2-a3c8-5cde94dd19c2",
   "metadata": {
    "execution": {
     "iopub.execute_input": "2023-10-19T18:01:15.057593Z",
     "iopub.status.busy": "2023-10-19T18:01:15.057531Z",
     "iopub.status.idle": "2023-10-19T18:01:15.157101Z",
     "shell.execute_reply": "2023-10-19T18:01:15.156756Z"
    },
    "tags": []
   },
   "outputs": [
    {
     "data": {
      "image/png": "[encoded data removed]",
      "text/plain": [
       "<Figure size 800x600 with 1 Axes>"
      ]
     },
     "metadata": {},
     "output_type": "display_data"
    }
   ],
   "source": [
    "overlaid_hist(smoking_and_birthweight, \"Birth Weight\", \"Maternal Smoker\")"
   ]
  },
  {
   "cell_type": "markdown",
   "id": "eb386c4b-d265-4444-9875-2b4ca68daf06",
   "metadata": {},
   "source": [
    "The distribution of the weights from smoking mothers appears to be shifted slightly to the left and to have lower average.\n",
    "\n",
    "Let's also look at the average of the birth weights between the two groups:"
   ]
  },
  {
   "cell_type": "code",
   "execution_count": 7,
   "id": "dc173515-7a68-4c00-88a3-79d82c1cadc6",
   "metadata": {
    "execution": {
     "iopub.execute_input": "2023-10-19T18:01:15.158944Z",
     "iopub.status.busy": "2023-10-19T18:01:15.158590Z",
     "iopub.status.idle": "2023-10-19T18:01:15.163565Z",
     "shell.execute_reply": "2023-10-19T18:01:15.163320Z"
    },
    "tags": []
   },
   "outputs": [
    {
     "data": {
      "text/html": [
       "<div>\n",
       "<style scoped>\n",
       "    .dataframe tbody tr th:only-of-type {\n",
       "        vertical-align: middle;\n",
       "    }\n",
       "\n",
       "    .dataframe tbody tr th {\n",
       "        vertical-align: top;\n",
       "    }\n",
       "\n",
       "    .dataframe thead th {\n",
       "        text-align: right;\n",
       "    }\n",
       "</style>\n",
       "<table border=\"1\" class=\"dataframe\">\n",
       "  <thead>\n",
       "    <tr style=\"text-align: right;\">\n",
       "      <th></th>\n",
       "      <th>Birth Weight</th>\n",
       "    </tr>\n",
       "    <tr>\n",
       "      <th>Maternal Smoker</th>\n",
       "      <th></th>\n",
       "    </tr>\n",
       "  </thead>\n",
       "  <tbody>\n",
       "    <tr>\n",
       "      <th>False</th>\n",
       "      <td>123.085315</td>\n",
       "    </tr>\n",
       "    <tr>\n",
       "      <th>True</th>\n",
       "      <td>113.819172</td>\n",
       "    </tr>\n",
       "  </tbody>\n",
       "</table>\n",
       "</div>"
      ],
      "text/plain": [
       "                 Birth Weight\n",
       "Maternal Smoker              \n",
       "False              123.085315\n",
       "True               113.819172"
      ]
     },
     "execution_count": 7,
     "metadata": {},
     "output_type": "execute_result"
    }
   ],
   "source": [
    "means_df = smoking_and_birthweight.groupby(\"Maternal Smoker\").mean()\n",
    "\n",
    "means_df"
   ]
  },
  {
   "cell_type": "markdown",
   "id": "ac7db899-19a7-4ff6-b62a-b116cf5064b6",
   "metadata": {},
   "source": [
    "The average birth weight for non-smoking mothers is almost 10 ounces higher.\n",
    "\n",
    "Could it be that we are just seeing a difference simply due to random variations of birth weights, or is there an association between smoking and birth weights?\n",
    "\n",
    "Here then have:\n",
    "\n",
    "* **Null hypothesis:** The distribution of birth weights of babies is the same for mothers who don't smoke as for mothers who do. (The difference in the sample is simply due to chance.)\n",
    "* **Alternative hypothesis:** The babies of the mothers who smoke have a lower birth weight, on average, than the babies of the non-smokers.\n",
    "\n",
    "But how can we test our hypotheses in this case?\n",
    "\n",
    "**Main idea:**  If smoking or not makes no difference (i.e., if the null hypothesis is true), then if we switch the labels between smoking and non-smoking, we should see similar differences showing up frequently.\n",
    "\n",
    "### Test Statistic\n",
    "\n",
    "We need to decide on some statistic (some aspect of the data) to help us analyze if the data is consistent with simple random variations of birth weights.  One idea is to use the *difference between the average birth weight of newborns by smoking and non-smoking mothers*.\n",
    "\n",
    "Thus, small values, meaning negative numbers of large absolute value, support the alternative hypothesis.\n",
    "\n",
    "The observed difference was about $-9.27$ ounces:"
   ]
  },
  {
   "cell_type": "code",
   "execution_count": 8,
   "id": "85351880-01bc-47cd-af68-f6a328954049",
   "metadata": {
    "execution": {
     "iopub.execute_input": "2023-10-19T18:01:15.164732Z",
     "iopub.status.busy": "2023-10-19T18:01:15.164516Z",
     "iopub.status.idle": "2023-10-19T18:01:15.167333Z",
     "shell.execute_reply": "2023-10-19T18:01:15.167035Z"
    },
    "tags": []
   },
   "outputs": [
    {
     "data": {
      "text/plain": [
       "-9.266142572024918"
      ]
     },
     "execution_count": 8,
     "metadata": {},
     "output_type": "execute_result"
    }
   ],
   "source": [
    "observed_difference = means_df.loc[True, \"Birth Weight\"] - means_df.loc[False, \"Birth Weight\"]\n",
    "\n",
    "observed_difference"
   ]
  },
  {
   "cell_type": "markdown",
   "id": "716ff277-9cf1-4797-85d2-0f55e298b265",
   "metadata": {},
   "source": [
    "But, again, we must verify if we could achieve the same difference simply due to random variations of birth weights.\n",
    "\n",
    "Since we will need to compute this difference in all our simulations, let's write a function to do the job. The function takes two arguments:\n",
    "\n",
    "- the data frame,\n",
    "- the label of the column that contains the Boolean variable for grouping.\n",
    "\n",
    "It returns the difference between the averages of the `True` group and the `False` group."
   ]
  },
  {
   "cell_type": "code",
   "execution_count": 9,
   "id": "82a5b6cc-7222-4b74-9d7a-840d0d489abb",
   "metadata": {
    "execution": {
     "iopub.execute_input": "2023-10-19T18:01:15.168320Z",
     "iopub.status.busy": "2023-10-19T18:01:15.168206Z",
     "iopub.status.idle": "2023-10-19T18:01:15.170138Z",
     "shell.execute_reply": "2023-10-19T18:01:15.169875Z"
    },
    "tags": []
   },
   "outputs": [],
   "source": [
    "def difference_of_means(df, group_label):\n",
    "    \"\"\"\n",
    "    Returns the difference between the average Birth Weights of two groups given in column\n",
    "    group_label.\n",
    "    \n",
    "    INPUTS: \n",
    "    df: data frame;\n",
    "    group_label: column label that indicates the group to which the row belongs.\n",
    "    \n",
    "    OUTPUT:\n",
    "    Difference of mean birth weights of the two groups.\n",
    "    \"\"\"\n",
    "    reduced = df[[\"Birth Weight\", group_label]]\n",
    "    means_df = reduced.groupby(group_label).mean()\n",
    "    means = means_df.iloc[:, 0]\n",
    "    return means.iloc[1] - means.iloc[0]"
   ]
  },
  {
   "cell_type": "markdown",
   "id": "0af107c4-3118-460c-8242-a0f436322311",
   "metadata": {},
   "source": [
    "To check that the function is working, let's use it to calculate the observed difference between the mean birth weights of the two groups in the sample."
   ]
  },
  {
   "cell_type": "code",
   "execution_count": 10,
   "id": "e8b6faf6-96a8-4589-a2b0-9d57de856e21",
   "metadata": {
    "execution": {
     "iopub.execute_input": "2023-10-19T18:01:15.171050Z",
     "iopub.status.busy": "2023-10-19T18:01:15.170968Z",
     "iopub.status.idle": "2023-10-19T18:01:15.173797Z",
     "shell.execute_reply": "2023-10-19T18:01:15.173585Z"
    },
    "tags": []
   },
   "outputs": [
    {
     "data": {
      "text/plain": [
       "-9.266142572024918"
      ]
     },
     "execution_count": 10,
     "metadata": {},
     "output_type": "execute_result"
    }
   ],
   "source": [
    "difference_of_means(births, \"Maternal Smoker\")"
   ]
  },
  {
   "cell_type": "markdown",
   "id": "ece84fc4-3b18-475d-a0bd-22fa537a963c",
   "metadata": {},
   "source": [
    "That's the same as the value of `observed_difference` calculated earlier."
   ]
  },
  {
   "cell_type": "markdown",
   "id": "b49ebaf8-735f-47f9-95e0-f91f13f5bd70",
   "metadata": {},
   "source": [
    "### Predicting the Statistic Under the Null Hypothesis\n",
    "\n",
    "Let's now implement our idea to deal with this problem: let's shuffle the labels and see what difference of averages we obtain.\n",
    "\n",
    "We will have to repeat this many times, but let's show how it is done.\n",
    "\n",
    "The first thing we need to do is to *shuffle* the labels in the Maternal Smoker column.  We can do this with the method `.sample(frac=1)`.  (The `.sample` method draws random rows *without repetition*, and `frac=1` tells it to draw the same number as the total number of rows, effectively just shuffling the column.)  We also need to reset the index of the shuffled data frame (and drop the old one), so that when adding a new column, the labels do not end up in the same position!"
   ]
  },
  {
   "cell_type": "code",
   "execution_count": 11,
   "id": "2d2113e2-ff17-4a40-b4bd-8d1f9aa13baf",
   "metadata": {
    "execution": {
     "iopub.execute_input": "2023-10-19T18:01:15.174739Z",
     "iopub.status.busy": "2023-10-19T18:01:15.174671Z",
     "iopub.status.idle": "2023-10-19T18:01:15.179169Z",
     "shell.execute_reply": "2023-10-19T18:01:15.178888Z"
    },
    "tags": []
   },
   "outputs": [
    {
     "data": {
      "text/html": [
       "<div>\n",
       "<style scoped>\n",
       "    .dataframe tbody tr th:only-of-type {\n",
       "        vertical-align: middle;\n",
       "    }\n",
       "\n",
       "    .dataframe tbody tr th {\n",
       "        vertical-align: top;\n",
       "    }\n",
       "\n",
       "    .dataframe thead th {\n",
       "        text-align: right;\n",
       "    }\n",
       "</style>\n",
       "<table border=\"1\" class=\"dataframe\">\n",
       "  <thead>\n",
       "    <tr style=\"text-align: right;\">\n",
       "      <th></th>\n",
       "      <th>Maternal Smoker</th>\n",
       "      <th>Birth Weight</th>\n",
       "      <th>Shuffled Label</th>\n",
       "    </tr>\n",
       "  </thead>\n",
       "  <tbody>\n",
       "    <tr>\n",
       "      <th>0</th>\n",
       "      <td>False</td>\n",
       "      <td>120</td>\n",
       "      <td>False</td>\n",
       "    </tr>\n",
       "    <tr>\n",
       "      <th>1</th>\n",
       "      <td>False</td>\n",
       "      <td>113</td>\n",
       "      <td>False</td>\n",
       "    </tr>\n",
       "    <tr>\n",
       "      <th>2</th>\n",
       "      <td>True</td>\n",
       "      <td>128</td>\n",
       "      <td>False</td>\n",
       "    </tr>\n",
       "    <tr>\n",
       "      <th>3</th>\n",
       "      <td>True</td>\n",
       "      <td>108</td>\n",
       "      <td>True</td>\n",
       "    </tr>\n",
       "    <tr>\n",
       "      <th>4</th>\n",
       "      <td>False</td>\n",
       "      <td>136</td>\n",
       "      <td>False</td>\n",
       "    </tr>\n",
       "    <tr>\n",
       "      <th>...</th>\n",
       "      <td>...</td>\n",
       "      <td>...</td>\n",
       "      <td>...</td>\n",
       "    </tr>\n",
       "    <tr>\n",
       "      <th>1169</th>\n",
       "      <td>False</td>\n",
       "      <td>113</td>\n",
       "      <td>True</td>\n",
       "    </tr>\n",
       "    <tr>\n",
       "      <th>1170</th>\n",
       "      <td>False</td>\n",
       "      <td>128</td>\n",
       "      <td>False</td>\n",
       "    </tr>\n",
       "    <tr>\n",
       "      <th>1171</th>\n",
       "      <td>True</td>\n",
       "      <td>130</td>\n",
       "      <td>True</td>\n",
       "    </tr>\n",
       "    <tr>\n",
       "      <th>1172</th>\n",
       "      <td>False</td>\n",
       "      <td>125</td>\n",
       "      <td>False</td>\n",
       "    </tr>\n",
       "    <tr>\n",
       "      <th>1173</th>\n",
       "      <td>False</td>\n",
       "      <td>117</td>\n",
       "      <td>False</td>\n",
       "    </tr>\n",
       "  </tbody>\n",
       "</table>\n",
       "<p>1174 rows × 3 columns</p>\n",
       "</div>"
      ],
      "text/plain": [
       "      Maternal Smoker  Birth Weight  Shuffled Label\n",
       "0               False           120           False\n",
       "1               False           113           False\n",
       "2                True           128           False\n",
       "3                True           108            True\n",
       "4               False           136           False\n",
       "...               ...           ...             ...\n",
       "1169            False           113            True\n",
       "1170            False           128           False\n",
       "1171             True           130            True\n",
       "1172            False           125           False\n",
       "1173            False           117           False\n",
       "\n",
       "[1174 rows x 3 columns]"
      ]
     },
     "execution_count": 11,
     "metadata": {},
     "output_type": "execute_result"
    }
   ],
   "source": [
    "# shuffle labels\n",
    "shuffled_labels = (\n",
    "    smoking_and_birthweight[\"Maternal Smoker\"].sample(frac=1).reset_index(drop=True)\n",
    ")\n",
    "\n",
    "# add to data frame\n",
    "original_and_shuffled = smoking_and_birthweight.assign(tmp_name=shuffled_labels).rename(\n",
    "    columns={\"tmp_name\": \"Shuffled Label\"}\n",
    ")\n",
    "\n",
    "original_and_shuffled"
   ]
  },
  {
   "cell_type": "markdown",
   "id": "8ba25fcc-1cfb-490b-a58d-2cb4bd5de499",
   "metadata": {},
   "source": [
    "Each baby's mother now has a random smoker/non-smoker label in the column `Shuffled Label`, while her original label is in `Maternal Smoker`. If the null hypothesis is true, all the random re-arrangements of the labels should be equally likely.\n",
    "\n",
    "Let's see how different the average weights are in the two randomly labeled groups."
   ]
  },
  {
   "cell_type": "code",
   "execution_count": 12,
   "id": "f35edfb3-2494-4dc8-8d77-07f02ec05160",
   "metadata": {
    "execution": {
     "iopub.execute_input": "2023-10-19T18:01:15.180015Z",
     "iopub.status.busy": "2023-10-19T18:01:15.179944Z",
     "iopub.status.idle": "2023-10-19T18:01:15.182609Z",
     "shell.execute_reply": "2023-10-19T18:01:15.182389Z"
    },
    "tags": []
   },
   "outputs": [
    {
     "data": {
      "text/plain": [
       "0.5999146822676238"
      ]
     },
     "execution_count": 12,
     "metadata": {},
     "output_type": "execute_result"
    }
   ],
   "source": [
    "difference_of_means(original_and_shuffled, \"Shuffled Label\")"
   ]
  },
  {
   "cell_type": "markdown",
   "id": "5a25381b-ec9e-44a2-b3bb-032f107d4f23",
   "metadata": {},
   "source": [
    "The averages of the two randomly selected groups are quite a bit closer than the averages of the two original groups. We can use our function `difference_of_means` to find the two differences.\n",
    "\n",
    "Again, we need to repeat this process many times, so let's write a function to do the job:"
   ]
  },
  {
   "cell_type": "code",
   "execution_count": 13,
   "id": "1aad1849-c1a8-4b52-b78f-aaa8cf0ff75d",
   "metadata": {
    "execution": {
     "iopub.execute_input": "2023-10-19T18:01:15.183457Z",
     "iopub.status.busy": "2023-10-19T18:01:15.183389Z",
     "iopub.status.idle": "2023-10-19T18:01:15.185375Z",
     "shell.execute_reply": "2023-10-19T18:01:15.185147Z"
    },
    "tags": []
   },
   "outputs": [],
   "source": [
    "def one_simulated_difference_of_means():\n",
    "    \"\"\"\n",
    "    Shuffle Maternal Smoking labels, and give the difference of the averag birth weights.\n",
    "    \n",
    "    INPUT:\n",
    "    None.\n",
    "    \n",
    "    OUTPUT: \n",
    "    Difference between average birth weights of babies of smokers and non-smokers \n",
    "    after shuffling labels.\n",
    "    \"\"\"\n",
    "\n",
    "    # array of shuffled labels\n",
    "    shuffled_labels = births[\"Maternal Smoker\"].sample(frac=1).reset_index(drop=True)\n",
    "\n",
    "    # data frame of birth weights and shuffled labels\n",
    "    shuffled_df = (\n",
    "        births[[\"Birth Weight\"]]\n",
    "        .assign(tmp_name=shuffled_labels)\n",
    "        .rename(columns={\"tmp_name\": \"Shuffled Label\"})\n",
    "    )\n",
    "\n",
    "    return difference_of_means(shuffled_df, \"Shuffled Label\")"
   ]
  },
  {
   "cell_type": "markdown",
   "id": "b10a3ecb-a6a5-4c81-96f4-cf2987710858",
   "metadata": {},
   "source": [
    "Run the cell below a few times to see how the output changes."
   ]
  },
  {
   "cell_type": "code",
   "execution_count": 14,
   "id": "606fda3d-570f-43bf-9a93-c136d9b56663",
   "metadata": {
    "execution": {
     "iopub.execute_input": "2023-10-19T18:01:15.186084Z",
     "iopub.status.busy": "2023-10-19T18:01:15.186017Z",
     "iopub.status.idle": "2023-10-19T18:01:15.189331Z",
     "shell.execute_reply": "2023-10-19T18:01:15.189083Z"
    },
    "tags": []
   },
   "outputs": [
    {
     "data": {
      "text/plain": [
       "0.664305193716956"
      ]
     },
     "execution_count": 14,
     "metadata": {},
     "output_type": "execute_result"
    }
   ],
   "source": [
    "one_simulated_difference_of_means()"
   ]
  },
  {
   "cell_type": "markdown",
   "id": "e054b2bd-2c6b-452e-9298-8448fc7c7c0a",
   "metadata": {},
   "source": [
    "### Testing\n",
    "\n",
    "Let's shuffle the labels 5,000 times and collect the differences."
   ]
  },
  {
   "cell_type": "code",
   "execution_count": 15,
   "id": "6fbdd28a-0ba8-4051-a2c4-c3deec0c6cdd",
   "metadata": {
    "execution": {
     "iopub.execute_input": "2023-10-19T18:01:15.190129Z",
     "iopub.status.busy": "2023-10-19T18:01:15.190053Z",
     "iopub.status.idle": "2023-10-19T18:01:18.614260Z",
     "shell.execute_reply": "2023-10-19T18:01:18.613950Z"
    },
    "tags": []
   },
   "outputs": [],
   "source": [
    "repetitions = 5_000\n",
    "\n",
    "# initialize array with differences with zeros\n",
    "differences = np.zeros(repetitions, dtype=float)\n",
    "\n",
    "for i in np.arange(repetitions):\n",
    "    new_difference = one_simulated_difference_of_means()  # one difference\n",
    "    differences[i] = new_difference  # add difference to array"
   ]
  },
  {
   "cell_type": "markdown",
   "id": "c6c7c385-0a60-4753-9759-90e6c7e16587",
   "metadata": {},
   "source": [
    "Now we can see how often we had differences equal or less (since smaller values support the *alternative* hypothesis):"
   ]
  },
  {
   "cell_type": "code",
   "execution_count": 16,
   "id": "92fee91b-7414-4727-b103-7f72d0b08232",
   "metadata": {
    "execution": {
     "iopub.execute_input": "2023-10-19T18:01:18.615943Z",
     "iopub.status.busy": "2023-10-19T18:01:18.615878Z",
     "iopub.status.idle": "2023-10-19T18:01:18.617787Z",
     "shell.execute_reply": "2023-10-19T18:01:18.617602Z"
    },
    "tags": []
   },
   "outputs": [
    {
     "data": {
      "text/plain": [
       "0"
      ]
     },
     "execution_count": 16,
     "metadata": {},
     "output_type": "execute_result"
    }
   ],
   "source": [
    "np.count_nonzero(differences <= observed_difference)"
   ]
  },
  {
   "cell_type": "markdown",
   "id": "78e60ebb-a740-466a-84d9-6b466db790d1",
   "metadata": {},
   "source": [
    "So, in all our 5,000 tries, we never obtained a single difference equal or smaller than the observed.  In other words, the $p$-value here was $0$.  We then can safely accept the alternative hypothesis that smoking mother have lighter babies.\n",
    "\n",
    "Let's find the boundaries for statistically significant and highly statistically significant values:"
   ]
  },
  {
   "cell_type": "code",
   "execution_count": 17,
   "id": "650895d5-4d7a-4b7e-b506-ee30f017984f",
   "metadata": {
    "execution": {
     "iopub.execute_input": "2023-10-19T18:01:18.618800Z",
     "iopub.status.busy": "2023-10-19T18:01:18.618735Z",
     "iopub.status.idle": "2023-10-19T18:01:18.620822Z",
     "shell.execute_reply": "2023-10-19T18:01:18.620657Z"
    },
    "tags": []
   },
   "outputs": [
    {
     "name": "stdout",
     "output_type": "stream",
     "text": [
      "Statistically significant:        -1.73\n",
      "Highly statistically significant: -2.37\n"
     ]
    }
   ],
   "source": [
    "significant = np.percentile(differences, 5)\n",
    "highly_significant = np.percentile(differences, 1)\n",
    "\n",
    "print(f\"Statistically significant:        {significant:.2f}\")\n",
    "print(f\"Highly statistically significant: {highly_significant:.2f}\")"
   ]
  },
  {
   "cell_type": "markdown",
   "id": "e28eb74a-0418-4f47-a1d1-fb05ea9d0c7c",
   "metadata": {},
   "source": [
    "So, our observed difference was very far off!\n",
    "\n",
    "Let's visualize the distribution:"
   ]
  },
  {
   "cell_type": "code",
   "execution_count": 18,
   "id": "35b5de24-f242-40a3-9d02-84fcb1cf715a",
   "metadata": {
    "execution": {
     "iopub.execute_input": "2023-10-19T18:01:18.621649Z",
     "iopub.status.busy": "2023-10-19T18:01:18.621582Z",
     "iopub.status.idle": "2023-10-19T18:01:18.707850Z",
     "shell.execute_reply": "2023-10-19T18:01:18.707524Z"
    },
    "tags": []
   },
   "outputs": [
    {
     "data": {
      "image/png": "[encoded data removed]",
      "text/plain": [
       "<Figure size 800x600 with 1 Axes>"
      ]
     },
     "metadata": {},
     "output_type": "display_data"
    }
   ],
   "source": [
    "# distribution of differences\n",
    "plt.hist(differences, density=True, ec=\"white\", bins=20)\n",
    "\n",
    "# observed difference\n",
    "plt.scatter(\n",
    "    observed_difference, 0, c=\"blue\", marker=\"^\", s=200, label=\"Observed Difference\"\n",
    ")\n",
    "\n",
    "\n",
    "# significant value\n",
    "plt.scatter(significant, 0, c=\"gold\", marker=\"^\", s=200, label=\"Significant\");\n",
    "\n",
    "# highly significant value\n",
    "plt.scatter(highly_significant, 0, c=\"green\", marker=\"^\", s=200, label=\"Highly Significant\")\n",
    "\n",
    "plt.xlabel(\"Difference\")\n",
    "\n",
    "plt.legend(markerscale=0.5);"
   ]
  },
  {
   "cell_type": "markdown",
   "id": "63648bf4-5742-40ec-9e21-bcaf35331ec9",
   "metadata": {},
   "source": [
    "### Causation?\n",
    "\n",
    "Can we say the smoking *causes* mothers to have lighter babies?\n",
    "\n",
    "Not with the data at our disposal.  We have no control over other variables about the mothers."
   ]
  },
  {
   "cell_type": "markdown",
   "id": "255cc416-0f72-48fb-b81f-90914b148fe3",
   "metadata": {},
   "source": [
    "## Drug Trial\n",
    "\n",
    "### Randomized Controlled Trial\n",
    "\n",
    "Drug test are (usually) done with *randomized controlled trials (RCT)*: in these a selected group of individuals are *randomly* divided in two groups:\n",
    "\n",
    "* the *treatment* group, which will receive the drug, and\n",
    "* the *control* group, which will receive the placebo (something with no real medical effect, e.g., a sugar pill).\n",
    "\n",
    "Usually these are *blind studies*, meaning the the patients do not know to which group they belong.  This is important, as sometimes your psychological state can affect the outcome, so it is important to eliminate that possibility.\n",
    "\n",
    "Moreover, often these studies are *double blind*, so the doctors treating the patients do not know themselves which patients are in each group, ensuring that they do not offer different treatments.\n",
    "\n",
    "#### Towards Causation\n",
    "\n",
    "Note that these groups being *randomly* selected between the candidates helps ensure that the participants in the groups will (most likely) have no other universal common characteristic, besides receiving the drug.  This goes a long way towards causality!\n",
    "\n",
    "Note that in our previous example, we did not (and could not) randomly select which mothers would smoke, and which would not.  (If we could, we would be much closer to establishing causality!)\n",
    "\n",
    "So, for instance, maybe mother who smoke are more likely to drink (alcoholic beverages), and the *alcohol* caused the birth weight difference, and not the smoking.  (This is what we call a *confounding factor*.)\n",
    "\n",
    "But, in that case, if we could *randomly* select which mothers would smoke and which would not, the two groups would likely have the same proportions of drinkers and non-drinkers, and we would be able to see that the smoking did not affect the weight!"
   ]
  },
  {
   "cell_type": "markdown",
   "id": "14226768-22bf-469b-9e9f-540a2233ddb7",
   "metadata": {},
   "source": [
    "### The Trial: Chronic Back Pain:\n",
    "\n",
    "A [randomized controlled trial (RCT)](https://www.ncbi.nlm.nih.gov/pubmed/11376175) examined the effect of using Botulinum Toxin A (BTA) as a treatment.\n",
    "\n",
    "Thirty one patients with low-back pain were randomized into treatment and control groups, with 15 in the treatment group and 16 in control. \n",
    "\n",
    "The trials were run double-blind so that neither doctors nor patients knew which group they were in.\n",
    "\n",
    "Eight weeks after the start of the study, nine of the 15 in the treatment group and two of the 16 in the control group had pain relief (according to a precise definition used by the researchers). These data are in the file [bta.csv](bta.csv) (provided with this notebook)."
   ]
  },
  {
   "cell_type": "code",
   "execution_count": 19,
   "id": "d49c6530-b5d2-4f28-887f-9a268244a736",
   "metadata": {
    "execution": {
     "iopub.execute_input": "2023-10-19T18:01:18.708887Z",
     "iopub.status.busy": "2023-10-19T18:01:18.708822Z",
     "iopub.status.idle": "2023-10-19T18:01:18.713202Z",
     "shell.execute_reply": "2023-10-19T18:01:18.712981Z"
    },
    "tags": []
   },
   "outputs": [
    {
     "data": {
      "text/html": [
       "<div>\n",
       "<style scoped>\n",
       "    .dataframe tbody tr th:only-of-type {\n",
       "        vertical-align: middle;\n",
       "    }\n",
       "\n",
       "    .dataframe tbody tr th {\n",
       "        vertical-align: top;\n",
       "    }\n",
       "\n",
       "    .dataframe thead th {\n",
       "        text-align: right;\n",
       "    }\n",
       "</style>\n",
       "<table border=\"1\" class=\"dataframe\">\n",
       "  <thead>\n",
       "    <tr style=\"text-align: right;\">\n",
       "      <th></th>\n",
       "      <th>Group</th>\n",
       "      <th>Result</th>\n",
       "    </tr>\n",
       "  </thead>\n",
       "  <tbody>\n",
       "    <tr>\n",
       "      <th>0</th>\n",
       "      <td>Control</td>\n",
       "      <td>1.0</td>\n",
       "    </tr>\n",
       "    <tr>\n",
       "      <th>1</th>\n",
       "      <td>Control</td>\n",
       "      <td>1.0</td>\n",
       "    </tr>\n",
       "    <tr>\n",
       "      <th>2</th>\n",
       "      <td>Control</td>\n",
       "      <td>0.0</td>\n",
       "    </tr>\n",
       "    <tr>\n",
       "      <th>3</th>\n",
       "      <td>Control</td>\n",
       "      <td>0.0</td>\n",
       "    </tr>\n",
       "    <tr>\n",
       "      <th>4</th>\n",
       "      <td>Control</td>\n",
       "      <td>0.0</td>\n",
       "    </tr>\n",
       "    <tr>\n",
       "      <th>5</th>\n",
       "      <td>Control</td>\n",
       "      <td>0.0</td>\n",
       "    </tr>\n",
       "    <tr>\n",
       "      <th>6</th>\n",
       "      <td>Control</td>\n",
       "      <td>0.0</td>\n",
       "    </tr>\n",
       "    <tr>\n",
       "      <th>7</th>\n",
       "      <td>Control</td>\n",
       "      <td>0.0</td>\n",
       "    </tr>\n",
       "    <tr>\n",
       "      <th>8</th>\n",
       "      <td>Control</td>\n",
       "      <td>0.0</td>\n",
       "    </tr>\n",
       "    <tr>\n",
       "      <th>9</th>\n",
       "      <td>Control</td>\n",
       "      <td>0.0</td>\n",
       "    </tr>\n",
       "    <tr>\n",
       "      <th>10</th>\n",
       "      <td>Control</td>\n",
       "      <td>0.0</td>\n",
       "    </tr>\n",
       "    <tr>\n",
       "      <th>11</th>\n",
       "      <td>Control</td>\n",
       "      <td>0.0</td>\n",
       "    </tr>\n",
       "    <tr>\n",
       "      <th>12</th>\n",
       "      <td>Control</td>\n",
       "      <td>0.0</td>\n",
       "    </tr>\n",
       "    <tr>\n",
       "      <th>13</th>\n",
       "      <td>Control</td>\n",
       "      <td>0.0</td>\n",
       "    </tr>\n",
       "    <tr>\n",
       "      <th>14</th>\n",
       "      <td>Control</td>\n",
       "      <td>0.0</td>\n",
       "    </tr>\n",
       "    <tr>\n",
       "      <th>15</th>\n",
       "      <td>Control</td>\n",
       "      <td>0.0</td>\n",
       "    </tr>\n",
       "    <tr>\n",
       "      <th>16</th>\n",
       "      <td>Treatment</td>\n",
       "      <td>1.0</td>\n",
       "    </tr>\n",
       "    <tr>\n",
       "      <th>17</th>\n",
       "      <td>Treatment</td>\n",
       "      <td>1.0</td>\n",
       "    </tr>\n",
       "    <tr>\n",
       "      <th>18</th>\n",
       "      <td>Treatment</td>\n",
       "      <td>1.0</td>\n",
       "    </tr>\n",
       "    <tr>\n",
       "      <th>19</th>\n",
       "      <td>Treatment</td>\n",
       "      <td>1.0</td>\n",
       "    </tr>\n",
       "    <tr>\n",
       "      <th>20</th>\n",
       "      <td>Treatment</td>\n",
       "      <td>1.0</td>\n",
       "    </tr>\n",
       "    <tr>\n",
       "      <th>21</th>\n",
       "      <td>Treatment</td>\n",
       "      <td>1.0</td>\n",
       "    </tr>\n",
       "    <tr>\n",
       "      <th>22</th>\n",
       "      <td>Treatment</td>\n",
       "      <td>1.0</td>\n",
       "    </tr>\n",
       "    <tr>\n",
       "      <th>23</th>\n",
       "      <td>Treatment</td>\n",
       "      <td>1.0</td>\n",
       "    </tr>\n",
       "    <tr>\n",
       "      <th>24</th>\n",
       "      <td>Treatment</td>\n",
       "      <td>1.0</td>\n",
       "    </tr>\n",
       "    <tr>\n",
       "      <th>25</th>\n",
       "      <td>Treatment</td>\n",
       "      <td>0.0</td>\n",
       "    </tr>\n",
       "    <tr>\n",
       "      <th>26</th>\n",
       "      <td>Treatment</td>\n",
       "      <td>0.0</td>\n",
       "    </tr>\n",
       "    <tr>\n",
       "      <th>27</th>\n",
       "      <td>Treatment</td>\n",
       "      <td>0.0</td>\n",
       "    </tr>\n",
       "    <tr>\n",
       "      <th>28</th>\n",
       "      <td>Treatment</td>\n",
       "      <td>0.0</td>\n",
       "    </tr>\n",
       "    <tr>\n",
       "      <th>29</th>\n",
       "      <td>Treatment</td>\n",
       "      <td>0.0</td>\n",
       "    </tr>\n",
       "    <tr>\n",
       "      <th>30</th>\n",
       "      <td>Treatment</td>\n",
       "      <td>0.0</td>\n",
       "    </tr>\n",
       "  </tbody>\n",
       "</table>\n",
       "</div>"
      ],
      "text/plain": [
       "        Group  Result\n",
       "0     Control     1.0\n",
       "1     Control     1.0\n",
       "2     Control     0.0\n",
       "3     Control     0.0\n",
       "4     Control     0.0\n",
       "5     Control     0.0\n",
       "6     Control     0.0\n",
       "7     Control     0.0\n",
       "8     Control     0.0\n",
       "9     Control     0.0\n",
       "10    Control     0.0\n",
       "11    Control     0.0\n",
       "12    Control     0.0\n",
       "13    Control     0.0\n",
       "14    Control     0.0\n",
       "15    Control     0.0\n",
       "16  Treatment     1.0\n",
       "17  Treatment     1.0\n",
       "18  Treatment     1.0\n",
       "19  Treatment     1.0\n",
       "20  Treatment     1.0\n",
       "21  Treatment     1.0\n",
       "22  Treatment     1.0\n",
       "23  Treatment     1.0\n",
       "24  Treatment     1.0\n",
       "25  Treatment     0.0\n",
       "26  Treatment     0.0\n",
       "27  Treatment     0.0\n",
       "28  Treatment     0.0\n",
       "29  Treatment     0.0\n",
       "30  Treatment     0.0"
      ]
     },
     "execution_count": 19,
     "metadata": {},
     "output_type": "execute_result"
    }
   ],
   "source": [
    "bta = pd.read_csv(\"bta.csv\")\n",
    "bta"
   ]
  },
  {
   "cell_type": "markdown",
   "id": "e57ac405-554f-403f-9e0b-4412845f46bb",
   "metadata": {},
   "source": [
    "(**Note:** `1.0` means that the patient had some pain relief and `0.0` means they did not.)"
   ]
  },
  {
   "cell_type": "markdown",
   "id": "3f475510-fea8-46e1-bd96-1dff55c3851a",
   "metadata": {},
   "source": [
    "Let's see how many patients recovered in each group. Remember that counting is the same as adding zeros and ones. The sum of 1's in the control group is the number of control group patients who had pain relief. "
   ]
  },
  {
   "cell_type": "code",
   "execution_count": 20,
   "id": "05b504f6-c805-4fb0-99ec-372e8c88cf37",
   "metadata": {
    "execution": {
     "iopub.execute_input": "2023-10-19T18:01:18.714166Z",
     "iopub.status.busy": "2023-10-19T18:01:18.714104Z",
     "iopub.status.idle": "2023-10-19T18:01:18.716999Z",
     "shell.execute_reply": "2023-10-19T18:01:18.716790Z"
    },
    "tags": []
   },
   "outputs": [
    {
     "data": {
      "text/html": [
       "<div>\n",
       "<style scoped>\n",
       "    .dataframe tbody tr th:only-of-type {\n",
       "        vertical-align: middle;\n",
       "    }\n",
       "\n",
       "    .dataframe tbody tr th {\n",
       "        vertical-align: top;\n",
       "    }\n",
       "\n",
       "    .dataframe thead th {\n",
       "        text-align: right;\n",
       "    }\n",
       "</style>\n",
       "<table border=\"1\" class=\"dataframe\">\n",
       "  <thead>\n",
       "    <tr style=\"text-align: right;\">\n",
       "      <th></th>\n",
       "      <th>Result</th>\n",
       "    </tr>\n",
       "    <tr>\n",
       "      <th>Group</th>\n",
       "      <th></th>\n",
       "    </tr>\n",
       "  </thead>\n",
       "  <tbody>\n",
       "    <tr>\n",
       "      <th>Control</th>\n",
       "      <td>2.0</td>\n",
       "    </tr>\n",
       "    <tr>\n",
       "      <th>Treatment</th>\n",
       "      <td>9.0</td>\n",
       "    </tr>\n",
       "  </tbody>\n",
       "</table>\n",
       "</div>"
      ],
      "text/plain": [
       "           Result\n",
       "Group            \n",
       "Control       2.0\n",
       "Treatment     9.0"
      ]
     },
     "execution_count": 20,
     "metadata": {},
     "output_type": "execute_result"
    }
   ],
   "source": [
    "bta.groupby(\"Group\").sum()"
   ]
  },
  {
   "cell_type": "markdown",
   "id": "684ee6f9-cb8d-4d71-a692-9a31e7916efd",
   "metadata": {},
   "source": [
    "Since counting is the same as the *sum* of zeros and ones, the *proportion* of patients who had pain relief is the *average* of zeros and ones. It is the sum divided by the total number of patients in each group."
   ]
  },
  {
   "cell_type": "code",
   "execution_count": 21,
   "id": "9754ceb0-fb01-498b-a4f9-f55c03cc77b2",
   "metadata": {
    "execution": {
     "iopub.execute_input": "2023-10-19T18:01:18.718016Z",
     "iopub.status.busy": "2023-10-19T18:01:18.717949Z",
     "iopub.status.idle": "2023-10-19T18:01:18.720721Z",
     "shell.execute_reply": "2023-10-19T18:01:18.720507Z"
    },
    "tags": []
   },
   "outputs": [
    {
     "data": {
      "text/html": [
       "<div>\n",
       "<style scoped>\n",
       "    .dataframe tbody tr th:only-of-type {\n",
       "        vertical-align: middle;\n",
       "    }\n",
       "\n",
       "    .dataframe tbody tr th {\n",
       "        vertical-align: top;\n",
       "    }\n",
       "\n",
       "    .dataframe thead th {\n",
       "        text-align: right;\n",
       "    }\n",
       "</style>\n",
       "<table border=\"1\" class=\"dataframe\">\n",
       "  <thead>\n",
       "    <tr style=\"text-align: right;\">\n",
       "      <th></th>\n",
       "      <th>Result</th>\n",
       "    </tr>\n",
       "    <tr>\n",
       "      <th>Group</th>\n",
       "      <th></th>\n",
       "    </tr>\n",
       "  </thead>\n",
       "  <tbody>\n",
       "    <tr>\n",
       "      <th>Control</th>\n",
       "      <td>0.125</td>\n",
       "    </tr>\n",
       "    <tr>\n",
       "      <th>Treatment</th>\n",
       "      <td>0.600</td>\n",
       "    </tr>\n",
       "  </tbody>\n",
       "</table>\n",
       "</div>"
      ],
      "text/plain": [
       "           Result\n",
       "Group            \n",
       "Control     0.125\n",
       "Treatment   0.600"
      ]
     },
     "execution_count": 21,
     "metadata": {},
     "output_type": "execute_result"
    }
   ],
   "source": [
    "bta.groupby(\"Group\").mean()"
   ]
  },
  {
   "cell_type": "markdown",
   "id": "a4c867da-8708-45df-ab75-bd2940c61060",
   "metadata": {},
   "source": [
    "In the treatment group, 60% of the patients had pain relief, compared to only 12.5% in the control group. None of the patients suffered any side effects. \n",
    "\n",
    "So the indications are that botulinum toxin A did better than the saline. But the conclusion isn't yet a slam-dunk. The patients were assigned at random into the two groups, so perhaps the difference could just be due to chance?\n",
    "\n",
    "We have then:\n",
    "\n",
    "* **Null Hypothesis:** The distribution of all 31 potential \"treatment\" outcomes is the same as that of all 31 potential \"control\" outcomes.\n",
    "* **Alternative Hypothesis:** Patients receiving the treatment do better than those not receiving it.\n",
    "\n",
    "\n",
    "Let's test it again, by randomizing the labels, as before."
   ]
  },
  {
   "cell_type": "markdown",
   "id": "3060ab6c-6e5d-4395-ba1b-2723dc08655c",
   "metadata": {},
   "source": [
    "### The Test Statistic\n",
    "\n",
    "We will use the difference between the proportion of patients that improved between patients in the treatment and control groups (in this order).  Thus, larger differences support the alternative hypothesis.\n",
    "\n",
    "Let's find our observed difference:"
   ]
  },
  {
   "cell_type": "code",
   "execution_count": 22,
   "id": "092ddafa-a4be-498a-aaca-0377dcb3786e",
   "metadata": {
    "execution": {
     "iopub.execute_input": "2023-10-19T18:01:18.721684Z",
     "iopub.status.busy": "2023-10-19T18:01:18.721621Z",
     "iopub.status.idle": "2023-10-19T18:01:18.723946Z",
     "shell.execute_reply": "2023-10-19T18:01:18.723735Z"
    },
    "tags": []
   },
   "outputs": [
    {
     "data": {
      "text/plain": [
       "0.475"
      ]
     },
     "execution_count": 22,
     "metadata": {},
     "output_type": "execute_result"
    }
   ],
   "source": [
    "observed_proportions = bta.groupby(\"Group\").mean()\n",
    "observed_difference = (\n",
    "    observed_proportions.loc[\"Treatment\", \"Result\"]\n",
    "    - observed_proportions.loc[\"Control\", \"Result\"]\n",
    ")\n",
    "observed_difference"
   ]
  },
  {
   "cell_type": "markdown",
   "id": "0585e7d7-f6f1-4839-a658-8235ee749fa3",
   "metadata": {},
   "source": [
    "Let's write a function that shuffles the labels and computes the difference:"
   ]
  },
  {
   "cell_type": "code",
   "execution_count": 23,
   "id": "8a37decc-e7f9-4a1a-9578-0de054b27fc2",
   "metadata": {
    "execution": {
     "iopub.execute_input": "2023-10-19T18:01:18.724868Z",
     "iopub.status.busy": "2023-10-19T18:01:18.724807Z",
     "iopub.status.idle": "2023-10-19T18:01:18.726486Z",
     "shell.execute_reply": "2023-10-19T18:01:18.726273Z"
    },
    "tags": []
   },
   "outputs": [],
   "source": [
    "def mean_difference(df, group_label):\n",
    "    \"\"\"\n",
    "    Gives the difference between average drops of Control and Treatment groups in the\n",
    "    group_label column.\n",
    "    \n",
    "    INPUT:\n",
    "    df: data frame with Control and Treatment in the column labeled group_label;\n",
    "    group_label: label for column containing Control and Treatment categories.\n",
    "    \n",
    "    OUTPUT:\n",
    "    Difference of average drops between Control and Treatment groups.\n",
    "    \"\"\"\n",
    "    \n",
    "    reduced = df[[\"Result\", group_label]]\n",
    "    prop_df = reduced.groupby(group_label).mean()\n",
    "    return prop_df.loc[\"Treatment\", \"Result\"] - prop_df.loc[\"Control\", \"Result\"]"
   ]
  },
  {
   "cell_type": "code",
   "execution_count": 24,
   "id": "74680338-ce5f-4fdd-93c1-51e007cf5c6d",
   "metadata": {
    "execution": {
     "iopub.execute_input": "2023-10-19T18:01:18.727605Z",
     "iopub.status.busy": "2023-10-19T18:01:18.727541Z",
     "iopub.status.idle": "2023-10-19T18:01:18.729839Z",
     "shell.execute_reply": "2023-10-19T18:01:18.729630Z"
    },
    "tags": []
   },
   "outputs": [
    {
     "data": {
      "text/plain": [
       "0.475"
      ]
     },
     "execution_count": 24,
     "metadata": {},
     "output_type": "execute_result"
    }
   ],
   "source": [
    "mean_difference(bta, \"Group\")"
   ]
  },
  {
   "cell_type": "code",
   "execution_count": 25,
   "id": "672ef223-78ff-4392-b9ee-9162b08f969d",
   "metadata": {
    "execution": {
     "iopub.execute_input": "2023-10-19T18:01:18.730698Z",
     "iopub.status.busy": "2023-10-19T18:01:18.730637Z",
     "iopub.status.idle": "2023-10-19T18:01:18.732339Z",
     "shell.execute_reply": "2023-10-19T18:01:18.732126Z"
    },
    "tags": []
   },
   "outputs": [],
   "source": [
    "def one_simulated_difference():\n",
    "    \"\"\"\n",
    "    Give difference between drops of Control and Treatment groups in reampling of \n",
    "    original bta data frame.\n",
    "    \n",
    "    INPUT:\n",
    "    None.\n",
    "    \n",
    "    OUTPUT:\n",
    "    Difference between drops of Control and Treatment groups in reampling of \n",
    "    original bta data frame.\n",
    "    \"\"\"\n",
    "    shuffled_labels = bta[\"Group\"].sample(frac=1).reset_index(drop=True)\n",
    "\n",
    "    shuffled_df = bta.assign(tmp_name=shuffled_labels).rename(\n",
    "        columns={\"tmp_name\": \"Shuffled Label\"}\n",
    "    )\n",
    "\n",
    "    return mean_difference(shuffled_df, \"Shuffled Label\")"
   ]
  },
  {
   "cell_type": "markdown",
   "id": "b3c8ae27-2e47-4e8a-afff-94fd68586825",
   "metadata": {},
   "source": [
    "Now we run the experiment.  Let's do it 20,000 times:"
   ]
  },
  {
   "cell_type": "code",
   "execution_count": 26,
   "id": "cc8f84c1-bdb5-4920-9841-bc3dc12bf609",
   "metadata": {
    "execution": {
     "iopub.execute_input": "2023-10-19T18:01:18.733234Z",
     "iopub.status.busy": "2023-10-19T18:01:18.733172Z",
     "iopub.status.idle": "2023-10-19T18:01:31.053910Z",
     "shell.execute_reply": "2023-10-19T18:01:31.053696Z"
    },
    "tags": []
   },
   "outputs": [],
   "source": [
    "repetitions = 20_000\n",
    "\n",
    "# initialize differences of averages in drops with zeros\n",
    "differences = np.zeros(repetitions)\n",
    "\n",
    "for i in np.arange(repetitions):\n",
    "    differences[i] = one_simulated_difference()  # add new difference to array"
   ]
  },
  {
   "cell_type": "markdown",
   "id": "ce47a7ad-9b23-42f2-a6f9-f3db29e0a96c",
   "metadata": {},
   "source": [
    "Let's find the proportion of times that the difference was equal or higher than the observed:"
   ]
  },
  {
   "cell_type": "code",
   "execution_count": 27,
   "id": "1b2e6a0e-4c18-4074-bdec-06aa3f4202ac",
   "metadata": {
    "execution": {
     "iopub.execute_input": "2023-10-19T18:01:31.055625Z",
     "iopub.status.busy": "2023-10-19T18:01:31.055528Z",
     "iopub.status.idle": "2023-10-19T18:01:31.057724Z",
     "shell.execute_reply": "2023-10-19T18:01:31.057561Z"
    },
    "tags": []
   },
   "outputs": [
    {
     "data": {
      "text/plain": [
       "0.00835"
      ]
     },
     "execution_count": 27,
     "metadata": {},
     "output_type": "execute_result"
    }
   ],
   "source": [
    "np.count_nonzero(differences >= observed_difference) / len(differences)"
   ]
  },
  {
   "cell_type": "markdown",
   "id": "fb572368-e339-4a0b-b68e-2bcbf3072d02",
   "metadata": {},
   "source": [
    "So, our $p$-value is *highly* statistically significant, and we are inclined to accept the alternative hypothesis that the treatment does improve the patient's pain.\n",
    "\n",
    "The study reports a $p$-value of 0.009, or 0.9%, which is not far from our empirical value."
   ]
  },
  {
   "cell_type": "markdown",
   "id": "851e957e-c118-4579-8ddf-07413ef28665",
   "metadata": {},
   "source": [
    "Again, let's find the significant values:"
   ]
  },
  {
   "cell_type": "code",
   "execution_count": 28,
   "id": "1be38b2c-5e5d-44a7-b813-85fa77afa734",
   "metadata": {
    "execution": {
     "iopub.execute_input": "2023-10-19T18:01:31.058775Z",
     "iopub.status.busy": "2023-10-19T18:01:31.058704Z",
     "iopub.status.idle": "2023-10-19T18:01:31.060695Z",
     "shell.execute_reply": "2023-10-19T18:01:31.060521Z"
    },
    "tags": []
   },
   "outputs": [
    {
     "name": "stdout",
     "output_type": "stream",
     "text": [
      "Statistically significant:        0.35\n",
      "Highly statistically significant: 0.35\n"
     ]
    }
   ],
   "source": [
    "significant = np.percentile(differences, 95)\n",
    "highly_significant = np.percentile(differences, 99)\n",
    "\n",
    "print(f\"Statistically significant:        {significant:.2f}\")\n",
    "print(f\"Highly statistically significant: {highly_significant:.2f}\")"
   ]
  },
  {
   "cell_type": "markdown",
   "id": "cf9acbeb-d390-4503-8cf9-c77b67ac56d6",
   "metadata": {},
   "source": [
    "(The values coincide since our data is small, only 31 patients.)\n",
    "\n",
    "And let's plot the data:"
   ]
  },
  {
   "cell_type": "code",
   "execution_count": 29,
   "id": "b25c9954-557a-4bc5-a763-34916678d1ef",
   "metadata": {
    "execution": {
     "iopub.execute_input": "2023-10-19T18:01:31.061715Z",
     "iopub.status.busy": "2023-10-19T18:01:31.061632Z",
     "iopub.status.idle": "2023-10-19T18:01:31.127411Z",
     "shell.execute_reply": "2023-10-19T18:01:31.127248Z"
    },
    "tags": []
   },
   "outputs": [
    {
     "data": {
      "image/png": "[encoded data removed]",
      "text/plain": [
       "<Figure size 800x600 with 1 Axes>"
      ]
     },
     "metadata": {},
     "output_type": "display_data"
    }
   ],
   "source": [
    "# distribution of differences\n",
    "plt.hist(differences, density=True, ec=\"white\", bins=10)\n",
    "\n",
    "# observed difference\n",
    "plt.scatter(\n",
    "    observed_difference, 0, c=\"blue\", marker=\"^\", s=200, label=\"Observed Difference\"\n",
    ")\n",
    "\n",
    "# significant value\n",
    "plt.scatter(significant, 0, c=\"gold\", marker=\"^\", s=200, label=\"Significant\");\n",
    "\n",
    "# highly significant value\n",
    "plt.scatter(highly_significant, 0, c=\"green\", marker=\"^\", s=200, label=\"Highly Significant\")\n",
    "\n",
    "plt.xlabel(\"Difference\")\n",
    "\n",
    "plt.legend(markerscale=0.5);"
   ]
  },
  {
   "cell_type": "markdown",
   "id": "28cdf9a6-f4d5-4418-bc6d-199f31032e2e",
   "metadata": {},
   "source": [
    "### Causality\n",
    "\n",
    "*Because the trials were randomized*, the test is evidence that the treatment *causes* the difference. The random assignment of patients to the two groups ensures that there is no confounding variable that could affect the conclusion of causality.\n",
    "\n",
    "If the treatment had not been randomly assigned, our test would still point toward an *association* between the treatment and back pain outcomes among our 31 patients.  \n",
    "\n",
    "But beware: without randomization, this association would not imply that the treatment caused a change in back pain outcomes.  For example, if the patients themselves had chosen whether to administer the treatment, perhaps the patients experiencing more pain would be more likely to choose the treatment *and* more likely to experience some reduction in pain even without medication.  Pre-existing pain would then be a *confounding factor* in the analysis."
   ]
  },
  {
   "cell_type": "markdown",
   "id": "189ffe85-deea-4c5e-ae7d-29387c654311",
   "metadata": {},
   "source": [
    "## Comments, Suggestions, Corrections\n",
    "\n",
    "Please send your comments, suggestions, and corrections to lfinotti@utk.edu."
   ]
  }
 ],
 "metadata": {
  "kernelspec": {
   "display_name": "Python 3 (ipykernel)",
   "language": "python",
   "name": "python3"
  },
  "language_info": {
   "codemirror_mode": {
    "name": "ipython",
    "version": 3
   },
   "file_extension": ".py",
   "mimetype": "text/x-python",
   "name": "python",
   "nbconvert_exporter": "python",
   "pygments_lexer": "ipython3",
   "version": "3.11.6"
  }
 },
 "nbformat": 4,
 "nbformat_minor": 5
}
