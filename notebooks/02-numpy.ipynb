{
 "cells": [
  {
   "cell_type": "markdown",
   "id": "7dfde0f5-66a0-444a-9d23-a22df8f9cbd3",
   "metadata": {},
   "source": [
    "# NumPy\n",
    "\n",
    "## Introduction\n",
    "\n",
    "[NumPy](https://numpy.org/) is a Python library for fast (numerical) computations with arrays.  We use NumPy arrays instead of Python's lists when we need to perform fast computations with the encapsulated data.\n",
    "\n",
    "NumPy does not come with Python, so it needs to be installed separately.  If you have a *vanilla* installation of Python, you can do it by running \n",
    "\n",
    "```\n",
    "pip install numpy\n",
    "```\n",
    "\n",
    "from a terminal.\n",
    "\n",
    "On the other hand, if you installed Anaconda, it should already be available."
   ]
  },
  {
   "cell_type": "markdown",
   "id": "d8601c30-d585-48f8-af47-939c352b75c6",
   "metadata": {},
   "source": [
    "After installation, we need to import it.  We usually give is the shortcut `np`, so that we can call its commands with `np.function` instead of `numpy.function`.  (This shortcut is the standard.)"
   ]
  },
  {
   "cell_type": "code",
   "execution_count": 1,
   "id": "777412e4-6ad4-4375-9928-ccc85cea2d20",
   "metadata": {
    "tags": []
   },
   "outputs": [],
   "source": [
    "import numpy as np"
   ]
  },
  {
   "cell_type": "markdown",
   "id": "7907347e-1f3b-4b2d-a105-dc0dc07387df",
   "metadata": {},
   "source": [
    "## Creating Arrays"
   ]
  },
  {
   "cell_type": "markdown",
   "id": "23707c1b-e9a1-41b0-a1e9-aea4de9cac61",
   "metadata": {},
   "source": [
    "### Manual Creation\n",
    "\n",
    "We can create a NumPy array (which I will refer to simply as an array from now on), by converting a Python list, using the function `np.array`:"
   ]
  },
  {
   "cell_type": "code",
   "execution_count": 2,
   "id": "354fe7a4-6ca3-49d8-8405-d7bf9d0557bd",
   "metadata": {
    "tags": []
   },
   "outputs": [
    {
     "data": {
      "text/plain": [
       "array([1, 2, 3, 4])"
      ]
     },
     "execution_count": 2,
     "metadata": {},
     "output_type": "execute_result"
    }
   ],
   "source": [
    "first_array = np.array([1, 2, 3, 4])\n",
    "\n",
    "first_array"
   ]
  },
  {
   "cell_type": "code",
   "execution_count": 3,
   "id": "64847937-9dc9-4b61-875a-df06b4792ec3",
   "metadata": {
    "tags": []
   },
   "outputs": [
    {
     "data": {
      "text/plain": [
       "array([ 2.41,  3.11,  5.7 , 11.  ])"
      ]
     },
     "execution_count": 3,
     "metadata": {},
     "output_type": "execute_result"
    }
   ],
   "source": [
    "second_array = np.array([2.41, 3.11, 5.7, 11.0])\n",
    "\n",
    "second_array"
   ]
  },
  {
   "cell_type": "markdown",
   "id": "ced80684-6c2f-4fc7-b4e1-a8d06daf0f13",
   "metadata": {},
   "source": [
    "### Ranges\n",
    "\n",
    "We also have `np.arange`, similar to Python's `range`, to create arrays following a pattern:"
   ]
  },
  {
   "cell_type": "code",
   "execution_count": 4,
   "id": "8f8340c7-8128-4b5e-a978-a9551b0f9e1c",
   "metadata": {
    "tags": []
   },
   "outputs": [
    {
     "data": {
      "text/plain": [
       "array([0, 1, 2, 3, 4, 5, 6, 7, 8, 9])"
      ]
     },
     "execution_count": 4,
     "metadata": {},
     "output_type": "execute_result"
    }
   ],
   "source": [
    "np.arange(10)"
   ]
  },
  {
   "cell_type": "code",
   "execution_count": 5,
   "id": "eccc2cd8-3dec-4a96-954f-9d5fa109cf3f",
   "metadata": {
    "tags": []
   },
   "outputs": [
    {
     "data": {
      "text/plain": [
       "array([ 3,  4,  5,  6,  7,  8,  9, 10, 11, 12, 13, 14])"
      ]
     },
     "execution_count": 5,
     "metadata": {},
     "output_type": "execute_result"
    }
   ],
   "source": [
    "np.arange(3, 15)"
   ]
  },
  {
   "cell_type": "code",
   "execution_count": 6,
   "id": "af9d0aa0-e4a2-4534-8247-e7c9bbe9e718",
   "metadata": {
    "tags": []
   },
   "outputs": [
    {
     "data": {
      "text/plain": [
       "array([ 4,  9, 14, 19, 24, 29])"
      ]
     },
     "execution_count": 6,
     "metadata": {},
     "output_type": "execute_result"
    }
   ],
   "source": [
    "np.arange(4, 32, 5)"
   ]
  },
  {
   "cell_type": "markdown",
   "id": "0c6f7d49-6947-49a3-9ceb-1cb664340426",
   "metadata": {},
   "source": [
    "We can also create an array with a predetermined number of entries *equally spaced* between given first and last elements using `np.linspace`:"
   ]
  },
  {
   "cell_type": "code",
   "execution_count": 7,
   "id": "ae811bf7-67d7-4d0d-a650-1ba583c526d3",
   "metadata": {
    "tags": []
   },
   "outputs": [
    {
     "data": {
      "text/plain": [
       "array([ 1.   ,  1.375,  1.75 ,  2.125,  2.5  ,  2.875,  3.25 ,  3.625,\n",
       "        4.   ,  4.375,  4.75 ,  5.125,  5.5  ,  5.875,  6.25 ,  6.625,\n",
       "        7.   ,  7.375,  7.75 ,  8.125,  8.5  ,  8.875,  9.25 ,  9.625,\n",
       "       10.   ])"
      ]
     },
     "execution_count": 7,
     "metadata": {},
     "output_type": "execute_result"
    }
   ],
   "source": [
    "np.linspace(1, 10, 25)  # array with 25 elements, starting at 1 and ending at 10"
   ]
  },
  {
   "cell_type": "markdown",
   "id": "99861522-3ea9-4d10-80b3-cb71975fd771",
   "metadata": {},
   "source": [
    "### Repetitions\n",
    "\n",
    "We can create arrays of zeros and ones of a specified type as well, with `np.zeros` and `np.ones`, respectively:"
   ]
  },
  {
   "cell_type": "code",
   "execution_count": 8,
   "id": "097a28a6-766c-46e1-98ad-69c49805978a",
   "metadata": {
    "tags": []
   },
   "outputs": [
    {
     "data": {
      "text/plain": [
       "array([0., 0., 0., 0., 0., 0., 0., 0., 0., 0.])"
      ]
     },
     "execution_count": 8,
     "metadata": {},
     "output_type": "execute_result"
    }
   ],
   "source": [
    "np.zeros(10)  # 10 zeros (floats by default)"
   ]
  },
  {
   "cell_type": "code",
   "execution_count": 9,
   "id": "5de08d00-b258-4920-9d23-7a20103e6fe2",
   "metadata": {
    "tags": []
   },
   "outputs": [
    {
     "data": {
      "text/plain": [
       "array([0, 0, 0, 0, 0, 0, 0, 0, 0, 0])"
      ]
     },
     "execution_count": 9,
     "metadata": {},
     "output_type": "execute_result"
    }
   ],
   "source": [
    "np.zeros(10, dtype=np.int64)  # 10 integer zeros "
   ]
  },
  {
   "cell_type": "code",
   "execution_count": 10,
   "id": "242bc7ec-9529-48c1-b53c-b73c3d365d4a",
   "metadata": {
    "tags": []
   },
   "outputs": [
    {
     "data": {
      "text/plain": [
       "array([False, False, False, False, False, False, False, False, False,\n",
       "       False])"
      ]
     },
     "execution_count": 10,
     "metadata": {},
     "output_type": "execute_result"
    }
   ],
   "source": [
    "np.zeros(10, dtype=bool)  # the boolean zero is False"
   ]
  },
  {
   "cell_type": "code",
   "execution_count": 11,
   "id": "4ddbaf9e-1cc6-4fc7-a074-60f6c65bf33e",
   "metadata": {
    "tags": []
   },
   "outputs": [
    {
     "data": {
      "text/plain": [
       "array([1., 1., 1., 1., 1.])"
      ]
     },
     "execution_count": 11,
     "metadata": {},
     "output_type": "execute_result"
    }
   ],
   "source": [
    "np.ones(5)  # 5 ones (floats by default)"
   ]
  },
  {
   "cell_type": "code",
   "execution_count": 12,
   "id": "c933e6dc-6b70-4c42-871d-0d5196ccd3bf",
   "metadata": {
    "tags": []
   },
   "outputs": [
    {
     "data": {
      "text/plain": [
       "array([1, 1, 1, 1, 1])"
      ]
     },
     "execution_count": 12,
     "metadata": {},
     "output_type": "execute_result"
    }
   ],
   "source": [
    "np.ones(5, dtype=np.int64)  # 5 integer zeros "
   ]
  },
  {
   "cell_type": "code",
   "execution_count": 13,
   "id": "7b2eff52-9596-4217-8a07-c28e7c1cfc23",
   "metadata": {
    "tags": []
   },
   "outputs": [
    {
     "data": {
      "text/plain": [
       "array([ True,  True,  True,  True,  True])"
      ]
     },
     "execution_count": 13,
     "metadata": {},
     "output_type": "execute_result"
    }
   ],
   "source": [
    "np.ones(5, dtype=bool)  # the boolean one is True"
   ]
  },
  {
   "cell_type": "markdown",
   "id": "55c58be3-0a0c-4373-a349-45cb8343e7b9",
   "metadata": {},
   "source": [
    "To create an array that repeats the same element, we can use `np.repeat` or `np.full`:"
   ]
  },
  {
   "cell_type": "code",
   "execution_count": 14,
   "id": "9518f8f7-3042-451a-812a-976d6468344b",
   "metadata": {
    "tags": []
   },
   "outputs": [
    {
     "data": {
      "text/plain": [
       "array([2, 2, 2, 2, 2, 2, 2])"
      ]
     },
     "execution_count": 14,
     "metadata": {},
     "output_type": "execute_result"
    }
   ],
   "source": [
    "np.repeat(2, 7)  # seven twos"
   ]
  },
  {
   "cell_type": "code",
   "execution_count": 15,
   "id": "83d74652-3810-4604-a08a-f2622689224e",
   "metadata": {
    "tags": []
   },
   "outputs": [
    {
     "data": {
      "text/plain": [
       "array([2, 2, 2, 2, 2, 2, 2])"
      ]
     },
     "execution_count": 15,
     "metadata": {},
     "output_type": "execute_result"
    }
   ],
   "source": [
    "np.full(7, 2)  # seven twos again -- note the parameters are switched!"
   ]
  },
  {
   "cell_type": "markdown",
   "id": "7f614713-e0ac-441d-9d9b-dff3130ff81a",
   "metadata": {},
   "source": [
    "If we pass an array instead of an element to `np.repeat`, it repeats each element:"
   ]
  },
  {
   "cell_type": "code",
   "execution_count": 16,
   "id": "2620ac2d-a444-4b26-9a1d-c4d48db4ff02",
   "metadata": {
    "tags": []
   },
   "outputs": [
    {
     "data": {
      "text/plain": [
       "array([1, 1, 1, 1, 2, 2, 2, 2, 3, 3, 3, 3])"
      ]
     },
     "execution_count": 16,
     "metadata": {},
     "output_type": "execute_result"
    }
   ],
   "source": [
    "np.repeat(np.array([1, 2, 3]), 4)"
   ]
  },
  {
   "cell_type": "markdown",
   "id": "efc23279-334f-4a0c-bc91-068624996a9b",
   "metadata": {},
   "source": [
    "To repeat in sequence, we can use `np.tile`:"
   ]
  },
  {
   "cell_type": "code",
   "execution_count": 17,
   "id": "bd35e1d9-7970-4549-90ca-dc8e079c366a",
   "metadata": {
    "tags": []
   },
   "outputs": [
    {
     "data": {
      "text/plain": [
       "array([1, 2, 3, 1, 2, 3, 1, 2, 3, 1, 2, 3])"
      ]
     },
     "execution_count": 17,
     "metadata": {},
     "output_type": "execute_result"
    }
   ],
   "source": [
    "np.tile(np.array([1, 2, 3]), 4)"
   ]
  },
  {
   "cell_type": "markdown",
   "id": "5096be87-5832-4325-9f5a-3b83a6ed1407",
   "metadata": {},
   "source": [
    "### Random Arrays\n",
    "\n",
    "There are a few ways to create random arrays.  (Functions for generating random data in NumPy start with `np.random`.)\n",
    "\n",
    "To create an array with a given number of random floats between 0.0 and 1.0:"
   ]
  },
  {
   "cell_type": "code",
   "execution_count": 18,
   "id": "ca380a15-eac8-40a7-9692-b62e7602dacf",
   "metadata": {
    "tags": []
   },
   "outputs": [
    {
     "data": {
      "text/plain": [
       "array([0.48689857, 0.43906854, 0.79966126, 0.66075788, 0.24527148,\n",
       "       0.98699399])"
      ]
     },
     "execution_count": 18,
     "metadata": {},
     "output_type": "execute_result"
    }
   ],
   "source": [
    "np.random.random(6)  # 6 random numbers between 0.0 and 1.0"
   ]
  },
  {
   "cell_type": "markdown",
   "id": "e69e7d2f-90ca-4e29-97ba-de18cecc03f1",
   "metadata": {},
   "source": [
    "(Each time you run the cell above, you will get a different array.)"
   ]
  },
  {
   "cell_type": "markdown",
   "id": "9683040b-b9b9-47f4-8227-4e206158519c",
   "metadata": {},
   "source": [
    "To create an array with a given number of integers in a range:"
   ]
  },
  {
   "cell_type": "code",
   "execution_count": 19,
   "id": "d2636c4d-ece6-4664-be86-3483b0915074",
   "metadata": {
    "tags": []
   },
   "outputs": [
    {
     "data": {
      "text/plain": [
       "array([3, 4, 1, 5, 5, 4, 3, 1, 4, 2, 3, 5, 3, 4, 2, 2, 4, 3, 3, 3])"
      ]
     },
     "execution_count": 19,
     "metadata": {},
     "output_type": "execute_result"
    }
   ],
   "source": [
    "np.random.randint(1, 6, 20)  # 20 random numbers between 1 and 5 (NOT 6)"
   ]
  },
  {
   "cell_type": "markdown",
   "id": "f666c723-4f52-4fce-be55-1374ac5ae278",
   "metadata": {},
   "source": [
    "We can also created numbers randomly by with probabilities from a [normal distribution](https://en.wikipedia.org/wiki/Normal_distribution) with a given average and standard deviation using `np.random.normal`.\n",
    "\n",
    "For 20 random numbers chosen from with a normal probability curve with average 10 and standard deviation 2:"
   ]
  },
  {
   "cell_type": "code",
   "execution_count": 20,
   "id": "6836d60a-06df-42a5-9e50-af72dc2079f5",
   "metadata": {
    "tags": []
   },
   "outputs": [
    {
     "data": {
      "text/plain": [
       "array([10.09178463,  9.49061925, 11.29548323, 10.46481827,  6.46509083,\n",
       "       10.01715265,  9.37400403,  5.0361985 , 10.37091689,  6.32345621,\n",
       "       13.74881585, 12.97733283, 11.64516925, 12.74149046, 10.03906496,\n",
       "        9.85200877, 14.52521952,  9.87792195,  8.56435487,  9.35772083])"
      ]
     },
     "execution_count": 20,
     "metadata": {},
     "output_type": "execute_result"
    }
   ],
   "source": [
    "np.random.normal(10, 2, 20)"
   ]
  },
  {
   "cell_type": "markdown",
   "id": "fcde4b9c-95bf-4bb8-b00d-7de2b4ec2c92",
   "metadata": {},
   "source": [
    "To select random numbers from a list, we can use `np.random.choice`:"
   ]
  },
  {
   "cell_type": "code",
   "execution_count": 21,
   "id": "5b5f8532-1319-4f69-a842-cdbde1bfc921",
   "metadata": {
    "tags": []
   },
   "outputs": [
    {
     "data": {
      "text/plain": [
       "array([7, 3, 3, 1, 1, 1, 1, 7, 7, 1])"
      ]
     },
     "execution_count": 21,
     "metadata": {},
     "output_type": "execute_result"
    }
   ],
   "source": [
    "np.random.choice(np.array([1, 3, 7]), 10)"
   ]
  },
  {
   "cell_type": "markdown",
   "id": "e5033394-1e61-4963-bbf3-c66e55ff903a",
   "metadata": {},
   "source": [
    "### Summary\n",
    "\n",
    "| **Function** | **Description** |\n",
    "|--------------|-----------------|\n",
    "| `np.array`   | Converts list to array |\n",
    "| `np.arange`  | Creates array range of numbers |\n",
    "| `np.linspace` | Creates equally spaces numbers between given boundaries |\n",
    "| `np.zeros`   | Create array of zeros (specify type with `dtype=<type>`) |\n",
    "| `np.ones`    | Create array of ones (specify type with `dtype=<type>`) |\n",
    "| `np.full`    | Create array of with a single element repeated |\n",
    "| `np.repeat`  | Create an array repeating each element of given array |\n",
    "| `np.tile`    | Create an array repeating array (in order) |"
   ]
  },
  {
   "cell_type": "markdown",
   "id": "33503135-8007-4112-b02a-d7d8b7aac462",
   "metadata": {},
   "source": [
    "## Length\n",
    "\n",
    "The function `len` can also be used to get lengths of arrays:"
   ]
  },
  {
   "cell_type": "code",
   "execution_count": 22,
   "id": "bfcb9a88-4cc9-4fe9-88ec-7829090b6fe4",
   "metadata": {
    "tags": []
   },
   "outputs": [
    {
     "data": {
      "text/plain": [
       "array([1, 2, 3, 4])"
      ]
     },
     "execution_count": 22,
     "metadata": {},
     "output_type": "execute_result"
    }
   ],
   "source": [
    "first_array"
   ]
  },
  {
   "cell_type": "code",
   "execution_count": 23,
   "id": "1ede90db-843d-49ee-bb59-a17a95c74c76",
   "metadata": {
    "tags": []
   },
   "outputs": [
    {
     "data": {
      "text/plain": [
       "4"
      ]
     },
     "execution_count": 23,
     "metadata": {},
     "output_type": "execute_result"
    }
   ],
   "source": [
    "len(first_array)"
   ]
  },
  {
   "cell_type": "markdown",
   "id": "251239f0-759f-45d6-9a3f-792118b9c9dd",
   "metadata": {},
   "source": [
    "For *one-dimensional array* (so arrays that do not have other arrays as elements), we can also get the length of an array from the parameter `.size`:"
   ]
  },
  {
   "cell_type": "code",
   "execution_count": 24,
   "id": "52e719a8-58b9-4aab-b345-954bea6f00ff",
   "metadata": {
    "tags": []
   },
   "outputs": [
    {
     "data": {
      "text/plain": [
       "4"
      ]
     },
     "execution_count": 24,
     "metadata": {},
     "output_type": "execute_result"
    }
   ],
   "source": [
    "first_array.size"
   ]
  },
  {
   "cell_type": "markdown",
   "id": "bdf88243-ef83-42df-8046-7dc42115da02",
   "metadata": {},
   "source": [
    "(Since `.size` is a parameter and not a method/function, we *cannot use parentheses*!)"
   ]
  },
  {
   "cell_type": "markdown",
   "id": "a1f95dde-3067-415a-b8e2-80bbf999135c",
   "metadata": {},
   "source": [
    "## Operations with Arrays\n",
    "\n",
    "If we perform an operation between a number and an array, it will perform the operation between the number and every single entry of the array:"
   ]
  },
  {
   "cell_type": "code",
   "execution_count": 25,
   "id": "04591700-a02b-4819-b74c-65263772f2d5",
   "metadata": {
    "tags": []
   },
   "outputs": [
    {
     "data": {
      "text/plain": [
       "array([2, 3, 5, 7])"
      ]
     },
     "execution_count": 25,
     "metadata": {},
     "output_type": "execute_result"
    }
   ],
   "source": [
    "first_primes = np.array([2, 3, 5, 7])\n",
    "\n",
    "first_primes"
   ]
  },
  {
   "cell_type": "code",
   "execution_count": 26,
   "id": "64919ee4-e974-4282-9cef-9da6726a1ff1",
   "metadata": {
    "tags": []
   },
   "outputs": [
    {
     "data": {
      "text/plain": [
       "array([ 5,  6,  8, 10])"
      ]
     },
     "execution_count": 26,
     "metadata": {},
     "output_type": "execute_result"
    }
   ],
   "source": [
    "3 + first_primes"
   ]
  },
  {
   "cell_type": "code",
   "execution_count": 27,
   "id": "7ffec082-cf61-4fb8-8ced-1adc1fa8f1ab",
   "metadata": {
    "tags": []
   },
   "outputs": [
    {
     "data": {
      "text/plain": [
       "array([ 6,  9, 15, 21])"
      ]
     },
     "execution_count": 27,
     "metadata": {},
     "output_type": "execute_result"
    }
   ],
   "source": [
    "3 * first_primes"
   ]
  },
  {
   "cell_type": "code",
   "execution_count": 28,
   "id": "78ff4d81-bf77-47ce-a926-498b1eb83977",
   "metadata": {
    "tags": []
   },
   "outputs": [
    {
     "data": {
      "text/plain": [
       "array([1. , 1.5, 2.5, 3.5])"
      ]
     },
     "execution_count": 28,
     "metadata": {},
     "output_type": "execute_result"
    }
   ],
   "source": [
    "first_primes / 2"
   ]
  },
  {
   "cell_type": "code",
   "execution_count": 29,
   "id": "93a500a1-f117-4010-8ce6-86279abb43a1",
   "metadata": {
    "tags": []
   },
   "outputs": [
    {
     "data": {
      "text/plain": [
       "array([False,  True, False, False])"
      ]
     },
     "execution_count": 29,
     "metadata": {},
     "output_type": "execute_result"
    }
   ],
   "source": [
    "first_primes == 3"
   ]
  },
  {
   "cell_type": "markdown",
   "id": "5676e677-81e8-4a29-b41c-f18b22e6c1f8",
   "metadata": {},
   "source": [
    "If we have two arrays of the *same size*, operations between them are performed componentwise:"
   ]
  },
  {
   "cell_type": "code",
   "execution_count": 30,
   "id": "e397a77e-3ce6-40d4-9695-8e1c047865d3",
   "metadata": {
    "tags": []
   },
   "outputs": [
    {
     "data": {
      "text/plain": [
       "array([0, 1, 4, 9])"
      ]
     },
     "execution_count": 30,
     "metadata": {},
     "output_type": "execute_result"
    }
   ],
   "source": [
    "first_squares = np.array([0, 1, 4, 9])\n",
    "\n",
    "first_squares"
   ]
  },
  {
   "cell_type": "code",
   "execution_count": 31,
   "id": "0c19bbfd-dc53-48e9-b8ef-3046b852c92c",
   "metadata": {
    "tags": []
   },
   "outputs": [
    {
     "data": {
      "text/plain": [
       "array([ 2,  4,  9, 16])"
      ]
     },
     "execution_count": 31,
     "metadata": {},
     "output_type": "execute_result"
    }
   ],
   "source": [
    "first_primes + first_squares"
   ]
  },
  {
   "cell_type": "code",
   "execution_count": 32,
   "id": "47d86a75-4214-4d11-81cf-c794885495b7",
   "metadata": {
    "tags": []
   },
   "outputs": [
    {
     "data": {
      "text/plain": [
       "array([ 0,  3, 20, 63])"
      ]
     },
     "execution_count": 32,
     "metadata": {},
     "output_type": "execute_result"
    }
   ],
   "source": [
    "first_primes * first_squares"
   ]
  },
  {
   "cell_type": "code",
   "execution_count": 33,
   "id": "069adb59-0f57-4f6d-8324-c1ccb74c1b25",
   "metadata": {
    "tags": []
   },
   "outputs": [
    {
     "data": {
      "text/plain": [
       "array([       1,        3,      625, 40353607])"
      ]
     },
     "execution_count": 33,
     "metadata": {},
     "output_type": "execute_result"
    }
   ],
   "source": [
    "first_primes ** first_squares"
   ]
  },
  {
   "cell_type": "code",
   "execution_count": 34,
   "id": "9e23f340-20de-4bdc-a477-39f4e34bf7d4",
   "metadata": {
    "tags": []
   },
   "outputs": [
    {
     "data": {
      "text/plain": [
       "array([ True,  True,  True, False])"
      ]
     },
     "execution_count": 34,
     "metadata": {},
     "output_type": "execute_result"
    }
   ],
   "source": [
    "first_primes > first_squares"
   ]
  },
  {
   "cell_type": "markdown",
   "id": "94780cb1-5d2a-4b8b-9f20-1711cd33e743",
   "metadata": {},
   "source": [
    "## Some NumPy Functions\n",
    "\n",
    "NumPy provides many functions for mathematical computations and array manipulation.  The mathematical functions are optimized for computation in arrays.  (It is *much* faster than performing the same computation individually in each entry of the array.)\n",
    "\n",
    "For example:"
   ]
  },
  {
   "cell_type": "code",
   "execution_count": 35,
   "id": "e4bc2442-fd02-4916-b930-b7ff469f8ff8",
   "metadata": {
    "tags": []
   },
   "outputs": [
    {
     "data": {
      "text/plain": [
       "array([0., 1., 2., 3.])"
      ]
     },
     "execution_count": 35,
     "metadata": {},
     "output_type": "execute_result"
    }
   ],
   "source": [
    "np.sqrt(first_squares)  # square root"
   ]
  },
  {
   "cell_type": "code",
   "execution_count": 36,
   "id": "73c55534-83f8-4ac8-8a68-90bcb3561c44",
   "metadata": {
    "tags": []
   },
   "outputs": [
    {
     "data": {
      "text/plain": [
       "array([0.69314718, 1.09861229, 1.60943791, 1.94591015])"
      ]
     },
     "execution_count": 36,
     "metadata": {},
     "output_type": "execute_result"
    }
   ],
   "source": [
    "np.log(first_primes)  # natural log"
   ]
  },
  {
   "cell_type": "code",
   "execution_count": 37,
   "id": "ec127dc4-c796-448b-9d0a-9a6faf267786",
   "metadata": {
    "tags": []
   },
   "outputs": [
    {
     "data": {
      "text/plain": [
       "array([ 0.96592583,  0.79335334,  0.13052619, -0.60876143])"
      ]
     },
     "execution_count": 37,
     "metadata": {},
     "output_type": "execute_result"
    }
   ],
   "source": [
    "np.sin(np.pi * first_primes / 8 + np.pi / 3)  # sine function -- np.pi is the number pi"
   ]
  },
  {
   "cell_type": "markdown",
   "id": "a682e9ea-9e21-4b63-92ac-bef21eef8447",
   "metadata": {},
   "source": [
    "Here are some other useful functions:\n",
    "\n",
    "Each of these functions takes an array as an argument and returns a single value.\n",
    "\n",
    "| **Function**       | Description                                                          |\n",
    "|--------------------|----------------------------------------------------------------------|\n",
    "| `np.prod`          | Multiply all elements together                                       |\n",
    "| `np.sum`           | Add all elements together                                            |\n",
    "| `np.mean`          | Average of all elements                                              |\n",
    "| `np.median`        | Median of all elements                                               |\n",
    "| `np.std`           | Standard deviation of all elements                                   |\n",
    "| `np.max`           | Maximum of all elements                                              |\n",
    "| `np.min`           | Minimum of all elements                                              |"
   ]
  },
  {
   "cell_type": "markdown",
   "id": "af6c00e5-114c-4640-a0ef-23a76ee69efc",
   "metadata": {
    "tags": []
   },
   "source": [
    "See also the [full Numpy reference](http://docs.scipy.org/doc/numpy/reference/)."
   ]
  },
  {
   "cell_type": "markdown",
   "id": "2e252043-d441-4a20-a3dd-5edfb29aa449",
   "metadata": {},
   "source": [
    "## Slicing\n",
    "\n",
    "Element extraction and slicing works just as with lists:"
   ]
  },
  {
   "cell_type": "code",
   "execution_count": 38,
   "id": "44e0f6d4-5012-4df1-9adf-ffa6d1a6e9ec",
   "metadata": {
    "tags": []
   },
   "outputs": [
    {
     "data": {
      "text/plain": [
       "array([ 2,  3,  5,  7, 11, 13, 17, 19, 23, 29])"
      ]
     },
     "execution_count": 38,
     "metadata": {},
     "output_type": "execute_result"
    }
   ],
   "source": [
    "more_primes = np.array([2, 3, 5, 7, 11, 13, 17, 19, 23, 29])\n",
    "\n",
    "more_primes"
   ]
  },
  {
   "cell_type": "code",
   "execution_count": 39,
   "id": "755d48ab-4e61-4ad2-8339-53100e905b45",
   "metadata": {
    "tags": []
   },
   "outputs": [
    {
     "data": {
      "text/plain": [
       "7"
      ]
     },
     "execution_count": 39,
     "metadata": {},
     "output_type": "execute_result"
    }
   ],
   "source": [
    "more_primes[3]  # fourth element"
   ]
  },
  {
   "cell_type": "code",
   "execution_count": 40,
   "id": "c0f93994-ae08-4317-80da-4ac5aad1fa8d",
   "metadata": {
    "tags": []
   },
   "outputs": [
    {
     "data": {
      "text/plain": [
       "23"
      ]
     },
     "execution_count": 40,
     "metadata": {},
     "output_type": "execute_result"
    }
   ],
   "source": [
    "more_primes[-2]  # second to last element"
   ]
  },
  {
   "cell_type": "code",
   "execution_count": 41,
   "id": "74f396ea-d40e-4338-8ac5-240eb4461660",
   "metadata": {
    "tags": []
   },
   "outputs": [
    {
     "data": {
      "text/plain": [
       "array([ 5,  7, 11, 13, 17])"
      ]
     },
     "execution_count": 41,
     "metadata": {},
     "output_type": "execute_result"
    }
   ],
   "source": [
    "more_primes[2:-3]"
   ]
  },
  {
   "cell_type": "code",
   "execution_count": 42,
   "id": "88eaddba-7d50-4b2f-b896-84dbc32aa9e2",
   "metadata": {
    "tags": []
   },
   "outputs": [
    {
     "data": {
      "text/plain": [
       "array([ 2,  3,  5,  7, 11])"
      ]
     },
     "execution_count": 42,
     "metadata": {},
     "output_type": "execute_result"
    }
   ],
   "source": [
    "more_primes[:5]"
   ]
  },
  {
   "cell_type": "code",
   "execution_count": 43,
   "id": "1667ee07-fa87-4789-b46a-f09e5c65cb70",
   "metadata": {
    "tags": []
   },
   "outputs": [
    {
     "data": {
      "text/plain": [
       "array([11, 13, 17, 19, 23, 29])"
      ]
     },
     "execution_count": 43,
     "metadata": {},
     "output_type": "execute_result"
    }
   ],
   "source": [
    "more_primes[4:]"
   ]
  },
  {
   "cell_type": "code",
   "execution_count": 44,
   "id": "4df4f72f-9b1b-4592-8b0b-fe3ade107157",
   "metadata": {
    "tags": []
   },
   "outputs": [
    {
     "data": {
      "text/plain": [
       "array([ 3,  7, 13, 19])"
      ]
     },
     "execution_count": 44,
     "metadata": {},
     "output_type": "execute_result"
    }
   ],
   "source": [
    "more_primes[1:8:2]"
   ]
  },
  {
   "cell_type": "markdown",
   "id": "e0b67d51-fb51-445b-88da-064e881091c1",
   "metadata": {},
   "source": [
    "## Filtering\n",
    "\n",
    "We can select entries of an array by giving a boolean array (or list) with `True` in the positions we want to keep and `False` in the positions we want to drop:"
   ]
  },
  {
   "cell_type": "code",
   "execution_count": 45,
   "id": "d66485d3-d9e8-42a7-9457-257f902b936a",
   "metadata": {
    "tags": []
   },
   "outputs": [
    {
     "data": {
      "text/plain": [
       "array([1, 2, 3, 4, 5])"
      ]
     },
     "execution_count": 45,
     "metadata": {},
     "output_type": "execute_result"
    }
   ],
   "source": [
    "a = np.arange(1, 6)\n",
    "a"
   ]
  },
  {
   "cell_type": "code",
   "execution_count": 46,
   "id": "c3908f92-4cc6-44d8-98b0-12e771a22d66",
   "metadata": {
    "tags": []
   },
   "outputs": [
    {
     "data": {
      "text/plain": [
       "[True, False, False, True, True]"
      ]
     },
     "execution_count": 46,
     "metadata": {},
     "output_type": "execute_result"
    }
   ],
   "source": [
    "mask = [True, False, False, True, True]\n",
    "\n",
    "mask"
   ]
  },
  {
   "cell_type": "code",
   "execution_count": 47,
   "id": "27b78161-fb88-4498-89f0-4abc9944b811",
   "metadata": {
    "tags": []
   },
   "outputs": [
    {
     "data": {
      "text/plain": [
       "array([1, 4, 5])"
      ]
     },
     "execution_count": 47,
     "metadata": {},
     "output_type": "execute_result"
    }
   ],
   "source": [
    "a[mask]"
   ]
  },
  {
   "cell_type": "markdown",
   "id": "9d78befb-9b92-4a09-a1ff-d4695b5f67e6",
   "metadata": {},
   "source": [
    "This allows us to filter lists by conditions.  For instance, to filter the array `more_primes` for those which are less than 10, we can do:"
   ]
  },
  {
   "cell_type": "code",
   "execution_count": 48,
   "id": "c516f0e1-dd41-48bf-8f85-3623e49ad967",
   "metadata": {
    "tags": []
   },
   "outputs": [
    {
     "data": {
      "text/plain": [
       "array([2, 3, 5, 7])"
      ]
     },
     "execution_count": 48,
     "metadata": {},
     "output_type": "execute_result"
    }
   ],
   "source": [
    "more_primes[more_primes < 10]"
   ]
  },
  {
   "cell_type": "markdown",
   "id": "fbb5ef72-6797-44d0-b59e-9f2bb76e8f91",
   "metadata": {},
   "source": [
    "## Counting\n",
    "\n",
    "If we want to count how many elements of `more_primes` are greater than 7, we could do:"
   ]
  },
  {
   "cell_type": "code",
   "execution_count": 49,
   "id": "35bbe33a-71f5-4f29-8b26-745e76a1d40b",
   "metadata": {
    "tags": []
   },
   "outputs": [
    {
     "data": {
      "text/plain": [
       "6"
      ]
     },
     "execution_count": 49,
     "metadata": {},
     "output_type": "execute_result"
    }
   ],
   "source": [
    "len(more_primes[more_primes > 7])"
   ]
  },
  {
   "cell_type": "markdown",
   "id": "fdd16046-282a-40ce-bea3-310df2662df0",
   "metadata": {},
   "source": [
    "Alternatively, we can use `np.count_nonzero`.  As the name says, it counts the number of non-zero elements in an array:"
   ]
  },
  {
   "cell_type": "code",
   "execution_count": 50,
   "id": "045bec62-e9e6-478c-bd9a-6232e30abb30",
   "metadata": {
    "tags": []
   },
   "outputs": [
    {
     "data": {
      "text/plain": [
       "4"
      ]
     },
     "execution_count": 50,
     "metadata": {},
     "output_type": "execute_result"
    }
   ],
   "source": [
    "np.count_nonzero(np.array([0, 1, 2, 0, 4, 0, 3]))"
   ]
  },
  {
   "cell_type": "markdown",
   "id": "9cf235b1-fa5f-4d3d-8e50-69639ff03e69",
   "metadata": {},
   "source": [
    "On the other hand, in Python the boolean `False` is (sometimes) treated as zero, while `True` is non-zero.  Hence, `np.count_nonzero` can be used to count the number of `True`'s in a boolen array:"
   ]
  },
  {
   "cell_type": "code",
   "execution_count": 51,
   "id": "4acb95ed-b3a7-4caf-9b60-12559bf906c2",
   "metadata": {
    "tags": []
   },
   "outputs": [
    {
     "data": {
      "text/plain": [
       "3"
      ]
     },
     "execution_count": 51,
     "metadata": {},
     "output_type": "execute_result"
    }
   ],
   "source": [
    "np.count_nonzero(np.array([True, True, False, False, True]))"
   ]
  },
  {
   "cell_type": "markdown",
   "id": "eacd7312-7a2e-4491-8ff8-7c3bef34244f",
   "metadata": {},
   "source": [
    "Thus, we could also have done (in the previous example):"
   ]
  },
  {
   "cell_type": "code",
   "execution_count": 52,
   "id": "44b23bdc-ca1f-4db8-837a-a1b26b625f1f",
   "metadata": {
    "tags": []
   },
   "outputs": [
    {
     "data": {
      "text/plain": [
       "6"
      ]
     },
     "execution_count": 52,
     "metadata": {},
     "output_type": "execute_result"
    }
   ],
   "source": [
    "np.count_nonzero(more_primes > 7)"
   ]
  },
  {
   "cell_type": "markdown",
   "id": "c630db1d-63c5-4661-93c4-756bad5275dc",
   "metadata": {},
   "source": [
    "We can also apply this idea to count how many elements match between two arrays:"
   ]
  },
  {
   "cell_type": "code",
   "execution_count": 53,
   "id": "30f8776b-05be-440e-836f-f215e749b195",
   "metadata": {
    "tags": []
   },
   "outputs": [
    {
     "data": {
      "text/plain": [
       "3"
      ]
     },
     "execution_count": 53,
     "metadata": {},
     "output_type": "execute_result"
    }
   ],
   "source": [
    "array1 = np.array([1, 2, 3, 4, 5])\n",
    "array2 = np.array([1, 4, 3, 2, 5])\n",
    "\n",
    "np.count_nonzero(array1 == array2)"
   ]
  },
  {
   "cell_type": "markdown",
   "id": "889dbb4b-4391-4a8d-8aea-0718256fa5cd",
   "metadata": {},
   "source": [
    "## Equality of Arrays\n",
    "\n",
    "We cannot check if two arrays are equal using `==`, as it performs the comparison componentwise:"
   ]
  },
  {
   "cell_type": "code",
   "execution_count": 54,
   "id": "a3f298df-a16b-42cc-a3ff-472a61f2914a",
   "metadata": {
    "tags": []
   },
   "outputs": [
    {
     "data": {
      "text/plain": [
       "array([ True, False,  True, False,  True])"
      ]
     },
     "execution_count": 54,
     "metadata": {},
     "output_type": "execute_result"
    }
   ],
   "source": [
    "array1 == array2"
   ]
  },
  {
   "cell_type": "markdown",
   "id": "a9689b6c-b6ad-4bfc-9bd3-a2c464cf69d8",
   "metadata": {},
   "source": [
    "Instead, we must use `np.array_equal`:"
   ]
  },
  {
   "cell_type": "code",
   "execution_count": 55,
   "id": "8bd08a9a-b699-487c-9c31-708ab96a5627",
   "metadata": {
    "tags": []
   },
   "outputs": [
    {
     "data": {
      "text/plain": [
       "False"
      ]
     },
     "execution_count": 55,
     "metadata": {},
     "output_type": "execute_result"
    }
   ],
   "source": [
    "np.array_equal(array1, array2)"
   ]
  },
  {
   "cell_type": "code",
   "execution_count": 56,
   "id": "f3a253b4-53d1-431d-8fd0-64fa66ce4655",
   "metadata": {
    "tags": []
   },
   "outputs": [
    {
     "data": {
      "text/plain": [
       "True"
      ]
     },
     "execution_count": 56,
     "metadata": {},
     "output_type": "execute_result"
    }
   ],
   "source": [
    "np.array_equal(array1, np.array([1, 2, 3, 4, 5]))"
   ]
  },
  {
   "cell_type": "markdown",
   "id": "5a68f566-800f-48f9-a86b-ffa673ddfb7a",
   "metadata": {},
   "source": [
    "## Values and Counts\n",
    "\n",
    "It is easy to see how many times a single value occurs in an array using the tools we've already seen.\n",
    "\n",
    "For instance, if we have"
   ]
  },
  {
   "cell_type": "code",
   "execution_count": 57,
   "id": "1bbff1f3-45ff-4e37-a85b-9576b8167e4f",
   "metadata": {
    "tags": []
   },
   "outputs": [
    {
     "data": {
      "text/plain": [
       "array([1, 1, 1, 0, 3, 4, 3, 0, 4, 3])"
      ]
     },
     "execution_count": 57,
     "metadata": {},
     "output_type": "execute_result"
    }
   ],
   "source": [
    "a = np.random.choice(np.arange(5), 10)\n",
    "a"
   ]
  },
  {
   "cell_type": "markdown",
   "id": "403169be-4276-4044-bcb6-f0ccf0d89d32",
   "metadata": {},
   "source": [
    "and we want to count how many threes we have, we can simply do:"
   ]
  },
  {
   "cell_type": "code",
   "execution_count": 58,
   "id": "ccfbc097-f9d9-4c84-aa66-e17be805d5f0",
   "metadata": {
    "tags": []
   },
   "outputs": [
    {
     "data": {
      "text/plain": [
       "3"
      ]
     },
     "execution_count": 58,
     "metadata": {},
     "output_type": "execute_result"
    }
   ],
   "source": [
    "np.count_nonzero(a == 3)"
   ]
  },
  {
   "cell_type": "markdown",
   "id": "862154ee-562a-446d-b83e-397d8bbaeb7c",
   "metadata": {},
   "source": [
    "But, sometimes we want to see how many occurrences we have for *each value* of the array, not just a single value.  For that, we can use [np.unique](https://numpy.org/doc/stable/reference/generated/numpy.unique.html).  \n",
    "\n",
    "By default, it simply gives the unique values in the array, *sorted*.  This can be useful when we are not sure what values actually occur in a array, e.g., when we create an array randomly:"
   ]
  },
  {
   "cell_type": "code",
   "execution_count": 59,
   "id": "3875aec5-d1d6-4d97-b35e-49d886345aef",
   "metadata": {
    "tags": []
   },
   "outputs": [
    {
     "data": {
      "text/plain": [
       "array([63, 89,  7, 42, 86, 89, 69,  3, 64, 61])"
      ]
     },
     "execution_count": 59,
     "metadata": {},
     "output_type": "execute_result"
    }
   ],
   "source": [
    "# 10 values between 0 and 99\n",
    "b = np.random.randint(0, 100, 10)\n",
    "b"
   ]
  },
  {
   "cell_type": "code",
   "execution_count": 60,
   "id": "991a44da-dacf-4e2b-9304-3e1e191e57e3",
   "metadata": {
    "tags": []
   },
   "outputs": [
    {
     "data": {
      "text/plain": [
       "array([ 3,  7, 42, 61, 63, 64, 69, 86, 89])"
      ]
     },
     "execution_count": 60,
     "metadata": {},
     "output_type": "execute_result"
    }
   ],
   "source": [
    "np.unique(b)"
   ]
  },
  {
   "cell_type": "markdown",
   "id": "bf31c830-6860-464e-b06d-520a92cc1d50",
   "metadata": {},
   "source": [
    "With our previous array `a`:"
   ]
  },
  {
   "cell_type": "code",
   "execution_count": 61,
   "id": "ff13006d-defc-47ec-a6d7-0cc9498c5a8f",
   "metadata": {
    "tags": []
   },
   "outputs": [
    {
     "data": {
      "text/plain": [
       "array([0, 1, 3, 4])"
      ]
     },
     "execution_count": 61,
     "metadata": {},
     "output_type": "execute_result"
    }
   ],
   "source": [
    "np.unique(a)"
   ]
  },
  {
   "cell_type": "markdown",
   "id": "5283bdc3-6502-4f8b-af99-c0a73004e9ee",
   "metadata": {},
   "source": [
    "To actually get how many times each unique value occurs, we need the optional argument `return_counts=True`"
   ]
  },
  {
   "cell_type": "code",
   "execution_count": 62,
   "id": "cfdf80e6-9ae6-40ad-b6f3-36dc424454e1",
   "metadata": {
    "tags": []
   },
   "outputs": [
    {
     "data": {
      "text/plain": [
       "(array([0, 1, 3, 4]), array([2, 3, 3, 2]))"
      ]
     },
     "execution_count": 62,
     "metadata": {},
     "output_type": "execute_result"
    }
   ],
   "source": [
    "np.unique(a, return_counts=True)"
   ]
  },
  {
   "cell_type": "markdown",
   "id": "4e5098a7-cf9f-4741-9927-6c7d57d98e88",
   "metadata": {},
   "source": [
    "The output is now two arrays: the first one is the same, the unique values *sorted*, while the second array contains the counts for each *respective* unique value.\n",
    "\n",
    "As another example:"
   ]
  },
  {
   "cell_type": "code",
   "execution_count": 63,
   "id": "7bc311f4-3263-418e-ac17-8a3af6839b5b",
   "metadata": {
    "tags": []
   },
   "outputs": [
    {
     "name": "stdout",
     "output_type": "stream",
     "text": [
      "The value 0 occurs 14 times.\n",
      "The value 1 occurs 12 times.\n",
      "The value 2 occurs  9 times.\n",
      "The value 3 occurs  8 times.\n",
      "The value 4 occurs  8 times.\n",
      "The value 5 occurs  6 times.\n",
      "The value 6 occurs 10 times.\n",
      "The value 7 occurs 14 times.\n",
      "The value 8 occurs  9 times.\n",
      "The value 9 occurs 10 times.\n"
     ]
    }
   ],
   "source": [
    "# 100 values between 0 and 9\n",
    "c = np.random.randint(0, 10, 100)\n",
    "\n",
    "values, counts = np.unique(c, return_counts=True)\n",
    "\n",
    "for value, count in zip(values, counts):\n",
    "    print(f\"The value {value} occurs {count:>2} times.\")"
   ]
  },
  {
   "cell_type": "markdown",
   "id": "fcab6af1-eb8d-458e-b396-3650e30049c9",
   "metadata": {},
   "source": [
    "## Arrays of Strings\n",
    "\n",
    "We can also perform operations with arrays of strings:"
   ]
  },
  {
   "cell_type": "code",
   "execution_count": 64,
   "id": "10db350d-c87b-40c4-a8ad-0c2bad5dd99b",
   "metadata": {
    "tags": []
   },
   "outputs": [
    {
     "data": {
      "text/plain": [
       "array(['A', 'bb', 'CcC', 'ddDD'], dtype='<U4')"
      ]
     },
     "execution_count": 64,
     "metadata": {},
     "output_type": "execute_result"
    }
   ],
   "source": [
    "string_array = np.array([\"A\", \"bb\", \"CcC\", \"ddDD\"])\n",
    "string_array"
   ]
  },
  {
   "cell_type": "markdown",
   "id": "d0b3599f-b905-48db-9df1-ecadbfae15c0",
   "metadata": {},
   "source": [
    "NumPy functions for strings start with `np.char`.\n",
    "\n",
    "For instance, to convert to lower case:"
   ]
  },
  {
   "cell_type": "code",
   "execution_count": 65,
   "id": "11d31a67-6ced-4d7f-8f80-9212354f8ebf",
   "metadata": {
    "tags": []
   },
   "outputs": [
    {
     "data": {
      "text/plain": [
       "array(['a', 'bb', 'ccc', 'dddd'], dtype='<U4')"
      ]
     },
     "execution_count": 65,
     "metadata": {},
     "output_type": "execute_result"
    }
   ],
   "source": [
    "np.char.lower(string_array)"
   ]
  },
  {
   "cell_type": "markdown",
   "id": "a2e2d9c4-bbc4-4456-b425-31c826542da2",
   "metadata": {},
   "source": [
    "To convert to upper case:"
   ]
  },
  {
   "cell_type": "code",
   "execution_count": 66,
   "id": "c9f8dcfa-3ff3-41ce-8bc7-fd7706ce5269",
   "metadata": {
    "tags": []
   },
   "outputs": [
    {
     "data": {
      "text/plain": [
       "array(['A', 'BB', 'CCC', 'DDDD'], dtype='<U4')"
      ]
     },
     "execution_count": 66,
     "metadata": {},
     "output_type": "execute_result"
    }
   ],
   "source": [
    "np.char.upper(string_array)"
   ]
  },
  {
   "cell_type": "markdown",
   "id": "53ff9908-3f88-4ac3-a7c4-fe457b2e90ac",
   "metadata": {},
   "source": [
    "We can replace occurrences of `C` with `X` in the strings:"
   ]
  },
  {
   "cell_type": "code",
   "execution_count": 67,
   "id": "6d94b281-b3fd-48f8-8ef8-13fd7b452dec",
   "metadata": {
    "tags": []
   },
   "outputs": [
    {
     "data": {
      "text/plain": [
       "array(['A', 'bb', 'XcX', 'ddDD'], dtype='<U4')"
      ]
     },
     "execution_count": 67,
     "metadata": {},
     "output_type": "execute_result"
    }
   ],
   "source": [
    "np.char.replace(string_array, \"C\", \"X\")"
   ]
  },
  {
   "cell_type": "markdown",
   "id": "20b59e58-127a-49ba-9b70-da42a55b2cb9",
   "metadata": {
    "tags": []
   },
   "source": [
    "### Other Functions\n",
    "\n",
    "Here are some useful functions for strings,\n",
    "\n",
    "Each of these functions takes an array of strings and returns an array.\n",
    "\n",
    "| **Function**        | **Description**                                              |\n",
    "|---------------------|--------------------------------------------------------------|\n",
    "| `np.char.lower`     | Lowercase each element                                       |\n",
    "| `np.char.upper`     | Uppercase each element                                       |\n",
    "| `np.char.strip`     | Remove spaces at the beginning or end of each element        |\n",
    "| `np.char.isalpha`   | Whether each element is only letters (no numbers or symbols) |\n",
    "| `np.char.isnumeric` | Whether each element is only numeric (no letters)  |\n",
    "\n",
    "\n",
    "Each of these functions takes both an array of strings and a *search string*; each returns an array.\n",
    "\n",
    "| **Function**         | **Description**                                                                  |\n",
    "|----------------------|----------------------------------------------------------------------------------|\n",
    "| `np.char.count`      | Count the number of times a search string appears among the elements of an array |\n",
    "| `np.char.find`       | The position within each element that a search string is found first             |\n",
    "| `np.char.rfind`      | The position within each element that a search string is found last              |\n",
    "| `np.char.startswith` | Whether each element starts with the search string                               |\n",
    "\n",
    "You can find a lot more about string functions with `help(np.char)`."
   ]
  },
  {
   "cell_type": "markdown",
   "id": "f6ec75c0-65d1-422b-a4a1-6e7fb2fc950e",
   "metadata": {},
   "source": [
    "## Examples"
   ]
  },
  {
   "cell_type": "markdown",
   "id": "b0c4285a-d113-4fa0-a548-c16f24c9512b",
   "metadata": {},
   "source": [
    "### Example: Converting Temperatures\n",
    "\n",
    "As a simple application, let's convert an array of temperatures in Fahrenheit to Celsius.\n",
    "\n",
    "First, let's create a randomize array of temperatures that between $T_0 - \\Delta$ and $T_0 + \\Delta$, where $T_0$ is some base temperature and $\\Delta$ is some temperature variation.  (Let's set them to $60$ and $40$ respectively.)"
   ]
  },
  {
   "cell_type": "code",
   "execution_count": 68,
   "id": "50a79dc4-7ada-4d67-a287-8361ad2e928f",
   "metadata": {
    "tags": []
   },
   "outputs": [
    {
     "data": {
      "text/plain": [
       "array([91.56080283, 21.69308634, 92.72581955, 65.66546755, 94.82806509,\n",
       "       59.73326617, 48.87765407, 40.95544413, 69.56341052, 92.11711834,\n",
       "       91.91141817, 98.7516998 , 75.17245579, 57.02690054, 38.05319715,\n",
       "       49.81595257, 65.49005345, 50.33148325, 41.25006681, 42.35297156,\n",
       "       58.53881794, 52.29162461, 63.26773504, 58.50506133, 47.92372348,\n",
       "       94.17720477, 89.55538759, 70.11750231, 68.70838496, 41.90267065])"
      ]
     },
     "execution_count": 68,
     "metadata": {},
     "output_type": "execute_result"
    }
   ],
   "source": [
    "base_temperature = 60  # T_0\n",
    "variation = 40  # Delta\n",
    "number_of_temps = 30\n",
    "\n",
    "temperatures = base_temperature - variation + 2 * variation * np.random.random(number_of_temps)\n",
    "\n",
    "temperatures"
   ]
  },
  {
   "cell_type": "markdown",
   "id": "2bed2747-73e7-44d9-a74f-0384325cbcb9",
   "metadata": {},
   "source": [
    "The formula to convert to Celsius is:\n",
    "\n",
    "$$\n",
    "\\text{Temp in Celsius} = \\frac{5}{9} \\cdot \\left( \\text{Temp in Fahrenheit} - 32 \\right)\n",
    "$$\n",
    "\n",
    "So, we can covert with:"
   ]
  },
  {
   "cell_type": "code",
   "execution_count": 69,
   "id": "22200309-ce5c-42e8-8ac3-3ad9fc2935b3",
   "metadata": {
    "tags": []
   },
   "outputs": [
    {
     "data": {
      "text/plain": [
       "array([33.08933491, -5.72606314, 33.73656642, 18.70303753, 34.90448061,\n",
       "       15.40737009,  9.37647449,  4.97524674, 20.8685614 , 33.39839908,\n",
       "       33.28412121, 37.08427767, 23.98469766, 13.90383363,  3.36288731,\n",
       "        9.89775143, 18.60558525, 10.18415736,  5.13892601,  5.75165087,\n",
       "       14.74378774, 11.27312479, 17.37096391, 14.72503407,  8.84651304,\n",
       "       34.54289154, 31.97521533, 21.17639017, 20.3935472 ,  5.50148369])"
      ]
     },
     "execution_count": 69,
     "metadata": {},
     "output_type": "execute_result"
    }
   ],
   "source": [
    "temperatures_celsius = 5 / 9 * (temperatures - 32)\n",
    "\n",
    "temperatures_celsius"
   ]
  },
  {
   "cell_type": "markdown",
   "id": "671cefb3-b4d2-40c8-afb4-68a50de4b040",
   "metadata": {},
   "source": [
    "We can round to two decimal places with `np.round`:"
   ]
  },
  {
   "cell_type": "code",
   "execution_count": 70,
   "id": "85d081df-7720-4128-a9c7-22d229fc163c",
   "metadata": {
    "tags": []
   },
   "outputs": [
    {
     "data": {
      "text/plain": [
       "array([33.09, -5.73, 33.74, 18.7 , 34.9 , 15.41,  9.38,  4.98, 20.87,\n",
       "       33.4 , 33.28, 37.08, 23.98, 13.9 ,  3.36,  9.9 , 18.61, 10.18,\n",
       "        5.14,  5.75, 14.74, 11.27, 17.37, 14.73,  8.85, 34.54, 31.98,\n",
       "       21.18, 20.39,  5.5 ])"
      ]
     },
     "execution_count": 70,
     "metadata": {},
     "output_type": "execute_result"
    }
   ],
   "source": [
    "temperatures_celsius = np.round(5 / 9 * (temperatures - 32), 2)\n",
    "\n",
    "temperatures_celsius"
   ]
  },
  {
   "cell_type": "markdown",
   "id": "b149ab3a-614a-4ea7-996f-4a012f83258b",
   "metadata": {},
   "source": [
    "### Example: Checking a Trigonometric Identity\n",
    "\n",
    "It is a well-know theorem that for any real number $x$, we have that \n",
    "\n",
    "$$\n",
    "\\cos^2(x) + \\sin^2(x) = 1.\n",
    "$$\n",
    "\n",
    "Let's check this with some concrete examples!\n",
    "\n",
    "We first create a large set of numbers to try.  Since the values of sine and cosine are periodic of period $2 \\pi$ (in other words, $\\cos(x + 2\\pi) = \\cos(x)$ and $\\sin(x + 2\\pi) = \\sin(x)$), we can simply check it for several numbers between $0$ and $2\\pi$."
   ]
  },
  {
   "cell_type": "code",
   "execution_count": 71,
   "id": "50f7b186-7647-4f3b-9d00-3a84fadf8689",
   "metadata": {
    "tags": []
   },
   "outputs": [],
   "source": [
    "number_of_tests = 10 ** 5  # one hundred thousand tests!\n",
    "test_cases = 2 * np.pi * np.random.random(number_of_tests)"
   ]
  },
  {
   "cell_type": "markdown",
   "id": "8cc44005-35ca-43f7-a21e-ff21fd2cfef5",
   "metadata": {},
   "source": [
    "Now we compute the sine and cosines, square them, and then add them:"
   ]
  },
  {
   "cell_type": "code",
   "execution_count": 72,
   "id": "6dfc4c45-f0b2-44d3-818a-fdfe969bf54e",
   "metadata": {
    "tags": []
   },
   "outputs": [],
   "source": [
    "result = np.cos(test_cases) ** 2 + np.sin(test_cases) ** 2"
   ]
  },
  {
   "cell_type": "markdown",
   "id": "419fe534-4ae4-4435-844a-bc643e542202",
   "metadata": {},
   "source": [
    "If the theorem is really true, we should get `number_of_test` ones in `result`.  So, let's check:"
   ]
  },
  {
   "cell_type": "code",
   "execution_count": 73,
   "id": "119b2cb2-5c94-41d6-b908-7cd260e5711c",
   "metadata": {
    "tags": []
   },
   "outputs": [
    {
     "data": {
      "text/plain": [
       "77553"
      ]
     },
     "execution_count": 73,
     "metadata": {},
     "output_type": "execute_result"
    }
   ],
   "source": [
    "np.count_nonzero(result == 1)"
   ]
  },
  {
   "cell_type": "markdown",
   "id": "c17dabdc-3a5b-4064-9bdb-cd0c7d42873b",
   "metadata": {},
   "source": [
    "Oh-oh, something is not quite right.  Either our theorem is not true, or there is something fishy here.\n",
    "\n",
    "Let's inspect the first 10 elements for which we do not get one:"
   ]
  },
  {
   "cell_type": "code",
   "execution_count": 74,
   "id": "26fd416f-bb74-4df4-97f0-49ff601a9c67",
   "metadata": {
    "tags": []
   },
   "outputs": [
    {
     "data": {
      "text/plain": [
       "array([1., 1., 1., 1., 1., 1., 1., 1., 1., 1.])"
      ]
     },
     "execution_count": 74,
     "metadata": {},
     "output_type": "execute_result"
    }
   ],
   "source": [
    "result[result != 1][:10]"
   ]
  },
  {
   "cell_type": "markdown",
   "id": "f965d7fa-c150-453c-9c6f-4845ab76baa3",
   "metadata": {},
   "source": [
    "What?  They seem to be one...  Do we need 1.0 (float) instead of 1 (int)?"
   ]
  },
  {
   "cell_type": "code",
   "execution_count": 75,
   "id": "2ac5322e-aa53-45bb-9066-e03cbd0478a1",
   "metadata": {
    "tags": []
   },
   "outputs": [
    {
     "data": {
      "text/plain": [
       "77553"
      ]
     },
     "execution_count": 75,
     "metadata": {},
     "output_type": "execute_result"
    }
   ],
   "source": [
    "np.count_nonzero(result == 1.0)"
   ]
  },
  {
   "cell_type": "code",
   "execution_count": 76,
   "id": "46a1262c-c060-4fbb-8c30-dbc343ae8b36",
   "metadata": {
    "tags": []
   },
   "outputs": [
    {
     "data": {
      "text/plain": [
       "array([1., 1., 1., 1., 1., 1., 1., 1., 1., 1.])"
      ]
     },
     "execution_count": 76,
     "metadata": {},
     "output_type": "execute_result"
    }
   ],
   "source": [
    "result[result != 1.0][:10]"
   ]
  },
  {
   "cell_type": "markdown",
   "id": "5cec711e-b142-420f-8a35-ab441209f7a0",
   "metadata": {},
   "source": [
    "Apparently not.  *The reason is that floats have approximation errors, so it is hard to tell when two floats are actually equal!*\n",
    "\n",
    "So, let's simply check if the result is really *close* to one, say the difference less than $10^{-6} = 0.000001$:"
   ]
  },
  {
   "cell_type": "code",
   "execution_count": 77,
   "id": "d8e56563-0109-4829-aeae-4f18523893c5",
   "metadata": {
    "tags": []
   },
   "outputs": [
    {
     "data": {
      "text/plain": [
       "100000"
      ]
     },
     "execution_count": 77,
     "metadata": {},
     "output_type": "execute_result"
    }
   ],
   "source": [
    "margin_of_error = 10 ** (-9)\n",
    "np.count_nonzero(np.abs(result - 1) < margin_of_error)"
   ]
  },
  {
   "cell_type": "markdown",
   "id": "b1fc2dd7-21ba-47ac-bcae-cf6e833db515",
   "metadata": {},
   "source": [
    "Ah, so *all* of the results were within our margin of error."
   ]
  },
  {
   "cell_type": "markdown",
   "id": "b4df552e-258f-4ae1-ba95-097344dc7280",
   "metadata": {},
   "source": [
    "### Example: Leibniz's formula for $\\pi$\n",
    "\n",
    "**Acknowledgment:** This is based in an example from [Computational and Inferential Thinking: The Foundations of Data Science](https://inferentialthinking.com/chapters/intro.html), by A. Adhikari, J. DeNero, D. Wagner.\n",
    "\n",
    "[Gottfried Wilhelm Leibniz](https://en.wikipedia.org/wiki/Gottfried_Wilhelm_Leibniz) \n",
    "(1646 - 1716) discovered the following formula for $\\pi$ as an infinite sum of fractions:\n",
    "\n",
    "$$\\pi = 4 \\cdot \\left(1 - \\frac{1}{3} + \\frac{1}{5} - \\frac{1}{7} + \\frac{1}{9} - \\frac{1}{11} + \\dots\\right)$$\n",
    "\n",
    "(For the math inclined: this is related to the fact that $\\arctan(1) = \\pi/4$.  You can then use the [Taylor series](https://en.wikipedia.org/wiki/Taylor_series) for $\\arctan$.)\n",
    "\n",
    "By stopping after a finite number steps we get an *approximation* of $\\pi$, with better approximations for larger number of terms.  Let's check this approximation using the first $5{,}000$ terms!\n",
    "\n",
    "$$4 \\cdot \\left(1 - \\frac{1}{3} + \\frac{1}{5} - \\frac{1}{7} + \\frac{1}{9} - \\frac{1}{11} + \\dots + \\frac{1}{9997} - \\frac{1}{9999} \\right)$$\n",
    "\n",
    "We will add the postiive terms, subtract the negative terms, and then multiply by $4$:\n",
    "\n",
    "$$4 \\cdot \\left( \\left(1 + \\frac{1}{5} + \\frac{1}{9} + \\dots + \\frac{1}{9997} \\right) - \\left(\\frac{1}{3} + \\frac{1}{7} + \\frac{1}{11} + \\dots + \\frac{1}{9999} \\right) \\right)$$\n",
    "\n",
    "Let's start by making an array with the positive denominators:"
   ]
  },
  {
   "cell_type": "code",
   "execution_count": 78,
   "id": "4e355331-1a73-43f0-82ac-9bd830648c82",
   "metadata": {
    "tags": []
   },
   "outputs": [],
   "source": [
    "positive_term_denominators = np.arange(1, 9998, 4)"
   ]
  },
  {
   "cell_type": "markdown",
   "id": "73f48651-da67-4cbb-a2ad-27dea006e3bb",
   "metadata": {
    "tags": []
   },
   "source": [
    "To get the terms, we need to invert them:"
   ]
  },
  {
   "cell_type": "code",
   "execution_count": 79,
   "id": "267b2d7e-07f9-4298-82e1-a5f9cf042827",
   "metadata": {
    "tags": []
   },
   "outputs": [],
   "source": [
    "positive_terms = 1 / positive_term_denominators"
   ]
  },
  {
   "cell_type": "markdown",
   "id": "b2bd0eb6-3ac5-4dab-9f30-279ade3434e5",
   "metadata": {},
   "source": [
    "We could something similar for the negative terms, but it is a bit simpler:"
   ]
  },
  {
   "cell_type": "code",
   "execution_count": 80,
   "id": "021383e5-7d80-49f8-96fb-aff5d7141e25",
   "metadata": {
    "tags": []
   },
   "outputs": [],
   "source": [
    "negative_term_denominators = 2 + positive_term_denominators\n",
    "negative_terms = 1 / negative_term_denominators"
   ]
  },
  {
   "cell_type": "markdown",
   "id": "ffba9473-c8b5-4fc1-9651-27fc99bbafbf",
   "metadata": {},
   "source": [
    "Now we can just add the terms, subtract the two, and multiply by $4$:"
   ]
  },
  {
   "cell_type": "code",
   "execution_count": 81,
   "id": "af850ffd-3eae-4778-850c-8bd9f36b4014",
   "metadata": {
    "tags": []
   },
   "outputs": [
    {
     "data": {
      "text/plain": [
       "3.141392653591792"
      ]
     },
     "execution_count": 81,
     "metadata": {},
     "output_type": "execute_result"
    }
   ],
   "source": [
    "leibniz_pi = 4 * (np.sum(positive_terms) - np.sum(negative_terms))\n",
    "leibniz_pi"
   ]
  },
  {
   "cell_type": "markdown",
   "id": "4e9fc87b-cde0-483f-9e19-9179ddf39543",
   "metadata": {},
   "source": [
    "Let's compare it to the numerical approximation of $\\pi$ from NumPy:"
   ]
  },
  {
   "cell_type": "code",
   "execution_count": 82,
   "id": "8a690bd8-a8b7-44cb-af84-2cd85b9d3a55",
   "metadata": {
    "tags": []
   },
   "outputs": [
    {
     "data": {
      "text/plain": [
       "3.141592653589793"
      ]
     },
     "execution_count": 82,
     "metadata": {},
     "output_type": "execute_result"
    }
   ],
   "source": [
    "np.pi"
   ]
  },
  {
   "cell_type": "code",
   "execution_count": 83,
   "id": "28eca370-8151-48ea-b666-c35a142809b2",
   "metadata": {
    "tags": []
   },
   "outputs": [
    {
     "data": {
      "text/plain": [
       "0.00019999999800113244"
      ]
     },
     "execution_count": 83,
     "metadata": {},
     "output_type": "execute_result"
    }
   ],
   "source": [
    "np.pi - leibniz_pi"
   ]
  },
  {
   "cell_type": "markdown",
   "id": "cab34569-22f5-477a-a0b3-a69a0917aa99",
   "metadata": {},
   "source": [
    "## Efficiency\n",
    "\n",
    "### Avoid Loops\n",
    "\n",
    "The \"usual\" way to compute something like that would be to use loops.  Note that we have:\n",
    "\n",
    "\n",
    "$$\\pi = 4 \\cdot \\left(1 - \\frac{1}{3} + \\frac{1}{5} - \\frac{1}{7} + \\frac{1}{9} - \\frac{1}{11} + \\cdots + (-1)^i \\frac{1}{2i + 1} + \\cdots \\right)$$\n",
    "\n",
    "where $(-1)^i \\dfrac{1}{2i + 1}$ is the $(i + 1)$-th term of the sum.  (The sum starts with $i=0$.)\n",
    "\n",
    "Let's compute it with a loop (as would be natural):"
   ]
  },
  {
   "cell_type": "code",
   "execution_count": 84,
   "id": "d7bcc928-b264-4d2c-a6c2-032f71108ef9",
   "metadata": {
    "tags": []
   },
   "outputs": [
    {
     "data": {
      "text/plain": [
       "3.141392653591791"
      ]
     },
     "execution_count": 84,
     "metadata": {},
     "output_type": "execute_result"
    }
   ],
   "source": [
    "result = 0\n",
    "for i in range(5000):\n",
    "    sign = (-1) ** i\n",
    "    result += sign / (2 * i + 1)\n",
    "4 * result"
   ]
  },
  {
   "cell_type": "markdown",
   "id": "3d518206-8eb9-4585-8350-87f96466dee5",
   "metadata": {},
   "source": [
    "This, of course, it also works!  But let's time it:"
   ]
  },
  {
   "cell_type": "code",
   "execution_count": 85,
   "id": "064241b9-551b-4e12-81a5-db96194b6677",
   "metadata": {
    "tags": []
   },
   "outputs": [
    {
     "name": "stdout",
     "output_type": "stream",
     "text": [
      "914 µs ± 10.5 µs per loop (mean ± std. dev. of 7 runs, 1,000 loops each)\n"
     ]
    }
   ],
   "source": [
    "%%timeit\n",
    "res = 0\n",
    "for i in range(5000):\n",
    "    sign = (-1) ** i\n",
    "    res += sign / (2 * i + 1)\n",
    "4 * res"
   ]
  },
  {
   "cell_type": "markdown",
   "id": "b27aebe2-6b76-48a1-911f-60b9019d5fc9",
   "metadata": {},
   "source": [
    "Now, let's look at the time for the computation using NumPy (i.e., \"vectorized\" computations):"
   ]
  },
  {
   "cell_type": "code",
   "execution_count": 86,
   "id": "c538b8f0-1211-4dae-81c0-0e00a1ef2f59",
   "metadata": {
    "tags": []
   },
   "outputs": [
    {
     "name": "stdout",
     "output_type": "stream",
     "text": [
      "27.1 µs ± 623 ns per loop (mean ± std. dev. of 7 runs, 10,000 loops each)\n"
     ]
    }
   ],
   "source": [
    "%%timeit\n",
    "positive_denominators = np.arange(1, 9998, 4)\n",
    "4 * ((1 / positive_denominators).sum() - (1 / (positive_denominators + 2)).sum())"
   ]
  },
  {
   "cell_type": "markdown",
   "id": "068d5120-e1c3-4bf8-b01f-64d91f905a46",
   "metadata": {},
   "source": [
    "As you can see, the second method is *a lot* more efficient!  \n",
    "\n",
    "On the other hand, the second memory uses more memory, as it has to create large arrays.  (In my test it used over 6 times the amount of memory as the first, which uses very little memory.  So, it is still not bad!)\n",
    "\n",
    "And of course, even though the first method was about 50 times slower, it makes virtually no difference in this example!  But it does make a difference in more complex examples.\n",
    "\n",
    "So: **avoid using loops and use NumPy's vectorized functions instead whenever possible!**"
   ]
  },
  {
   "cell_type": "markdown",
   "id": "9c8091c3-7009-4783-910c-6d2c2f3194c2",
   "metadata": {},
   "source": [
    "### Do Not Append to Array\n",
    "\n",
    "Here is another common mistake: although we can add elements to arrays using `np.append`, this operation is relatively slow.  Instead, try to initialize your array with zeros (of the right type), and then override its values.\n",
    "\n",
    "For instance: suppose you want to choose ten random values between 0.0 and 1.0, find the average and add the result to an array *one hundred thousand times*.  We could do:"
   ]
  },
  {
   "cell_type": "code",
   "execution_count": 87,
   "id": "4291bb89-435d-4b92-940b-aa99aa6169d3",
   "metadata": {
    "tags": []
   },
   "outputs": [
    {
     "name": "stdout",
     "output_type": "stream",
     "text": [
      "CPU times: user 3.34 s, sys: 928 µs, total: 3.34 s\n",
      "Wall time: 3.37 s\n"
     ]
    },
    {
     "data": {
      "text/plain": [
       "array([0.48676008, 0.70993411, 0.55916268, 0.47318153, 0.43303674,\n",
       "       0.51233458, 0.51669447, 0.38690974, 0.48664945, 0.52512772])"
      ]
     },
     "execution_count": 87,
     "metadata": {},
     "output_type": "execute_result"
    }
   ],
   "source": [
    "%%time\n",
    "\n",
    "number_of_repetitions = 100_000\n",
    "\n",
    "results = np.array([])\n",
    "\n",
    "for i in range(number_of_repetitions):\n",
    "    results = np.append(results, np.mean(np.random.random(10)))\n",
    "\n",
    "results[:10]"
   ]
  },
  {
   "cell_type": "markdown",
   "id": "c89b4bc2-124b-4fbe-973d-0f916fa5419f",
   "metadata": {},
   "source": [
    "Instead, it is a lot more efficient to initialize the an array to the correct size (with zeros, for instance) and data type, and then overwrite the entries.  "
   ]
  },
  {
   "cell_type": "code",
   "execution_count": 88,
   "id": "58501087-e1c6-4adb-9eee-5cf622d6e614",
   "metadata": {
    "tags": []
   },
   "outputs": [
    {
     "name": "stdout",
     "output_type": "stream",
     "text": [
      "CPU times: user 624 ms, sys: 12.7 ms, total: 637 ms\n",
      "Wall time: 630 ms\n"
     ]
    },
    {
     "data": {
      "text/plain": [
       "array([0.47008061, 0.68399153, 0.54023621, 0.51816394, 0.50913701,\n",
       "       0.51356894, 0.57800176, 0.46063937, 0.40876355, 0.39288392])"
      ]
     },
     "execution_count": 88,
     "metadata": {},
     "output_type": "execute_result"
    }
   ],
   "source": [
    "%%time\n",
    "\n",
    "number_of_repetitions = 100_000\n",
    "\n",
    "results = np.zeros(number_of_repetitions)\n",
    "\n",
    "for i in range(number_of_repetitions):\n",
    "    results[i] = np.mean(np.random.random(10))\n",
    "    \n",
    "results[:10]"
   ]
  },
  {
   "cell_type": "markdown",
   "id": "1cddb718-7233-498a-b8d7-1befa5cd9802",
   "metadata": {},
   "source": [
    "As one can clearly see, this second method is a lot faster!"
   ]
  },
  {
   "cell_type": "markdown",
   "id": "a27919fd-ddeb-46b3-a70f-f9e6f134b26b",
   "metadata": {},
   "source": [
    "If you are familiar with [list comprehensions](https://docs.python.org/2/tutorial/datastructures.html#list-comprehensions) in Python, the previous method is just as efficient as:"
   ]
  },
  {
   "cell_type": "code",
   "execution_count": 89,
   "id": "0fafa9ed-c334-4ffd-a6ea-ce7638b29838",
   "metadata": {
    "tags": []
   },
   "outputs": [
    {
     "name": "stdout",
     "output_type": "stream",
     "text": [
      "CPU times: user 593 ms, sys: 11 ms, total: 604 ms\n",
      "Wall time: 597 ms\n"
     ]
    },
    {
     "data": {
      "text/plain": [
       "array([0.37076357, 0.51833196, 0.52482583, 0.52247857, 0.31594216,\n",
       "       0.44112621, 0.38501912, 0.36893255, 0.31681135, 0.48405612])"
      ]
     },
     "execution_count": 89,
     "metadata": {},
     "output_type": "execute_result"
    }
   ],
   "source": [
    "%%time \n",
    "\n",
    "number_of_repetitions = 100000\n",
    "\n",
    "results = np.array([np.mean(np.random.random(10)) for i in range(number_of_repetitions)])\n",
    "\n",
    "results[:10]"
   ]
  },
  {
   "cell_type": "markdown",
   "id": "506ce518-b380-4b75-8108-e99981ddf3d9",
   "metadata": {},
   "source": [
    "## More Examples"
   ]
  },
  {
   "cell_type": "markdown",
   "id": "727e6a43-0666-4d52-a037-397acb45329b",
   "metadata": {},
   "source": [
    "### Example: Computing Grades\n",
    "\n",
    "We've only used *one-dimensional* arrays so far.  Now suppose we have an array with arrays as its elements, a *two-dimensional array*.  Each entry is an array with grades for a student.\n",
    "\n",
    "For example, lets create six grades for ten students (so an array with 10 arrays of 6 grades each) with normal distribution of average $80$ and standard deviation $15$.  (We might get grades over $100$.  Let's just assume that they were obtained by extra-credit.)"
   ]
  },
  {
   "cell_type": "code",
   "execution_count": 90,
   "id": "aa6c1524-8391-4df1-a2be-80ca24b4942b",
   "metadata": {
    "tags": []
   },
   "outputs": [
    {
     "data": {
      "text/plain": [
       "array([[ 74,  99,  95,  98, 115,  61],\n",
       "       [ 83, 105,  89,  71,  79,  83],\n",
       "       [ 75,  75,  74,  79,  91,  58],\n",
       "       [ 65,  88,  86,  65,  79,  77],\n",
       "       [ 71,  53,  75,  88,  57,  79],\n",
       "       [ 81, 103,  68,  77,  42,  67],\n",
       "       [ 63,  81,  88,  66,  78,  71],\n",
       "       [ 73,  82,  92,  72,  79,  80],\n",
       "       [ 74,  81,  68,  68,  94,  87],\n",
       "       [ 69,  91,  74,  89,  78,  69]])"
      ]
     },
     "execution_count": 90,
     "metadata": {},
     "output_type": "execute_result"
    }
   ],
   "source": [
    "grades = np.array([np.round(np.random.normal(80, 15, 6)).astype(int) for i in range(10)])\n",
    "\n",
    "grades"
   ]
  },
  {
   "cell_type": "markdown",
   "id": "4c8dc05e-fee3-4f76-ba79-c530f62b5c2f",
   "metadata": {},
   "source": [
    "Suppose that the first three grades are homework grades, with weight of $10\\%$ each, the next two are midterm grades, with weights of $20\\%$ each, and the last is the final grade, with weight $30\\%$.  \n",
    "\n",
    "**Goal:** We want to compute the students averages.\n",
    "\n",
    "First, let's create an array with the weights:"
   ]
  },
  {
   "cell_type": "code",
   "execution_count": 91,
   "id": "0922b31a-9da5-426c-9cb2-3460d6381960",
   "metadata": {
    "tags": []
   },
   "outputs": [],
   "source": [
    "weights = np.array([0.1, 0.1, 0.1, 0.2, 0.2, 0.3])"
   ]
  },
  {
   "cell_type": "markdown",
   "id": "d4fa5580-15f6-4a98-adf3-aea92eee1aef",
   "metadata": {},
   "source": [
    "Now, we want to multiply each grade by its weight.  Since the arrays in `grades` have the same length as `weight`, we can do it directly!"
   ]
  },
  {
   "cell_type": "code",
   "execution_count": 92,
   "id": "cd7753cd-0f9f-429f-8b5c-a04cde421365",
   "metadata": {
    "tags": []
   },
   "outputs": [
    {
     "data": {
      "text/plain": [
       "array([[ 7.4,  9.9,  9.5, 19.6, 23. , 18.3],\n",
       "       [ 8.3, 10.5,  8.9, 14.2, 15.8, 24.9],\n",
       "       [ 7.5,  7.5,  7.4, 15.8, 18.2, 17.4],\n",
       "       [ 6.5,  8.8,  8.6, 13. , 15.8, 23.1],\n",
       "       [ 7.1,  5.3,  7.5, 17.6, 11.4, 23.7],\n",
       "       [ 8.1, 10.3,  6.8, 15.4,  8.4, 20.1],\n",
       "       [ 6.3,  8.1,  8.8, 13.2, 15.6, 21.3],\n",
       "       [ 7.3,  8.2,  9.2, 14.4, 15.8, 24. ],\n",
       "       [ 7.4,  8.1,  6.8, 13.6, 18.8, 26.1],\n",
       "       [ 6.9,  9.1,  7.4, 17.8, 15.6, 20.7]])"
      ]
     },
     "execution_count": 92,
     "metadata": {},
     "output_type": "execute_result"
    }
   ],
   "source": [
    "weighted_grades = grades * weights\n",
    "\n",
    "weighted_grades"
   ]
  },
  {
   "cell_type": "markdown",
   "id": "391cdbb1-31d6-4689-bf36-ebeab8972976",
   "metadata": {},
   "source": [
    "Now we have to add all the grades for each student.  We can try `np.sum`:"
   ]
  },
  {
   "cell_type": "code",
   "execution_count": 93,
   "id": "4c7f03d4-7032-4ee6-873f-de328c6003f2",
   "metadata": {
    "tags": []
   },
   "outputs": [
    {
     "data": {
      "text/plain": [
       "772.1"
      ]
     },
     "execution_count": 93,
     "metadata": {},
     "output_type": "execute_result"
    }
   ],
   "source": [
    "np.sum(weighted_grades)"
   ]
  },
  {
   "cell_type": "markdown",
   "id": "a054eccd-595a-4b24-bad1-941be5f447f3",
   "metadata": {},
   "source": [
    "That is not what we want!  It added all grades, from all students, together!\n",
    "\n",
    "We want to just add the arrays in `weighted_grades`.  We can do that by specifying the argument `axis=1`.  (In reality `axis=1` implies we are adding entries from a row.  Using `axis=0` would add entries in a column.)"
   ]
  },
  {
   "cell_type": "code",
   "execution_count": 94,
   "id": "f902f046-8643-45ff-a29e-094315ab8a98",
   "metadata": {
    "tags": []
   },
   "outputs": [
    {
     "data": {
      "text/plain": [
       "array([87.7, 82.6, 73.8, 75.8, 72.6, 69.1, 73.3, 78.9, 80.8, 77.5])"
      ]
     },
     "execution_count": 94,
     "metadata": {},
     "output_type": "execute_result"
    }
   ],
   "source": [
    "averages = np.sum(weighted_grades, axis=1)\n",
    "\n",
    "averages"
   ]
  },
  {
   "cell_type": "markdown",
   "id": "4ab0e1e2-f875-497e-be6e-d0d0a64c8ffb",
   "metadata": {},
   "source": [
    "(As expected, the averages are pretty close to $80$.)"
   ]
  },
  {
   "cell_type": "markdown",
   "id": "e384ac7d-54d0-4274-ab2a-83bcfb4a5c2e",
   "metadata": {},
   "source": [
    "#### Dropping a Homework Grade\n",
    "\n",
    "What if I want to drop the lowest homework score?  \n",
    "\n",
    "Then, the weight of each homework grade must be $15\\%$ instead of $10\\%$, so let's adjust the weights:"
   ]
  },
  {
   "cell_type": "code",
   "execution_count": 95,
   "id": "ac2e9796-e509-4ce3-bc40-7d42f379c39b",
   "metadata": {
    "tags": []
   },
   "outputs": [
    {
     "data": {
      "text/plain": [
       "array([0.15, 0.15, 0.15, 0.2 , 0.2 , 0.3 ])"
      ]
     },
     "execution_count": 95,
     "metadata": {},
     "output_type": "execute_result"
    }
   ],
   "source": [
    "new_weights = np.array([0.15, 0.15, 0.15, 0.2, 0.2, 0.3])\n",
    "\n",
    "new_weights"
   ]
  },
  {
   "cell_type": "markdown",
   "id": "3cf2e496-df85-4238-88e2-89269366b406",
   "metadata": {},
   "source": [
    "We can again get weighted grades by simply multiplying."
   ]
  },
  {
   "cell_type": "code",
   "execution_count": 96,
   "id": "7cb4d0d9-7fc4-4c99-8487-8c3d56876c9b",
   "metadata": {
    "tags": []
   },
   "outputs": [],
   "source": [
    "new_weighted_grades = grades * new_weights"
   ]
  },
  {
   "cell_type": "markdown",
   "id": "857200d3-4de1-4b7b-ab99-747b1dccdc2d",
   "metadata": {},
   "source": [
    "Now, we want to add the grades, but drop the lowest homework score.  So, let's start my getting simply the weighted homework grades by *slicing* `weighted_grades`:"
   ]
  },
  {
   "cell_type": "code",
   "execution_count": 97,
   "id": "df9a49a5-eebd-4ecc-9b31-c26fd07e543f",
   "metadata": {
    "tags": []
   },
   "outputs": [
    {
     "data": {
      "text/plain": [
       "array([[11.1 , 14.85, 14.25, 19.6 , 23.  , 18.3 ],\n",
       "       [12.45, 15.75, 13.35, 14.2 , 15.8 , 24.9 ],\n",
       "       [11.25, 11.25, 11.1 , 15.8 , 18.2 , 17.4 ],\n",
       "       [ 9.75, 13.2 , 12.9 , 13.  , 15.8 , 23.1 ],\n",
       "       [10.65,  7.95, 11.25, 17.6 , 11.4 , 23.7 ],\n",
       "       [12.15, 15.45, 10.2 , 15.4 ,  8.4 , 20.1 ],\n",
       "       [ 9.45, 12.15, 13.2 , 13.2 , 15.6 , 21.3 ],\n",
       "       [10.95, 12.3 , 13.8 , 14.4 , 15.8 , 24.  ],\n",
       "       [11.1 , 12.15, 10.2 , 13.6 , 18.8 , 26.1 ],\n",
       "       [10.35, 13.65, 11.1 , 17.8 , 15.6 , 20.7 ]])"
      ]
     },
     "execution_count": 97,
     "metadata": {},
     "output_type": "execute_result"
    }
   ],
   "source": [
    "new_weighted_grades"
   ]
  },
  {
   "cell_type": "markdown",
   "id": "f2e36431-1cda-49e5-9922-3ecc16da494b",
   "metadata": {},
   "source": [
    "We want (all rows and) the first three columns.  In a two-dimensional array, we can get slices of rows and columns, giving them *in this order* (slice for the rows first, then slice for the columns), separated by a comma:"
   ]
  },
  {
   "cell_type": "code",
   "execution_count": 98,
   "id": "a132cf59-ee22-45e1-a04d-025e912235d3",
   "metadata": {
    "tags": []
   },
   "outputs": [
    {
     "data": {
      "text/plain": [
       "array([[11.1 , 14.85, 14.25],\n",
       "       [12.45, 15.75, 13.35],\n",
       "       [11.25, 11.25, 11.1 ],\n",
       "       [ 9.75, 13.2 , 12.9 ],\n",
       "       [10.65,  7.95, 11.25],\n",
       "       [12.15, 15.45, 10.2 ],\n",
       "       [ 9.45, 12.15, 13.2 ],\n",
       "       [10.95, 12.3 , 13.8 ],\n",
       "       [11.1 , 12.15, 10.2 ],\n",
       "       [10.35, 13.65, 11.1 ]])"
      ]
     },
     "execution_count": 98,
     "metadata": {},
     "output_type": "execute_result"
    }
   ],
   "source": [
    "new_weighted_hws = new_weighted_grades[:, :3]  # all rows [:], and first three columns: [:3]\n",
    "\n",
    "new_weighted_hws"
   ]
  },
  {
   "cell_type": "markdown",
   "id": "22700e0b-e468-48c5-b2f2-59c3f428784f",
   "metadata": {},
   "source": [
    "Now, I need the minimum *of the rows*.  If I simply use `np.min`:"
   ]
  },
  {
   "cell_type": "code",
   "execution_count": 99,
   "id": "c15903ee-2464-4f76-b5d8-c229d079effa",
   "metadata": {
    "tags": []
   },
   "outputs": [
    {
     "data": {
      "text/plain": [
       "7.949999999999999"
      ]
     },
     "execution_count": 99,
     "metadata": {},
     "output_type": "execute_result"
    }
   ],
   "source": [
    "np.min(new_weighted_hws)"
   ]
  },
  {
   "cell_type": "markdown",
   "id": "fb17615f-aa45-440d-988f-06cf7f6ffa16",
   "metadata": {},
   "source": [
    "Again, it computes the minimum of all entries in the array.  And again, we solve this by using the optional argument `axis=1`, just like with `np.sum`:"
   ]
  },
  {
   "cell_type": "code",
   "execution_count": 100,
   "id": "a62eb8f2-6fac-447c-8bfa-9e79acb98bd7",
   "metadata": {
    "tags": []
   },
   "outputs": [
    {
     "data": {
      "text/plain": [
       "array([11.1 , 12.45, 11.1 ,  9.75,  7.95, 10.2 ,  9.45, 10.95, 10.2 ,\n",
       "       10.35])"
      ]
     },
     "execution_count": 100,
     "metadata": {},
     "output_type": "execute_result"
    }
   ],
   "source": [
    "min_hw_scores = np.min(new_weighted_hws, axis=1)\n",
    "\n",
    "min_hw_scores"
   ]
  },
  {
   "cell_type": "markdown",
   "id": "769010ff-aee5-491e-ace1-84e5b42533e8",
   "metadata": {},
   "source": [
    "Now, I can simply subtract this lowest weighted homework score from the sum of all weighted grades:"
   ]
  },
  {
   "cell_type": "code",
   "execution_count": 101,
   "id": "c17dba37-ed5c-48fa-bbb9-109d6d74de69",
   "metadata": {
    "tags": []
   },
   "outputs": [
    {
     "data": {
      "text/plain": [
       "array([90.  , 84.  , 73.9 , 78.  , 74.6 , 71.5 , 75.45, 80.3 , 81.75,\n",
       "       78.85])"
      ]
     },
     "execution_count": 101,
     "metadata": {},
     "output_type": "execute_result"
    }
   ],
   "source": [
    "new_averages = np.sum(new_weighted_grades, axis=1) - min_hw_scores\n",
    "\n",
    "new_averages"
   ]
  },
  {
   "cell_type": "markdown",
   "id": "b17e4cb4-2eb4-4a0c-9b87-41a4ef6807e6",
   "metadata": {},
   "source": [
    "### Example: Compound Interest\n",
    "\n",
    "Let's now create an array that has the monthly balances from a savings account.\n",
    "\n",
    "If\n",
    "\n",
    "$$\n",
    "\\begin{align*}\n",
    "  P &= \\text{principal (or initial amount)}, \\\\\n",
    "  r &= \\text{interest rate (APR) as a percent}, \\\\\n",
    "  t &= \\text{number of days}, \\\\\n",
    "  F &= \\text{final value (after $t$ days)},\n",
    "\\end{align*}\n",
    "$$\n",
    "\n",
    "then, starting with $P$ dollars, in a savings account with rate of $r$, after $t$ days, we will have\n",
    "\n",
    "$$\n",
    "F = P \\cdot \\left( {1 + \\frac{r}{100 \\cdot 365}} \\right)^t\n",
    "$$\n",
    "\n",
    "Let's assume we have $2{,}000$ dollars in an account with $3\\%$ rate."
   ]
  },
  {
   "cell_type": "code",
   "execution_count": 102,
   "id": "06b9bff0-3d9d-4325-b942-4162a8c01a12",
   "metadata": {
    "tags": []
   },
   "outputs": [],
   "source": [
    "P = 2000  # principal (initial amount)\n",
    "r = 3  # interest rate (in %)"
   ]
  },
  {
   "cell_type": "markdown",
   "id": "44a8fb31-a6c3-49b5-85f4-7947641c6ae1",
   "metadata": {},
   "source": [
    "As will see, it will also be handy to save\n",
    "\n",
    "$$\n",
    "1 + \\frac{r}{100 \\cdot 365}\n",
    "$$\n",
    "\n",
    "in a variable, which we will call `factor`:"
   ]
  },
  {
   "cell_type": "code",
   "execution_count": 103,
   "id": "76c55a33-6e0d-4c5a-af94-b4032665efcf",
   "metadata": {
    "tags": []
   },
   "outputs": [],
   "source": [
    "factor = 1 + r / (100 * 365)"
   ]
  },
  {
   "cell_type": "markdown",
   "id": "a77c5109-e0b1-4161-ac3a-ae4730d3c056",
   "metadata": {},
   "source": [
    "Now, lets make an array with the (approximate) monthly balances for the next $3$ years (so $36$ months).  Let's round the number of days in a month to $30$.\n",
    "\n",
    "We can start by creating an array with\n",
    "\n",
    "```python\n",
    "[1, factor ** 30, factor ** 60, factor ** 90, ..., factor ** 1080]\n",
    "```\n",
    "\n",
    "as then we only need to multiply this array by $P$.\n",
    "\n",
    "First, though, we create the exponents\n",
    "\n",
    "```python\n",
    "[0, 30, 60, 90, ... , 1080]\n",
    "```\n",
    "\n",
    "To make the code more flexible, let's use a variable for the number of months:"
   ]
  },
  {
   "cell_type": "code",
   "execution_count": 104,
   "id": "b62aca11-2670-40e0-aaf8-8a6f6ccd1493",
   "metadata": {
    "tags": []
   },
   "outputs": [],
   "source": [
    "months = 36"
   ]
  },
  {
   "cell_type": "markdown",
   "id": "3cc7f1c4-1012-4fc0-8a68-1b7356d52773",
   "metadata": {},
   "source": [
    "Now the exponents:"
   ]
  },
  {
   "cell_type": "code",
   "execution_count": 105,
   "id": "55c965ee-636b-44cf-ba7d-327365c2dc9e",
   "metadata": {
    "tags": []
   },
   "outputs": [
    {
     "data": {
      "text/plain": [
       "array([   0,   30,   60,   90,  120,  150,  180,  210,  240,  270,  300,\n",
       "        330,  360,  390,  420,  450,  480,  510,  540,  570,  600,  630,\n",
       "        660,  690,  720,  750,  780,  810,  840,  870,  900,  930,  960,\n",
       "        990, 1020, 1050, 1080])"
      ]
     },
     "execution_count": 105,
     "metadata": {},
     "output_type": "execute_result"
    }
   ],
   "source": [
    "exponents = np.arange(0, months * 30 + 1, 30)  # NOTE THE \"+1\" to include the last term!\n",
    "\n",
    "exponents"
   ]
  },
  {
   "cell_type": "markdown",
   "id": "ed34f5c8-19c9-4261-82a3-22ca3fea279f",
   "metadata": {},
   "source": [
    "Then, we produce\n",
    "\n",
    "```python\n",
    "[1, factor ** 30, factor ** 60, factor ** 90, ..., factor ** 1080]\n",
    "```"
   ]
  },
  {
   "cell_type": "code",
   "execution_count": 106,
   "id": "296e4a27-a53d-43b5-9545-a64775fc558c",
   "metadata": {
    "tags": []
   },
   "outputs": [
    {
     "data": {
      "text/plain": [
       "array([1.        , 1.00246869, 1.00494348, 1.00742438, 1.0099114 ,\n",
       "       1.01240457, 1.01490388, 1.01740937, 1.01992104, 1.02243892,\n",
       "       1.02496301, 1.02749333, 1.03002989, 1.03257272, 1.03512183,\n",
       "       1.03767723, 1.04023894, 1.04280697, 1.04538134, 1.04796207,\n",
       "       1.05054917, 1.05314265, 1.05574254, 1.05834884, 1.06096158,\n",
       "       1.06358077, 1.06620643, 1.06883857, 1.0714772 , 1.07412235,\n",
       "       1.07677403, 1.07943226, 1.08209705, 1.08476841, 1.08744637,\n",
       "       1.09013095, 1.09282215])"
      ]
     },
     "execution_count": 106,
     "metadata": {},
     "output_type": "execute_result"
    }
   ],
   "source": [
    "factors = factor ** exponents\n",
    "\n",
    "factors"
   ]
  },
  {
   "cell_type": "markdown",
   "id": "83b1f07d-fab3-4ded-b104-af09763db0df",
   "metadata": {},
   "source": [
    "Now, we just multiply by $P$ (rounding to 2 decimals):"
   ]
  },
  {
   "cell_type": "code",
   "execution_count": 107,
   "id": "284f6fc7-61db-42dd-9627-d0a07df8e8d2",
   "metadata": {
    "tags": []
   },
   "outputs": [
    {
     "data": {
      "text/plain": [
       "array([2000.  , 2004.94, 2009.89, 2014.85, 2019.82, 2024.81, 2029.81,\n",
       "       2034.82, 2039.84, 2044.88, 2049.93, 2054.99, 2060.06, 2065.15,\n",
       "       2070.24, 2075.35, 2080.48, 2085.61, 2090.76, 2095.92, 2101.1 ,\n",
       "       2106.29, 2111.49, 2116.7 , 2121.92, 2127.16, 2132.41, 2137.68,\n",
       "       2142.95, 2148.24, 2153.55, 2158.86, 2164.19, 2169.54, 2174.89,\n",
       "       2180.26, 2185.64])"
      ]
     },
     "execution_count": 107,
     "metadata": {},
     "output_type": "execute_result"
    }
   ],
   "source": [
    "balances = np.round(P * factors, 2)\n",
    "\n",
    "balances"
   ]
  },
  {
   "cell_type": "markdown",
   "id": "7707beb5-5f51-4ecd-8e7e-699cf9b15a7b",
   "metadata": {},
   "source": [
    "So, after $10$ months, the balance is:"
   ]
  },
  {
   "cell_type": "code",
   "execution_count": 108,
   "id": "1394363a-860b-4769-8999-3e628754a88b",
   "metadata": {
    "tags": []
   },
   "outputs": [
    {
     "data": {
      "text/plain": [
       "2049.93"
      ]
     },
     "execution_count": 108,
     "metadata": {},
     "output_type": "execute_result"
    }
   ],
   "source": [
    "balances[10]"
   ]
  },
  {
   "cell_type": "markdown",
   "id": "87d39b41-9cb7-40a6-9f3d-eefa13cf4908",
   "metadata": {},
   "source": [
    "####  Adding Deposits\n",
    "\n",
    "Let's now assume that we deposit the same amount very month (i.e., every $30$ days) in our savings account. Let's call this amount $A$ and choose, say, $\\$150$:"
   ]
  },
  {
   "cell_type": "code",
   "execution_count": 109,
   "id": "dbd7b5c8-df1c-4d9c-86b1-9ece9e561579",
   "metadata": {
    "tags": []
   },
   "outputs": [],
   "source": [
    "A = 150"
   ]
  },
  {
   "cell_type": "markdown",
   "id": "aef960b1-8917-46b7-a72f-a37352754635",
   "metadata": {},
   "source": [
    "The problem now is that I cannot just add $A$ every month, since after that money is in our account, it also affects the interest paid!\n",
    "\n",
    "What we need to add to `balances` is in fact:\n",
    "\n",
    "```python\n",
    "[0, \n",
    " A, \n",
    " A + A * factor ** 30, \n",
    " A + A * factor ** 30 + A * factor ** 60, \n",
    " A + A * factor ** 30 + A * factor ** 60 + A * factor ** 90, ...].\n",
    "```\n",
    "\n",
    "so we account for the interest for each deposit.\n",
    "\n",
    "Let's start by producing\n",
    "\n",
    "```python\n",
    "[A, \n",
    " A * factor ** 30,\n",
    " A * factor ** 60, \n",
    " A * factor ** 90, ...]\n",
    "```\n",
    "\n",
    "with length equal to the total number of months *minus 1*.  Let's again round as well:"
   ]
  },
  {
   "cell_type": "code",
   "execution_count": 110,
   "id": "fd8cc7cf-4bd1-48cc-ab7d-e427fde6a668",
   "metadata": {
    "tags": []
   },
   "outputs": [
    {
     "data": {
      "text/plain": [
       "array([150.  , 150.37, 150.74, 151.11, 151.49, 151.86, 152.24, 152.61,\n",
       "       152.99, 153.37, 153.74, 154.12, 154.5 , 154.89, 155.27, 155.65,\n",
       "       156.04, 156.42, 156.81, 157.19, 157.58, 157.97, 158.36, 158.75,\n",
       "       159.14, 159.54, 159.93, 160.33, 160.72, 161.12, 161.52, 161.91,\n",
       "       162.31, 162.72, 163.12, 163.52])"
      ]
     },
     "execution_count": 110,
     "metadata": {},
     "output_type": "execute_result"
    }
   ],
   "source": [
    "deposits = np.round(A * factors[:-1], 2)\n",
    "\n",
    "deposits"
   ]
  },
  {
   "cell_type": "markdown",
   "id": "e7e83895-0b9f-471d-9a58-4c9eea78dc14",
   "metadata": {},
   "source": [
    "Now we want to go from our `deposits`\n",
    "\n",
    "```python\n",
    "[A, \n",
    " A * factor ** 30, \n",
    " A * factor ** 60, \n",
    " A * factor ** 90, ...]\n",
    "```\n",
    "\n",
    "to\n",
    "\n",
    "```python\n",
    "[A, \n",
    " A + A * factor ** 30, \n",
    " A + A * factor ** 30 + A * factor ** 60, \n",
    " A + A * factor ** 30 + A * factor ** 60 + A * factor ** 90, ...].\n",
    "```\n",
    "\n",
    "That is simply the *cumulative sum* of the array!  The cumulative sum of $(x_1, x_2, x_3, x_4)$ is simply\n",
    "\n",
    "$$\n",
    "\\begin{align*}\n",
    " (&x_1, \\\\\n",
    "&x_1 + x_2, \\\\\n",
    "&x_1 + x_2 + x_3\\\\\n",
    "&x_1 + x_2 + x_3 + x_4).\n",
    "\\end{align*}\n",
    "$$\n",
    "\n",
    "Fortunately NumPy can do that for us with the function [np.cumsum](https://numpy.org/doc/stable/reference/generated/numpy.cumsum.html).  \n",
    "\n",
    "For instance `np.cumsum(np.array([1, 2, 3, 4]))` gives `[1, 3, 6, 10]`."
   ]
  },
  {
   "cell_type": "code",
   "execution_count": 111,
   "id": "db56745e-ff8c-42d8-accd-4aa7f9c8a6a2",
   "metadata": {
    "tags": []
   },
   "outputs": [
    {
     "data": {
      "text/plain": [
       "array([ 150.  ,  300.37,  451.11,  602.22,  753.71,  905.57, 1057.81,\n",
       "       1210.42, 1363.41, 1516.78, 1670.52, 1824.64, 1979.14, 2134.03,\n",
       "       2289.3 , 2444.95, 2600.99, 2757.41, 2914.22, 3071.41, 3228.99,\n",
       "       3386.96, 3545.32, 3704.07, 3863.21, 4022.75, 4182.68, 4343.01,\n",
       "       4503.73, 4664.85, 4826.37, 4988.28, 5150.59, 5313.31, 5476.43,\n",
       "       5639.95])"
      ]
     },
     "execution_count": 111,
     "metadata": {},
     "output_type": "execute_result"
    }
   ],
   "source": [
    "deposits = np.cumsum(deposits)\n",
    "\n",
    "deposits"
   ]
  },
  {
   "cell_type": "markdown",
   "id": "aa6a4583-6aab-49d8-9354-60feb3de6f29",
   "metadata": {},
   "source": [
    "Finally, we need to add a zero at the beginning and add the results to our previous `balances`:"
   ]
  },
  {
   "cell_type": "code",
   "execution_count": 112,
   "id": "b7a56b2b-cec0-481f-b113-39174e514d72",
   "metadata": {
    "tags": []
   },
   "outputs": [
    {
     "data": {
      "text/plain": [
       "array([   0.  ,  150.  ,  300.37,  451.11,  602.22,  753.71,  905.57,\n",
       "       1057.81, 1210.42, 1363.41, 1516.78, 1670.52, 1824.64, 1979.14,\n",
       "       2134.03, 2289.3 , 2444.95, 2600.99, 2757.41, 2914.22, 3071.41,\n",
       "       3228.99, 3386.96, 3545.32, 3704.07, 3863.21, 4022.75, 4182.68,\n",
       "       4343.01, 4503.73, 4664.85, 4826.37, 4988.28, 5150.59, 5313.31,\n",
       "       5476.43, 5639.95])"
      ]
     },
     "execution_count": 112,
     "metadata": {},
     "output_type": "execute_result"
    }
   ],
   "source": [
    "deposits = np.append(0, deposits)\n",
    "\n",
    "deposits"
   ]
  },
  {
   "cell_type": "code",
   "execution_count": 113,
   "id": "283eaa19-05aa-4cda-9010-193667a410fc",
   "metadata": {
    "tags": []
   },
   "outputs": [
    {
     "data": {
      "text/plain": [
       "array([2000.  , 2154.94, 2310.26, 2465.96, 2622.04, 2778.52, 2935.38,\n",
       "       3092.63, 3250.26, 3408.29, 3566.71, 3725.51, 3884.7 , 4044.29,\n",
       "       4204.27, 4364.65, 4525.43, 4686.6 , 4848.17, 5010.14, 5172.51,\n",
       "       5335.28, 5498.45, 5662.02, 5825.99, 5990.37, 6155.16, 6320.36,\n",
       "       6485.96, 6651.97, 6818.4 , 6985.23, 7152.47, 7320.13, 7488.2 ,\n",
       "       7656.69, 7825.59])"
      ]
     },
     "execution_count": 113,
     "metadata": {},
     "output_type": "execute_result"
    }
   ],
   "source": [
    "new_balances = balances + deposits\n",
    "\n",
    "new_balances"
   ]
  },
  {
   "cell_type": "markdown",
   "id": "cc09ba40-70f8-414b-bfc9-82a7f681ad92",
   "metadata": {},
   "source": [
    "Now, after $10$ months, the balance is:"
   ]
  },
  {
   "cell_type": "code",
   "execution_count": 114,
   "id": "1e4ffda8-398e-421d-8752-ab42caeb8d4e",
   "metadata": {
    "tags": []
   },
   "outputs": [
    {
     "data": {
      "text/plain": [
       "3566.71"
      ]
     },
     "execution_count": 114,
     "metadata": {},
     "output_type": "execute_result"
    }
   ],
   "source": [
    "new_balances[10]"
   ]
  },
  {
   "cell_type": "markdown",
   "id": "189ffe85-deea-4c5e-ae7d-29387c654311",
   "metadata": {},
   "source": [
    "## Comments, Suggestions, Corrections\n",
    "\n",
    "Please send your comments, suggestions, and corrections to lfinotti@utk.edu."
   ]
  }
 ],
 "metadata": {
  "kernelspec": {
   "display_name": "Python 3 (ipykernel)",
   "language": "python",
   "name": "python3"
  },
  "language_info": {
   "codemirror_mode": {
    "name": "ipython",
    "version": 3
   },
   "file_extension": ".py",
   "mimetype": "text/x-python",
   "name": "python",
   "nbconvert_exporter": "python",
   "pygments_lexer": "ipython3",
   "version": "3.11.4"
  }
 },
 "nbformat": 4,
 "nbformat_minor": 5
}
