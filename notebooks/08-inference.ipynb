{
 "cells": [
  {
   "cell_type": "markdown",
   "id": "98e3fce4-bc36-4845-9fc5-cf6f078388ff",
   "metadata": {},
   "source": [
    "# Estimation and Inference"
   ]
  },
  {
   "cell_type": "markdown",
   "id": "c28d91b9-3e23-4119-ad04-5dabc84a61d9",
   "metadata": {},
   "source": [
    "## Acknowledgment \n",
    "\n",
    "Some of the content here is based on [Computational and Inferential Thinking: The Foundations of Data Science](https://inferentialthinking.com/chapters/intro.html), by A. Adhikari, J. DeNero, D. Wagner.\n",
    "\n",
    "On the other hand, this text uses its own module `datascience` for data frame manipulations, while we will use pandas, which is the most commonly used library for data frames in Python."
   ]
  },
  {
   "cell_type": "markdown",
   "id": "19369fcb-d5dc-41a1-8236-5e64f68a1fc0",
   "metadata": {},
   "source": [
    "## Importing Modules\n",
    "\n",
    "Let's start by importing the necessary modules:"
   ]
  },
  {
   "cell_type": "code",
   "execution_count": 1,
   "id": "cd06bdf5-06d4-497b-be12-ebc014b95fa6",
   "metadata": {
    "tags": []
   },
   "outputs": [],
   "source": [
    "import numpy as np\n",
    "\n",
    "import pandas as pd\n",
    "# pd.options.future.infer_string = True\n",
    "# pd.options.mode.copy_on_write = True\n",
    "\n",
    "import matplotlib.pyplot as plt\n",
    "\n",
    "plt.rcParams[\"figure.figsize\"] = (8, 6)  # default figure size\n",
    "plt.style.use(\"ggplot\")  # style sheet\n",
    "\n",
    "from tqdm.notebook import tqdm"
   ]
  },
  {
   "cell_type": "markdown",
   "id": "f4d7d7d1-90b6-4bdd-a0c2-ea4d349f4db4",
   "metadata": {},
   "source": [
    "## Introduction\n",
    "\n",
    "Election polls cannot quite ask the whole voting population for their intended candidates.  It relies on a very small sample to make predictions, which are [often quite accurate](https://fivethirtyeight.com/features/2022-election-polling-accuracy/).\n",
    "\n",
    "Here we will illustrate how often a relatively small samples can yield accurate estimates for properties of the entire data."
   ]
  },
  {
   "cell_type": "markdown",
   "id": "da5b54fa-670b-4b70-9cb3-8c608450e899",
   "metadata": {},
   "source": [
    "## Sampling\n",
    "\n",
    "The key fact here is that if the sample is *random enough* and *not too small*, in relative terms, the sample \"looks like\" the entire data.\n",
    "\n",
    "## Flight Delay\n",
    "\n",
    "As an illustration, we will use the file [united_summer2015.csv](united_summer2015.csv) (provided with this notebook) to see how a sample can give information about the entire data. \n",
    "\n",
    "The file contains data for United Airlines domestic flights departing from San Francisco in the summer of 2015. The data are made publicly available by the [Bureau of Transportation Statistics](http://www.transtats.bts.gov/Fields.asp?Table_ID=293) in the United States Department of Transportation.\n",
    "\n",
    "There are 13,825 rows, each corresponding to a flight. The columns are the date of the flight, the flight number, the destination airport code, and the departure delay time in minutes. Some delay times are negative: those flights left early."
   ]
  },
  {
   "cell_type": "code",
   "execution_count": 2,
   "id": "45426f4c-ae20-4149-91ef-d5d33d5d5dda",
   "metadata": {
    "tags": []
   },
   "outputs": [
    {
     "data": {
      "text/html": [
       "<div>\n",
       "<style scoped>\n",
       "    .dataframe tbody tr th:only-of-type {\n",
       "        vertical-align: middle;\n",
       "    }\n",
       "\n",
       "    .dataframe tbody tr th {\n",
       "        vertical-align: top;\n",
       "    }\n",
       "\n",
       "    .dataframe thead th {\n",
       "        text-align: right;\n",
       "    }\n",
       "</style>\n",
       "<table border=\"1\" class=\"dataframe\">\n",
       "  <thead>\n",
       "    <tr style=\"text-align: right;\">\n",
       "      <th></th>\n",
       "      <th>Date</th>\n",
       "      <th>Flight Number</th>\n",
       "      <th>Destination</th>\n",
       "      <th>Delay</th>\n",
       "    </tr>\n",
       "  </thead>\n",
       "  <tbody>\n",
       "    <tr>\n",
       "      <th>0</th>\n",
       "      <td>6/1/15</td>\n",
       "      <td>73</td>\n",
       "      <td>HNL</td>\n",
       "      <td>257</td>\n",
       "    </tr>\n",
       "    <tr>\n",
       "      <th>1</th>\n",
       "      <td>6/1/15</td>\n",
       "      <td>217</td>\n",
       "      <td>EWR</td>\n",
       "      <td>28</td>\n",
       "    </tr>\n",
       "    <tr>\n",
       "      <th>2</th>\n",
       "      <td>6/1/15</td>\n",
       "      <td>237</td>\n",
       "      <td>STL</td>\n",
       "      <td>-3</td>\n",
       "    </tr>\n",
       "    <tr>\n",
       "      <th>3</th>\n",
       "      <td>6/1/15</td>\n",
       "      <td>250</td>\n",
       "      <td>SAN</td>\n",
       "      <td>0</td>\n",
       "    </tr>\n",
       "    <tr>\n",
       "      <th>4</th>\n",
       "      <td>6/1/15</td>\n",
       "      <td>267</td>\n",
       "      <td>PHL</td>\n",
       "      <td>64</td>\n",
       "    </tr>\n",
       "    <tr>\n",
       "      <th>...</th>\n",
       "      <td>...</td>\n",
       "      <td>...</td>\n",
       "      <td>...</td>\n",
       "      <td>...</td>\n",
       "    </tr>\n",
       "    <tr>\n",
       "      <th>13820</th>\n",
       "      <td>8/31/15</td>\n",
       "      <td>1978</td>\n",
       "      <td>LAS</td>\n",
       "      <td>-4</td>\n",
       "    </tr>\n",
       "    <tr>\n",
       "      <th>13821</th>\n",
       "      <td>8/31/15</td>\n",
       "      <td>1993</td>\n",
       "      <td>IAD</td>\n",
       "      <td>8</td>\n",
       "    </tr>\n",
       "    <tr>\n",
       "      <th>13822</th>\n",
       "      <td>8/31/15</td>\n",
       "      <td>1994</td>\n",
       "      <td>ORD</td>\n",
       "      <td>3</td>\n",
       "    </tr>\n",
       "    <tr>\n",
       "      <th>13823</th>\n",
       "      <td>8/31/15</td>\n",
       "      <td>2000</td>\n",
       "      <td>PHX</td>\n",
       "      <td>-1</td>\n",
       "    </tr>\n",
       "    <tr>\n",
       "      <th>13824</th>\n",
       "      <td>8/31/15</td>\n",
       "      <td>2013</td>\n",
       "      <td>EWR</td>\n",
       "      <td>-2</td>\n",
       "    </tr>\n",
       "  </tbody>\n",
       "</table>\n",
       "<p>13825 rows × 4 columns</p>\n",
       "</div>"
      ],
      "text/plain": [
       "          Date  Flight Number Destination  Delay\n",
       "0       6/1/15             73         HNL    257\n",
       "1       6/1/15            217         EWR     28\n",
       "2       6/1/15            237         STL     -3\n",
       "3       6/1/15            250         SAN      0\n",
       "4       6/1/15            267         PHL     64\n",
       "...        ...            ...         ...    ...\n",
       "13820  8/31/15           1978         LAS     -4\n",
       "13821  8/31/15           1993         IAD      8\n",
       "13822  8/31/15           1994         ORD      3\n",
       "13823  8/31/15           2000         PHX     -1\n",
       "13824  8/31/15           2013         EWR     -2\n",
       "\n",
       "[13825 rows x 4 columns]"
      ]
     },
     "execution_count": 2,
     "metadata": {},
     "output_type": "execute_result"
    }
   ],
   "source": [
    "united = pd.read_csv(\"united_summer2015.csv\")\n",
    "united"
   ]
  },
  {
   "cell_type": "markdown",
   "id": "1af0a19e-7d57-4784-ba3f-bfec705b325a",
   "metadata": {},
   "source": [
    "### Full Data Mean and Distribution\n",
    "\n",
    "Let's find the average delay:"
   ]
  },
  {
   "cell_type": "code",
   "execution_count": 3,
   "id": "428e823d-73b4-4c68-b669-396971ab44c3",
   "metadata": {
    "tags": []
   },
   "outputs": [
    {
     "data": {
      "text/plain": [
       "16.658155515370705"
      ]
     },
     "execution_count": 3,
     "metadata": {},
     "output_type": "execute_result"
    }
   ],
   "source": [
    "data_mean = united[\"Delay\"].mean()\n",
    "data_mean"
   ]
  },
  {
   "cell_type": "markdown",
   "id": "8f82bc9f-958c-4c8e-befb-56ffde0cdbf8",
   "metadata": {},
   "source": [
    "Let's look at the distribution of the delays in a (density) histogram:"
   ]
  },
  {
   "cell_type": "code",
   "execution_count": 4,
   "id": "321a3b68-a9e6-4d12-9f12-b85ecdff1cff",
   "metadata": {
    "tags": []
   },
   "outputs": [
    {
     "data": {
      "image/png": "[encoded data removed]",
      "text/plain": [
       "<Figure size 800x600 with 1 Axes>"
      ]
     },
     "metadata": {},
     "output_type": "display_data"
    }
   ],
   "source": [
    "united.hist(\"Delay\", bins=30, density=True, ec=\"white\");"
   ]
  },
  {
   "cell_type": "markdown",
   "id": "7d181899-c85b-49bb-ab0d-18ec3210d694",
   "metadata": {},
   "source": [
    "It seems we have a very small proportion of flights with very high delay:"
   ]
  },
  {
   "cell_type": "code",
   "execution_count": 5,
   "id": "d5d6f668-3ac3-4a2c-895a-c8ea4b57b20e",
   "metadata": {
    "tags": []
   },
   "outputs": [
    {
     "data": {
      "text/plain": [
       "0.008535262206148283"
      ]
     },
     "execution_count": 5,
     "metadata": {},
     "output_type": "execute_result"
    }
   ],
   "source": [
    "high_delay = 200\n",
    "len(united.query(\"Delay >= @high_delay\")) / len(united)"
   ]
  },
  {
   "cell_type": "markdown",
   "id": "017be6db-9249-4131-92b0-0be965a07602",
   "metadata": {},
   "source": [
    "So, less than 1% of flights have a delay of 200 minutes or more.\n",
    "\n",
    "Maybe we can then better visualize the more relevant part of the data by restricting the data:"
   ]
  },
  {
   "cell_type": "code",
   "execution_count": 6,
   "id": "97071437-3d09-4d6d-b6f6-f35ed4b9c143",
   "metadata": {
    "tags": []
   },
   "outputs": [
    {
     "data": {
      "text/plain": [
       "-16"
      ]
     },
     "execution_count": 6,
     "metadata": {},
     "output_type": "execute_result"
    }
   ],
   "source": [
    "united[\"Delay\"].min()"
   ]
  },
  {
   "cell_type": "code",
   "execution_count": 7,
   "id": "74eec578-177a-4f2d-b308-0049d39c92d6",
   "metadata": {
    "tags": []
   },
   "outputs": [
    {
     "data": {
      "image/png": "[encoded data removed]",
      "text/plain": [
       "<Figure size 800x600 with 1 Axes>"
      ]
     },
     "metadata": {},
     "output_type": "display_data"
    }
   ],
   "source": [
    "delay_bins = np.arange(-20, high_delay + 10, 10)\n",
    "\n",
    "# histogram\n",
    "united.query(\"Delay <= @high_delay\").hist(\n",
    "    \"Delay\", bins=delay_bins, density=True, ec=\"white\"\n",
    ")\n",
    "\n",
    "# average delay\n",
    "plt.scatter(data_mean, 0, marker=\"^\", c=\"blue\", s=200, label=\"Average Delay\")\n",
    "\n",
    "plt.legend(markerscale=0.5);"
   ]
  },
  {
   "cell_type": "markdown",
   "id": "ae68ca4c-4fb8-4be6-ac60-fa031f0597ef",
   "metadata": {},
   "source": [
    "### Sample\n",
    "\n",
    "Let's now take a *random* samples of the data.\n",
    "\n",
    "To make our tests easier, let's write a function that allows to choose a sample size, and gives us the sample, while also displaying its average and distribution of delays."
   ]
  },
  {
   "cell_type": "code",
   "execution_count": 8,
   "id": "1800db5e-08b4-424d-a1bf-b39f7c456568",
   "metadata": {
    "tags": []
   },
   "outputs": [],
   "source": [
    "def test_sample(sample_size):\n",
    "    \"\"\"\n",
    "    Takes a sample of the united data frame of given size, displays the average delay from the sample\n",
    "    and its histogram, and returns the sample.\n",
    "\n",
    "    INPUT:\n",
    "    sample_size: size of the sample to be taken from the united data frame.\n",
    "\n",
    "    OUTPUTS:\n",
    "    prints average delay from the sample (of given size);\n",
    "    displays the density histogram for the delays of the sample;\n",
    "    *returns* the sample.\n",
    "    \"\"\"\n",
    "    sample = united.sample(sample_size)\n",
    "    mean = sample[\"Delay\"].mean()\n",
    "    print(f\"The average delay for this sample (of size {sample_size}) is {mean}.\")\n",
    "\n",
    "    sample.hist(\"Delay\", bins=delay_bins, density=True, ec=\"white\")\n",
    "    plt.scatter(mean, 0, marker=\"^\", c=\"blue\", s=200)\n",
    "\n",
    "    return sample"
   ]
  },
  {
   "cell_type": "markdown",
   "id": "21b39bf0-349c-413f-959b-50390fd8abd9",
   "metadata": {},
   "source": [
    "As one would expect, small samples can differ considerably from the full data."
   ]
  },
  {
   "cell_type": "code",
   "execution_count": 9,
   "id": "66411d70-56b5-4fbf-885b-57ad8f1b9320",
   "metadata": {
    "tags": []
   },
   "outputs": [
    {
     "name": "stdout",
     "output_type": "stream",
     "text": [
      "The average delay for this sample (of size 10) is 43.4.\n"
     ]
    },
    {
     "data": {
      "text/html": [
       "<div>\n",
       "<style scoped>\n",
       "    .dataframe tbody tr th:only-of-type {\n",
       "        vertical-align: middle;\n",
       "    }\n",
       "\n",
       "    .dataframe tbody tr th {\n",
       "        vertical-align: top;\n",
       "    }\n",
       "\n",
       "    .dataframe thead th {\n",
       "        text-align: right;\n",
       "    }\n",
       "</style>\n",
       "<table border=\"1\" class=\"dataframe\">\n",
       "  <thead>\n",
       "    <tr style=\"text-align: right;\">\n",
       "      <th></th>\n",
       "      <th>Date</th>\n",
       "      <th>Flight Number</th>\n",
       "      <th>Destination</th>\n",
       "      <th>Delay</th>\n",
       "    </tr>\n",
       "  </thead>\n",
       "  <tbody>\n",
       "    <tr>\n",
       "      <th>6987</th>\n",
       "      <td>7/17/15</td>\n",
       "      <td>1526</td>\n",
       "      <td>SEA</td>\n",
       "      <td>18</td>\n",
       "    </tr>\n",
       "    <tr>\n",
       "      <th>2313</th>\n",
       "      <td>6/16/15</td>\n",
       "      <td>1073</td>\n",
       "      <td>BOS</td>\n",
       "      <td>85</td>\n",
       "    </tr>\n",
       "    <tr>\n",
       "      <th>2869</th>\n",
       "      <td>6/19/15</td>\n",
       "      <td>1967</td>\n",
       "      <td>EWR</td>\n",
       "      <td>46</td>\n",
       "    </tr>\n",
       "    <tr>\n",
       "      <th>4040</th>\n",
       "      <td>6/27/15</td>\n",
       "      <td>1927</td>\n",
       "      <td>IAH</td>\n",
       "      <td>3</td>\n",
       "    </tr>\n",
       "    <tr>\n",
       "      <th>1580</th>\n",
       "      <td>6/11/15</td>\n",
       "      <td>1136</td>\n",
       "      <td>LAX</td>\n",
       "      <td>5</td>\n",
       "    </tr>\n",
       "    <tr>\n",
       "      <th>6132</th>\n",
       "      <td>7/12/15</td>\n",
       "      <td>497</td>\n",
       "      <td>SLC</td>\n",
       "      <td>72</td>\n",
       "    </tr>\n",
       "    <tr>\n",
       "      <th>2501</th>\n",
       "      <td>6/17/15</td>\n",
       "      <td>1531</td>\n",
       "      <td>RDU</td>\n",
       "      <td>-2</td>\n",
       "    </tr>\n",
       "    <tr>\n",
       "      <th>13</th>\n",
       "      <td>6/1/15</td>\n",
       "      <td>355</td>\n",
       "      <td>IAD</td>\n",
       "      <td>0</td>\n",
       "    </tr>\n",
       "    <tr>\n",
       "      <th>9920</th>\n",
       "      <td>8/5/15</td>\n",
       "      <td>1684</td>\n",
       "      <td>LIH</td>\n",
       "      <td>191</td>\n",
       "    </tr>\n",
       "    <tr>\n",
       "      <th>9039</th>\n",
       "      <td>7/31/15</td>\n",
       "      <td>300</td>\n",
       "      <td>HNL</td>\n",
       "      <td>16</td>\n",
       "    </tr>\n",
       "  </tbody>\n",
       "</table>\n",
       "</div>"
      ],
      "text/plain": [
       "         Date  Flight Number Destination  Delay\n",
       "6987  7/17/15           1526         SEA     18\n",
       "2313  6/16/15           1073         BOS     85\n",
       "2869  6/19/15           1967         EWR     46\n",
       "4040  6/27/15           1927         IAH      3\n",
       "1580  6/11/15           1136         LAX      5\n",
       "6132  7/12/15            497         SLC     72\n",
       "2501  6/17/15           1531         RDU     -2\n",
       "13     6/1/15            355         IAD      0\n",
       "9920   8/5/15           1684         LIH    191\n",
       "9039  7/31/15            300         HNL     16"
      ]
     },
     "execution_count": 9,
     "metadata": {},
     "output_type": "execute_result"
    },
    {
     "data": {
      "image/png": "[encoded data removed]",
      "text/plain": [
       "<Figure size 800x600 with 1 Axes>"
      ]
     },
     "metadata": {},
     "output_type": "display_data"
    }
   ],
   "source": [
    "test_sample(10)"
   ]
  },
  {
   "cell_type": "markdown",
   "id": "60b70e91-e6fc-4d8f-be1f-18a99ed2e16d",
   "metadata": {},
   "source": [
    "But it gets better with larger samples:"
   ]
  },
  {
   "cell_type": "code",
   "execution_count": 10,
   "id": "fd5f9ca4-d753-4590-bea7-ced006d3d2d3",
   "metadata": {
    "tags": []
   },
   "outputs": [
    {
     "name": "stdout",
     "output_type": "stream",
     "text": [
      "The average delay for this sample (of size 50) is 16.84.\n"
     ]
    },
    {
     "data": {
      "text/html": [
       "<div>\n",
       "<style scoped>\n",
       "    .dataframe tbody tr th:only-of-type {\n",
       "        vertical-align: middle;\n",
       "    }\n",
       "\n",
       "    .dataframe tbody tr th {\n",
       "        vertical-align: top;\n",
       "    }\n",
       "\n",
       "    .dataframe thead th {\n",
       "        text-align: right;\n",
       "    }\n",
       "</style>\n",
       "<table border=\"1\" class=\"dataframe\">\n",
       "  <thead>\n",
       "    <tr style=\"text-align: right;\">\n",
       "      <th></th>\n",
       "      <th>Date</th>\n",
       "      <th>Flight Number</th>\n",
       "      <th>Destination</th>\n",
       "      <th>Delay</th>\n",
       "    </tr>\n",
       "  </thead>\n",
       "  <tbody>\n",
       "    <tr>\n",
       "      <th>2586</th>\n",
       "      <td>6/18/15</td>\n",
       "      <td>464</td>\n",
       "      <td>PDX</td>\n",
       "      <td>1</td>\n",
       "    </tr>\n",
       "    <tr>\n",
       "      <th>744</th>\n",
       "      <td>6/5/15</td>\n",
       "      <td>1900</td>\n",
       "      <td>SAN</td>\n",
       "      <td>3</td>\n",
       "    </tr>\n",
       "    <tr>\n",
       "      <th>13358</th>\n",
       "      <td>8/28/15</td>\n",
       "      <td>1570</td>\n",
       "      <td>BOS</td>\n",
       "      <td>-3</td>\n",
       "    </tr>\n",
       "    <tr>\n",
       "      <th>8359</th>\n",
       "      <td>7/26/15</td>\n",
       "      <td>1686</td>\n",
       "      <td>BOS</td>\n",
       "      <td>-4</td>\n",
       "    </tr>\n",
       "    <tr>\n",
       "      <th>5237</th>\n",
       "      <td>7/6/15</td>\n",
       "      <td>1084</td>\n",
       "      <td>SEA</td>\n",
       "      <td>-1</td>\n",
       "    </tr>\n",
       "    <tr>\n",
       "      <th>10532</th>\n",
       "      <td>8/9/15</td>\n",
       "      <td>1699</td>\n",
       "      <td>ATL</td>\n",
       "      <td>2</td>\n",
       "    </tr>\n",
       "    <tr>\n",
       "      <th>12137</th>\n",
       "      <td>8/20/15</td>\n",
       "      <td>525</td>\n",
       "      <td>LAS</td>\n",
       "      <td>1</td>\n",
       "    </tr>\n",
       "    <tr>\n",
       "      <th>4148</th>\n",
       "      <td>6/28/15</td>\n",
       "      <td>1449</td>\n",
       "      <td>LAS</td>\n",
       "      <td>-9</td>\n",
       "    </tr>\n",
       "    <tr>\n",
       "      <th>6933</th>\n",
       "      <td>7/17/15</td>\n",
       "      <td>731</td>\n",
       "      <td>DEN</td>\n",
       "      <td>-2</td>\n",
       "    </tr>\n",
       "    <tr>\n",
       "      <th>13404</th>\n",
       "      <td>8/28/15</td>\n",
       "      <td>1907</td>\n",
       "      <td>EWR</td>\n",
       "      <td>-3</td>\n",
       "    </tr>\n",
       "    <tr>\n",
       "      <th>9263</th>\n",
       "      <td>8/1/15</td>\n",
       "      <td>1240</td>\n",
       "      <td>LAS</td>\n",
       "      <td>116</td>\n",
       "    </tr>\n",
       "    <tr>\n",
       "      <th>3160</th>\n",
       "      <td>6/22/15</td>\n",
       "      <td>349</td>\n",
       "      <td>EWR</td>\n",
       "      <td>0</td>\n",
       "    </tr>\n",
       "    <tr>\n",
       "      <th>11576</th>\n",
       "      <td>8/16/15</td>\n",
       "      <td>1159</td>\n",
       "      <td>LAS</td>\n",
       "      <td>-3</td>\n",
       "    </tr>\n",
       "    <tr>\n",
       "      <th>3835</th>\n",
       "      <td>6/26/15</td>\n",
       "      <td>1073</td>\n",
       "      <td>BOS</td>\n",
       "      <td>41</td>\n",
       "    </tr>\n",
       "    <tr>\n",
       "      <th>8211</th>\n",
       "      <td>7/25/15</td>\n",
       "      <td>1608</td>\n",
       "      <td>EWR</td>\n",
       "      <td>13</td>\n",
       "    </tr>\n",
       "    <tr>\n",
       "      <th>6311</th>\n",
       "      <td>7/13/15</td>\n",
       "      <td>1029</td>\n",
       "      <td>DFW</td>\n",
       "      <td>4</td>\n",
       "    </tr>\n",
       "    <tr>\n",
       "      <th>2128</th>\n",
       "      <td>6/15/15</td>\n",
       "      <td>587</td>\n",
       "      <td>SNA</td>\n",
       "      <td>0</td>\n",
       "    </tr>\n",
       "    <tr>\n",
       "      <th>13327</th>\n",
       "      <td>8/28/15</td>\n",
       "      <td>1109</td>\n",
       "      <td>DEN</td>\n",
       "      <td>0</td>\n",
       "    </tr>\n",
       "    <tr>\n",
       "      <th>6783</th>\n",
       "      <td>7/16/15</td>\n",
       "      <td>887</td>\n",
       "      <td>LAX</td>\n",
       "      <td>8</td>\n",
       "    </tr>\n",
       "    <tr>\n",
       "      <th>10797</th>\n",
       "      <td>8/11/15</td>\n",
       "      <td>1084</td>\n",
       "      <td>SEA</td>\n",
       "      <td>-5</td>\n",
       "    </tr>\n",
       "    <tr>\n",
       "      <th>8865</th>\n",
       "      <td>7/29/15</td>\n",
       "      <td>1973</td>\n",
       "      <td>ORD</td>\n",
       "      <td>29</td>\n",
       "    </tr>\n",
       "    <tr>\n",
       "      <th>10193</th>\n",
       "      <td>8/7/15</td>\n",
       "      <td>1091</td>\n",
       "      <td>DEN</td>\n",
       "      <td>8</td>\n",
       "    </tr>\n",
       "    <tr>\n",
       "      <th>8189</th>\n",
       "      <td>7/25/15</td>\n",
       "      <td>1189</td>\n",
       "      <td>ORD</td>\n",
       "      <td>6</td>\n",
       "    </tr>\n",
       "    <tr>\n",
       "      <th>6227</th>\n",
       "      <td>7/12/15</td>\n",
       "      <td>1780</td>\n",
       "      <td>SEA</td>\n",
       "      <td>-5</td>\n",
       "    </tr>\n",
       "    <tr>\n",
       "      <th>4273</th>\n",
       "      <td>6/29/15</td>\n",
       "      <td>1122</td>\n",
       "      <td>HNL</td>\n",
       "      <td>19</td>\n",
       "    </tr>\n",
       "    <tr>\n",
       "      <th>1646</th>\n",
       "      <td>6/11/15</td>\n",
       "      <td>1927</td>\n",
       "      <td>IAH</td>\n",
       "      <td>187</td>\n",
       "    </tr>\n",
       "    <tr>\n",
       "      <th>12706</th>\n",
       "      <td>8/24/15</td>\n",
       "      <td>663</td>\n",
       "      <td>HNL</td>\n",
       "      <td>1</td>\n",
       "    </tr>\n",
       "    <tr>\n",
       "      <th>2536</th>\n",
       "      <td>6/17/15</td>\n",
       "      <td>1751</td>\n",
       "      <td>LAS</td>\n",
       "      <td>7</td>\n",
       "    </tr>\n",
       "    <tr>\n",
       "      <th>4543</th>\n",
       "      <td>7/1/15</td>\n",
       "      <td>663</td>\n",
       "      <td>HNL</td>\n",
       "      <td>13</td>\n",
       "    </tr>\n",
       "    <tr>\n",
       "      <th>4694</th>\n",
       "      <td>7/2/15</td>\n",
       "      <td>624</td>\n",
       "      <td>ORD</td>\n",
       "      <td>58</td>\n",
       "    </tr>\n",
       "    <tr>\n",
       "      <th>2531</th>\n",
       "      <td>6/17/15</td>\n",
       "      <td>1728</td>\n",
       "      <td>ATL</td>\n",
       "      <td>37</td>\n",
       "    </tr>\n",
       "    <tr>\n",
       "      <th>6693</th>\n",
       "      <td>7/15/15</td>\n",
       "      <td>1717</td>\n",
       "      <td>ORD</td>\n",
       "      <td>-1</td>\n",
       "    </tr>\n",
       "    <tr>\n",
       "      <th>7666</th>\n",
       "      <td>7/22/15</td>\n",
       "      <td>525</td>\n",
       "      <td>LAS</td>\n",
       "      <td>29</td>\n",
       "    </tr>\n",
       "    <tr>\n",
       "      <th>1440</th>\n",
       "      <td>6/10/15</td>\n",
       "      <td>1456</td>\n",
       "      <td>EWR</td>\n",
       "      <td>33</td>\n",
       "    </tr>\n",
       "    <tr>\n",
       "      <th>4647</th>\n",
       "      <td>7/1/15</td>\n",
       "      <td>1975</td>\n",
       "      <td>FLL</td>\n",
       "      <td>65</td>\n",
       "    </tr>\n",
       "    <tr>\n",
       "      <th>6046</th>\n",
       "      <td>7/11/15</td>\n",
       "      <td>1204</td>\n",
       "      <td>IAH</td>\n",
       "      <td>59</td>\n",
       "    </tr>\n",
       "    <tr>\n",
       "      <th>4212</th>\n",
       "      <td>6/29/15</td>\n",
       "      <td>309</td>\n",
       "      <td>IAD</td>\n",
       "      <td>-1</td>\n",
       "    </tr>\n",
       "    <tr>\n",
       "      <th>11347</th>\n",
       "      <td>8/14/15</td>\n",
       "      <td>1686</td>\n",
       "      <td>DCA</td>\n",
       "      <td>-4</td>\n",
       "    </tr>\n",
       "    <tr>\n",
       "      <th>12873</th>\n",
       "      <td>8/25/15</td>\n",
       "      <td>1004</td>\n",
       "      <td>LAX</td>\n",
       "      <td>15</td>\n",
       "    </tr>\n",
       "    <tr>\n",
       "      <th>1419</th>\n",
       "      <td>6/10/15</td>\n",
       "      <td>1124</td>\n",
       "      <td>LAS</td>\n",
       "      <td>1</td>\n",
       "    </tr>\n",
       "    <tr>\n",
       "      <th>11285</th>\n",
       "      <td>8/14/15</td>\n",
       "      <td>1062</td>\n",
       "      <td>MSP</td>\n",
       "      <td>16</td>\n",
       "    </tr>\n",
       "    <tr>\n",
       "      <th>5256</th>\n",
       "      <td>7/6/15</td>\n",
       "      <td>1252</td>\n",
       "      <td>MCO</td>\n",
       "      <td>-3</td>\n",
       "    </tr>\n",
       "    <tr>\n",
       "      <th>7313</th>\n",
       "      <td>7/19/15</td>\n",
       "      <td>1984</td>\n",
       "      <td>PDX</td>\n",
       "      <td>1</td>\n",
       "    </tr>\n",
       "    <tr>\n",
       "      <th>8428</th>\n",
       "      <td>7/27/15</td>\n",
       "      <td>583</td>\n",
       "      <td>LAS</td>\n",
       "      <td>-2</td>\n",
       "    </tr>\n",
       "    <tr>\n",
       "      <th>3110</th>\n",
       "      <td>6/21/15</td>\n",
       "      <td>1670</td>\n",
       "      <td>HNL</td>\n",
       "      <td>19</td>\n",
       "    </tr>\n",
       "    <tr>\n",
       "      <th>12216</th>\n",
       "      <td>8/20/15</td>\n",
       "      <td>1668</td>\n",
       "      <td>ORD</td>\n",
       "      <td>10</td>\n",
       "    </tr>\n",
       "    <tr>\n",
       "      <th>6801</th>\n",
       "      <td>7/16/15</td>\n",
       "      <td>1168</td>\n",
       "      <td>EWR</td>\n",
       "      <td>62</td>\n",
       "    </tr>\n",
       "    <tr>\n",
       "      <th>13209</th>\n",
       "      <td>8/27/15</td>\n",
       "      <td>1593</td>\n",
       "      <td>EWR</td>\n",
       "      <td>3</td>\n",
       "    </tr>\n",
       "    <tr>\n",
       "      <th>9198</th>\n",
       "      <td>8/1/15</td>\n",
       "      <td>249</td>\n",
       "      <td>IAD</td>\n",
       "      <td>11</td>\n",
       "    </tr>\n",
       "    <tr>\n",
       "      <th>377</th>\n",
       "      <td>6/3/15</td>\n",
       "      <td>1175</td>\n",
       "      <td>HNL</td>\n",
       "      <td>10</td>\n",
       "    </tr>\n",
       "  </tbody>\n",
       "</table>\n",
       "</div>"
      ],
      "text/plain": [
       "          Date  Flight Number Destination  Delay\n",
       "2586   6/18/15            464         PDX      1\n",
       "744     6/5/15           1900         SAN      3\n",
       "13358  8/28/15           1570         BOS     -3\n",
       "8359   7/26/15           1686         BOS     -4\n",
       "5237    7/6/15           1084         SEA     -1\n",
       "10532   8/9/15           1699         ATL      2\n",
       "12137  8/20/15            525         LAS      1\n",
       "4148   6/28/15           1449         LAS     -9\n",
       "6933   7/17/15            731         DEN     -2\n",
       "13404  8/28/15           1907         EWR     -3\n",
       "9263    8/1/15           1240         LAS    116\n",
       "3160   6/22/15            349         EWR      0\n",
       "11576  8/16/15           1159         LAS     -3\n",
       "3835   6/26/15           1073         BOS     41\n",
       "8211   7/25/15           1608         EWR     13\n",
       "6311   7/13/15           1029         DFW      4\n",
       "2128   6/15/15            587         SNA      0\n",
       "13327  8/28/15           1109         DEN      0\n",
       "6783   7/16/15            887         LAX      8\n",
       "10797  8/11/15           1084         SEA     -5\n",
       "8865   7/29/15           1973         ORD     29\n",
       "10193   8/7/15           1091         DEN      8\n",
       "8189   7/25/15           1189         ORD      6\n",
       "6227   7/12/15           1780         SEA     -5\n",
       "4273   6/29/15           1122         HNL     19\n",
       "1646   6/11/15           1927         IAH    187\n",
       "12706  8/24/15            663         HNL      1\n",
       "2536   6/17/15           1751         LAS      7\n",
       "4543    7/1/15            663         HNL     13\n",
       "4694    7/2/15            624         ORD     58\n",
       "2531   6/17/15           1728         ATL     37\n",
       "6693   7/15/15           1717         ORD     -1\n",
       "7666   7/22/15            525         LAS     29\n",
       "1440   6/10/15           1456         EWR     33\n",
       "4647    7/1/15           1975         FLL     65\n",
       "6046   7/11/15           1204         IAH     59\n",
       "4212   6/29/15            309         IAD     -1\n",
       "11347  8/14/15           1686         DCA     -4\n",
       "12873  8/25/15           1004         LAX     15\n",
       "1419   6/10/15           1124         LAS      1\n",
       "11285  8/14/15           1062         MSP     16\n",
       "5256    7/6/15           1252         MCO     -3\n",
       "7313   7/19/15           1984         PDX      1\n",
       "8428   7/27/15            583         LAS     -2\n",
       "3110   6/21/15           1670         HNL     19\n",
       "12216  8/20/15           1668         ORD     10\n",
       "6801   7/16/15           1168         EWR     62\n",
       "13209  8/27/15           1593         EWR      3\n",
       "9198    8/1/15            249         IAD     11\n",
       "377     6/3/15           1175         HNL     10"
      ]
     },
     "execution_count": 10,
     "metadata": {},
     "output_type": "execute_result"
    },
    {
     "data": {
      "image/png": "[encoded data removed]",
      "text/plain": [
       "<Figure size 800x600 with 1 Axes>"
      ]
     },
     "metadata": {},
     "output_type": "display_data"
    }
   ],
   "source": [
    "test_sample(50)"
   ]
  },
  {
   "cell_type": "code",
   "execution_count": 11,
   "id": "63611f3b-8feb-4d5e-bfed-5ff145107370",
   "metadata": {
    "tags": []
   },
   "outputs": [
    {
     "name": "stdout",
     "output_type": "stream",
     "text": [
      "The average delay for this sample (of size 100) is 14.91.\n"
     ]
    },
    {
     "data": {
      "text/html": [
       "<div>\n",
       "<style scoped>\n",
       "    .dataframe tbody tr th:only-of-type {\n",
       "        vertical-align: middle;\n",
       "    }\n",
       "\n",
       "    .dataframe tbody tr th {\n",
       "        vertical-align: top;\n",
       "    }\n",
       "\n",
       "    .dataframe thead th {\n",
       "        text-align: right;\n",
       "    }\n",
       "</style>\n",
       "<table border=\"1\" class=\"dataframe\">\n",
       "  <thead>\n",
       "    <tr style=\"text-align: right;\">\n",
       "      <th></th>\n",
       "      <th>Date</th>\n",
       "      <th>Flight Number</th>\n",
       "      <th>Destination</th>\n",
       "      <th>Delay</th>\n",
       "    </tr>\n",
       "  </thead>\n",
       "  <tbody>\n",
       "    <tr>\n",
       "      <th>3624</th>\n",
       "      <td>6/25/15</td>\n",
       "      <td>311</td>\n",
       "      <td>PHX</td>\n",
       "      <td>32</td>\n",
       "    </tr>\n",
       "    <tr>\n",
       "      <th>4710</th>\n",
       "      <td>7/2/15</td>\n",
       "      <td>788</td>\n",
       "      <td>BOS</td>\n",
       "      <td>-3</td>\n",
       "    </tr>\n",
       "    <tr>\n",
       "      <th>3787</th>\n",
       "      <td>6/26/15</td>\n",
       "      <td>354</td>\n",
       "      <td>IAH</td>\n",
       "      <td>-1</td>\n",
       "    </tr>\n",
       "    <tr>\n",
       "      <th>10386</th>\n",
       "      <td>8/8/15</td>\n",
       "      <td>1731</td>\n",
       "      <td>BOS</td>\n",
       "      <td>-3</td>\n",
       "    </tr>\n",
       "    <tr>\n",
       "      <th>3117</th>\n",
       "      <td>6/21/15</td>\n",
       "      <td>1710</td>\n",
       "      <td>LAX</td>\n",
       "      <td>-3</td>\n",
       "    </tr>\n",
       "    <tr>\n",
       "      <th>...</th>\n",
       "      <td>...</td>\n",
       "      <td>...</td>\n",
       "      <td>...</td>\n",
       "      <td>...</td>\n",
       "    </tr>\n",
       "    <tr>\n",
       "      <th>9946</th>\n",
       "      <td>8/5/15</td>\n",
       "      <td>1942</td>\n",
       "      <td>LAX</td>\n",
       "      <td>52</td>\n",
       "    </tr>\n",
       "    <tr>\n",
       "      <th>11182</th>\n",
       "      <td>8/13/15</td>\n",
       "      <td>1728</td>\n",
       "      <td>ORD</td>\n",
       "      <td>5</td>\n",
       "    </tr>\n",
       "    <tr>\n",
       "      <th>4067</th>\n",
       "      <td>6/28/15</td>\n",
       "      <td>311</td>\n",
       "      <td>PHX</td>\n",
       "      <td>78</td>\n",
       "    </tr>\n",
       "    <tr>\n",
       "      <th>9296</th>\n",
       "      <td>8/1/15</td>\n",
       "      <td>1742</td>\n",
       "      <td>EWR</td>\n",
       "      <td>0</td>\n",
       "    </tr>\n",
       "    <tr>\n",
       "      <th>8816</th>\n",
       "      <td>7/29/15</td>\n",
       "      <td>1526</td>\n",
       "      <td>SEA</td>\n",
       "      <td>-1</td>\n",
       "    </tr>\n",
       "  </tbody>\n",
       "</table>\n",
       "<p>100 rows × 4 columns</p>\n",
       "</div>"
      ],
      "text/plain": [
       "          Date  Flight Number Destination  Delay\n",
       "3624   6/25/15            311         PHX     32\n",
       "4710    7/2/15            788         BOS     -3\n",
       "3787   6/26/15            354         IAH     -1\n",
       "10386   8/8/15           1731         BOS     -3\n",
       "3117   6/21/15           1710         LAX     -3\n",
       "...        ...            ...         ...    ...\n",
       "9946    8/5/15           1942         LAX     52\n",
       "11182  8/13/15           1728         ORD      5\n",
       "4067   6/28/15            311         PHX     78\n",
       "9296    8/1/15           1742         EWR      0\n",
       "8816   7/29/15           1526         SEA     -1\n",
       "\n",
       "[100 rows x 4 columns]"
      ]
     },
     "execution_count": 11,
     "metadata": {},
     "output_type": "execute_result"
    },
    {
     "data": {
      "image/png": "[encoded data removed]",
      "text/plain": [
       "<Figure size 800x600 with 1 Axes>"
      ]
     },
     "metadata": {},
     "output_type": "display_data"
    }
   ],
   "source": [
    "test_sample(100)"
   ]
  },
  {
   "cell_type": "code",
   "execution_count": 12,
   "id": "55985ccd-644b-4526-9d34-323f85004049",
   "metadata": {
    "tags": []
   },
   "outputs": [
    {
     "name": "stdout",
     "output_type": "stream",
     "text": [
      "The average delay for this sample (of size 1000) is 17.234.\n"
     ]
    },
    {
     "data": {
      "image/png": "[encoded data removed]",
      "text/plain": [
       "<Figure size 800x600 with 1 Axes>"
      ]
     },
     "metadata": {},
     "output_type": "display_data"
    }
   ],
   "source": [
    "flight_sample = test_sample(1000)"
   ]
  },
  {
   "cell_type": "markdown",
   "id": "2a39f657-ebd0-449a-95d3-22b294981b2e",
   "metadata": {},
   "source": [
    "Let's visualize how the average behaves with sample sizes:"
   ]
  },
  {
   "cell_type": "code",
   "execution_count": 13,
   "id": "4d83e784-9ff3-4b5f-ada5-3c55fa728d2e",
   "metadata": {
    "tags": []
   },
   "outputs": [
    {
     "data": {
      "image/png": "[encoded data removed]",
      "text/plain": [
       "<Figure size 800x600 with 1 Axes>"
      ]
     },
     "metadata": {},
     "output_type": "display_data"
    }
   ],
   "source": [
    "def sample_mean(sample_size):\n",
    "    \"\"\"\n",
    "    Takes a sample of the united data frame of the given size and returns its mean.\n",
    "\n",
    "    INPUT:\n",
    "    sample_size: size of the sample to be taken from the united data frame;\n",
    "\n",
    "    OUTPUT:\n",
    "    average delay from the sample.\n",
    "    \"\"\"\n",
    "    sample = united.sample(sample_size)\n",
    "    return sample[\"Delay\"].mean()\n",
    "\n",
    "# sample sizes to try\n",
    "sample_sizes = np.arange(10, 2011, 10)\n",
    "\n",
    "# averages for each sample size\n",
    "means = np.array([sample_mean(size) for size in sample_sizes])\n",
    "\n",
    "# plot horizontal line with actual average\n",
    "plt.plot(\n",
    "    [sample_sizes[0], sample_sizes[-1]],\n",
    "    [data_mean, data_mean],\n",
    "    c=\"green\",\n",
    "    linestyle=\"dashed\",\n",
    "    label=\"Actual Average\"\n",
    ")\n",
    "\n",
    "# plot the averages for the sample sizes\n",
    "plt.plot(sample_sizes, means, label=\"Sample Average\")\n",
    "\n",
    "plt.xlabel(\"Sample Size\")\n",
    "plt.ylabel(\"Average\")\n",
    "\n",
    "plt.legend();"
   ]
  },
  {
   "cell_type": "markdown",
   "id": "5201ec3d-3bbb-4f18-8eb3-f3544db02816",
   "metadata": {},
   "source": [
    "(Note, each time you run the cell above you get a different plot, but all with similar features.)"
   ]
  },
  {
   "cell_type": "markdown",
   "id": "bfdd1e17-48c0-4284-800a-34736d9b0f8e",
   "metadata": {},
   "source": [
    "We can see then that our estimate for the average delay of the flights is not too far off from the real, especially for larger sample sizes.  So, one can estimate that it is about:"
   ]
  },
  {
   "cell_type": "code",
   "execution_count": 14,
   "id": "a2ac24cb-9863-43dc-a223-1379611c8014",
   "metadata": {
    "tags": []
   },
   "outputs": [
    {
     "data": {
      "text/plain": [
       "14.505"
      ]
     },
     "execution_count": 14,
     "metadata": {},
     "output_type": "execute_result"
    }
   ],
   "source": [
    "sample_mean(1000)"
   ]
  },
  {
   "cell_type": "markdown",
   "id": "c68a9887-3cf5-43e5-a4a2-d61fbc37f5b3",
   "metadata": {},
   "source": [
    "The real one was:"
   ]
  },
  {
   "cell_type": "code",
   "execution_count": 15,
   "id": "1075dd2e-abc8-4925-a685-68e2495bd6e9",
   "metadata": {
    "tags": []
   },
   "outputs": [
    {
     "data": {
      "text/plain": [
       "16.658155515370705"
      ]
     },
     "execution_count": 15,
     "metadata": {},
     "output_type": "execute_result"
    }
   ],
   "source": [
    "data_mean"
   ]
  },
  {
   "cell_type": "markdown",
   "id": "79725924-4234-4688-8005-f2be4869b990",
   "metadata": {
    "tags": []
   },
   "source": [
    "### Variation\n",
    "\n",
    "Each time we take a sample, even if they all have the same size, we get a different value.\n",
    "\n",
    "Again, let's visualize this:"
   ]
  },
  {
   "cell_type": "code",
   "execution_count": 16,
   "id": "fdee56a3-ff4d-40f9-a26b-ecac00c45dc5",
   "metadata": {
    "tags": []
   },
   "outputs": [
    {
     "name": "stdout",
     "output_type": "stream",
     "text": [
      "Minimum Sample Average: 14.071\n",
      "Maximum Sample Average: 20.105\n",
      "Actual Average:         16.658\n",
      "\n",
      "\n"
     ]
    },
    {
     "data": {
      "image/png": "[encoded data removed]",
      "text/plain": [
       "<Figure size 800x600 with 1 Axes>"
      ]
     },
     "metadata": {},
     "output_type": "display_data"
    }
   ],
   "source": [
    "sample_size = 1000  # fixed sample size\n",
    "number_of_samples = 50  # how many samples of given size\n",
    "\n",
    "# array with averages\n",
    "averages = np.array([sample_mean(sample_size) for _ in range(number_of_samples)])\n",
    "\n",
    "# zeros for the scatter plot\n",
    "zeros = np.zeros(number_of_samples)\n",
    "\n",
    "# range of averages\n",
    "min_mean = np.min(averages)\n",
    "max_mean = np.max(averages)\n",
    "\n",
    "# display the averages\n",
    "plt.scatter(averages, zeros, label=\"Sample Average\")\n",
    "\n",
    "# actual average\n",
    "plt.scatter(data_mean, 0, c=\"blue\", marker=\"^\", s=100, label=\"Data Average\")\n",
    "\n",
    "plt.title(f\"Variation of the Average for Samples of Size {sample_size}\")\n",
    "plt.xlabel(\"Average\")\n",
    "\n",
    "plt.legend()\n",
    "\n",
    "print(f\"Minimum Sample Average: {min_mean:.3f}\")\n",
    "print(f\"Maximum Sample Average: {max_mean:.3f}\")\n",
    "print(f\"Actual Average:         {data_mean:.3f}\\n\\n\");"
   ]
  },
  {
   "cell_type": "markdown",
   "id": "e71c2b41-c050-4c13-9566-620c3ad97a8e",
   "metadata": {},
   "source": [
    "Or, to see the distribution of the found averages:"
   ]
  },
  {
   "cell_type": "code",
   "execution_count": 17,
   "id": "2994785d-cad5-47db-b438-cdfef346c3cb",
   "metadata": {
    "tags": []
   },
   "outputs": [
    {
     "data": {
      "image/png": "[encoded data removed]",
      "text/plain": [
       "<Figure size 800x600 with 1 Axes>"
      ]
     },
     "metadata": {},
     "output_type": "display_data"
    }
   ],
   "source": [
    "# histogram\n",
    "plt.hist(averages, ec=\"white\", density=True)\n",
    "\n",
    "# actual average\n",
    "plt.scatter(data_mean, 0, c=\"blue\", marker=\"^\", s=200, label=\"Average\")\n",
    "\n",
    "plt.title(f\"Variation of the Average for Samples of Size {sample_size}\")\n",
    "plt.xlabel(\"Average\");"
   ]
  },
  {
   "cell_type": "markdown",
   "id": "e25fb5b2-f11e-4044-aca0-34804d71a940",
   "metadata": {},
   "source": [
    "Thus, it seems that taking a single sample and using it to obtain an estimate for the full data is dangerous, as we might, due to luck and the randomness of the process, get a \"bad\" sample.  \n",
    "\n",
    "And even if it not bad (which is hard to know), what sort of variation should we expect, in other words, how far off could it be from the actual average?\n",
    "\n",
    "Ideally, we should take many samples of the full data, and then use *all* the obtained averages to get a better idea about what the actual average is.  Unfortunately, most of the time this is impossible, as sampling in real life demands a lot of funds, time, and effort.\n",
    "\n",
    "Fortunately, there is something we can do without getting a new samples from the whole population!"
   ]
  },
  {
   "cell_type": "markdown",
   "id": "19f5cce3-2df4-4adf-9a1e-ff790f0a7225",
   "metadata": {},
   "source": [
    "## The Bootstrap\n",
    "\n",
    "If our original (and only sample) is large enough and random enough, it will resemble the original data.  So, the idea is:\n",
    "\n",
    "**Since the sample is similar to the population, we take a new sample *from the (original) sample itself*!**  This is what we call *bootstrapping*.\n",
    "\n",
    "This will give us a new sample that, in principle, should look similar to an actual sample from the population!\n",
    "\n",
    "When \"resampling\", we will preserve the sample size, and thus we obviously need to do the resampling **with replacement** (i.e., allowing repeated rows), as otherwise we would only permute the original sample and simply obtain the same data with different ordering only.  \n",
    "\n",
    "Note that replacing the data makes sense, since the probability curves of the sample and original data (or their value distributions) should be similar.\n",
    "\n",
    "Let's see this process in practice!  We start with a single sample:"
   ]
  },
  {
   "cell_type": "code",
   "execution_count": 18,
   "id": "6779e1ad-2663-4223-848c-feb11e0c72f3",
   "metadata": {
    "tags": []
   },
   "outputs": [],
   "source": [
    "flight_sample = united.sample(1000)"
   ]
  },
  {
   "cell_type": "markdown",
   "id": "e1083134-f256-49ba-b5d1-d151dc13b6c6",
   "metadata": {},
   "source": [
    "Now, we will *resample* this sample (and *not the full data*), **with repetition**, *many* times over!  (*Thousands* of times!) For each one, we record the obtained average.  \n",
    "\n",
    "Note that the resampling is done with\n",
    "\n",
    "```python\n",
    "flight_sample.sample(frac=1, replace=True)\n",
    "```\n",
    "\n",
    "The `frac=1` makes it so the sample has the same size as the original `flight_sample` data frame, and `replace=True`, makes it so that repeated rows is allowed.\n",
    "\n",
    "Let's write a function that gets the mean of one resample:"
   ]
  },
  {
   "cell_type": "code",
   "execution_count": 19,
   "id": "c99ec868-168f-4df8-87a5-caab1d06b9c3",
   "metadata": {
    "tags": []
   },
   "outputs": [],
   "source": [
    "def resample_mean():\n",
    "    \"\"\"\n",
    "    Gives the average of one resampling of fligt_sample.\n",
    "\n",
    "    INPUT:\n",
    "    None.\n",
    "\n",
    "    OUTPUT:\n",
    "    Average of one resampling.\n",
    "    \"\"\"\n",
    "    resample = flight_sample.sample(frac=1, replace=True)\n",
    "    return resample[\"Delay\"].mean()"
   ]
  },
  {
   "cell_type": "markdown",
   "id": "8db52e3d-4d28-46d1-8882-5bac3840276c",
   "metadata": {},
   "source": [
    "We will store the obtained averages in the array `means`:"
   ]
  },
  {
   "cell_type": "code",
   "execution_count": 20,
   "id": "06693689-03af-41b6-8f5d-655dac27f76a",
   "metadata": {
    "tags": []
   },
   "outputs": [],
   "source": [
    "number_of_repetions = 20_000\n",
    "\n",
    "# array with number_of_repetitions averages from resampling\n",
    "means = np.array([resample_mean() for _ in range(number_of_repetions)])"
   ]
  },
  {
   "cell_type": "markdown",
   "id": "04a2cd17-138e-4a3a-8101-b182d0b05ac4",
   "metadata": {},
   "source": [
    "Note we use [list comprehension](https://docs.python.org/3/tutorial/datastructures.html#list-comprehensions).  The code above is equivalent to:\n",
    "\n",
    "```python\n",
    "means_list = []\n",
    "\n",
    "for _ in range(number_of_repetitions):\n",
    "    means_list.append(resample_mean())\n",
    "    \n",
    "means = np.array(means_list)\n",
    "```"
   ]
  },
  {
   "cell_type": "markdown",
   "id": "1c645141-4668-4efd-a848-7ed80b28ff3e",
   "metadata": {},
   "source": [
    "Now, let's look at the distribution of averages in the resamples:"
   ]
  },
  {
   "cell_type": "code",
   "execution_count": 21,
   "id": "14c46113-ccf1-4f9d-ad66-90f4286032f3",
   "metadata": {
    "tags": []
   },
   "outputs": [
    {
     "data": {
      "image/png": "[encoded data removed]",
      "text/plain": [
       "<Figure size 800x600 with 1 Axes>"
      ]
     },
     "metadata": {},
     "output_type": "display_data"
    }
   ],
   "source": [
    "# distribution of means\n",
    "plt.hist(means, ec=\"white\", density=True, bins=20)\n",
    "\n",
    "# the original average from the original sample\n",
    "plt.scatter(\n",
    "    flight_sample[\"Delay\"].mean(),\n",
    "    0,\n",
    "    marker=\"^\",\n",
    "    s=200,\n",
    "    c=\"blue\",\n",
    "    label=\"Single Sample Mean\",\n",
    ")\n",
    "\n",
    "# actual average\n",
    "plt.scatter(\n",
    "    data_mean,\n",
    "    0,\n",
    "    marker=\"^\",\n",
    "    s=200,\n",
    "    c=\"green\",\n",
    "    label=\"Data Mean\",\n",
    ")\n",
    "\n",
    "plt.xlabel(\"Average\")\n",
    "\n",
    "plt.legend(markerscale=0.7);"
   ]
  },
  {
   "cell_type": "markdown",
   "id": "d62cea34-9f44-440d-8aa1-c32a61261315",
   "metadata": {},
   "source": [
    "As one would expect, the sample's (used for the resampling) average is (relatively) near the center of the distribution of averages if the resampling, but the actual mean is not too far off."
   ]
  },
  {
   "cell_type": "markdown",
   "id": "70dca815-c3e7-4e47-8f91-fde86b54c14d",
   "metadata": {},
   "source": [
    "## Confidence Interval\n",
    "\n",
    "We know that our real average should not be too far off from our sample average, and our resamples give us an idea of the possible variations introducing by the randomness of the sampling process.\n",
    "\n",
    "So, assuming we did not know the original average, but only our sample (and thus also its resamples), we can give an *interval* within which we can expect, with a certain degree of certainty, the actual average to be.\n",
    "\n",
    "For a certain percentage $P$, the *$P\\%$ confidence interval* is the *middle interval* among the bootstrapped means that contains $P\\%$ of the means.  In other words, its boundaries leave half of  $(100 - P)\\%$ to its left, and half of $(100 - P)\\%$ to its right.\n",
    "\n",
    "*Roughly speaking*, we are (about) $P\\%$ confident that our actual average falls in this interval.  (The truth is that we are about $P\\%$ sure that the *sample average* lies in that interval.)  But, in any event, the higher the percentage $P$ is, the more likely it is that our interval contains the real mean.\n",
    "\n",
    "So, let's compute the $90\\%$ confidence interval for our data.  We use `np.percentile` to find its boundaries:"
   ]
  },
  {
   "cell_type": "code",
   "execution_count": 22,
   "id": "50e8a561-5243-4653-a315-af8d76067afe",
   "metadata": {
    "tags": []
   },
   "outputs": [
    {
     "name": "stdout",
     "output_type": "stream",
     "text": [
      "The 90% confidence interval goes from 13.83995 to 17.65505.\n"
     ]
    }
   ],
   "source": [
    "percentage = 90\n",
    "\n",
    "# boundaries\n",
    "left_bd = np.percentile(means, (100 - percentage) / 2)\n",
    "right_bd = np.percentile(means, percentage + (100 - percentage) / 2)\n",
    "\n",
    "print(f\"The {90}% confidence interval goes from {left_bd} to {right_bd}.\")"
   ]
  },
  {
   "cell_type": "markdown",
   "id": "a407a1d2-8489-4420-8b24-28604dfa19d8",
   "metadata": {},
   "source": [
    "As usual let's visualize it:"
   ]
  },
  {
   "cell_type": "code",
   "execution_count": 23,
   "id": "a3ddd26f-4586-40ec-b7bb-77d695c55f1d",
   "metadata": {
    "tags": []
   },
   "outputs": [
    {
     "data": {
      "image/png": "[encoded data removed]",
      "text/plain": [
       "<Figure size 800x600 with 1 Axes>"
      ]
     },
     "metadata": {},
     "output_type": "display_data"
    }
   ],
   "source": [
    "# distribution of averages\n",
    "# zorder is used to choose which plot goes on top of which, with higher on top\n",
    "plt.hist(means, ec=\"white\", density=True, bins=20, zorder=1)\n",
    "\n",
    "# plot the confidence interval\n",
    "plt.plot(\n",
    "    [left_bd, right_bd],\n",
    "    [0, 0],\n",
    "    c=\"gold\",\n",
    "    linewidth=10,\n",
    "    label=f\"{percentage}% Confidence Interval\",\n",
    "    zorder=2,\n",
    ")\n",
    "\n",
    "# average from the sample\n",
    "plt.scatter(\n",
    "    flight_sample[\"Delay\"].mean(),\n",
    "    0,\n",
    "    marker=\"^\",\n",
    "    s=200,\n",
    "    c=\"blue\",\n",
    "    label=\"Single Sample Mean\",\n",
    "    zorder=3,\n",
    ")\n",
    "\n",
    "# actual average\n",
    "plt.scatter(\n",
    "    data_mean,\n",
    "    0,\n",
    "    marker=\"^\",\n",
    "    s=200,\n",
    "    c=\"green\",\n",
    "    label=\"Data Mean\",\n",
    "    zorder=3,\n",
    ")\n",
    "\n",
    "plt.xlabel(\"Average\")\n",
    "\n",
    "plt.legend(markerscale=0.7);"
   ]
  },
  {
   "cell_type": "markdown",
   "id": "e4e35449-cd06-4572-8dc8-e88e4c3db515",
   "metadata": {},
   "source": [
    "(Change the value of `percentage` above, and rerun the previous two code cells, to see the results for different percentages.)"
   ]
  },
  {
   "cell_type": "markdown",
   "id": "ab28e33d-60c8-4e08-88f6-19c8df20dc6a",
   "metadata": {},
   "source": [
    "## Note on Accuracy\n",
    "\n",
    "The bootstrap is a powerful and useful method, but it relies on the original sample being close to the original.  So, to be reliable, the original sample has to be large enough and must be drawn randomly."
   ]
  },
  {
   "cell_type": "markdown",
   "id": "38e3b6f8-5efa-4936-80a1-86f2fbc20066",
   "metadata": {},
   "source": [
    "## Median Birth Weight\n",
    "\n",
    "Let's now examine some data for which we do not have the full data.\n",
    "\n",
    "The file [baby.csv](baby.csv) (provided with this notebook) contains the following variables for 1,174 mother-baby pairs:\n",
    "\n",
    "- birth weight in ounces, \n",
    "- the number of gestational days, \n",
    "- the mother's age, \n",
    "- the mother's height in inches, \n",
    "- pregnancy weight in pounds, \n",
    "- and whether or not the mother smoked during pregnancy."
   ]
  },
  {
   "cell_type": "code",
   "execution_count": 24,
   "id": "a8c3a8d2-b1c1-466f-8c7f-ffebc8ffe450",
   "metadata": {
    "tags": []
   },
   "outputs": [
    {
     "data": {
      "text/html": [
       "<div>\n",
       "<style scoped>\n",
       "    .dataframe tbody tr th:only-of-type {\n",
       "        vertical-align: middle;\n",
       "    }\n",
       "\n",
       "    .dataframe tbody tr th {\n",
       "        vertical-align: top;\n",
       "    }\n",
       "\n",
       "    .dataframe thead th {\n",
       "        text-align: right;\n",
       "    }\n",
       "</style>\n",
       "<table border=\"1\" class=\"dataframe\">\n",
       "  <thead>\n",
       "    <tr style=\"text-align: right;\">\n",
       "      <th></th>\n",
       "      <th>Birth Weight</th>\n",
       "      <th>Gestational Days</th>\n",
       "      <th>Maternal Age</th>\n",
       "      <th>Maternal Height</th>\n",
       "      <th>Maternal Pregnancy Weight</th>\n",
       "      <th>Maternal Smoker</th>\n",
       "    </tr>\n",
       "  </thead>\n",
       "  <tbody>\n",
       "    <tr>\n",
       "      <th>0</th>\n",
       "      <td>120</td>\n",
       "      <td>284</td>\n",
       "      <td>27</td>\n",
       "      <td>62</td>\n",
       "      <td>100</td>\n",
       "      <td>False</td>\n",
       "    </tr>\n",
       "    <tr>\n",
       "      <th>1</th>\n",
       "      <td>113</td>\n",
       "      <td>282</td>\n",
       "      <td>33</td>\n",
       "      <td>64</td>\n",
       "      <td>135</td>\n",
       "      <td>False</td>\n",
       "    </tr>\n",
       "    <tr>\n",
       "      <th>2</th>\n",
       "      <td>128</td>\n",
       "      <td>279</td>\n",
       "      <td>28</td>\n",
       "      <td>64</td>\n",
       "      <td>115</td>\n",
       "      <td>True</td>\n",
       "    </tr>\n",
       "    <tr>\n",
       "      <th>3</th>\n",
       "      <td>108</td>\n",
       "      <td>282</td>\n",
       "      <td>23</td>\n",
       "      <td>67</td>\n",
       "      <td>125</td>\n",
       "      <td>True</td>\n",
       "    </tr>\n",
       "    <tr>\n",
       "      <th>4</th>\n",
       "      <td>136</td>\n",
       "      <td>286</td>\n",
       "      <td>25</td>\n",
       "      <td>62</td>\n",
       "      <td>93</td>\n",
       "      <td>False</td>\n",
       "    </tr>\n",
       "    <tr>\n",
       "      <th>...</th>\n",
       "      <td>...</td>\n",
       "      <td>...</td>\n",
       "      <td>...</td>\n",
       "      <td>...</td>\n",
       "      <td>...</td>\n",
       "      <td>...</td>\n",
       "    </tr>\n",
       "    <tr>\n",
       "      <th>1169</th>\n",
       "      <td>113</td>\n",
       "      <td>275</td>\n",
       "      <td>27</td>\n",
       "      <td>60</td>\n",
       "      <td>100</td>\n",
       "      <td>False</td>\n",
       "    </tr>\n",
       "    <tr>\n",
       "      <th>1170</th>\n",
       "      <td>128</td>\n",
       "      <td>265</td>\n",
       "      <td>24</td>\n",
       "      <td>67</td>\n",
       "      <td>120</td>\n",
       "      <td>False</td>\n",
       "    </tr>\n",
       "    <tr>\n",
       "      <th>1171</th>\n",
       "      <td>130</td>\n",
       "      <td>291</td>\n",
       "      <td>30</td>\n",
       "      <td>65</td>\n",
       "      <td>150</td>\n",
       "      <td>True</td>\n",
       "    </tr>\n",
       "    <tr>\n",
       "      <th>1172</th>\n",
       "      <td>125</td>\n",
       "      <td>281</td>\n",
       "      <td>21</td>\n",
       "      <td>65</td>\n",
       "      <td>110</td>\n",
       "      <td>False</td>\n",
       "    </tr>\n",
       "    <tr>\n",
       "      <th>1173</th>\n",
       "      <td>117</td>\n",
       "      <td>297</td>\n",
       "      <td>38</td>\n",
       "      <td>65</td>\n",
       "      <td>129</td>\n",
       "      <td>False</td>\n",
       "    </tr>\n",
       "  </tbody>\n",
       "</table>\n",
       "<p>1174 rows × 6 columns</p>\n",
       "</div>"
      ],
      "text/plain": [
       "      Birth Weight  Gestational Days  Maternal Age  Maternal Height  \\\n",
       "0              120               284            27               62   \n",
       "1              113               282            33               64   \n",
       "2              128               279            28               64   \n",
       "3              108               282            23               67   \n",
       "4              136               286            25               62   \n",
       "...            ...               ...           ...              ...   \n",
       "1169           113               275            27               60   \n",
       "1170           128               265            24               67   \n",
       "1171           130               291            30               65   \n",
       "1172           125               281            21               65   \n",
       "1173           117               297            38               65   \n",
       "\n",
       "      Maternal Pregnancy Weight  Maternal Smoker  \n",
       "0                           100            False  \n",
       "1                           135            False  \n",
       "2                           115             True  \n",
       "3                           125             True  \n",
       "4                            93            False  \n",
       "...                         ...              ...  \n",
       "1169                        100            False  \n",
       "1170                        120            False  \n",
       "1171                        150             True  \n",
       "1172                        110            False  \n",
       "1173                        129            False  \n",
       "\n",
       "[1174 rows x 6 columns]"
      ]
     },
     "execution_count": 24,
     "metadata": {},
     "output_type": "execute_result"
    }
   ],
   "source": [
    "births = pd.read_csv(\"baby.csv\")\n",
    "births"
   ]
  },
  {
   "cell_type": "markdown",
   "id": "54d981af-007e-4caf-a63e-09453e2f0c23",
   "metadata": {},
   "source": [
    "Obviously, this is only a sample of the birth weights.  What we would like to do here is to estimate the median of the birth weights *for all babies* of similar background.\n",
    "\n",
    "### What is the \"Entire Population\"?\n",
    "\n",
    "We want to use the sample to estimate the median for the \"entire population\", but what is the entire population in this case?\n",
    "\n",
    "Again our methods only work if the sample is representative of the \"entire population\".  Thus, we have to remember that our estimates only work for babies that come from similar backgrounds.\n",
    "\n",
    "Some of the aspects that they probably should have in common are:\n",
    "\n",
    "* regions where their mother live (as they were taken from a hospital system, but not from all hospitals), like country, state, city, county, etc.;\n",
    "* babies that are born in hospitals.\n",
    "\n",
    "Note that the first point is associated to many other aspects, such as culture, access to health care, education levels, etc.\n",
    "\n",
    "### Why the Median?\n",
    "\n",
    "The statistic we chose here was the *median*, i.e., the weight that has half of the newborns heavier (or of same weight) and half lighter (or of same weight).  Unlike the average, the median is less affected by outliers, especially when dealing (relatively) small samples.\n",
    "\n",
    "### Bootstrap\n",
    "\n",
    "Here we are only interested on the birth weights, so let's only take the array of birth weights and compute its median:"
   ]
  },
  {
   "cell_type": "code",
   "execution_count": 25,
   "id": "780ed9a4-f86a-44c3-8436-575a50c7f0bf",
   "metadata": {
    "tags": []
   },
   "outputs": [
    {
     "data": {
      "text/plain": [
       "120.0"
      ]
     },
     "execution_count": 25,
     "metadata": {},
     "output_type": "execute_result"
    }
   ],
   "source": [
    "# *array* of birth weights\n",
    "sample_weights = births[\"Birth Weight\"].to_numpy()\n",
    "sample_median = np.median(sample_weights)\n",
    "\n",
    "sample_median"
   ]
  },
  {
   "cell_type": "markdown",
   "id": "ace4ffcc-6f5e-48f6-a986-da2fbb6f13ef",
   "metadata": {},
   "source": [
    "Now, we do the resampling.  In this case we will use NumPy (instead of pandas), since we have our data in an array.  (Using arrays and NumPy is a bit faster than data frames and pandas, but both work well.)\n",
    "\n",
    "With NumPy we use `np.random.choice`, as in\n",
    "\n",
    "```python\n",
    "np.random.choice(sample_weights, len(sample_weights))\n",
    "```\n",
    "\n",
    "Note that *it allows repetitions by default*, so no extra argument (besides the size) has to be passed.\n",
    "\n",
    "Let's then write a function that takes a sample and computes the median:"
   ]
  },
  {
   "cell_type": "code",
   "execution_count": 26,
   "id": "9bf36fde-f23d-4893-815b-929b215469c0",
   "metadata": {
    "tags": []
   },
   "outputs": [],
   "source": [
    "def resample_median():\n",
    "    \"\"\"\n",
    "    Resample the the sample_weights array, with same size and allowing repetitions.\n",
    "\n",
    "    INPUT:\n",
    "    None.\n",
    "\n",
    "    OUTPUT:\n",
    "    One resample of sample_weights.\n",
    "    \"\"\"\n",
    "    resample = np.random.choice(sample_weights, len(sample_weights))\n",
    "    return np.median(resample)"
   ]
  },
  {
   "cell_type": "markdown",
   "id": "84891189-f7aa-4ffe-b6ff-e3258f7833cb",
   "metadata": {},
   "source": [
    "Now we can do the resampling and collect the medians:"
   ]
  },
  {
   "cell_type": "code",
   "execution_count": 27,
   "id": "9a7bdb4b-ad6c-4146-806c-bbe3de0dcdff",
   "metadata": {
    "tags": []
   },
   "outputs": [
    {
     "name": "stdout",
     "output_type": "stream",
     "text": [
      "CPU times: user 4.02 s, sys: 11.7 ms, total: 4.03 s\n",
      "Wall time: 4.5 s\n"
     ]
    }
   ],
   "source": [
    "%%time\n",
    "number_of_repetions = 30_000\n",
    "\n",
    "# array of medias for number_of_repetitions resamples\n",
    "medians = np.array([resample_median() for _ in range(number_of_repetions)])"
   ]
  },
  {
   "cell_type": "markdown",
   "id": "1f15854d-90e9-45f9-a581-f6f0a110e0b6",
   "metadata": {},
   "source": [
    "#### Technical Digression: Leveraging the Power of NumPy\n",
    "\n",
    "The code above is already quite fast, but we can do a better by using NumPy (and avoiding the list comprehension).  We can pass `np.random.choice` a tuple, with number of rows and columns.  \n",
    "\n",
    "So, passing `(number_of_repetions, len(sample_weights)`, we produce a two-dimensional array that have our resamples in the rows and `number_of_repetition` rows.  Then, we can take the median of the rows by passing the optional argument `axis=1` to `np.median`:"
   ]
  },
  {
   "cell_type": "code",
   "execution_count": 28,
   "id": "333d42bf-9384-487b-a436-efcbecdefe11",
   "metadata": {
    "tags": []
   },
   "outputs": [
    {
     "name": "stdout",
     "output_type": "stream",
     "text": [
      "CPU times: user 1.15 s, sys: 825 ms, total: 1.98 s\n",
      "Wall time: 2.27 s\n"
     ]
    },
    {
     "data": {
      "text/plain": [
       "array([120., 120., 120., ..., 121., 120., 120.])"
      ]
     },
     "execution_count": 28,
     "metadata": {},
     "output_type": "execute_result"
    }
   ],
   "source": [
    "%%time\n",
    "number_of_repetions = 30_000\n",
    "np.median(\n",
    "    np.random.choice(sample_weights, (number_of_repetions, len(sample_weights))), \n",
    "    axis=1  # median of rows!\n",
    ")"
   ]
  },
  {
   "cell_type": "markdown",
   "id": "0a5cf7af-cfd7-405f-afd4-54e09f050a02",
   "metadata": {},
   "source": [
    "(Note that the function `resample_median` is not needed.)\n",
    "\n",
    "In my experiments, this new version runs in about half the time.  In this case, the slower way is already so fast that it might not be worth implementing the second method, espcially since the first is probably easier to read (and write).  (*Readability counts!*)  \n",
    "\n",
    "But if your code is slow, it is worth considering using NumPy more directly in the computations."
   ]
  },
  {
   "cell_type": "markdown",
   "id": "c55b9a2f-d8b9-481b-ae26-6c237638d9df",
   "metadata": {},
   "source": [
    "### Results\n",
    "\n",
    "Let's now compute the $90\\%$ confidence interval:"
   ]
  },
  {
   "cell_type": "code",
   "execution_count": 29,
   "id": "d590349d-cb02-41c4-b68c-5dbd22be91cb",
   "metadata": {
    "tags": []
   },
   "outputs": [
    {
     "name": "stdout",
     "output_type": "stream",
     "text": [
      "The 90% confidence interval goes from 119.0 to 121.0.\n"
     ]
    }
   ],
   "source": [
    "percentage = 90\n",
    "\n",
    "# boundaries of the confidence interval\n",
    "left_bd = np.percentile(medians, (100 - percentage) / 2)\n",
    "right_bd = np.percentile(medians, percentage + (100 - percentage) / 2)\n",
    "\n",
    "print(f\"The {90}% confidence interval goes from {left_bd} to {right_bd}.\")"
   ]
  },
  {
   "cell_type": "markdown",
   "id": "d16694b0-7db2-47ef-aedf-88d0457ea4ee",
   "metadata": {},
   "source": [
    "As usual let's visualize it:"
   ]
  },
  {
   "cell_type": "code",
   "execution_count": 30,
   "id": "859219d0-8575-452b-971a-7c134270f63b",
   "metadata": {
    "tags": []
   },
   "outputs": [
    {
     "data": {
      "image/png": "[encoded data removed]",
      "text/plain": [
       "<Figure size 800x600 with 1 Axes>"
      ]
     },
     "metadata": {},
     "output_type": "display_data"
    }
   ],
   "source": [
    "# bins to separate the medians\n",
    "# it contains all integers from the minimum to the maximum in the *center*\n",
    "median_bins = np.arange(np.min(medians) - 0.5, np.max(medians) + 1.5, 1)\n",
    "\n",
    "# distribution of medians\n",
    "plt.hist(medians, ec=\"white\", density=True, bins=median_bins, zorder=1)\n",
    "\n",
    "# confidence interval\n",
    "plt.plot(\n",
    "    [left_bd, right_bd],\n",
    "    [0, 0],\n",
    "    c=\"gold\",\n",
    "    linewidth=10,\n",
    "    label=f\"{percentage}% Confidence Interval\",\n",
    "    zorder=2,\n",
    ")\n",
    "\n",
    "# sample median\n",
    "plt.scatter(\n",
    "    sample_median,\n",
    "    0,\n",
    "    marker=\"^\",\n",
    "    s=200,\n",
    "    c=\"blue\",\n",
    "    label=\"Sample Median\",\n",
    "    zorder=3,\n",
    ")\n",
    "\n",
    "plt.xlabel(\"Median\")\n",
    "\n",
    "plt.legend(markerscale=0.7);"
   ]
  },
  {
   "cell_type": "markdown",
   "id": "bb49fc90-8f6b-4a3f-8e3e-a21c9cc60ae3",
   "metadata": {},
   "source": [
    "## Confidence Interval for Testing a Hypothesis\n",
    "\n",
    "We can also use confidence intervals to test a hypothesis.  We illustrate this method with an example:"
   ]
  },
  {
   "cell_type": "markdown",
   "id": "4b280c64-f920-4d10-a9c7-089f7c048e99",
   "metadata": {
    "tags": []
   },
   "source": [
    "### Comparing Baseline and Post-Treatment Scores\n",
    "\n",
    "Here we have a subset of the information gathered in a randomized controlled trial about treatments for Hodgkin's disease.  Although the disease is curable, the treatment can be very harsh. The purpose of the trial was to come up with dosage that would cure the cancer but minimize the adverse effects on the patients. \n",
    "\n",
    "The file [hodgkins.csv](hodgkins.csv) (provided with this notebook) contains data on the effect that the treatment had on the lungs of 22 patients. The columns are:\n",
    "\n",
    "- Height in cm.\n",
    "- A measure of radiation to the mantle (neck, chest, under arms).\n",
    "- A measure of chemotherapy.\n",
    "- A score of the health of the lungs at baseline, that is, at the start of the treatment; higher scores correspond to more healthy lungs.\n",
    "- The same score of the health of the lungs, 15 months after treatment."
   ]
  },
  {
   "cell_type": "code",
   "execution_count": 31,
   "id": "808b34a2-c376-4805-bf5e-dd8ad7eaa65a",
   "metadata": {
    "tags": []
   },
   "outputs": [
    {
     "data": {
      "text/html": [
       "<div>\n",
       "<style scoped>\n",
       "    .dataframe tbody tr th:only-of-type {\n",
       "        vertical-align: middle;\n",
       "    }\n",
       "\n",
       "    .dataframe tbody tr th {\n",
       "        vertical-align: top;\n",
       "    }\n",
       "\n",
       "    .dataframe thead th {\n",
       "        text-align: right;\n",
       "    }\n",
       "</style>\n",
       "<table border=\"1\" class=\"dataframe\">\n",
       "  <thead>\n",
       "    <tr style=\"text-align: right;\">\n",
       "      <th></th>\n",
       "      <th>height</th>\n",
       "      <th>rad</th>\n",
       "      <th>chemo</th>\n",
       "      <th>base</th>\n",
       "      <th>month15</th>\n",
       "    </tr>\n",
       "  </thead>\n",
       "  <tbody>\n",
       "    <tr>\n",
       "      <th>0</th>\n",
       "      <td>164</td>\n",
       "      <td>679</td>\n",
       "      <td>180</td>\n",
       "      <td>160.57</td>\n",
       "      <td>87.77</td>\n",
       "    </tr>\n",
       "    <tr>\n",
       "      <th>1</th>\n",
       "      <td>168</td>\n",
       "      <td>311</td>\n",
       "      <td>180</td>\n",
       "      <td>98.24</td>\n",
       "      <td>67.62</td>\n",
       "    </tr>\n",
       "    <tr>\n",
       "      <th>2</th>\n",
       "      <td>173</td>\n",
       "      <td>388</td>\n",
       "      <td>239</td>\n",
       "      <td>129.04</td>\n",
       "      <td>133.33</td>\n",
       "    </tr>\n",
       "    <tr>\n",
       "      <th>3</th>\n",
       "      <td>157</td>\n",
       "      <td>370</td>\n",
       "      <td>168</td>\n",
       "      <td>85.41</td>\n",
       "      <td>81.28</td>\n",
       "    </tr>\n",
       "    <tr>\n",
       "      <th>4</th>\n",
       "      <td>160</td>\n",
       "      <td>468</td>\n",
       "      <td>151</td>\n",
       "      <td>67.94</td>\n",
       "      <td>79.26</td>\n",
       "    </tr>\n",
       "    <tr>\n",
       "      <th>5</th>\n",
       "      <td>170</td>\n",
       "      <td>341</td>\n",
       "      <td>96</td>\n",
       "      <td>150.51</td>\n",
       "      <td>80.97</td>\n",
       "    </tr>\n",
       "    <tr>\n",
       "      <th>6</th>\n",
       "      <td>163</td>\n",
       "      <td>453</td>\n",
       "      <td>134</td>\n",
       "      <td>129.88</td>\n",
       "      <td>69.24</td>\n",
       "    </tr>\n",
       "    <tr>\n",
       "      <th>7</th>\n",
       "      <td>175</td>\n",
       "      <td>529</td>\n",
       "      <td>264</td>\n",
       "      <td>87.45</td>\n",
       "      <td>56.48</td>\n",
       "    </tr>\n",
       "    <tr>\n",
       "      <th>8</th>\n",
       "      <td>185</td>\n",
       "      <td>392</td>\n",
       "      <td>240</td>\n",
       "      <td>149.84</td>\n",
       "      <td>106.99</td>\n",
       "    </tr>\n",
       "    <tr>\n",
       "      <th>9</th>\n",
       "      <td>178</td>\n",
       "      <td>479</td>\n",
       "      <td>216</td>\n",
       "      <td>92.24</td>\n",
       "      <td>73.43</td>\n",
       "    </tr>\n",
       "    <tr>\n",
       "      <th>10</th>\n",
       "      <td>179</td>\n",
       "      <td>376</td>\n",
       "      <td>160</td>\n",
       "      <td>117.43</td>\n",
       "      <td>101.61</td>\n",
       "    </tr>\n",
       "    <tr>\n",
       "      <th>11</th>\n",
       "      <td>181</td>\n",
       "      <td>539</td>\n",
       "      <td>196</td>\n",
       "      <td>129.75</td>\n",
       "      <td>90.78</td>\n",
       "    </tr>\n",
       "    <tr>\n",
       "      <th>12</th>\n",
       "      <td>173</td>\n",
       "      <td>217</td>\n",
       "      <td>204</td>\n",
       "      <td>97.59</td>\n",
       "      <td>76.38</td>\n",
       "    </tr>\n",
       "    <tr>\n",
       "      <th>13</th>\n",
       "      <td>166</td>\n",
       "      <td>456</td>\n",
       "      <td>192</td>\n",
       "      <td>81.29</td>\n",
       "      <td>67.66</td>\n",
       "    </tr>\n",
       "    <tr>\n",
       "      <th>14</th>\n",
       "      <td>170</td>\n",
       "      <td>252</td>\n",
       "      <td>150</td>\n",
       "      <td>98.29</td>\n",
       "      <td>55.51</td>\n",
       "    </tr>\n",
       "    <tr>\n",
       "      <th>15</th>\n",
       "      <td>165</td>\n",
       "      <td>622</td>\n",
       "      <td>162</td>\n",
       "      <td>118.98</td>\n",
       "      <td>90.92</td>\n",
       "    </tr>\n",
       "    <tr>\n",
       "      <th>16</th>\n",
       "      <td>173</td>\n",
       "      <td>305</td>\n",
       "      <td>213</td>\n",
       "      <td>103.17</td>\n",
       "      <td>79.74</td>\n",
       "    </tr>\n",
       "    <tr>\n",
       "      <th>17</th>\n",
       "      <td>174</td>\n",
       "      <td>566</td>\n",
       "      <td>198</td>\n",
       "      <td>94.97</td>\n",
       "      <td>93.08</td>\n",
       "    </tr>\n",
       "    <tr>\n",
       "      <th>18</th>\n",
       "      <td>173</td>\n",
       "      <td>322</td>\n",
       "      <td>119</td>\n",
       "      <td>85.00</td>\n",
       "      <td>41.96</td>\n",
       "    </tr>\n",
       "    <tr>\n",
       "      <th>19</th>\n",
       "      <td>173</td>\n",
       "      <td>270</td>\n",
       "      <td>160</td>\n",
       "      <td>115.02</td>\n",
       "      <td>81.12</td>\n",
       "    </tr>\n",
       "    <tr>\n",
       "      <th>20</th>\n",
       "      <td>183</td>\n",
       "      <td>259</td>\n",
       "      <td>241</td>\n",
       "      <td>125.02</td>\n",
       "      <td>97.18</td>\n",
       "    </tr>\n",
       "    <tr>\n",
       "      <th>21</th>\n",
       "      <td>188</td>\n",
       "      <td>238</td>\n",
       "      <td>252</td>\n",
       "      <td>137.43</td>\n",
       "      <td>113.20</td>\n",
       "    </tr>\n",
       "  </tbody>\n",
       "</table>\n",
       "</div>"
      ],
      "text/plain": [
       "    height  rad  chemo    base  month15\n",
       "0      164  679    180  160.57    87.77\n",
       "1      168  311    180   98.24    67.62\n",
       "2      173  388    239  129.04   133.33\n",
       "3      157  370    168   85.41    81.28\n",
       "4      160  468    151   67.94    79.26\n",
       "5      170  341     96  150.51    80.97\n",
       "6      163  453    134  129.88    69.24\n",
       "7      175  529    264   87.45    56.48\n",
       "8      185  392    240  149.84   106.99\n",
       "9      178  479    216   92.24    73.43\n",
       "10     179  376    160  117.43   101.61\n",
       "11     181  539    196  129.75    90.78\n",
       "12     173  217    204   97.59    76.38\n",
       "13     166  456    192   81.29    67.66\n",
       "14     170  252    150   98.29    55.51\n",
       "15     165  622    162  118.98    90.92\n",
       "16     173  305    213  103.17    79.74\n",
       "17     174  566    198   94.97    93.08\n",
       "18     173  322    119   85.00    41.96\n",
       "19     173  270    160  115.02    81.12\n",
       "20     183  259    241  125.02    97.18\n",
       "21     188  238    252  137.43   113.20"
      ]
     },
     "execution_count": 31,
     "metadata": {},
     "output_type": "execute_result"
    }
   ],
   "source": [
    "hodgkins = pd.read_csv(\"hodgkins.csv\")\n",
    "\n",
    "hodgkins"
   ]
  },
  {
   "cell_type": "markdown",
   "id": "aebf16c8-fbed-47f3-af3b-4d6015bbeb0c",
   "metadata": {},
   "source": [
    "We will compare the baseline and 15-month scores.\n",
    "\n",
    "At a glance, you can see that the patients are doing worse after 15-months.  Let's add a column `drop` to see that more clearly."
   ]
  },
  {
   "cell_type": "code",
   "execution_count": 32,
   "id": "66091a51-7f79-4bf0-82d6-9f52c2d0c8b1",
   "metadata": {
    "tags": []
   },
   "outputs": [
    {
     "data": {
      "text/plain": [
       "array([ 72.8 ,  30.62,  -4.29,   4.13, -11.32,  69.54,  60.64,  30.97,\n",
       "        42.85,  18.81,  15.82,  38.97,  21.21,  13.63,  42.78,  28.06,\n",
       "        23.43,   1.89,  43.04,  33.9 ,  27.84,  24.23])"
      ]
     },
     "execution_count": 32,
     "metadata": {},
     "output_type": "execute_result"
    }
   ],
   "source": [
    "drop = (hodgkins[\"base\"] - hodgkins[\"month15\"]).to_numpy()\n",
    "\n",
    "drop"
   ]
  },
  {
   "cell_type": "code",
   "execution_count": 33,
   "id": "bd38395a-972a-461a-9c8f-640ffe508a22",
   "metadata": {
    "collapsed": false,
    "jupyter": {
     "outputs_hidden": false
    },
    "tags": []
   },
   "outputs": [
    {
     "data": {
      "image/png": "[encoded data removed]",
      "text/plain": [
       "<Figure size 800x600 with 1 Axes>"
      ]
     },
     "metadata": {},
     "output_type": "display_data"
    }
   ],
   "source": [
    "plt.hist(drop, density=True, ec=\"white\", bins=np.arange(-20, 81, 20));"
   ]
  },
  {
   "cell_type": "markdown",
   "id": "1227d3b3-6065-4fdc-9c33-88e4d54673bd",
   "metadata": {},
   "source": [
    "Let's see the average drop:"
   ]
  },
  {
   "cell_type": "code",
   "execution_count": 34,
   "id": "6e198f22-cecf-440f-8ce8-99e96c9879b6",
   "metadata": {
    "collapsed": false,
    "jupyter": {
     "outputs_hidden": false
    },
    "tags": []
   },
   "outputs": [
    {
     "data": {
      "text/plain": [
       "28.615909090909096"
      ]
     },
     "execution_count": 34,
     "metadata": {},
     "output_type": "execute_result"
    }
   ],
   "source": [
    "average_drop = np.mean(drop)\n",
    "\n",
    "average_drop"
   ]
  },
  {
   "cell_type": "markdown",
   "id": "b7357e03-da53-474b-bf59-c1596e2efd0a",
   "metadata": {},
   "source": [
    "In the sample, the average drop is about 28.6. But could this be the result of chance variation? The data are from a random sample. Could it be that in the entire population of patients, the average drop is just 0?\n",
    "\n",
    "Thus, here we have:\n",
    "\n",
    "* **Null hypothesis:** In the population, the average drop is 0.\n",
    "* **Alternative hypothesis:** In the population, the average drop is not 0.\n",
    "\n",
    "Since here we cannot generate data that simulate the trial, we use the bootstrap (or resampling) for the simulation!  Since we are drawing from the same data, its general properties (including the distribution of values) should be quite similar to the original.\n",
    "\n",
    "To test this hypothesis with a 1% cutoff for the $p$-value, let's construct an approximate $99\\%$ confidence interval for the average drop in the population.\n",
    "\n",
    "We first write the function that computes the average of one sample:"
   ]
  },
  {
   "cell_type": "code",
   "execution_count": 35,
   "id": "a98dadd3-6013-4894-8fbc-f95d8420dbf3",
   "metadata": {
    "tags": []
   },
   "outputs": [],
   "source": [
    "def resample_mean():\n",
    "    \"\"\"\n",
    "    Computes the average from a single resample of drop,\n",
    "\n",
    "    INPUT:\n",
    "    None.\n",
    "\n",
    "    OUTPUT:\n",
    "    Average of the resample.\n",
    "    \"\"\"\n",
    "    resample = np.random.choice(drop, len(drop))\n",
    "    return np.mean(resample)"
   ]
  },
  {
   "cell_type": "markdown",
   "id": "9af81f12-46e9-4998-b46d-06e33a2b8073",
   "metadata": {},
   "source": [
    "Then we do the bootstrap:"
   ]
  },
  {
   "cell_type": "code",
   "execution_count": 36,
   "id": "603a6617-bf8d-4967-9837-59b8ef23be6b",
   "metadata": {
    "tags": []
   },
   "outputs": [],
   "source": [
    "# Generate 10,000 bootstrap means\n",
    "number_of_repetions = 10_000\n",
    "\n",
    "# array of averages\n",
    "means = [resample_mean() for _ in range(number_of_repetions)]"
   ]
  },
  {
   "cell_type": "markdown",
   "id": "7bdbb920-afe7-479d-84c5-670869ef8346",
   "metadata": {},
   "source": [
    "Let's find the boundaries for the $99\\%$ confidence interval:"
   ]
  },
  {
   "cell_type": "code",
   "execution_count": 37,
   "id": "cf0b0a25-4499-4677-8b05-03820462edb3",
   "metadata": {
    "collapsed": false,
    "jupyter": {
     "outputs_hidden": false
    },
    "tags": []
   },
   "outputs": [
    {
     "name": "stdout",
     "output_type": "stream",
     "text": [
      "The 90% confidence interval goes from 17.164074999999997 to 40.676663636363585.\n"
     ]
    }
   ],
   "source": [
    "percentage = 99\n",
    "\n",
    "# boundaries for the confidence interval\n",
    "left_bd = np.percentile(means, (100 - percentage) / 2)\n",
    "right_bd = np.percentile(means, percentage + (100 - percentage) / 2)\n",
    "\n",
    "print(f\"The {90}% confidence interval goes from {left_bd} to {right_bd}.\")"
   ]
  },
  {
   "cell_type": "markdown",
   "id": "5ddb33d8-65cf-4d01-87da-52a731127b67",
   "metadata": {},
   "source": [
    "And finally, let's visualize the results:"
   ]
  },
  {
   "cell_type": "code",
   "execution_count": 38,
   "id": "8822f0d4-ef92-4d23-a040-ec4c3d0957e6",
   "metadata": {
    "tags": []
   },
   "outputs": [
    {
     "data": {
      "image/png": "[encoded data removed]",
      "text/plain": [
       "<Figure size 800x600 with 1 Axes>"
      ]
     },
     "metadata": {},
     "output_type": "display_data"
    }
   ],
   "source": [
    "# histogram for averages\n",
    "plt.hist(means, ec=\"white\", density=True, zorder=1)\n",
    "\n",
    "# confidence interval\n",
    "plt.plot(\n",
    "    [left_bd, right_bd],\n",
    "    [0, 0],\n",
    "    c=\"gold\",\n",
    "    linewidth=10,\n",
    "    label=f\"{percentage}% Confidence Interval\",\n",
    "    zorder=2,\n",
    ")\n",
    "\n",
    "# observed average\n",
    "plt.scatter(\n",
    "    average_drop,\n",
    "    0,\n",
    "    marker=\"^\",\n",
    "    s=200,\n",
    "    c=\"blue\",\n",
    "    label=\"Average Drop\",\n",
    "    zorder=3,\n",
    ")\n",
    "\n",
    "plt.xlabel(\"Average\")\n",
    "\n",
    "plt.legend(markerscale=0.7);"
   ]
  },
  {
   "cell_type": "markdown",
   "id": "01e5d2f8-761e-4ecd-bfa8-bf69dbc3ede6",
   "metadata": {},
   "source": [
    "The 99% confidence interval for the average drop in the population goes from about 17 to about 40. The interval doesn't contain 0. So we reject the null hypothesis.\n",
    "\n",
    "But notice that we have done better than simply concluding that the average drop in the population isn't 0. We have estimated how big the average drop is. That's a more useful result than just saying, \"It's not 0.\"  In fact, it indicates that is higher than zero, and quite probably between 17 and 40.\n",
    "\n",
    "**A note on accuracy:** Our confidence interval is quite wide, for two main reasons:\n",
    "- The confidence level is high (99%).\n",
    "- The sample size is relatively small compared to those in our earlier examples.\n"
   ]
  },
  {
   "cell_type": "markdown",
   "id": "189ffe85-deea-4c5e-ae7d-29387c654311",
   "metadata": {},
   "source": [
    "## Comments, Suggestions, Corrections\n",
    "\n",
    "Please send your comments, suggestions, and corrections to lfinotti@utk.edu."
   ]
  }
 ],
 "metadata": {
  "jupytext": {
   "formats": "ipynb,auto:percent"
  },
  "kernelspec": {
   "display_name": "Python 3 (ipykernel)",
   "language": "python",
   "name": "python3"
  },
  "language_info": {
   "codemirror_mode": {
    "name": "ipython",
    "version": 3
   },
   "file_extension": ".py",
   "mimetype": "text/x-python",
   "name": "python",
   "nbconvert_exporter": "python",
   "pygments_lexer": "ipython3",
   "version": "3.11.9"
  }
 },
 "nbformat": 4,
 "nbformat_minor": 5
}
