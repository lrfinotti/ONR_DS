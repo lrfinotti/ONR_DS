{
 "cells": [
  {
   "cell_type": "markdown",
   "id": "363b1f85-e84a-4fc1-a4fd-0cc62fe29102",
   "metadata": {},
   "source": [
    "# Randomness and Probability"
   ]
  },
  {
   "cell_type": "markdown",
   "id": "18a5b3c2-f813-4443-ab84-5a6cc314e488",
   "metadata": {},
   "source": [
    "## Acknowledgment \n",
    "\n",
    "Some of the content here is based on [Computational and Inferential Thinking: The Foundations of Data Science](https://inferentialthinking.com/chapters/intro.html), by A. Adhikari, J. DeNero, D. Wagner.\n",
    "\n",
    "On the other hand, this text uses its own module `datascience` for data frame manipulations, while we will use pandas, which is the most commonly used library for data frames in Python."
   ]
  },
  {
   "cell_type": "markdown",
   "id": "12e4cc7a-d57c-47a8-9fc7-2eddac3b305c",
   "metadata": {},
   "source": [
    "## Importing Modules\n",
    "\n",
    "Let's start by importing the necessary modules:"
   ]
  },
  {
   "cell_type": "code",
   "execution_count": 1,
   "id": "4736cc1c-cd61-4d67-86d3-a0200a4932f5",
   "metadata": {
    "execution": {
     "iopub.execute_input": "2023-10-19T18:01:03.383386Z",
     "iopub.status.busy": "2023-10-19T18:01:03.383072Z",
     "iopub.status.idle": "2023-10-19T18:01:03.644461Z",
     "shell.execute_reply": "2023-10-19T18:01:03.644152Z"
    },
    "tags": []
   },
   "outputs": [],
   "source": [
    "import numpy as np\n",
    "import pandas as pd\n",
    "import matplotlib.pyplot as plt\n",
    "\n",
    "plt.rcParams['figure.figsize'] = (8, 6)  # default figure size\n",
    "plt.style.use(\"ggplot\")  # style sheet"
   ]
  },
  {
   "cell_type": "markdown",
   "id": "034f451a-8a07-4b26-b999-14afba587c2e",
   "metadata": {},
   "source": [
    "## Review\n",
    "\n",
    "Let's review some tools from pands and NumPyu that will be useful here.\n",
    "\n",
    "### Randomness in NumPy\n",
    "\n",
    "One can use NumPy's functions to simulate random events and get [empirical probabilities](https://en.wikipedia.org/wiki/Empirical_probability).\n",
    "\n",
    "Here are some of the functions that we can use:\n",
    "\n",
    "| **Function** | **Description** |\n",
    "|--------------|-----------------|\n",
    "| `np.random.random(count)` | Produces `count` random floats between `0.0` and `1.0` |\n",
    "| `np.random.randint(start, end, count=count)` | Produces `count` random integers between `start` and `end - 1` |\n",
    "| `np.random.choice(array, count=count)` | Produces `count` random random elements of `array` (with possible repetition) |\n",
    "| `np.random.normal(mean, std, count)` | Choose `count` random floats with normal probability curve | \n",
    "\n",
    "For instance, one can simulate tossing a (fair) coin with:"
   ]
  },
  {
   "cell_type": "code",
   "execution_count": 2,
   "id": "3e084562-77ef-44f9-8e26-74428edb8480",
   "metadata": {
    "execution": {
     "iopub.execute_input": "2023-10-19T18:01:03.646097Z",
     "iopub.status.busy": "2023-10-19T18:01:03.645927Z",
     "iopub.status.idle": "2023-10-19T18:01:03.648820Z",
     "shell.execute_reply": "2023-10-19T18:01:03.648664Z"
    },
    "tags": []
   },
   "outputs": [
    {
     "data": {
      "text/plain": [
       "'Tails'"
      ]
     },
     "execution_count": 2,
     "metadata": {},
     "output_type": "execute_result"
    }
   ],
   "source": [
    "np.random.choice([\"Heads\", \"Tails\"])"
   ]
  },
  {
   "cell_type": "markdown",
   "id": "0c4d99b9-5779-4e0c-abbd-b2ff2812f405",
   "metadata": {},
   "source": [
    "(Rerun the cell above to see the results change.  **Note:** If you run it with `Ctrl + Enter` or `Cmd + Return`, it will run the cell and *not move to the next*.  This allows you to easily rerun it many times.)\n",
    "\n",
    "Or rolling a (fair) die with:"
   ]
  },
  {
   "cell_type": "code",
   "execution_count": 3,
   "id": "c62afeaa-b8a2-4b1c-b068-4f43cf59a1a5",
   "metadata": {
    "execution": {
     "iopub.execute_input": "2023-10-19T18:01:03.649950Z",
     "iopub.status.busy": "2023-10-19T18:01:03.649860Z",
     "iopub.status.idle": "2023-10-19T18:01:03.651621Z",
     "shell.execute_reply": "2023-10-19T18:01:03.651474Z"
    },
    "tags": []
   },
   "outputs": [
    {
     "data": {
      "text/plain": [
       "5"
      ]
     },
     "execution_count": 3,
     "metadata": {},
     "output_type": "execute_result"
    }
   ],
   "source": [
    "np.random.randint(1, 7)  # note we need 7, and not 6"
   ]
  },
  {
   "cell_type": "markdown",
   "id": "debbf964-4514-415a-ab7e-2fbd245655ce",
   "metadata": {},
   "source": [
    "We can also simulate running it multiple times, by adding a new argument.\n",
    "\n",
    "So, to toss a fair coin ten times, we can do:"
   ]
  },
  {
   "cell_type": "code",
   "execution_count": 4,
   "id": "8cb74058-fe9e-4b59-8067-043db5173906",
   "metadata": {
    "execution": {
     "iopub.execute_input": "2023-10-19T18:01:03.652455Z",
     "iopub.status.busy": "2023-10-19T18:01:03.652392Z",
     "iopub.status.idle": "2023-10-19T18:01:03.654074Z",
     "shell.execute_reply": "2023-10-19T18:01:03.653926Z"
    },
    "tags": []
   },
   "outputs": [
    {
     "data": {
      "text/plain": [
       "array(['Heads', 'Tails', 'Tails', 'Heads', 'Heads', 'Tails', 'Tails',\n",
       "       'Tails', 'Heads', 'Tails'], dtype='<U5')"
      ]
     },
     "execution_count": 4,
     "metadata": {},
     "output_type": "execute_result"
    }
   ],
   "source": [
    "np.random.choice([\"Heads\", \"Tails\"], 10)"
   ]
  },
  {
   "cell_type": "markdown",
   "id": "9761c823-a870-4796-8fcb-0f46e9bdbfac",
   "metadata": {},
   "source": [
    "To roll a die ten times:"
   ]
  },
  {
   "cell_type": "code",
   "execution_count": 5,
   "id": "f7c39aff-4fa8-4725-8fca-db02a8b33b87",
   "metadata": {
    "execution": {
     "iopub.execute_input": "2023-10-19T18:01:03.654930Z",
     "iopub.status.busy": "2023-10-19T18:01:03.654824Z",
     "iopub.status.idle": "2023-10-19T18:01:03.656429Z",
     "shell.execute_reply": "2023-10-19T18:01:03.656284Z"
    },
    "tags": []
   },
   "outputs": [
    {
     "data": {
      "text/plain": [
       "array([4, 2, 6, 5, 1, 4, 2, 5, 6, 6])"
      ]
     },
     "execution_count": 5,
     "metadata": {},
     "output_type": "execute_result"
    }
   ],
   "source": [
    "np.random.randint(1, 7, 10)"
   ]
  },
  {
   "cell_type": "markdown",
   "id": "1b2425ec-c1b2-4825-ac1b-4ac95aa90a69",
   "metadata": {},
   "source": [
    "### `value_counts`\n",
    "\n",
    "In solving the problems below, the pandas methods [value_counts](https://pandas.pydata.org/docs/reference/api/pandas.Series.value_counts.html) will come handy.  Let's see it in action.\n",
    "\n",
    "First, let's create a data frame with some random values:"
   ]
  },
  {
   "cell_type": "code",
   "execution_count": 6,
   "id": "166d8308-fce9-44ac-b582-6ff8ae6ab6a8",
   "metadata": {
    "execution": {
     "iopub.execute_input": "2023-10-19T18:01:03.657280Z",
     "iopub.status.busy": "2023-10-19T18:01:03.657215Z",
     "iopub.status.idle": "2023-10-19T18:01:03.660571Z",
     "shell.execute_reply": "2023-10-19T18:01:03.660423Z"
    },
    "tags": []
   },
   "outputs": [
    {
     "data": {
      "text/html": [
       "<div>\n",
       "<style scoped>\n",
       "    .dataframe tbody tr th:only-of-type {\n",
       "        vertical-align: middle;\n",
       "    }\n",
       "\n",
       "    .dataframe tbody tr th {\n",
       "        vertical-align: top;\n",
       "    }\n",
       "\n",
       "    .dataframe thead th {\n",
       "        text-align: right;\n",
       "    }\n",
       "</style>\n",
       "<table border=\"1\" class=\"dataframe\">\n",
       "  <thead>\n",
       "    <tr style=\"text-align: right;\">\n",
       "      <th></th>\n",
       "      <th>Col1</th>\n",
       "      <th>Col2</th>\n",
       "    </tr>\n",
       "  </thead>\n",
       "  <tbody>\n",
       "    <tr>\n",
       "      <th>0</th>\n",
       "      <td>2</td>\n",
       "      <td>C</td>\n",
       "    </tr>\n",
       "    <tr>\n",
       "      <th>1</th>\n",
       "      <td>3</td>\n",
       "      <td>A</td>\n",
       "    </tr>\n",
       "    <tr>\n",
       "      <th>2</th>\n",
       "      <td>1</td>\n",
       "      <td>C</td>\n",
       "    </tr>\n",
       "    <tr>\n",
       "      <th>3</th>\n",
       "      <td>3</td>\n",
       "      <td>D</td>\n",
       "    </tr>\n",
       "    <tr>\n",
       "      <th>4</th>\n",
       "      <td>4</td>\n",
       "      <td>D</td>\n",
       "    </tr>\n",
       "    <tr>\n",
       "      <th>5</th>\n",
       "      <td>4</td>\n",
       "      <td>C</td>\n",
       "    </tr>\n",
       "    <tr>\n",
       "      <th>6</th>\n",
       "      <td>4</td>\n",
       "      <td>A</td>\n",
       "    </tr>\n",
       "    <tr>\n",
       "      <th>7</th>\n",
       "      <td>4</td>\n",
       "      <td>C</td>\n",
       "    </tr>\n",
       "    <tr>\n",
       "      <th>8</th>\n",
       "      <td>4</td>\n",
       "      <td>D</td>\n",
       "    </tr>\n",
       "    <tr>\n",
       "      <th>9</th>\n",
       "      <td>2</td>\n",
       "      <td>A</td>\n",
       "    </tr>\n",
       "    <tr>\n",
       "      <th>10</th>\n",
       "      <td>2</td>\n",
       "      <td>B</td>\n",
       "    </tr>\n",
       "    <tr>\n",
       "      <th>11</th>\n",
       "      <td>3</td>\n",
       "      <td>D</td>\n",
       "    </tr>\n",
       "    <tr>\n",
       "      <th>12</th>\n",
       "      <td>3</td>\n",
       "      <td>C</td>\n",
       "    </tr>\n",
       "    <tr>\n",
       "      <th>13</th>\n",
       "      <td>2</td>\n",
       "      <td>C</td>\n",
       "    </tr>\n",
       "    <tr>\n",
       "      <th>14</th>\n",
       "      <td>1</td>\n",
       "      <td>C</td>\n",
       "    </tr>\n",
       "    <tr>\n",
       "      <th>15</th>\n",
       "      <td>4</td>\n",
       "      <td>D</td>\n",
       "    </tr>\n",
       "    <tr>\n",
       "      <th>16</th>\n",
       "      <td>1</td>\n",
       "      <td>D</td>\n",
       "    </tr>\n",
       "    <tr>\n",
       "      <th>17</th>\n",
       "      <td>3</td>\n",
       "      <td>C</td>\n",
       "    </tr>\n",
       "    <tr>\n",
       "      <th>18</th>\n",
       "      <td>4</td>\n",
       "      <td>C</td>\n",
       "    </tr>\n",
       "    <tr>\n",
       "      <th>19</th>\n",
       "      <td>4</td>\n",
       "      <td>D</td>\n",
       "    </tr>\n",
       "  </tbody>\n",
       "</table>\n",
       "</div>"
      ],
      "text/plain": [
       "    Col1 Col2\n",
       "0      2    C\n",
       "1      3    A\n",
       "2      1    C\n",
       "3      3    D\n",
       "4      4    D\n",
       "5      4    C\n",
       "6      4    A\n",
       "7      4    C\n",
       "8      4    D\n",
       "9      2    A\n",
       "10     2    B\n",
       "11     3    D\n",
       "12     3    C\n",
       "13     2    C\n",
       "14     1    C\n",
       "15     4    D\n",
       "16     1    D\n",
       "17     3    C\n",
       "18     4    C\n",
       "19     4    D"
      ]
     },
     "execution_count": 6,
     "metadata": {},
     "output_type": "execute_result"
    }
   ],
   "source": [
    "df = pd.DataFrame(\n",
    "    {\n",
    "        \"Col1\": np.random.randint(1, 5, 20),\n",
    "        \"Col2\": np.random.choice(np.array([\"A\", \"B\", \"C\", \"D\"]), 20),\n",
    "    }\n",
    ")\n",
    "df"
   ]
  },
  {
   "cell_type": "markdown",
   "id": "b84e9ed2-6d03-48fc-a7f4-9cd7c90fe060",
   "metadata": {},
   "source": [
    "We use `value_counts` to see how many times each value occur in a column:"
   ]
  },
  {
   "cell_type": "code",
   "execution_count": 7,
   "id": "fe1d3e8f-fe25-4cea-b1f5-b7ff1dfb2a5c",
   "metadata": {
    "execution": {
     "iopub.execute_input": "2023-10-19T18:01:03.661307Z",
     "iopub.status.busy": "2023-10-19T18:01:03.661206Z",
     "iopub.status.idle": "2023-10-19T18:01:03.663124Z",
     "shell.execute_reply": "2023-10-19T18:01:03.662981Z"
    },
    "tags": []
   },
   "outputs": [
    {
     "data": {
      "text/plain": [
       "Col1\n",
       "4    8\n",
       "3    5\n",
       "2    4\n",
       "1    3\n",
       "Name: count, dtype: int64"
      ]
     },
     "execution_count": 7,
     "metadata": {},
     "output_type": "execute_result"
    }
   ],
   "source": [
    "df[\"Col1\"].value_counts()"
   ]
  },
  {
   "cell_type": "code",
   "execution_count": 8,
   "id": "1741759c-6b4e-4811-97fa-7e8021b92d1e",
   "metadata": {
    "execution": {
     "iopub.execute_input": "2023-10-19T18:01:03.663832Z",
     "iopub.status.busy": "2023-10-19T18:01:03.663768Z",
     "iopub.status.idle": "2023-10-19T18:01:03.665656Z",
     "shell.execute_reply": "2023-10-19T18:01:03.665508Z"
    },
    "tags": []
   },
   "outputs": [
    {
     "data": {
      "text/plain": [
       "Col2\n",
       "C    9\n",
       "D    7\n",
       "A    3\n",
       "B    1\n",
       "Name: count, dtype: int64"
      ]
     },
     "execution_count": 8,
     "metadata": {},
     "output_type": "execute_result"
    }
   ],
   "source": [
    "df[\"Col2\"].value_counts()"
   ]
  },
  {
   "cell_type": "markdown",
   "id": "44f16313-2d41-44cb-aa1e-0bcb70a542c1",
   "metadata": {},
   "source": [
    "Note that the *index* (on the left) is the set of distinct values of the given column, and the entries (of the series) are the counts for each corresponding value.  By default, it is sorted by the number of occurrences (i.e., counts) in *decreasing* order."
   ]
  },
  {
   "cell_type": "markdown",
   "id": "528e867e-95c9-4c5e-8f4d-ec32793e3257",
   "metadata": {},
   "source": [
    "We can make this resulting series into an array by using `to_numpy` (the index is dropped):"
   ]
  },
  {
   "cell_type": "code",
   "execution_count": 9,
   "id": "c805e989-065b-4ded-b94e-fc6bd446f10d",
   "metadata": {
    "execution": {
     "iopub.execute_input": "2023-10-19T18:01:03.666389Z",
     "iopub.status.busy": "2023-10-19T18:01:03.666293Z",
     "iopub.status.idle": "2023-10-19T18:01:03.667993Z",
     "shell.execute_reply": "2023-10-19T18:01:03.667848Z"
    },
    "tags": []
   },
   "outputs": [
    {
     "data": {
      "text/plain": [
       "array([9, 7, 3, 1])"
      ]
     },
     "execution_count": 9,
     "metadata": {},
     "output_type": "execute_result"
    }
   ],
   "source": [
    "df[\"Col2\"].value_counts().to_numpy()"
   ]
  },
  {
   "cell_type": "markdown",
   "id": "982cf49e-0cad-4ae8-a550-2621c3363182",
   "metadata": {},
   "source": [
    "### Comparing Arrays"
   ]
  },
  {
   "cell_type": "markdown",
   "id": "80529f71-50f2-4e02-aacc-ffddc0c747b7",
   "metadata": {},
   "source": [
    "Remember that if we want to check if two arrays are equal, we don't use `==`:"
   ]
  },
  {
   "cell_type": "code",
   "execution_count": 10,
   "id": "4b652514-5825-4fe2-bd8f-cbcccb6cd45b",
   "metadata": {
    "execution": {
     "iopub.execute_input": "2023-10-19T18:01:03.668740Z",
     "iopub.status.busy": "2023-10-19T18:01:03.668678Z",
     "iopub.status.idle": "2023-10-19T18:01:03.669993Z",
     "shell.execute_reply": "2023-10-19T18:01:03.669843Z"
    },
    "tags": []
   },
   "outputs": [],
   "source": [
    "a = np.array([1, 2, 3])\n",
    "b = np.array([1, 2, 3])\n",
    "c = np.array([1, 2, 4])"
   ]
  },
  {
   "cell_type": "markdown",
   "id": "060963d3-99f3-4e31-b8f1-fe22ecb0c225",
   "metadata": {},
   "source": [
    "Clearly, `a` and `b` are equal, but `c` is different.\n",
    "\n",
    "If we try to use `==`:"
   ]
  },
  {
   "cell_type": "code",
   "execution_count": 11,
   "id": "435cec7a-4712-45e7-b906-0ff381a4f226",
   "metadata": {
    "execution": {
     "iopub.execute_input": "2023-10-19T18:01:03.670702Z",
     "iopub.status.busy": "2023-10-19T18:01:03.670639Z",
     "iopub.status.idle": "2023-10-19T18:01:03.672122Z",
     "shell.execute_reply": "2023-10-19T18:01:03.671981Z"
    },
    "tags": []
   },
   "outputs": [
    {
     "data": {
      "text/plain": [
       "array([ True,  True,  True])"
      ]
     },
     "execution_count": 11,
     "metadata": {},
     "output_type": "execute_result"
    }
   ],
   "source": [
    "a == b"
   ]
  },
  {
   "cell_type": "code",
   "execution_count": 12,
   "id": "f6a38c50-a203-4acc-90e3-ec988d4e5245",
   "metadata": {
    "execution": {
     "iopub.execute_input": "2023-10-19T18:01:03.672780Z",
     "iopub.status.busy": "2023-10-19T18:01:03.672713Z",
     "iopub.status.idle": "2023-10-19T18:01:03.674121Z",
     "shell.execute_reply": "2023-10-19T18:01:03.673980Z"
    },
    "tags": []
   },
   "outputs": [
    {
     "data": {
      "text/plain": [
       "array([ True,  True, False])"
      ]
     },
     "execution_count": 12,
     "metadata": {},
     "output_type": "execute_result"
    }
   ],
   "source": [
    "a == c"
   ]
  },
  {
   "cell_type": "markdown",
   "id": "4f162782-b535-44c8-bb8b-dbb845f35652",
   "metadata": {},
   "source": [
    "With `==`, we check if each entry of the first array is equal to each entry of the second, so we get as result an *array* of booleans (`True`and `False`).\n",
    "\n",
    "We use instead `np.array_equal`:"
   ]
  },
  {
   "cell_type": "code",
   "execution_count": 13,
   "id": "c118ffa3-0371-413d-995f-770869a813f7",
   "metadata": {
    "execution": {
     "iopub.execute_input": "2023-10-19T18:01:03.674824Z",
     "iopub.status.busy": "2023-10-19T18:01:03.674729Z",
     "iopub.status.idle": "2023-10-19T18:01:03.676187Z",
     "shell.execute_reply": "2023-10-19T18:01:03.676048Z"
    },
    "tags": []
   },
   "outputs": [
    {
     "data": {
      "text/plain": [
       "True"
      ]
     },
     "execution_count": 13,
     "metadata": {},
     "output_type": "execute_result"
    }
   ],
   "source": [
    "np.array_equal(a, b)"
   ]
  },
  {
   "cell_type": "code",
   "execution_count": 14,
   "id": "833469bf-06be-43f1-a171-a93527b390bc",
   "metadata": {
    "execution": {
     "iopub.execute_input": "2023-10-19T18:01:03.676872Z",
     "iopub.status.busy": "2023-10-19T18:01:03.676778Z",
     "iopub.status.idle": "2023-10-19T18:01:03.678242Z",
     "shell.execute_reply": "2023-10-19T18:01:03.678103Z"
    },
    "tags": []
   },
   "outputs": [
    {
     "data": {
      "text/plain": [
       "False"
      ]
     },
     "execution_count": 14,
     "metadata": {},
     "output_type": "execute_result"
    }
   ],
   "source": [
    "np.array_equal(a, c)"
   ]
  },
  {
   "cell_type": "markdown",
   "id": "d91e6212-0890-45c4-a509-cb3047c9ca70",
   "metadata": {},
   "source": [
    "### Counting Occurrences\n",
    "\n",
    "We can use `np.count_nonzero` to count how many times some condition on an array is satisfied.\n",
    "\n",
    "As the name says, it counts the number of non-zero elements in an array:"
   ]
  },
  {
   "cell_type": "code",
   "execution_count": 15,
   "id": "db6cec23-4ad4-48f6-aa1f-1105f97e7932",
   "metadata": {
    "execution": {
     "iopub.execute_input": "2023-10-19T18:01:03.678943Z",
     "iopub.status.busy": "2023-10-19T18:01:03.678851Z",
     "iopub.status.idle": "2023-10-19T18:01:03.680391Z",
     "shell.execute_reply": "2023-10-19T18:01:03.680251Z"
    },
    "tags": []
   },
   "outputs": [
    {
     "data": {
      "text/plain": [
       "5"
      ]
     },
     "execution_count": 15,
     "metadata": {},
     "output_type": "execute_result"
    }
   ],
   "source": [
    "np.count_nonzero(np.array([0, 1, 2, 0, 4, 0, 3, 2]))"
   ]
  },
  {
   "cell_type": "markdown",
   "id": "c95313e0-8802-4ffa-8af5-ed004b8c4de5",
   "metadata": {},
   "source": [
    "On the other hand, in Python the boolean `False` is (sometimes) treated as zero, while `True` is non-zero.  Hence, `np.count_nonzero` can be used to count the number of `True`'s in a boolen array:"
   ]
  },
  {
   "cell_type": "code",
   "execution_count": 16,
   "id": "ca581b1a-a475-4295-af57-9b2271d17e2c",
   "metadata": {
    "execution": {
     "iopub.execute_input": "2023-10-19T18:01:03.681091Z",
     "iopub.status.busy": "2023-10-19T18:01:03.681030Z",
     "iopub.status.idle": "2023-10-19T18:01:03.682534Z",
     "shell.execute_reply": "2023-10-19T18:01:03.682393Z"
    },
    "tags": []
   },
   "outputs": [
    {
     "data": {
      "text/plain": [
       "3"
      ]
     },
     "execution_count": 16,
     "metadata": {},
     "output_type": "execute_result"
    }
   ],
   "source": [
    "np.count_nonzero(np.array([True, True, False, False, True]))"
   ]
  },
  {
   "cell_type": "markdown",
   "id": "7cbdbcf4-80c5-4c03-a09b-ca2936a9e31f",
   "metadata": {},
   "source": [
    "Thus, we can also check conditions:"
   ]
  },
  {
   "cell_type": "code",
   "execution_count": 17,
   "id": "8d8d7d72-5584-41f7-a3b6-2025839930c8",
   "metadata": {
    "execution": {
     "iopub.execute_input": "2023-10-19T18:01:03.683233Z",
     "iopub.status.busy": "2023-10-19T18:01:03.683167Z",
     "iopub.status.idle": "2023-10-19T18:01:03.684708Z",
     "shell.execute_reply": "2023-10-19T18:01:03.684569Z"
    },
    "tags": []
   },
   "outputs": [
    {
     "data": {
      "text/plain": [
       "3"
      ]
     },
     "execution_count": 17,
     "metadata": {},
     "output_type": "execute_result"
    }
   ],
   "source": [
    "np.count_nonzero(np.array([1, 3, 5, 0, 2, 1, 5]) > 2)"
   ]
  },
  {
   "cell_type": "markdown",
   "id": "3303fc40-7c5d-4fec-a78d-2b3551ba02e6",
   "metadata": {},
   "source": [
    "### `sample`\n",
    "\n",
    "The pandas data frame method [sample](https://pandas.pydata.org/docs/reference/api/pandas.DataFrame.sample.html) selects a random number of rows of a data frame.\n",
    "\n",
    "For example, lets select four random rows of our (random) data frame `df`:"
   ]
  },
  {
   "cell_type": "code",
   "execution_count": 18,
   "id": "93c02b54-bb1d-4359-b5c3-3f6781394a3c",
   "metadata": {
    "execution": {
     "iopub.execute_input": "2023-10-19T18:01:03.685416Z",
     "iopub.status.busy": "2023-10-19T18:01:03.685357Z",
     "iopub.status.idle": "2023-10-19T18:01:03.687708Z",
     "shell.execute_reply": "2023-10-19T18:01:03.687564Z"
    },
    "tags": []
   },
   "outputs": [
    {
     "data": {
      "text/html": [
       "<div>\n",
       "<style scoped>\n",
       "    .dataframe tbody tr th:only-of-type {\n",
       "        vertical-align: middle;\n",
       "    }\n",
       "\n",
       "    .dataframe tbody tr th {\n",
       "        vertical-align: top;\n",
       "    }\n",
       "\n",
       "    .dataframe thead th {\n",
       "        text-align: right;\n",
       "    }\n",
       "</style>\n",
       "<table border=\"1\" class=\"dataframe\">\n",
       "  <thead>\n",
       "    <tr style=\"text-align: right;\">\n",
       "      <th></th>\n",
       "      <th>Col1</th>\n",
       "      <th>Col2</th>\n",
       "    </tr>\n",
       "  </thead>\n",
       "  <tbody>\n",
       "    <tr>\n",
       "      <th>13</th>\n",
       "      <td>2</td>\n",
       "      <td>C</td>\n",
       "    </tr>\n",
       "    <tr>\n",
       "      <th>5</th>\n",
       "      <td>4</td>\n",
       "      <td>C</td>\n",
       "    </tr>\n",
       "    <tr>\n",
       "      <th>2</th>\n",
       "      <td>1</td>\n",
       "      <td>C</td>\n",
       "    </tr>\n",
       "    <tr>\n",
       "      <th>0</th>\n",
       "      <td>2</td>\n",
       "      <td>C</td>\n",
       "    </tr>\n",
       "  </tbody>\n",
       "</table>\n",
       "</div>"
      ],
      "text/plain": [
       "    Col1 Col2\n",
       "13     2    C\n",
       "5      4    C\n",
       "2      1    C\n",
       "0      2    C"
      ]
     },
     "execution_count": 18,
     "metadata": {},
     "output_type": "execute_result"
    }
   ],
   "source": [
    "df.sample(4)"
   ]
  },
  {
   "cell_type": "markdown",
   "id": "9c4b9085-2c90-487f-a6dc-4d893b922247",
   "metadata": {},
   "source": [
    "Again, run it a few times to see how we get different results each time."
   ]
  },
  {
   "cell_type": "markdown",
   "id": "10cca764-3134-4cf2-87d5-060ef1ae0904",
   "metadata": {},
   "source": [
    "By default, `.sample` does not allow a row to be repeated.  To allow it, use the `replace=True` optional argument.  (Let's sort the index to make it easier to see the repeated rows.)"
   ]
  },
  {
   "cell_type": "code",
   "execution_count": 19,
   "id": "8ec5a7f7-40c4-4afe-b389-55926874f841",
   "metadata": {
    "execution": {
     "iopub.execute_input": "2023-10-19T18:01:03.688392Z",
     "iopub.status.busy": "2023-10-19T18:01:03.688330Z",
     "iopub.status.idle": "2023-10-19T18:01:03.690826Z",
     "shell.execute_reply": "2023-10-19T18:01:03.690684Z"
    },
    "tags": []
   },
   "outputs": [
    {
     "data": {
      "text/html": [
       "<div>\n",
       "<style scoped>\n",
       "    .dataframe tbody tr th:only-of-type {\n",
       "        vertical-align: middle;\n",
       "    }\n",
       "\n",
       "    .dataframe tbody tr th {\n",
       "        vertical-align: top;\n",
       "    }\n",
       "\n",
       "    .dataframe thead th {\n",
       "        text-align: right;\n",
       "    }\n",
       "</style>\n",
       "<table border=\"1\" class=\"dataframe\">\n",
       "  <thead>\n",
       "    <tr style=\"text-align: right;\">\n",
       "      <th></th>\n",
       "      <th>Col1</th>\n",
       "      <th>Col2</th>\n",
       "    </tr>\n",
       "  </thead>\n",
       "  <tbody>\n",
       "    <tr>\n",
       "      <th>0</th>\n",
       "      <td>2</td>\n",
       "      <td>C</td>\n",
       "    </tr>\n",
       "    <tr>\n",
       "      <th>2</th>\n",
       "      <td>1</td>\n",
       "      <td>C</td>\n",
       "    </tr>\n",
       "    <tr>\n",
       "      <th>2</th>\n",
       "      <td>1</td>\n",
       "      <td>C</td>\n",
       "    </tr>\n",
       "    <tr>\n",
       "      <th>4</th>\n",
       "      <td>4</td>\n",
       "      <td>D</td>\n",
       "    </tr>\n",
       "    <tr>\n",
       "      <th>7</th>\n",
       "      <td>4</td>\n",
       "      <td>C</td>\n",
       "    </tr>\n",
       "    <tr>\n",
       "      <th>9</th>\n",
       "      <td>2</td>\n",
       "      <td>A</td>\n",
       "    </tr>\n",
       "    <tr>\n",
       "      <th>11</th>\n",
       "      <td>3</td>\n",
       "      <td>D</td>\n",
       "    </tr>\n",
       "    <tr>\n",
       "      <th>13</th>\n",
       "      <td>2</td>\n",
       "      <td>C</td>\n",
       "    </tr>\n",
       "    <tr>\n",
       "      <th>14</th>\n",
       "      <td>1</td>\n",
       "      <td>C</td>\n",
       "    </tr>\n",
       "    <tr>\n",
       "      <th>14</th>\n",
       "      <td>1</td>\n",
       "      <td>C</td>\n",
       "    </tr>\n",
       "    <tr>\n",
       "      <th>15</th>\n",
       "      <td>4</td>\n",
       "      <td>D</td>\n",
       "    </tr>\n",
       "    <tr>\n",
       "      <th>17</th>\n",
       "      <td>3</td>\n",
       "      <td>C</td>\n",
       "    </tr>\n",
       "  </tbody>\n",
       "</table>\n",
       "</div>"
      ],
      "text/plain": [
       "    Col1 Col2\n",
       "0      2    C\n",
       "2      1    C\n",
       "2      1    C\n",
       "4      4    D\n",
       "7      4    C\n",
       "9      2    A\n",
       "11     3    D\n",
       "13     2    C\n",
       "14     1    C\n",
       "14     1    C\n",
       "15     4    D\n",
       "17     3    C"
      ]
     },
     "execution_count": 19,
     "metadata": {},
     "output_type": "execute_result"
    }
   ],
   "source": [
    "df.sample(12, replace=True).sort_index()"
   ]
  },
  {
   "cell_type": "markdown",
   "id": "9532c08b-7dc5-46a4-a85e-f70c7130caaa",
   "metadata": {},
   "source": [
    "(Run it a few times, if you don't see a repeated row.)\n",
    "\n",
    "Instead of a number of rows, one can pass the *fraction* of the total number of rows we want to draw with the argument `frac=`.  For example, `sample(frac=0.5)` will randomly select half as many as the total number of rows."
   ]
  },
  {
   "cell_type": "code",
   "execution_count": 20,
   "id": "a1a86b46-b86f-4999-883c-e83f6deab111",
   "metadata": {
    "execution": {
     "iopub.execute_input": "2023-10-19T18:01:03.691516Z",
     "iopub.status.busy": "2023-10-19T18:01:03.691422Z",
     "iopub.status.idle": "2023-10-19T18:01:03.693780Z",
     "shell.execute_reply": "2023-10-19T18:01:03.693631Z"
    },
    "tags": []
   },
   "outputs": [
    {
     "data": {
      "text/html": [
       "<div>\n",
       "<style scoped>\n",
       "    .dataframe tbody tr th:only-of-type {\n",
       "        vertical-align: middle;\n",
       "    }\n",
       "\n",
       "    .dataframe tbody tr th {\n",
       "        vertical-align: top;\n",
       "    }\n",
       "\n",
       "    .dataframe thead th {\n",
       "        text-align: right;\n",
       "    }\n",
       "</style>\n",
       "<table border=\"1\" class=\"dataframe\">\n",
       "  <thead>\n",
       "    <tr style=\"text-align: right;\">\n",
       "      <th></th>\n",
       "      <th>Col1</th>\n",
       "      <th>Col2</th>\n",
       "    </tr>\n",
       "  </thead>\n",
       "  <tbody>\n",
       "    <tr>\n",
       "      <th>12</th>\n",
       "      <td>3</td>\n",
       "      <td>C</td>\n",
       "    </tr>\n",
       "    <tr>\n",
       "      <th>7</th>\n",
       "      <td>4</td>\n",
       "      <td>C</td>\n",
       "    </tr>\n",
       "    <tr>\n",
       "      <th>15</th>\n",
       "      <td>4</td>\n",
       "      <td>D</td>\n",
       "    </tr>\n",
       "    <tr>\n",
       "      <th>4</th>\n",
       "      <td>4</td>\n",
       "      <td>D</td>\n",
       "    </tr>\n",
       "    <tr>\n",
       "      <th>14</th>\n",
       "      <td>1</td>\n",
       "      <td>C</td>\n",
       "    </tr>\n",
       "    <tr>\n",
       "      <th>10</th>\n",
       "      <td>2</td>\n",
       "      <td>B</td>\n",
       "    </tr>\n",
       "    <tr>\n",
       "      <th>5</th>\n",
       "      <td>4</td>\n",
       "      <td>C</td>\n",
       "    </tr>\n",
       "    <tr>\n",
       "      <th>13</th>\n",
       "      <td>2</td>\n",
       "      <td>C</td>\n",
       "    </tr>\n",
       "    <tr>\n",
       "      <th>2</th>\n",
       "      <td>1</td>\n",
       "      <td>C</td>\n",
       "    </tr>\n",
       "    <tr>\n",
       "      <th>16</th>\n",
       "      <td>1</td>\n",
       "      <td>D</td>\n",
       "    </tr>\n",
       "  </tbody>\n",
       "</table>\n",
       "</div>"
      ],
      "text/plain": [
       "    Col1 Col2\n",
       "12     3    C\n",
       "7      4    C\n",
       "15     4    D\n",
       "4      4    D\n",
       "14     1    C\n",
       "10     2    B\n",
       "5      4    C\n",
       "13     2    C\n",
       "2      1    C\n",
       "16     1    D"
      ]
     },
     "execution_count": 20,
     "metadata": {},
     "output_type": "execute_result"
    }
   ],
   "source": [
    "df.sample(frac=0.5)"
   ]
  },
  {
   "cell_type": "markdown",
   "id": "fe87183a-a218-49c7-8868-b916698d6a5e",
   "metadata": {},
   "source": [
    "In particular, we can *shuffle the (order of the) rows* using `frac=1`:"
   ]
  },
  {
   "cell_type": "code",
   "execution_count": 21,
   "id": "c4436080-9d65-4e92-b102-0983ffc82125",
   "metadata": {
    "execution": {
     "iopub.execute_input": "2023-10-19T18:01:03.694442Z",
     "iopub.status.busy": "2023-10-19T18:01:03.694382Z",
     "iopub.status.idle": "2023-10-19T18:01:03.696682Z",
     "shell.execute_reply": "2023-10-19T18:01:03.696542Z"
    },
    "tags": []
   },
   "outputs": [
    {
     "data": {
      "text/html": [
       "<div>\n",
       "<style scoped>\n",
       "    .dataframe tbody tr th:only-of-type {\n",
       "        vertical-align: middle;\n",
       "    }\n",
       "\n",
       "    .dataframe tbody tr th {\n",
       "        vertical-align: top;\n",
       "    }\n",
       "\n",
       "    .dataframe thead th {\n",
       "        text-align: right;\n",
       "    }\n",
       "</style>\n",
       "<table border=\"1\" class=\"dataframe\">\n",
       "  <thead>\n",
       "    <tr style=\"text-align: right;\">\n",
       "      <th></th>\n",
       "      <th>Col1</th>\n",
       "      <th>Col2</th>\n",
       "    </tr>\n",
       "  </thead>\n",
       "  <tbody>\n",
       "    <tr>\n",
       "      <th>4</th>\n",
       "      <td>4</td>\n",
       "      <td>D</td>\n",
       "    </tr>\n",
       "    <tr>\n",
       "      <th>3</th>\n",
       "      <td>3</td>\n",
       "      <td>D</td>\n",
       "    </tr>\n",
       "    <tr>\n",
       "      <th>2</th>\n",
       "      <td>1</td>\n",
       "      <td>C</td>\n",
       "    </tr>\n",
       "    <tr>\n",
       "      <th>1</th>\n",
       "      <td>3</td>\n",
       "      <td>A</td>\n",
       "    </tr>\n",
       "    <tr>\n",
       "      <th>5</th>\n",
       "      <td>4</td>\n",
       "      <td>C</td>\n",
       "    </tr>\n",
       "    <tr>\n",
       "      <th>0</th>\n",
       "      <td>2</td>\n",
       "      <td>C</td>\n",
       "    </tr>\n",
       "  </tbody>\n",
       "</table>\n",
       "</div>"
      ],
      "text/plain": [
       "   Col1 Col2\n",
       "4     4    D\n",
       "3     3    D\n",
       "2     1    C\n",
       "1     3    A\n",
       "5     4    C\n",
       "0     2    C"
      ]
     },
     "execution_count": 21,
     "metadata": {},
     "output_type": "execute_result"
    }
   ],
   "source": [
    "df.loc[:5].sample(frac=1)"
   ]
  },
  {
   "cell_type": "markdown",
   "id": "945a3604-7d5d-4bae-8ace-8f8e935ba865",
   "metadata": {},
   "source": [
    "## Tracking and Visualizing Number of Occurrences"
   ]
  },
  {
   "cell_type": "markdown",
   "id": "03d7e4ea-2193-4150-a217-3f9f6291aa11",
   "metadata": {},
   "source": [
    "We expect that if repeat the tossing of a coin, we get about half of the results to be Heads, and half to be Tails.  This is a consequence of the [Law of Large Numbers](https://en.wikipedia.org/wiki/Law_of_large_numbers).\n",
    "\n",
    "\n",
    "Let's check it in practice:"
   ]
  },
  {
   "cell_type": "code",
   "execution_count": 22,
   "id": "b57aea99-9ae0-4f88-ba0d-79a11076a3c9",
   "metadata": {
    "execution": {
     "iopub.execute_input": "2023-10-19T18:01:03.697452Z",
     "iopub.status.busy": "2023-10-19T18:01:03.697358Z",
     "iopub.status.idle": "2023-10-19T18:01:03.761703Z",
     "shell.execute_reply": "2023-10-19T18:01:03.761270Z"
    },
    "tags": []
   },
   "outputs": [
    {
     "data": {
      "image/png": "[encoded data removed]",
      "text/plain": [
       "<Figure size 800x600 with 1 Axes>"
      ]
     },
     "metadata": {},
     "output_type": "display_data"
    }
   ],
   "source": [
    "number_of_repetitions = 1_000\n",
    "\n",
    "# array with results of each toss\n",
    "tosses = np.random.choice([\"Heads\", \"Tails\"], number_of_repetitions)\n",
    "\n",
    "# make it into a data frame\n",
    "tosses_df = pd.DataFrame({\"Result\": tosses})\n",
    "\n",
    "# count each result and make a bar graph\n",
    "tosses_df.groupby(\"Result\").size().plot(kind=\"barh\");"
   ]
  },
  {
   "cell_type": "markdown",
   "id": "297881d5-cfa1-48d1-b2a4-0b9ca9422d48",
   "metadata": {},
   "source": [
    "Similarly, if we roll a die many times, we expect each value to appear about one sixth of the time:"
   ]
  },
  {
   "cell_type": "code",
   "execution_count": 23,
   "id": "a7034d1a-a1b6-44a8-9d9d-2134b3e48402",
   "metadata": {
    "execution": {
     "iopub.execute_input": "2023-10-19T18:01:03.763340Z",
     "iopub.status.busy": "2023-10-19T18:01:03.763232Z",
     "iopub.status.idle": "2023-10-19T18:01:03.811129Z",
     "shell.execute_reply": "2023-10-19T18:01:03.810838Z"
    },
    "tags": []
   },
   "outputs": [
    {
     "data": {
      "image/png": "[encoded data removed]",
      "text/plain": [
       "<Figure size 800x600 with 1 Axes>"
      ]
     },
     "metadata": {},
     "output_type": "display_data"
    }
   ],
   "source": [
    "number_of_repetitions = 1_000\n",
    "\n",
    "# array with results of each roll\n",
    "rolls = np.random.randint(1, 7, number_of_repetitions)\n",
    "\n",
    "# make it into a data frame\n",
    "rolls_df = pd.DataFrame({\"Result\": rolls})\n",
    "\n",
    "# count each result and make a bar graph\n",
    "rolls_df.groupby(\"Result\").size().plot(kind=\"barh\");"
   ]
  },
  {
   "cell_type": "markdown",
   "id": "dca8583e-2beb-4de3-8b5a-768fe228380b",
   "metadata": {},
   "source": [
    "The more repetitions, the closer the proportions get to being equal:"
   ]
  },
  {
   "cell_type": "code",
   "execution_count": 24,
   "id": "698047bf-6ac3-44fe-997a-52935123b0f9",
   "metadata": {
    "execution": {
     "iopub.execute_input": "2023-10-19T18:01:03.812383Z",
     "iopub.status.busy": "2023-10-19T18:01:03.812238Z",
     "iopub.status.idle": "2023-10-19T18:01:03.860691Z",
     "shell.execute_reply": "2023-10-19T18:01:03.860370Z"
    },
    "tags": []
   },
   "outputs": [
    {
     "data": {
      "image/png": "[encoded data removed]",
      "text/plain": [
       "<Figure size 800x600 with 1 Axes>"
      ]
     },
     "metadata": {},
     "output_type": "display_data"
    }
   ],
   "source": [
    "# increase the number of repetitions!\n",
    "number_of_repetitions = 100_000\n",
    "\n",
    "rolls = np.random.randint(1, 7, number_of_repetitions)\n",
    "rolls_df = pd.DataFrame({\"Result\": rolls})\n",
    "\n",
    "rolls_df.groupby(\"Result\").size().plot(kind=\"barh\");"
   ]
  },
  {
   "cell_type": "markdown",
   "id": "954bcd9f-814b-4574-8a9d-d9aa761a67ea",
   "metadata": {},
   "source": [
    "Of course, we expect the numbers of occurrences for each possible result to get closer to being equal (proportionally speaking) the more times we repeat, because each value has exactly the same probability: $1/2$ for the coin, and $1/6$ for the die."
   ]
  },
  {
   "cell_type": "markdown",
   "id": "036144a3-3e61-44eb-9127-ede3d760c8a5",
   "metadata": {},
   "source": [
    "## Empirical Probabilities"
   ]
  },
  {
   "cell_type": "markdown",
   "id": "2e5a38a4-8a20-4709-af08-d50178807fe6",
   "metadata": {},
   "source": [
    "### Tossing Three Coins\n",
    "\n",
    "The Law of Large Numbers implies that if repeat an experiment a large number of times, the proportion of times an event occurs approaches to the probability of it occurring.\n",
    "\n",
    "For instance, the probability of getting three Heads when tossing a (fair) coin three times is\n",
    "\n",
    "$$\n",
    "\\frac{1}{2} \\cdot \\frac{1}{2} \\cdot \\frac{1}{2} = \\frac{1}{8}.\n",
    "$$\n",
    "\n",
    "So, if we toss a coin three times many times over, the proportion of times we get three heads should be about $\\dfrac{1}{8} = 0.125$, and the more times we do it, the closer we get to $0.125$.\n",
    "\n",
    "Let's try to visualize this."
   ]
  },
  {
   "cell_type": "markdown",
   "id": "fe7938e1-4a3a-495d-b66f-f044cf91db2b",
   "metadata": {},
   "source": [
    "#### Visualizing\n",
    "\n",
    "Let's write a function to visualize how increasing the number of tosses of the three coins, we get proportions closer to the probability of $0.125$.\n",
    "\n",
    "We first write functions for tossing three coins and checking if we get three heads:"
   ]
  },
  {
   "cell_type": "code",
   "execution_count": 25,
   "id": "cdd0f8b3-1c18-48e3-9c4e-61b8f9cb55c1",
   "metadata": {
    "execution": {
     "iopub.execute_input": "2023-10-19T18:01:03.861946Z",
     "iopub.status.busy": "2023-10-19T18:01:03.861877Z",
     "iopub.status.idle": "2023-10-19T18:01:03.864442Z",
     "shell.execute_reply": "2023-10-19T18:01:03.864279Z"
    },
    "tags": []
   },
   "outputs": [],
   "source": [
    "def toss_three_coins():\n",
    "    \"\"\"\n",
    "    Simulates toissing a coin three times.\n",
    "    \n",
    "    INPUT:\n",
    "    None.\n",
    "    \n",
    "    OUTPUT:\n",
    "    Array of \"Heads\" and \"Tails\" of length 3.\n",
    "    \"\"\"\n",
    "    return np.random.choice(np.array([\"Heads\", \"Tails\"]), 3)\n",
    "\n",
    "\n",
    "def is_three_heads(toss):\n",
    "    \"\"\"\n",
    "    Given an array, checks if it is equal to [\"Heads\", \"Heads\", \"Heads\"].\n",
    "    \n",
    "    INPUT:\n",
    "    An array (supposedly of length 3, containing \"Heads\" and/or \"Tails\").\n",
    "    \n",
    "    OUTPUT:\n",
    "    True/False, depending if it contains three heads or not.\n",
    "    \"\"\"\n",
    "    return np.array_equal(toss, np.array(3 * [\"Heads\"]))\n",
    "\n",
    "\n",
    "def plot_prop_three_heads(number_of_tosses):\n",
    "    \"\"\"\n",
    "    Given the number of tosses, plots the proportions of three heads obtained\n",
    "    up to the given number.\n",
    "    \n",
    "    INPUT:\n",
    "    number_of_tosses: number of times up to which we simulate tossing a fair coin.\n",
    "    \n",
    "    OUTPUT:\n",
    "    A scatter plot with the number of tosses and proportion of times three heads were obtained.\n",
    "    \"\"\"\n",
    "    # initialize\n",
    "    three_heads = np.zeros(number_of_tosses, dtype=np.int32)\n",
    "\n",
    "    # put a 1 every times we get three heads\n",
    "    for i in range(number_of_tosses):\n",
    "        toss = toss_three_coins()\n",
    "        if is_three_heads(toss):\n",
    "            three_heads[i] = 1\n",
    "\n",
    "    # get the cumulative number of three heads obtained\n",
    "    number_of_three_heads = np.cumsum(three_heads)\n",
    "\n",
    "    # get the proportion\n",
    "    prop_of_heads = number_of_three_heads / np.arange(1, number_of_tosses + 1)\n",
    "\n",
    "    # plot the expected proportion\n",
    "    plt.plot([1, number_of_tosses], [0.125, 0.125], c=\"green\", linestyle=\"dashed\", linewidth=2)\n",
    "\n",
    "    # plot the proportions, in steps\n",
    "    step_size = int(np.ceil(number_of_tosses / 50))  # at most 50 steps\n",
    "    plt.scatter(\n",
    "        np.arange(1, number_of_tosses + 1, step_size), prop_of_heads[::step_size]\n",
    "    )"
   ]
  },
  {
   "cell_type": "markdown",
   "id": "29f0fef8-5923-4e83-a116-c54c04341d41",
   "metadata": {},
   "source": [
    "Let's start with a small number of repetitions (of the three tosses):"
   ]
  },
  {
   "cell_type": "code",
   "execution_count": 26,
   "id": "5630ac1c-483c-41b6-85f1-b451156da0f3",
   "metadata": {
    "execution": {
     "iopub.execute_input": "2023-10-19T18:01:03.865523Z",
     "iopub.status.busy": "2023-10-19T18:01:03.865461Z",
     "iopub.status.idle": "2023-10-19T18:01:03.917972Z",
     "shell.execute_reply": "2023-10-19T18:01:03.917816Z"
    },
    "tags": []
   },
   "outputs": [
    {
     "data": {
      "image/png": "[encoded data removed]",
      "text/plain": [
       "<Figure size 800x600 with 1 Axes>"
      ]
     },
     "metadata": {},
     "output_type": "display_data"
    }
   ],
   "source": [
    "plot_prop_three_heads(50)"
   ]
  },
  {
   "cell_type": "markdown",
   "id": "1c79c5c8-9aee-4b3f-b0e3-43ce60484f29",
   "metadata": {},
   "source": [
    "The result you will obtain above is random, so we are not very sure what to expect.  But, most likely, the proportions will not be very close to the expected $0.125$.\n",
    "\n",
    "But, the more you increase the number of repetitions, the more the larger values get to $0.125$:"
   ]
  },
  {
   "cell_type": "code",
   "execution_count": 27,
   "id": "c667b12a-b455-49f8-a88d-9f35c0ab3ddc",
   "metadata": {
    "execution": {
     "iopub.execute_input": "2023-10-19T18:01:03.919092Z",
     "iopub.status.busy": "2023-10-19T18:01:03.919029Z",
     "iopub.status.idle": "2023-10-19T18:01:03.972274Z",
     "shell.execute_reply": "2023-10-19T18:01:03.972121Z"
    },
    "tags": []
   },
   "outputs": [
    {
     "data": {
      "image/png": "[encoded data removed]",
      "text/plain": [
       "<Figure size 800x600 with 1 Axes>"
      ]
     },
     "metadata": {},
     "output_type": "display_data"
    }
   ],
   "source": [
    "plot_prop_three_heads(200)"
   ]
  },
  {
   "cell_type": "code",
   "execution_count": 28,
   "id": "aca9d290-c40a-4164-9d82-d273cb53ec5d",
   "metadata": {
    "execution": {
     "iopub.execute_input": "2023-10-19T18:01:03.973381Z",
     "iopub.status.busy": "2023-10-19T18:01:03.973316Z",
     "iopub.status.idle": "2023-10-19T18:01:04.042135Z",
     "shell.execute_reply": "2023-10-19T18:01:04.041985Z"
    },
    "tags": []
   },
   "outputs": [
    {
     "data": {
      "image/png": "[encoded data removed]",
      "text/plain": [
       "<Figure size 800x600 with 1 Axes>"
      ]
     },
     "metadata": {},
     "output_type": "display_data"
    }
   ],
   "source": [
    "plot_prop_three_heads(2_000)"
   ]
  },
  {
   "cell_type": "code",
   "execution_count": 29,
   "id": "0a62bb0c-c3e0-4c17-8dd0-0251629af06b",
   "metadata": {
    "execution": {
     "iopub.execute_input": "2023-10-19T18:01:04.043264Z",
     "iopub.status.busy": "2023-10-19T18:01:04.043200Z",
     "iopub.status.idle": "2023-10-19T18:01:04.241687Z",
     "shell.execute_reply": "2023-10-19T18:01:04.241534Z"
    },
    "tags": []
   },
   "outputs": [
    {
     "data": {
      "image/png": "[encoded data removed]",
      "text/plain": [
       "<Figure size 800x600 with 1 Axes>"
      ]
     },
     "metadata": {},
     "output_type": "display_data"
    }
   ],
   "source": [
    "plot_prop_three_heads(20_000)"
   ]
  },
  {
   "cell_type": "markdown",
   "id": "4c46c7e7-0e79-48d5-99a7-6ae137c22eb5",
   "metadata": {},
   "source": [
    "### Sum of Two Dice\n",
    "\n",
    "Now, let's pretend we don't know the probabilities for obtaining a particular value when we roll two dice and add their values.\n",
    "\n",
    "As we've seen above, we can get very good ideas but running this experiment many times over, and keeping track of the proportions we obtain.\n",
    "\n",
    "Let's them simulate this, with $10{,}000$ rolls.  We will use a data frame to keep track of the values of each die and their sum:"
   ]
  },
  {
   "cell_type": "code",
   "execution_count": 30,
   "id": "65938db5-3e29-4882-b3f3-74d02b3ea62c",
   "metadata": {
    "execution": {
     "iopub.execute_input": "2023-10-19T18:01:04.243315Z",
     "iopub.status.busy": "2023-10-19T18:01:04.243234Z",
     "iopub.status.idle": "2023-10-19T18:01:04.247355Z",
     "shell.execute_reply": "2023-10-19T18:01:04.247200Z"
    },
    "tags": []
   },
   "outputs": [
    {
     "data": {
      "text/html": [
       "<div>\n",
       "<style scoped>\n",
       "    .dataframe tbody tr th:only-of-type {\n",
       "        vertical-align: middle;\n",
       "    }\n",
       "\n",
       "    .dataframe tbody tr th {\n",
       "        vertical-align: top;\n",
       "    }\n",
       "\n",
       "    .dataframe thead th {\n",
       "        text-align: right;\n",
       "    }\n",
       "</style>\n",
       "<table border=\"1\" class=\"dataframe\">\n",
       "  <thead>\n",
       "    <tr style=\"text-align: right;\">\n",
       "      <th></th>\n",
       "      <th>Die 1</th>\n",
       "      <th>Die 2</th>\n",
       "      <th>Sum</th>\n",
       "    </tr>\n",
       "  </thead>\n",
       "  <tbody>\n",
       "    <tr>\n",
       "      <th>0</th>\n",
       "      <td>3</td>\n",
       "      <td>3</td>\n",
       "      <td>6</td>\n",
       "    </tr>\n",
       "    <tr>\n",
       "      <th>1</th>\n",
       "      <td>2</td>\n",
       "      <td>5</td>\n",
       "      <td>7</td>\n",
       "    </tr>\n",
       "    <tr>\n",
       "      <th>2</th>\n",
       "      <td>4</td>\n",
       "      <td>6</td>\n",
       "      <td>10</td>\n",
       "    </tr>\n",
       "    <tr>\n",
       "      <th>3</th>\n",
       "      <td>5</td>\n",
       "      <td>1</td>\n",
       "      <td>6</td>\n",
       "    </tr>\n",
       "    <tr>\n",
       "      <th>4</th>\n",
       "      <td>2</td>\n",
       "      <td>1</td>\n",
       "      <td>3</td>\n",
       "    </tr>\n",
       "    <tr>\n",
       "      <th>...</th>\n",
       "      <td>...</td>\n",
       "      <td>...</td>\n",
       "      <td>...</td>\n",
       "    </tr>\n",
       "    <tr>\n",
       "      <th>9995</th>\n",
       "      <td>2</td>\n",
       "      <td>6</td>\n",
       "      <td>8</td>\n",
       "    </tr>\n",
       "    <tr>\n",
       "      <th>9996</th>\n",
       "      <td>2</td>\n",
       "      <td>4</td>\n",
       "      <td>6</td>\n",
       "    </tr>\n",
       "    <tr>\n",
       "      <th>9997</th>\n",
       "      <td>6</td>\n",
       "      <td>6</td>\n",
       "      <td>12</td>\n",
       "    </tr>\n",
       "    <tr>\n",
       "      <th>9998</th>\n",
       "      <td>5</td>\n",
       "      <td>4</td>\n",
       "      <td>9</td>\n",
       "    </tr>\n",
       "    <tr>\n",
       "      <th>9999</th>\n",
       "      <td>2</td>\n",
       "      <td>1</td>\n",
       "      <td>3</td>\n",
       "    </tr>\n",
       "  </tbody>\n",
       "</table>\n",
       "<p>10000 rows × 3 columns</p>\n",
       "</div>"
      ],
      "text/plain": [
       "      Die 1  Die 2  Sum\n",
       "0         3      3    6\n",
       "1         2      5    7\n",
       "2         4      6   10\n",
       "3         5      1    6\n",
       "4         2      1    3\n",
       "...     ...    ...  ...\n",
       "9995      2      6    8\n",
       "9996      2      4    6\n",
       "9997      6      6   12\n",
       "9998      5      4    9\n",
       "9999      2      1    3\n",
       "\n",
       "[10000 rows x 3 columns]"
      ]
     },
     "execution_count": 30,
     "metadata": {},
     "output_type": "execute_result"
    }
   ],
   "source": [
    "number_of_repetitions = 10_000\n",
    "\n",
    "# rolls of the first die\n",
    "die1 = np.random.randint(1, 7, number_of_repetitions)\n",
    "\n",
    "# rolls of the second die\n",
    "die2 = np.random.randint(1, 7, number_of_repetitions)\n",
    "\n",
    "# create the data frame\n",
    "rolls = pd.DataFrame({\n",
    "    \"Die 1\": die1,\n",
    "    \"Die 2\": die2,\n",
    "    \"Sum\": die1 + die2\n",
    "})\n",
    "\n",
    "rolls"
   ]
  },
  {
   "cell_type": "markdown",
   "id": "32734066-bd72-4ef6-b103-5f4251fcc622",
   "metadata": {},
   "source": [
    "Let's see the proportions of each sum with a density histogram:"
   ]
  },
  {
   "cell_type": "code",
   "execution_count": 31,
   "id": "d0294b36-3cec-4705-bf91-26c19cc05b54",
   "metadata": {
    "execution": {
     "iopub.execute_input": "2023-10-19T18:01:04.248789Z",
     "iopub.status.busy": "2023-10-19T18:01:04.248728Z",
     "iopub.status.idle": "2023-10-19T18:01:04.318103Z",
     "shell.execute_reply": "2023-10-19T18:01:04.317827Z"
    },
    "tags": []
   },
   "outputs": [
    {
     "data": {
      "image/png": "[encoded data removed]",
      "text/plain": [
       "<Figure size 800x600 with 1 Axes>"
      ]
     },
     "metadata": {},
     "output_type": "display_data"
    }
   ],
   "source": [
    "# the bins are of length 1, centered on 2, 3, 4, ..., 12.\n",
    "rolls.hist(\"Sum\", ec=\"white\", density=True, bins=np.arange(1.5, 13, 1));"
   ]
  },
  {
   "cell_type": "markdown",
   "id": "59ce640b-b2d8-4b41-aedf-de4f0bfff8ba",
   "metadata": {},
   "source": [
    "Note that since the lengths of the bins are all equal one, the heights are indeed the proportions.  Since we performed the rolls a large number of times, these proportions should be close the actual probabilities.\n",
    "\n",
    "It's clear then that some sums are more likely than others, which is not unexpected.\n",
    "\n",
    "It is not hard to compute the actual probabilities, but if we don't know it, we can get good approximations from our experiment.  This would be an *empirical probability*, i.e., a probability obtained from an experiment.  We just need to find the proportions in our experiment.  If the number of repetitions is large enough, we should get numbers very close to the actual theoretical probability:"
   ]
  },
  {
   "cell_type": "code",
   "execution_count": 32,
   "id": "e5cbe98f-3b7e-449a-8fbf-015a3953e4bf",
   "metadata": {
    "execution": {
     "iopub.execute_input": "2023-10-19T18:01:04.319754Z",
     "iopub.status.busy": "2023-10-19T18:01:04.319539Z",
     "iopub.status.idle": "2023-10-19T18:01:04.323381Z",
     "shell.execute_reply": "2023-10-19T18:01:04.323222Z"
    },
    "tags": []
   },
   "outputs": [
    {
     "data": {
      "text/html": [
       "<div>\n",
       "<style scoped>\n",
       "    .dataframe tbody tr th:only-of-type {\n",
       "        vertical-align: middle;\n",
       "    }\n",
       "\n",
       "    .dataframe tbody tr th {\n",
       "        vertical-align: top;\n",
       "    }\n",
       "\n",
       "    .dataframe thead th {\n",
       "        text-align: right;\n",
       "    }\n",
       "</style>\n",
       "<table border=\"1\" class=\"dataframe\">\n",
       "  <thead>\n",
       "    <tr style=\"text-align: right;\">\n",
       "      <th></th>\n",
       "      <th>Count</th>\n",
       "      <th>Proportion</th>\n",
       "    </tr>\n",
       "    <tr>\n",
       "      <th>Sum</th>\n",
       "      <th></th>\n",
       "      <th></th>\n",
       "    </tr>\n",
       "  </thead>\n",
       "  <tbody>\n",
       "    <tr>\n",
       "      <th>2</th>\n",
       "      <td>243</td>\n",
       "      <td>0.0243</td>\n",
       "    </tr>\n",
       "    <tr>\n",
       "      <th>3</th>\n",
       "      <td>559</td>\n",
       "      <td>0.0559</td>\n",
       "    </tr>\n",
       "    <tr>\n",
       "      <th>4</th>\n",
       "      <td>839</td>\n",
       "      <td>0.0839</td>\n",
       "    </tr>\n",
       "    <tr>\n",
       "      <th>5</th>\n",
       "      <td>1102</td>\n",
       "      <td>0.1102</td>\n",
       "    </tr>\n",
       "    <tr>\n",
       "      <th>6</th>\n",
       "      <td>1408</td>\n",
       "      <td>0.1408</td>\n",
       "    </tr>\n",
       "    <tr>\n",
       "      <th>7</th>\n",
       "      <td>1659</td>\n",
       "      <td>0.1659</td>\n",
       "    </tr>\n",
       "    <tr>\n",
       "      <th>8</th>\n",
       "      <td>1412</td>\n",
       "      <td>0.1412</td>\n",
       "    </tr>\n",
       "    <tr>\n",
       "      <th>9</th>\n",
       "      <td>1135</td>\n",
       "      <td>0.1135</td>\n",
       "    </tr>\n",
       "    <tr>\n",
       "      <th>10</th>\n",
       "      <td>810</td>\n",
       "      <td>0.0810</td>\n",
       "    </tr>\n",
       "    <tr>\n",
       "      <th>11</th>\n",
       "      <td>554</td>\n",
       "      <td>0.0554</td>\n",
       "    </tr>\n",
       "    <tr>\n",
       "      <th>12</th>\n",
       "      <td>279</td>\n",
       "      <td>0.0279</td>\n",
       "    </tr>\n",
       "  </tbody>\n",
       "</table>\n",
       "</div>"
      ],
      "text/plain": [
       "     Count  Proportion\n",
       "Sum                   \n",
       "2      243      0.0243\n",
       "3      559      0.0559\n",
       "4      839      0.0839\n",
       "5     1102      0.1102\n",
       "6     1408      0.1408\n",
       "7     1659      0.1659\n",
       "8     1412      0.1412\n",
       "9     1135      0.1135\n",
       "10     810      0.0810\n",
       "11     554      0.0554\n",
       "12     279      0.0279"
      ]
     },
     "execution_count": 32,
     "metadata": {},
     "output_type": "execute_result"
    }
   ],
   "source": [
    "# data frame with counts and proportions for each sum of the two dice\n",
    "rolls_count_prop = (\n",
    "    rolls.groupby(\"Sum\")\n",
    "    .size()\n",
    "    .to_frame(\"Count\")\n",
    "    .assign(Proportion=lambda count: count / number_of_repetitions)\n",
    ")\n",
    "\n",
    "rolls_count_prop"
   ]
  },
  {
   "cell_type": "markdown",
   "id": "32cad84e-70a3-4069-b311-16516bd4f498",
   "metadata": {},
   "source": [
    "So, the probability of rolling a 2 should be about $3\\%$, while the probability of rolling a 7 should be about $17\\%$.  \n",
    "\n",
    "Since there is only one way to get a 2, which is the roll with both dies getting 1 on top, out of the possible $36$ different ways to get the roll of two dice, the actual probability is $1/36 \\approx 2.77\\%$.\n",
    "\n",
    "There are 6 possible rows that add to $7$: a 1 and a 6, a 2 and 5, etc., all the way to a 6 and 1.  So, the actual probability is $6/36 = 1/6 \\approx 16.7\\%$.\n",
    "\n",
    "Let's add the actual probabilities and find the errors:"
   ]
  },
  {
   "cell_type": "code",
   "execution_count": 33,
   "id": "0e568f03-deb6-4377-8547-9eabe927c46f",
   "metadata": {
    "execution": {
     "iopub.execute_input": "2023-10-19T18:01:04.324238Z",
     "iopub.status.busy": "2023-10-19T18:01:04.324174Z",
     "iopub.status.idle": "2023-10-19T18:01:04.328427Z",
     "shell.execute_reply": "2023-10-19T18:01:04.328206Z"
    },
    "tags": []
   },
   "outputs": [
    {
     "data": {
      "text/html": [
       "<div>\n",
       "<style scoped>\n",
       "    .dataframe tbody tr th:only-of-type {\n",
       "        vertical-align: middle;\n",
       "    }\n",
       "\n",
       "    .dataframe tbody tr th {\n",
       "        vertical-align: top;\n",
       "    }\n",
       "\n",
       "    .dataframe thead th {\n",
       "        text-align: right;\n",
       "    }\n",
       "</style>\n",
       "<table border=\"1\" class=\"dataframe\">\n",
       "  <thead>\n",
       "    <tr style=\"text-align: right;\">\n",
       "      <th></th>\n",
       "      <th>Count</th>\n",
       "      <th>Proportion</th>\n",
       "      <th>Probability</th>\n",
       "      <th>Error</th>\n",
       "    </tr>\n",
       "    <tr>\n",
       "      <th>Sum</th>\n",
       "      <th></th>\n",
       "      <th></th>\n",
       "      <th></th>\n",
       "      <th></th>\n",
       "    </tr>\n",
       "  </thead>\n",
       "  <tbody>\n",
       "    <tr>\n",
       "      <th>2</th>\n",
       "      <td>243</td>\n",
       "      <td>0.0243</td>\n",
       "      <td>0.027778</td>\n",
       "      <td>0.003478</td>\n",
       "    </tr>\n",
       "    <tr>\n",
       "      <th>3</th>\n",
       "      <td>559</td>\n",
       "      <td>0.0559</td>\n",
       "      <td>0.055556</td>\n",
       "      <td>0.000344</td>\n",
       "    </tr>\n",
       "    <tr>\n",
       "      <th>4</th>\n",
       "      <td>839</td>\n",
       "      <td>0.0839</td>\n",
       "      <td>0.083333</td>\n",
       "      <td>0.000567</td>\n",
       "    </tr>\n",
       "    <tr>\n",
       "      <th>5</th>\n",
       "      <td>1102</td>\n",
       "      <td>0.1102</td>\n",
       "      <td>0.111111</td>\n",
       "      <td>0.000911</td>\n",
       "    </tr>\n",
       "    <tr>\n",
       "      <th>6</th>\n",
       "      <td>1408</td>\n",
       "      <td>0.1408</td>\n",
       "      <td>0.138889</td>\n",
       "      <td>0.001911</td>\n",
       "    </tr>\n",
       "    <tr>\n",
       "      <th>7</th>\n",
       "      <td>1659</td>\n",
       "      <td>0.1659</td>\n",
       "      <td>0.166667</td>\n",
       "      <td>0.000767</td>\n",
       "    </tr>\n",
       "    <tr>\n",
       "      <th>8</th>\n",
       "      <td>1412</td>\n",
       "      <td>0.1412</td>\n",
       "      <td>0.138889</td>\n",
       "      <td>0.002311</td>\n",
       "    </tr>\n",
       "    <tr>\n",
       "      <th>9</th>\n",
       "      <td>1135</td>\n",
       "      <td>0.1135</td>\n",
       "      <td>0.111111</td>\n",
       "      <td>0.002389</td>\n",
       "    </tr>\n",
       "    <tr>\n",
       "      <th>10</th>\n",
       "      <td>810</td>\n",
       "      <td>0.0810</td>\n",
       "      <td>0.115385</td>\n",
       "      <td>0.034385</td>\n",
       "    </tr>\n",
       "    <tr>\n",
       "      <th>11</th>\n",
       "      <td>554</td>\n",
       "      <td>0.0554</td>\n",
       "      <td>0.055556</td>\n",
       "      <td>0.000156</td>\n",
       "    </tr>\n",
       "    <tr>\n",
       "      <th>12</th>\n",
       "      <td>279</td>\n",
       "      <td>0.0279</td>\n",
       "      <td>0.027778</td>\n",
       "      <td>0.000122</td>\n",
       "    </tr>\n",
       "  </tbody>\n",
       "</table>\n",
       "</div>"
      ],
      "text/plain": [
       "     Count  Proportion  Probability     Error\n",
       "Sum                                          \n",
       "2      243      0.0243     0.027778  0.003478\n",
       "3      559      0.0559     0.055556  0.000344\n",
       "4      839      0.0839     0.083333  0.000567\n",
       "5     1102      0.1102     0.111111  0.000911\n",
       "6     1408      0.1408     0.138889  0.001911\n",
       "7     1659      0.1659     0.166667  0.000767\n",
       "8     1412      0.1412     0.138889  0.002311\n",
       "9     1135      0.1135     0.111111  0.002389\n",
       "10     810      0.0810     0.115385  0.034385\n",
       "11     554      0.0554     0.055556  0.000156\n",
       "12     279      0.0279     0.027778  0.000122"
      ]
     },
     "execution_count": 33,
     "metadata": {},
     "output_type": "execute_result"
    }
   ],
   "source": [
    "actual_prob = np.array(\n",
    "    [\n",
    "        1 / 36,\n",
    "        2 / 36,\n",
    "        3 / 36,\n",
    "        4 / 36,\n",
    "        5 / 36,\n",
    "        6 / 36,\n",
    "        5 / 36,\n",
    "        4 / 36,\n",
    "        3 / 26,\n",
    "        2 / 36,\n",
    "        1 / 36,\n",
    "    ]\n",
    ")\n",
    "\n",
    "# data frame with count, proportions, actual probability, and error \n",
    "# from approximating by proportion\n",
    "(\n",
    "    rolls_count_prop\n",
    "    .assign(Probability=actual_prob)\n",
    "    .assign(\n",
    "        Error=lambda df_: np.abs(df_[\"Proportion\"] - df_[\"Probability\"])\n",
    "    )\n",
    ")"
   ]
  },
  {
   "cell_type": "markdown",
   "id": "ae49dfb1-b162-46d9-9b32-856267188425",
   "metadata": {},
   "source": [
    "### Poker\n",
    "\n",
    "Let's now look at the [game of poker](https://en.wikipedia.org/wiki/Poker).\n",
    "\n",
    "The game is played with a [standard 52-card deck](https://en.wikipedia.org/wiki/Standard_52-card_deck).  Each card has a rank and a suit.  Let's create a deck as a data frame.\n",
    "\n",
    "We will also add a numerical *value* for each card, which can be used to check if cards are in sequence.  (We will have strings for our ranks, since we have `\"A\"` for ace, for example.  The values can be used for ordering the cards in sequence, for instance, with a hand with `[9, 10, J, Q, K]` or `[10, J, Q, K, A]`.)\n",
    "\n",
    "We will use a [np.repeat](https://numpy.org/doc/stable/reference/generated/numpy.repeat.html) and [np.tile](https://numpy.org/doc/stable/reference/generated/numpy.tile.html) to create the data frame for the deck."
   ]
  },
  {
   "cell_type": "code",
   "execution_count": 34,
   "id": "0815af98-e140-48fa-9cfe-3a89e29a5346",
   "metadata": {
    "execution": {
     "iopub.execute_input": "2023-10-19T18:01:04.329338Z",
     "iopub.status.busy": "2023-10-19T18:01:04.329276Z",
     "iopub.status.idle": "2023-10-19T18:01:04.332928Z",
     "shell.execute_reply": "2023-10-19T18:01:04.332781Z"
    },
    "tags": []
   },
   "outputs": [
    {
     "data": {
      "text/html": [
       "<div>\n",
       "<style scoped>\n",
       "    .dataframe tbody tr th:only-of-type {\n",
       "        vertical-align: middle;\n",
       "    }\n",
       "\n",
       "    .dataframe tbody tr th {\n",
       "        vertical-align: top;\n",
       "    }\n",
       "\n",
       "    .dataframe thead th {\n",
       "        text-align: right;\n",
       "    }\n",
       "</style>\n",
       "<table border=\"1\" class=\"dataframe\">\n",
       "  <thead>\n",
       "    <tr style=\"text-align: right;\">\n",
       "      <th></th>\n",
       "      <th>Rank</th>\n",
       "      <th>Suit</th>\n",
       "      <th>Value</th>\n",
       "    </tr>\n",
       "  </thead>\n",
       "  <tbody>\n",
       "    <tr>\n",
       "      <th>0</th>\n",
       "      <td>A</td>\n",
       "      <td>Diamonds</td>\n",
       "      <td>13</td>\n",
       "    </tr>\n",
       "    <tr>\n",
       "      <th>1</th>\n",
       "      <td>2</td>\n",
       "      <td>Diamonds</td>\n",
       "      <td>1</td>\n",
       "    </tr>\n",
       "    <tr>\n",
       "      <th>2</th>\n",
       "      <td>3</td>\n",
       "      <td>Diamonds</td>\n",
       "      <td>2</td>\n",
       "    </tr>\n",
       "    <tr>\n",
       "      <th>3</th>\n",
       "      <td>4</td>\n",
       "      <td>Diamonds</td>\n",
       "      <td>3</td>\n",
       "    </tr>\n",
       "    <tr>\n",
       "      <th>4</th>\n",
       "      <td>5</td>\n",
       "      <td>Diamonds</td>\n",
       "      <td>4</td>\n",
       "    </tr>\n",
       "    <tr>\n",
       "      <th>5</th>\n",
       "      <td>6</td>\n",
       "      <td>Diamonds</td>\n",
       "      <td>5</td>\n",
       "    </tr>\n",
       "    <tr>\n",
       "      <th>6</th>\n",
       "      <td>7</td>\n",
       "      <td>Diamonds</td>\n",
       "      <td>6</td>\n",
       "    </tr>\n",
       "    <tr>\n",
       "      <th>7</th>\n",
       "      <td>8</td>\n",
       "      <td>Diamonds</td>\n",
       "      <td>7</td>\n",
       "    </tr>\n",
       "    <tr>\n",
       "      <th>8</th>\n",
       "      <td>9</td>\n",
       "      <td>Diamonds</td>\n",
       "      <td>8</td>\n",
       "    </tr>\n",
       "    <tr>\n",
       "      <th>9</th>\n",
       "      <td>10</td>\n",
       "      <td>Diamonds</td>\n",
       "      <td>9</td>\n",
       "    </tr>\n",
       "    <tr>\n",
       "      <th>10</th>\n",
       "      <td>J</td>\n",
       "      <td>Diamonds</td>\n",
       "      <td>10</td>\n",
       "    </tr>\n",
       "    <tr>\n",
       "      <th>11</th>\n",
       "      <td>Q</td>\n",
       "      <td>Diamonds</td>\n",
       "      <td>11</td>\n",
       "    </tr>\n",
       "    <tr>\n",
       "      <th>12</th>\n",
       "      <td>K</td>\n",
       "      <td>Diamonds</td>\n",
       "      <td>12</td>\n",
       "    </tr>\n",
       "    <tr>\n",
       "      <th>13</th>\n",
       "      <td>A</td>\n",
       "      <td>Clubs</td>\n",
       "      <td>13</td>\n",
       "    </tr>\n",
       "    <tr>\n",
       "      <th>14</th>\n",
       "      <td>2</td>\n",
       "      <td>Clubs</td>\n",
       "      <td>1</td>\n",
       "    </tr>\n",
       "    <tr>\n",
       "      <th>15</th>\n",
       "      <td>3</td>\n",
       "      <td>Clubs</td>\n",
       "      <td>2</td>\n",
       "    </tr>\n",
       "    <tr>\n",
       "      <th>16</th>\n",
       "      <td>4</td>\n",
       "      <td>Clubs</td>\n",
       "      <td>3</td>\n",
       "    </tr>\n",
       "    <tr>\n",
       "      <th>17</th>\n",
       "      <td>5</td>\n",
       "      <td>Clubs</td>\n",
       "      <td>4</td>\n",
       "    </tr>\n",
       "    <tr>\n",
       "      <th>18</th>\n",
       "      <td>6</td>\n",
       "      <td>Clubs</td>\n",
       "      <td>5</td>\n",
       "    </tr>\n",
       "    <tr>\n",
       "      <th>19</th>\n",
       "      <td>7</td>\n",
       "      <td>Clubs</td>\n",
       "      <td>6</td>\n",
       "    </tr>\n",
       "    <tr>\n",
       "      <th>20</th>\n",
       "      <td>8</td>\n",
       "      <td>Clubs</td>\n",
       "      <td>7</td>\n",
       "    </tr>\n",
       "    <tr>\n",
       "      <th>21</th>\n",
       "      <td>9</td>\n",
       "      <td>Clubs</td>\n",
       "      <td>8</td>\n",
       "    </tr>\n",
       "    <tr>\n",
       "      <th>22</th>\n",
       "      <td>10</td>\n",
       "      <td>Clubs</td>\n",
       "      <td>9</td>\n",
       "    </tr>\n",
       "    <tr>\n",
       "      <th>23</th>\n",
       "      <td>J</td>\n",
       "      <td>Clubs</td>\n",
       "      <td>10</td>\n",
       "    </tr>\n",
       "    <tr>\n",
       "      <th>24</th>\n",
       "      <td>Q</td>\n",
       "      <td>Clubs</td>\n",
       "      <td>11</td>\n",
       "    </tr>\n",
       "    <tr>\n",
       "      <th>25</th>\n",
       "      <td>K</td>\n",
       "      <td>Clubs</td>\n",
       "      <td>12</td>\n",
       "    </tr>\n",
       "    <tr>\n",
       "      <th>26</th>\n",
       "      <td>A</td>\n",
       "      <td>Hearts</td>\n",
       "      <td>13</td>\n",
       "    </tr>\n",
       "    <tr>\n",
       "      <th>27</th>\n",
       "      <td>2</td>\n",
       "      <td>Hearts</td>\n",
       "      <td>1</td>\n",
       "    </tr>\n",
       "    <tr>\n",
       "      <th>28</th>\n",
       "      <td>3</td>\n",
       "      <td>Hearts</td>\n",
       "      <td>2</td>\n",
       "    </tr>\n",
       "    <tr>\n",
       "      <th>29</th>\n",
       "      <td>4</td>\n",
       "      <td>Hearts</td>\n",
       "      <td>3</td>\n",
       "    </tr>\n",
       "    <tr>\n",
       "      <th>30</th>\n",
       "      <td>5</td>\n",
       "      <td>Hearts</td>\n",
       "      <td>4</td>\n",
       "    </tr>\n",
       "    <tr>\n",
       "      <th>31</th>\n",
       "      <td>6</td>\n",
       "      <td>Hearts</td>\n",
       "      <td>5</td>\n",
       "    </tr>\n",
       "    <tr>\n",
       "      <th>32</th>\n",
       "      <td>7</td>\n",
       "      <td>Hearts</td>\n",
       "      <td>6</td>\n",
       "    </tr>\n",
       "    <tr>\n",
       "      <th>33</th>\n",
       "      <td>8</td>\n",
       "      <td>Hearts</td>\n",
       "      <td>7</td>\n",
       "    </tr>\n",
       "    <tr>\n",
       "      <th>34</th>\n",
       "      <td>9</td>\n",
       "      <td>Hearts</td>\n",
       "      <td>8</td>\n",
       "    </tr>\n",
       "    <tr>\n",
       "      <th>35</th>\n",
       "      <td>10</td>\n",
       "      <td>Hearts</td>\n",
       "      <td>9</td>\n",
       "    </tr>\n",
       "    <tr>\n",
       "      <th>36</th>\n",
       "      <td>J</td>\n",
       "      <td>Hearts</td>\n",
       "      <td>10</td>\n",
       "    </tr>\n",
       "    <tr>\n",
       "      <th>37</th>\n",
       "      <td>Q</td>\n",
       "      <td>Hearts</td>\n",
       "      <td>11</td>\n",
       "    </tr>\n",
       "    <tr>\n",
       "      <th>38</th>\n",
       "      <td>K</td>\n",
       "      <td>Hearts</td>\n",
       "      <td>12</td>\n",
       "    </tr>\n",
       "    <tr>\n",
       "      <th>39</th>\n",
       "      <td>A</td>\n",
       "      <td>Spades</td>\n",
       "      <td>13</td>\n",
       "    </tr>\n",
       "    <tr>\n",
       "      <th>40</th>\n",
       "      <td>2</td>\n",
       "      <td>Spades</td>\n",
       "      <td>1</td>\n",
       "    </tr>\n",
       "    <tr>\n",
       "      <th>41</th>\n",
       "      <td>3</td>\n",
       "      <td>Spades</td>\n",
       "      <td>2</td>\n",
       "    </tr>\n",
       "    <tr>\n",
       "      <th>42</th>\n",
       "      <td>4</td>\n",
       "      <td>Spades</td>\n",
       "      <td>3</td>\n",
       "    </tr>\n",
       "    <tr>\n",
       "      <th>43</th>\n",
       "      <td>5</td>\n",
       "      <td>Spades</td>\n",
       "      <td>4</td>\n",
       "    </tr>\n",
       "    <tr>\n",
       "      <th>44</th>\n",
       "      <td>6</td>\n",
       "      <td>Spades</td>\n",
       "      <td>5</td>\n",
       "    </tr>\n",
       "    <tr>\n",
       "      <th>45</th>\n",
       "      <td>7</td>\n",
       "      <td>Spades</td>\n",
       "      <td>6</td>\n",
       "    </tr>\n",
       "    <tr>\n",
       "      <th>46</th>\n",
       "      <td>8</td>\n",
       "      <td>Spades</td>\n",
       "      <td>7</td>\n",
       "    </tr>\n",
       "    <tr>\n",
       "      <th>47</th>\n",
       "      <td>9</td>\n",
       "      <td>Spades</td>\n",
       "      <td>8</td>\n",
       "    </tr>\n",
       "    <tr>\n",
       "      <th>48</th>\n",
       "      <td>10</td>\n",
       "      <td>Spades</td>\n",
       "      <td>9</td>\n",
       "    </tr>\n",
       "    <tr>\n",
       "      <th>49</th>\n",
       "      <td>J</td>\n",
       "      <td>Spades</td>\n",
       "      <td>10</td>\n",
       "    </tr>\n",
       "    <tr>\n",
       "      <th>50</th>\n",
       "      <td>Q</td>\n",
       "      <td>Spades</td>\n",
       "      <td>11</td>\n",
       "    </tr>\n",
       "    <tr>\n",
       "      <th>51</th>\n",
       "      <td>K</td>\n",
       "      <td>Spades</td>\n",
       "      <td>12</td>\n",
       "    </tr>\n",
       "  </tbody>\n",
       "</table>\n",
       "</div>"
      ],
      "text/plain": [
       "   Rank      Suit  Value\n",
       "0     A  Diamonds     13\n",
       "1     2  Diamonds      1\n",
       "2     3  Diamonds      2\n",
       "3     4  Diamonds      3\n",
       "4     5  Diamonds      4\n",
       "5     6  Diamonds      5\n",
       "6     7  Diamonds      6\n",
       "7     8  Diamonds      7\n",
       "8     9  Diamonds      8\n",
       "9    10  Diamonds      9\n",
       "10    J  Diamonds     10\n",
       "11    Q  Diamonds     11\n",
       "12    K  Diamonds     12\n",
       "13    A     Clubs     13\n",
       "14    2     Clubs      1\n",
       "15    3     Clubs      2\n",
       "16    4     Clubs      3\n",
       "17    5     Clubs      4\n",
       "18    6     Clubs      5\n",
       "19    7     Clubs      6\n",
       "20    8     Clubs      7\n",
       "21    9     Clubs      8\n",
       "22   10     Clubs      9\n",
       "23    J     Clubs     10\n",
       "24    Q     Clubs     11\n",
       "25    K     Clubs     12\n",
       "26    A    Hearts     13\n",
       "27    2    Hearts      1\n",
       "28    3    Hearts      2\n",
       "29    4    Hearts      3\n",
       "30    5    Hearts      4\n",
       "31    6    Hearts      5\n",
       "32    7    Hearts      6\n",
       "33    8    Hearts      7\n",
       "34    9    Hearts      8\n",
       "35   10    Hearts      9\n",
       "36    J    Hearts     10\n",
       "37    Q    Hearts     11\n",
       "38    K    Hearts     12\n",
       "39    A    Spades     13\n",
       "40    2    Spades      1\n",
       "41    3    Spades      2\n",
       "42    4    Spades      3\n",
       "43    5    Spades      4\n",
       "44    6    Spades      5\n",
       "45    7    Spades      6\n",
       "46    8    Spades      7\n",
       "47    9    Spades      8\n",
       "48   10    Spades      9\n",
       "49    J    Spades     10\n",
       "50    Q    Spades     11\n",
       "51    K    Spades     12"
      ]
     },
     "execution_count": 34,
     "metadata": {},
     "output_type": "execute_result"
    }
   ],
   "source": [
    "# single values for ranks, suits, and values\n",
    "ranks = [\"A\"] + [str(i) for i in range(2, 11)] + [\"J\", \"Q\", \"K\"]\n",
    "suits = [\"Diamonds\", \"Clubs\", \"Hearts\", \"Spades\"]\n",
    "values = [13] + list(range(1, 13))\n",
    "\n",
    "# create the deck data frame\n",
    "deck = pd.DataFrame({\"Rank\": np.tile(ranks, 4), \"Suit\": np.repeat(suits, 13), \"Value\": np.tile(values, 4)})\n",
    "\n",
    "deck"
   ]
  },
  {
   "cell_type": "markdown",
   "id": "51698a9e-6119-46b4-905e-e270b5ec1ab0",
   "metadata": {},
   "source": [
    "Now, let's write a function that draws 5 cards from the deck.  We can simply use the `sample` method:"
   ]
  },
  {
   "cell_type": "code",
   "execution_count": 35,
   "id": "bc50ffed-769b-4a61-bff6-3547ffe3f1c1",
   "metadata": {
    "execution": {
     "iopub.execute_input": "2023-10-19T18:01:04.334213Z",
     "iopub.status.busy": "2023-10-19T18:01:04.334150Z",
     "iopub.status.idle": "2023-10-19T18:01:04.335560Z",
     "shell.execute_reply": "2023-10-19T18:01:04.335404Z"
    },
    "tags": []
   },
   "outputs": [],
   "source": [
    "def draw_five():\n",
    "    \"\"\"\n",
    "    Draws five cards from the deck.\n",
    "    \n",
    "    INPUT:\n",
    "    None.\n",
    "    \n",
    "    OUTPUT:\n",
    "    A data frame with five random cards from the deck.\n",
    "    \"\"\"\n",
    "    return (deck\n",
    "            .sample(5)\n",
    "            .sort_values([\"Value\", \"Suit\"])\n",
    "            .reset_index(drop=True))\n"
   ]
  },
  {
   "cell_type": "markdown",
   "id": "78792fa9-d99f-4243-aaed-5215e6025280",
   "metadata": {},
   "source": [
    "Run the cell below a few times to see what hands you get:"
   ]
  },
  {
   "cell_type": "code",
   "execution_count": 36,
   "id": "5fd52b8f-a1ca-4f26-8237-9dec146f4638",
   "metadata": {
    "execution": {
     "iopub.execute_input": "2023-10-19T18:01:04.336873Z",
     "iopub.status.busy": "2023-10-19T18:01:04.336811Z",
     "iopub.status.idle": "2023-10-19T18:01:04.339813Z",
     "shell.execute_reply": "2023-10-19T18:01:04.339664Z"
    },
    "tags": []
   },
   "outputs": [
    {
     "data": {
      "text/html": [
       "<div>\n",
       "<style scoped>\n",
       "    .dataframe tbody tr th:only-of-type {\n",
       "        vertical-align: middle;\n",
       "    }\n",
       "\n",
       "    .dataframe tbody tr th {\n",
       "        vertical-align: top;\n",
       "    }\n",
       "\n",
       "    .dataframe thead th {\n",
       "        text-align: right;\n",
       "    }\n",
       "</style>\n",
       "<table border=\"1\" class=\"dataframe\">\n",
       "  <thead>\n",
       "    <tr style=\"text-align: right;\">\n",
       "      <th></th>\n",
       "      <th>Rank</th>\n",
       "      <th>Suit</th>\n",
       "      <th>Value</th>\n",
       "    </tr>\n",
       "  </thead>\n",
       "  <tbody>\n",
       "    <tr>\n",
       "      <th>0</th>\n",
       "      <td>2</td>\n",
       "      <td>Hearts</td>\n",
       "      <td>1</td>\n",
       "    </tr>\n",
       "    <tr>\n",
       "      <th>1</th>\n",
       "      <td>3</td>\n",
       "      <td>Spades</td>\n",
       "      <td>2</td>\n",
       "    </tr>\n",
       "    <tr>\n",
       "      <th>2</th>\n",
       "      <td>5</td>\n",
       "      <td>Clubs</td>\n",
       "      <td>4</td>\n",
       "    </tr>\n",
       "    <tr>\n",
       "      <th>3</th>\n",
       "      <td>7</td>\n",
       "      <td>Diamonds</td>\n",
       "      <td>6</td>\n",
       "    </tr>\n",
       "    <tr>\n",
       "      <th>4</th>\n",
       "      <td>J</td>\n",
       "      <td>Spades</td>\n",
       "      <td>10</td>\n",
       "    </tr>\n",
       "  </tbody>\n",
       "</table>\n",
       "</div>"
      ],
      "text/plain": [
       "  Rank      Suit  Value\n",
       "0    2    Hearts      1\n",
       "1    3    Spades      2\n",
       "2    5     Clubs      4\n",
       "3    7  Diamonds      6\n",
       "4    J    Spades     10"
      ]
     },
     "execution_count": 36,
     "metadata": {},
     "output_type": "execute_result"
    }
   ],
   "source": [
    "draw_five()"
   ]
  },
  {
   "cell_type": "markdown",
   "id": "a08b77bf-c52b-4756-8a22-627b65eaef2f",
   "metadata": {},
   "source": [
    "There are many [poker hands](https://en.wikipedia.org/wiki/List_of_poker_hands), and it is not hard to compute the exact probability of each.  The highest valued hands are *extremely* unlikely.  For instance, the probability of getting *four of a kind* (four cards with the same rank) is \n",
    "\n",
    "$$\n",
    "\\frac{13 \\cdot 48}{\\displaystyle \\binom{52}{5}} = \\frac{624}{2{,}598{,}960} = \\frac{1}{4{,}165} \\approx 0.00024 = 0.0240\\%.\n",
    "$$\n",
    "\n",
    "A *straight-flush* (five cards in sequence and with the same suit) is even less likely, with a probability of\n",
    "\n",
    "$$\n",
    "\\frac{9 \\cdot 4}{\\displaystyle \\binom{52}{5}} = \\frac{36}{2{,}598{,}960} = \\frac{3}{216{,}580} \\approx 0.00001385 = 0.001385\\%.\n",
    "$$\n",
    "\n",
    "We will focus on lower valued hands, which have a higher probability.  We will look at two hands:\n",
    "\n",
    "  * **Two pairs**: two cards of matching rank, another two cards matching a different rank, and a fifth card with a rank different from the previous two.  Suits don't matter.\n",
    "  * **Straight**: the ranks in sequence of *values* of increasing order, like, `[3, 4, 5, 6, 7]`, or `[10, J, Q, K, A]`, but *not all suits the same*!  (That would be a *straight flush* instead.)  **Note that we assume here that `A` comes after `K` and not before `2`.**\n",
    "  \n",
    "Hence, now we need functions that take a hand (a data frame of five cards) and return `True` if we have two pairs or a straight, respectively, and `False` otherwise.\n",
    "\n"
   ]
  },
  {
   "cell_type": "markdown",
   "id": "b9c29887-3bcc-4bf8-b4d1-3a7ae8b115e3",
   "metadata": {},
   "source": [
    "#### Two Pairs\n",
    "\n",
    "We can easily check for two pairs using `value_counts`: if a hand has two pairs, the value counts for Rank should give an array with `[2, 2, 1]`:"
   ]
  },
  {
   "cell_type": "code",
   "execution_count": 37,
   "id": "3bdca0f2-28c4-475b-bdf3-ae509591cbfc",
   "metadata": {
    "execution": {
     "iopub.execute_input": "2023-10-19T18:01:04.340911Z",
     "iopub.status.busy": "2023-10-19T18:01:04.340805Z",
     "iopub.status.idle": "2023-10-19T18:01:04.342230Z",
     "shell.execute_reply": "2023-10-19T18:01:04.342077Z"
    },
    "tags": []
   },
   "outputs": [],
   "source": [
    "def is_two_pairs(hand):\n",
    "    \"\"\"\n",
    "    Check if hand is two pairs.\n",
    "    \n",
    "    INPUT:\n",
    "    hand: data frame with five rows from the deck.\n",
    "    \n",
    "    OUTPUT:\n",
    "    True/False if the hands is two of a kind or not.\n",
    "    \"\"\"\n",
    "    return np.array_equal(\n",
    "        hand[\"Rank\"].value_counts().to_numpy(), \n",
    "        np.array([2, 2, 1]))"
   ]
  },
  {
   "cell_type": "markdown",
   "id": "b565f5bc-5b81-4f75-86a0-c10dd003a9f6",
   "metadata": {},
   "source": [
    "Let's create some hands, and use them to check:"
   ]
  },
  {
   "cell_type": "code",
   "execution_count": 38,
   "id": "870acfb6-78a9-4f49-b16b-5ce7926cb939",
   "metadata": {
    "execution": {
     "iopub.execute_input": "2023-10-19T18:01:04.342978Z",
     "iopub.status.busy": "2023-10-19T18:01:04.342914Z",
     "iopub.status.idle": "2023-10-19T18:01:04.344683Z",
     "shell.execute_reply": "2023-10-19T18:01:04.344523Z"
    },
    "tags": []
   },
   "outputs": [],
   "source": [
    "hands = [\n",
    "    deck.iloc[[2, 43, 50, 28, 30]],  # two pairs\n",
    "    deck.iloc[[2, 28, 41, 20, 33]],  # full house\n",
    "    deck.iloc[[2, 28, 41, 43, 50]],  # three of a kind\n",
    "    deck.iloc[[2, 28, 30, 40, 50]],  # one pair\n",
    "    deck.iloc[[2, 20, 41, 43, 50]],  # one pair\n",
    "]\n"
   ]
  },
  {
   "cell_type": "code",
   "execution_count": 39,
   "id": "3a6944c9-d96f-4845-814b-6e157b03a0e4",
   "metadata": {
    "execution": {
     "iopub.execute_input": "2023-10-19T18:01:04.345360Z",
     "iopub.status.busy": "2023-10-19T18:01:04.345297Z",
     "iopub.status.idle": "2023-10-19T18:01:04.347349Z",
     "shell.execute_reply": "2023-10-19T18:01:04.347185Z"
    },
    "tags": []
   },
   "outputs": [
    {
     "name": "stdout",
     "output_type": "stream",
     "text": [
      "True\n",
      "False\n",
      "False\n",
      "False\n",
      "False\n"
     ]
    }
   ],
   "source": [
    "# only first should be true\n",
    "for hand in hands:\n",
    "    print(is_two_pairs(hand))"
   ]
  },
  {
   "cell_type": "markdown",
   "id": "5cf7394b-fd59-4851-b7c2-67edf51cbc01",
   "metadata": {},
   "source": [
    "#### Straight\n",
    "\n",
    "Now, let's check if we have a straight.\n",
    "\n",
    "The first thing to be careful is that we do not count straight flushes as a (simple) straight.  We can then just check if all the suits are the same before we test if the cards are in sequence.\n",
    "\n",
    "Next, we need to check if the cards are in sequence.  There are many ways to do this.  Here we can just sort the Value column, get the lowest card (the first one, after sorting), and check if we have 5 cards in sequence from there:"
   ]
  },
  {
   "cell_type": "code",
   "execution_count": 40,
   "id": "203160f4-f861-4596-a7f6-59e8289d797e",
   "metadata": {
    "execution": {
     "iopub.execute_input": "2023-10-19T18:01:04.348094Z",
     "iopub.status.busy": "2023-10-19T18:01:04.348028Z",
     "iopub.status.idle": "2023-10-19T18:01:04.349587Z",
     "shell.execute_reply": "2023-10-19T18:01:04.349436Z"
    },
    "tags": []
   },
   "outputs": [],
   "source": [
    "def is_straight(hand):\n",
    "    \"\"\"\n",
    "    Check if hand is a straight.\n",
    "    \n",
    "    INPUT:\n",
    "    hand: five rows of the deck data frame.\n",
    "    \n",
    "    OUTPUT:\n",
    "    True/False if the hand is a straight or not.\n",
    "    \"\"\"\n",
    "    # all same suit?\n",
    "    if len(hand[\"Suit\"].value_counts()) == 1:\n",
    "        return False\n",
    "    \n",
    "    # is it in sequence?\n",
    "    values = np.sort(hand[\"Value\"].to_numpy())\n",
    "    lowest_card = values[0]\n",
    "    return np.array_equal(values, np.arange(lowest_card, lowest_card + 5))"
   ]
  },
  {
   "cell_type": "markdown",
   "id": "bbd3c364-0dcf-47b2-b542-29fde1a1bae8",
   "metadata": {},
   "source": [
    "Let's test it:"
   ]
  },
  {
   "cell_type": "code",
   "execution_count": 41,
   "id": "823965f3-62f4-431e-94f1-e92515eb5a3a",
   "metadata": {
    "execution": {
     "iopub.execute_input": "2023-10-19T18:01:04.350257Z",
     "iopub.status.busy": "2023-10-19T18:01:04.350196Z",
     "iopub.status.idle": "2023-10-19T18:01:04.352026Z",
     "shell.execute_reply": "2023-10-19T18:01:04.351867Z"
    },
    "tags": []
   },
   "outputs": [],
   "source": [
    "hands = [\n",
    "    deck.iloc[[20, 24, 23, 21, 35]],  # straight\n",
    "    deck.iloc[[36, 51, 26, 37, 9]],   # straight\n",
    "    deck.iloc[[39, 14, 15, 16, 17]],  # almost straight\n",
    "    deck.iloc[[11, 12, 13, 14, 15]],  # nothing...\n",
    "    deck.iloc[[2, 3, 4, 5, 6]],       # straight-flush\n",
    "]"
   ]
  },
  {
   "cell_type": "code",
   "execution_count": 42,
   "id": "8f8f24c6-ca9f-46c2-a83d-dbc62db0dfdb",
   "metadata": {
    "execution": {
     "iopub.execute_input": "2023-10-19T18:01:04.352708Z",
     "iopub.status.busy": "2023-10-19T18:01:04.352647Z",
     "iopub.status.idle": "2023-10-19T18:01:04.354664Z",
     "shell.execute_reply": "2023-10-19T18:01:04.354503Z"
    },
    "tags": []
   },
   "outputs": [
    {
     "name": "stdout",
     "output_type": "stream",
     "text": [
      "True\n",
      "True\n",
      "False\n",
      "False\n",
      "False\n"
     ]
    }
   ],
   "source": [
    "# first two should be true\n",
    "for hand in hands:\n",
    "    print(is_straight(hand))"
   ]
  },
  {
   "cell_type": "markdown",
   "id": "ed86b9ea-f953-4be5-a140-86ef3ade457c",
   "metadata": {},
   "source": [
    "#### Probabilities\n",
    "\n",
    "Now, let's find approximations for the probabilities of drawing two pairs and straights.  We again need to repeat a large number of draws, and check the proportions.\n",
    "\n",
    "The number of draws has to be relatively large, since the actual probability of drawing a straight is quite low, but keep in mind that it might take a long time to get the result if the number is too large.\n",
    "\n",
    "Let's wrap the code in a function to make it easier to test with different number of draws:"
   ]
  },
  {
   "cell_type": "code",
   "execution_count": 43,
   "id": "436bc547-639c-4544-b6b9-ff5751bad557",
   "metadata": {
    "execution": {
     "iopub.execute_input": "2023-10-19T18:01:04.355408Z",
     "iopub.status.busy": "2023-10-19T18:01:04.355345Z",
     "iopub.status.idle": "2023-10-19T18:01:04.356953Z",
     "shell.execute_reply": "2023-10-19T18:01:04.356802Z"
    },
    "tags": []
   },
   "outputs": [],
   "source": [
    "def prop_two_pairs_straight(number_of_draws):\n",
    "    \"\"\"\n",
    "    Simulates drawing 5 cards number_of_draws times and returns the proportions \n",
    "    of two pairs and straights.\n",
    "    \n",
    "    INPUT:\n",
    "    number_of_draws: number of times we draw five cards from the deck.\n",
    "    \n",
    "    OUTPUT:\n",
    "    Tuple with proportions of two pairs and straights, respectively, in all draws.\n",
    "    \"\"\"\n",
    "    # initialize the count\n",
    "    number_of_two_pairs = 0\n",
    "    number_of_straights = 0\n",
    "\n",
    "    # loop\n",
    "    for i in range(number_of_draws):\n",
    "        # draw hand\n",
    "        hand = draw_five()\n",
    "\n",
    "        # check if two pairs\n",
    "        if is_two_pairs(hand):\n",
    "            number_of_two_pairs += 1\n",
    "\n",
    "        # check if straight\n",
    "        if is_straight(hand):\n",
    "            number_of_straights += 1\n",
    "\n",
    "    return number_of_two_pairs / number_of_draws, number_of_straights / number_of_draws"
   ]
  },
  {
   "cell_type": "markdown",
   "id": "8584eae7-4503-4f01-8e76-21c5fd3853a2",
   "metadata": {},
   "source": [
    "Let's experiment:"
   ]
  },
  {
   "cell_type": "code",
   "execution_count": 44,
   "id": "ac8f7076-e32a-4f86-b1c6-9c0df8d2d5f3",
   "metadata": {
    "execution": {
     "iopub.execute_input": "2023-10-19T18:01:04.357619Z",
     "iopub.status.busy": "2023-10-19T18:01:04.357557Z",
     "iopub.status.idle": "2023-10-19T18:01:09.409011Z",
     "shell.execute_reply": "2023-10-19T18:01:09.408490Z"
    },
    "tags": []
   },
   "outputs": [
    {
     "name": "stdout",
     "output_type": "stream",
     "text": [
      "Probability of drawing two pairs: 4.74%.\n",
      "Probability of drawing straight:  0.46%.\n"
     ]
    }
   ],
   "source": [
    "# 10,000 is a lot! It might take a while...\n",
    "proportions = prop_two_pairs_straight(10_000)\n",
    "\n",
    "print(f\"Probability of drawing two pairs: {proportions[0]:.2%}.\")\n",
    "print(f\"Probability of drawing straight:  {proportions[1]:.2%}.\")"
   ]
  },
  {
   "cell_type": "markdown",
   "id": "0b5323bd-aa3f-4595-baf3-b7c424a5aaed",
   "metadata": {},
   "source": [
    "The actual probabilities are about $4.75\\%$ and $0.35\\%$, but you might not get very close to these with \"only\" $10{,}000$ draws, especially for the smaller probability for straights.\n",
    "\n",
    "Feel free to write code to test other hands, e.g., four of a kind, flush, full-house, etc.  Their actual probabilities are not hard to compute (and it is fun to do it ourselves!), but you can find them here: [Poker Probabilties (Wikipedia)](https://en.wikipedia.org/wiki/Poker_probability)."
   ]
  },
  {
   "cell_type": "markdown",
   "id": "b2dd8408-0597-478b-87f2-0c7c1365f5fc",
   "metadata": {},
   "source": [
    "## Distributions\n",
    "\n",
    "If we toss a coin 50 times, we expect to have *about* 25 heads, and 25 tails.  But it is not very likely that it will be exactly that.  So, let's investigate what sort of variation can happen.\n",
    "\n",
    "To do so, we will simulate tossing a coin 50 times and keep track of the results.\n",
    "\n",
    "In this case, all we need is to keep track of one of the possible results (heads or tails)."
   ]
  },
  {
   "cell_type": "markdown",
   "id": "4307e346-09c2-47b2-a359-c848213e58ee",
   "metadata": {},
   "source": [
    "### Distribution of 50 Coin Tosses\n",
    "\n",
    "Let's write a function that simulate 50 tosses and keeps track of the number of heads:"
   ]
  },
  {
   "cell_type": "code",
   "execution_count": 45,
   "id": "56b83618-b418-4c92-8d58-b986279e3af1",
   "metadata": {
    "execution": {
     "iopub.execute_input": "2023-10-19T18:01:09.410584Z",
     "iopub.status.busy": "2023-10-19T18:01:09.410504Z",
     "iopub.status.idle": "2023-10-19T18:01:09.412584Z",
     "shell.execute_reply": "2023-10-19T18:01:09.412412Z"
    },
    "tags": []
   },
   "outputs": [],
   "source": [
    "def heads_fifty_tosses():\n",
    "    \"\"\"\n",
    "    Number of heads obtained in 50 tosses of a coin.\n",
    "    \n",
    "    INPUT:\n",
    "    None.\n",
    "    \n",
    "    OUTPUT:\n",
    "    Number of heads in our 50 simulated tosses.\n",
    "    \"\"\"\n",
    "    results = np.random.choice([\"Heads\", \"Tails\"], 50)\n",
    "    return np.count_nonzero(results == \"Heads\")"
   ]
  },
  {
   "cell_type": "markdown",
   "id": "53da64f6-b162-4286-8a5a-303c7123e868",
   "metadata": {},
   "source": [
    "You can run it a few times.  It should hover about 25:"
   ]
  },
  {
   "cell_type": "code",
   "execution_count": 46,
   "id": "06dfd955-ba54-49ee-8dc9-6aa374ccdaf8",
   "metadata": {
    "execution": {
     "iopub.execute_input": "2023-10-19T18:01:09.413807Z",
     "iopub.status.busy": "2023-10-19T18:01:09.413742Z",
     "iopub.status.idle": "2023-10-19T18:01:09.415364Z",
     "shell.execute_reply": "2023-10-19T18:01:09.415219Z"
    },
    "tags": []
   },
   "outputs": [
    {
     "data": {
      "text/plain": [
       "23"
      ]
     },
     "execution_count": 46,
     "metadata": {},
     "output_type": "execute_result"
    }
   ],
   "source": [
    "heads_fifty_tosses()"
   ]
  },
  {
   "cell_type": "markdown",
   "id": "a0bcacfb-46b2-4b1a-a45a-b7c4c72e6753",
   "metadata": {},
   "source": [
    "Now, we can repeat it many times and keep track of how many heads we obtained.\n",
    "\n",
    "To do that we will initialize a `results` array with zeros (of type `np.int8`, which handles integers between $-128$ and $127$), loop the given number of times, and add the results of 50 tosses to the corresponding position:"
   ]
  },
  {
   "cell_type": "code",
   "execution_count": 47,
   "id": "40af62d7-76e6-4283-9f4b-5497c4407708",
   "metadata": {
    "execution": {
     "iopub.execute_input": "2023-10-19T18:01:09.416401Z",
     "iopub.status.busy": "2023-10-19T18:01:09.416340Z",
     "iopub.status.idle": "2023-10-19T18:01:09.764320Z",
     "shell.execute_reply": "2023-10-19T18:01:09.764156Z"
    },
    "tags": []
   },
   "outputs": [],
   "source": [
    "number_of_repetitions = 50_000\n",
    "\n",
    "# array of results, initialized with zeros\n",
    "results = np.zeros(number_of_repetitions, dtype=np.int8)\n",
    "\n",
    "# repeat number_of_repetitions\n",
    "for i in range(number_of_repetitions):\n",
    "    results[i] = heads_fifty_tosses()  # add new number of heads to results"
   ]
  },
  {
   "cell_type": "markdown",
   "id": "805fa256-5a3b-4270-bcc8-af9e6afb488d",
   "metadata": {},
   "source": [
    "(Note that in this case, we could have also used [list comprehension](https://docs.python.org/3/tutorial/datastructures.html#list-comprehensions):\n",
    "\n",
    "```python\n",
    "results = np.array([heads_fifty_tosses() for i in range(number_of_repetitions)])\n",
    "\n",
    "```\n",
    "\n",
    "In this case, it is just as efficient as the code above.)"
   ]
  },
  {
   "cell_type": "markdown",
   "id": "2bc88093-b92f-46ce-b8c3-b86ba2143723",
   "metadata": {},
   "source": [
    "Let's visualize the results with a (density) histogram.  First, let's create bins centered in integer values between 10 and 40:"
   ]
  },
  {
   "cell_type": "code",
   "execution_count": 48,
   "id": "0d79aee2-2ce8-4370-8ab6-882e3852b900",
   "metadata": {
    "execution": {
     "iopub.execute_input": "2023-10-19T18:01:09.765266Z",
     "iopub.status.busy": "2023-10-19T18:01:09.765201Z",
     "iopub.status.idle": "2023-10-19T18:01:09.766478Z",
     "shell.execute_reply": "2023-10-19T18:01:09.766331Z"
    },
    "tags": []
   },
   "outputs": [],
   "source": [
    "heads_bins = np.arange(9.5, 41.5, 1)"
   ]
  },
  {
   "cell_type": "markdown",
   "id": "8e691950-47a8-4736-bdc2-36a79a2b1e5c",
   "metadata": {},
   "source": [
    "Now we use it for our histogram:"
   ]
  },
  {
   "cell_type": "code",
   "execution_count": 49,
   "id": "52c437e4-5ece-4897-9868-c589a97776e0",
   "metadata": {
    "execution": {
     "iopub.execute_input": "2023-10-19T18:01:09.767472Z",
     "iopub.status.busy": "2023-10-19T18:01:09.767411Z",
     "iopub.status.idle": "2023-10-19T18:01:09.823123Z",
     "shell.execute_reply": "2023-10-19T18:01:09.822885Z"
    },
    "tags": []
   },
   "outputs": [
    {
     "data": {
      "image/png": "[encoded data removed]",
      "text/plain": [
       "<Figure size 800x600 with 1 Axes>"
      ]
     },
     "metadata": {},
     "output_type": "display_data"
    }
   ],
   "source": [
    "plt.hist(results, ec=\"white\", density=True, bins=heads_bins);"
   ]
  },
  {
   "cell_type": "markdown",
   "id": "8d1f2935-b8cd-497c-a6b2-f748f8612fe3",
   "metadata": {},
   "source": [
    "We see a [normal distribution](https://en.wikipedia.org/wiki/Normal_distribution) around the expected value of 25.\n",
    "\n",
    "We can also compute some empirical probabilities.  For instance, the probability of getting 30 or more heads is about:"
   ]
  },
  {
   "cell_type": "code",
   "execution_count": 50,
   "id": "fe2d78ce-a9d6-41ce-b07b-b13e6d861033",
   "metadata": {
    "execution": {
     "iopub.execute_input": "2023-10-19T18:01:09.824523Z",
     "iopub.status.busy": "2023-10-19T18:01:09.824461Z",
     "iopub.status.idle": "2023-10-19T18:01:09.826346Z",
     "shell.execute_reply": "2023-10-19T18:01:09.826203Z"
    },
    "tags": []
   },
   "outputs": [
    {
     "data": {
      "text/plain": [
       "0.09926"
      ]
     },
     "execution_count": 50,
     "metadata": {},
     "output_type": "execute_result"
    }
   ],
   "source": [
    "np.count_nonzero(results >= 30) / len(results)"
   ]
  },
  {
   "cell_type": "markdown",
   "id": "92be8010-1eb5-4a85-bb86-b1f88488ff5f",
   "metadata": {},
   "source": [
    "The probability of getting between 20 and 30 heads is:"
   ]
  },
  {
   "cell_type": "code",
   "execution_count": 51,
   "id": "09aa5aa3-2a60-4953-b9ac-bec94972c393",
   "metadata": {
    "execution": {
     "iopub.execute_input": "2023-10-19T18:01:09.827639Z",
     "iopub.status.busy": "2023-10-19T18:01:09.827577Z",
     "iopub.status.idle": "2023-10-19T18:01:09.829621Z",
     "shell.execute_reply": "2023-10-19T18:01:09.829347Z"
    },
    "tags": []
   },
   "outputs": [
    {
     "data": {
      "text/plain": [
       "0.88226"
      ]
     },
     "execution_count": 51,
     "metadata": {},
     "output_type": "execute_result"
    }
   ],
   "source": [
    "np.count_nonzero((results >= 20) & (results <= 30)) / len(results)"
   ]
  },
  {
   "cell_type": "markdown",
   "id": "ba797e9b-cadf-4cca-871c-b9d7d76fae8a",
   "metadata": {},
   "source": [
    "**Note the different syntax for NumPy:** \n",
    "\n",
    "* we need to surround each condition in parentheses, and \n",
    "* use `&` instead of `and`.\n",
    "\n",
    "If we needed `or`, we would use `|`, and instead of `not`, we use `~`."
   ]
  },
  {
   "cell_type": "markdown",
   "id": "d745a927-06db-41e2-9bde-100dc5915b7a",
   "metadata": {},
   "source": [
    "#### Comparing to the Normal Curve\n",
    "\n",
    "Let's compare these results with an actual normal curve: if the average is $\\mu$ and the [standard deviation](https://en.wikipedia.org/wiki/Standard_deviation) is $\\sigma$, then the normal curves is given by:\n",
    "\n",
    "$$\n",
    "y = \\frac{1}{\\sigma \\, \\sqrt{2 \\pi}} \\mathrm{e}^{-\\frac{1}{2}\\left(\\frac{x-\\mu}P\\sigma \\right)^2}\n",
    "$$\n",
    "\n",
    "So, let's get the obtained average and standard deviation:"
   ]
  },
  {
   "cell_type": "code",
   "execution_count": 52,
   "id": "c181d23e-c233-415d-9cff-6e7f8f269234",
   "metadata": {
    "execution": {
     "iopub.execute_input": "2023-10-19T18:01:09.831073Z",
     "iopub.status.busy": "2023-10-19T18:01:09.831009Z",
     "iopub.status.idle": "2023-10-19T18:01:09.832832Z",
     "shell.execute_reply": "2023-10-19T18:01:09.832615Z"
    },
    "tags": []
   },
   "outputs": [
    {
     "name": "stdout",
     "output_type": "stream",
     "text": [
      "Average:           24.98.\n",
      "Standard Deviation:  3.53.\n"
     ]
    }
   ],
   "source": [
    "mean, std_dev = results.mean(), results.std()\n",
    "\n",
    "print(f\"Average:           {mean:.2f}.\\nStandard Deviation:  {std_dev:.2f}.\")"
   ]
  },
  {
   "cell_type": "markdown",
   "id": "ea9e281f-27d9-430d-b5ce-0b4caf75f577",
   "metadata": {},
   "source": [
    "Let's visualize how the histogram fits within the corresponding normal curve."
   ]
  },
  {
   "cell_type": "code",
   "execution_count": 53,
   "id": "b9c02a3b-8a40-4c6d-bfb7-c886d8dffd11",
   "metadata": {
    "execution": {
     "iopub.execute_input": "2023-10-19T18:01:09.834258Z",
     "iopub.status.busy": "2023-10-19T18:01:09.834194Z",
     "iopub.status.idle": "2023-10-19T18:01:09.893826Z",
     "shell.execute_reply": "2023-10-19T18:01:09.893516Z"
    },
    "tags": []
   },
   "outputs": [
    {
     "data": {
      "image/png": "[encoded data removed]",
      "text/plain": [
       "<Figure size 800x600 with 1 Axes>"
      ]
     },
     "metadata": {},
     "output_type": "display_data"
    }
   ],
   "source": [
    "# histogram\n",
    "plt.hist(results, ec=\"white\", bins=heads_bins, density=True, alpha=0.6)\n",
    "\n",
    "# normal curve\n",
    "x = np.linspace(mean - 4 * std_dev, mean + 4 * std_dev, 100)\n",
    "y = 1 / (std_dev * np.sqrt(2 * np.pi)) * np.exp(-1 / 2 * ((x - mean) / std_dev) ** 2)\n",
    "\n",
    "plt.plot(x, y, c=\"blue\");"
   ]
  },
  {
   "cell_type": "markdown",
   "id": "a7b57c7f-093c-4d04-8a9b-0ba5727aef70",
   "metadata": {},
   "source": [
    "## Categorical Distributions\n",
    "\n",
    "Imagine we would like to simulate drawing a random sample of the US population.  If the sample is relatively large (and truly random), we expect the proportions of each ethnicity in the sample to be close to the corresponding proportions for the whole US.\n",
    "\n",
    "According to the [US Census Data](https://www.census.gov/quickfacts/fact/table/US/PST045222), it is estimated that in 2022 the proportion for each ethnicity was:\n",
    "\n",
    "| **Ethnicity**        | **Proportion** |\n",
    "|----------------------|----------------|\n",
    "| White (non-Hispanic) | $58.9\\%$       |\n",
    "| Hispanic             | $19.1\\%$       |\n",
    "| African American     | $13.6\\%$       |\n",
    "| Asian                | $6.3\\%$        |\n",
    "| Native American      | $1.3\\%$        |\n",
    "| Pacific Islander     | $0.3\\%$        |\n",
    "| Other                | $0.5\\%$        |"
   ]
  },
  {
   "cell_type": "markdown",
   "id": "e0854b1f-ce53-4c5d-94bd-7a6e7994132e",
   "metadata": {},
   "source": [
    "Let's write a function that takes an array of proportions (or probabilities) and a number of samples, and returns the obtained proportions from a random sample of the given size, drawn randomly:"
   ]
  },
  {
   "cell_type": "code",
   "execution_count": 54,
   "id": "4b39900e-eb7c-42aa-bd7c-d9ea5be108d7",
   "metadata": {
    "execution": {
     "iopub.execute_input": "2023-10-19T18:01:09.895310Z",
     "iopub.status.busy": "2023-10-19T18:01:09.895247Z",
     "iopub.status.idle": "2023-10-19T18:01:09.897564Z",
     "shell.execute_reply": "2023-10-19T18:01:09.897221Z"
    },
    "tags": []
   },
   "outputs": [],
   "source": [
    "def sample_proportions(sample_size, proportions_array):\n",
    "    \"\"\"\n",
    "    Given an array of proportions/probabilities for categories for a random draw and a sample size,\n",
    "    randomly draws a sample with sample_size elements with the given proababilities for each \n",
    "    category, and returns the obtained proportions of elements in each categoy.\n",
    "    \n",
    "    INPUTS:\n",
    "    sample_size: number of elements to be randonly drawn from the population;\n",
    "    proportions_array: an array with the proportions for each category in the population.\n",
    "    \n",
    "    OUTPUT:\n",
    "    An array with the proportions in the random sample.\n",
    "    \n",
    "    \"\"\"\n",
    "    # number of categories\n",
    "    num_bins = len(proportions_array)\n",
    "    \n",
    "    # initialize the result\n",
    "    results = np.zeros(num_bins, dtype=float)\n",
    "\n",
    "    # samples\n",
    "    sample_array = np.random.random(sample_size)\n",
    "    \n",
    "    # categories cut-offs\n",
    "    csum = np.append(np.array([0]), np.cumsum(proportions_array))\n",
    "    \n",
    "    # check for each category\n",
    "    for i in range(num_bins):\n",
    "        results[i] = np.count_nonzero((sample_array >= csum[i]) & (sample_array <  csum[i+1]))\n",
    "\n",
    "    return results / sample_size"
   ]
  },
  {
   "cell_type": "markdown",
   "id": "32677d48-b7a3-4d66-9352-171584fb0ba4",
   "metadata": {},
   "source": [
    "We can use this function now to simulate drawing a random sample from the US population and observe the distribution of ethnicities:"
   ]
  },
  {
   "cell_type": "code",
   "execution_count": 55,
   "id": "c40fb6a0-308c-4108-9218-2740c42d790f",
   "metadata": {
    "execution": {
     "iopub.execute_input": "2023-10-19T18:01:09.898892Z",
     "iopub.status.busy": "2023-10-19T18:01:09.898826Z",
     "iopub.status.idle": "2023-10-19T18:01:09.901192Z",
     "shell.execute_reply": "2023-10-19T18:01:09.900965Z"
    },
    "tags": []
   },
   "outputs": [
    {
     "name": "stdout",
     "output_type": "stream",
     "text": [
      "SAMPLE PROPORTIONS:\n",
      "White:              58.6%  (actual: 58.9%)\n",
      "Hispanic:           18.3%  (actual: 19.1%)\n",
      "African American:   14.2%  (actual: 13.6%)\n",
      "Asian:               6.4%  (actual:  6.3%)\n",
      "Native American:     1.5%  (actual:  1.3%)\n",
      "Pacific Islander:    0.3%  (actual:  0.3%)\n",
      "Other:               0.7%  (actual:  0.5%)\n"
     ]
    }
   ],
   "source": [
    "sample_size = 1_000\n",
    "ethnicities = [\n",
    "    \"White\",\n",
    "    \"Hispanic\",\n",
    "    \"African American\",\n",
    "    \"Asian\",\n",
    "    \"Native American\",\n",
    "    \"Pacific Islander\",\n",
    "    \"Other\",\n",
    "]\n",
    "\n",
    "# proportions for ethnicities\n",
    "ethnicity_prop = [0.589, 0.191, 0.136, 0.063, 0.013, 0.003, 0.005]\n",
    "\n",
    "# length to be used for aligning the text\n",
    "length = max(len(ethnicity) for ethnicity in ethnicities) + 2\n",
    "\n",
    "# resulting proportions from sample (of size sample_size)\n",
    "result = sample_proportions(sample_size, ethnicity_prop)\n",
    "\n",
    "# print the results\n",
    "print(\"SAMPLE PROPORTIONS:\")\n",
    "for ethnicity, prop, actual in zip(ethnicities, result, ethnicity_prop):\n",
    "    ethnicity_ = ethnicity + \":\"\n",
    "    print(f\"{ethnicity_:<{length}} {prop:>6.1%}  (actual: {actual:>5.1%})\")"
   ]
  },
  {
   "cell_type": "markdown",
   "id": "189ffe85-deea-4c5e-ae7d-29387c654311",
   "metadata": {},
   "source": [
    "## Comments, Suggestions, Corrections\n",
    "\n",
    "Please send your comments, suggestions, and corrections to lfinotti@utk.edu."
   ]
  }
 ],
 "metadata": {
  "kernelspec": {
   "display_name": "Python 3 (ipykernel)",
   "language": "python",
   "name": "python3"
  },
  "language_info": {
   "codemirror_mode": {
    "name": "ipython",
    "version": 3
   },
   "file_extension": ".py",
   "mimetype": "text/x-python",
   "name": "python",
   "nbconvert_exporter": "python",
   "pygments_lexer": "ipython3",
   "version": "3.11.6"
  }
 },
 "nbformat": 4,
 "nbformat_minor": 5
}
