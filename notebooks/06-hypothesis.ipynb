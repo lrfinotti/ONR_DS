{
 "cells": [
  {
   "cell_type": "markdown",
   "id": "7d403e5f-d3b9-414d-84e1-dce6f5d2b508",
   "metadata": {},
   "source": [
    "# Hypothesis Testing"
   ]
  },
  {
   "cell_type": "markdown",
   "id": "97523b46-0a40-4d91-9e59-fbcdb5596ecf",
   "metadata": {},
   "source": [
    "## Acknowledgment \n",
    "\n",
    "Some of the content here is based on [Computational and Inferential Thinking: The Foundations of Data Science](https://inferentialthinking.com/chapters/intro.html), by A. Adhikari, J. DeNero, D. Wagner.\n",
    "\n",
    "On the other hand, this text uses its own module `datascience` for data frame manipulations, while we will use pandas, which is the most commonly used library for data frames in Python."
   ]
  },
  {
   "cell_type": "markdown",
   "id": "b03366ad-6e6a-4602-a8e7-ea8e821eeacc",
   "metadata": {},
   "source": [
    "## Importing Modules\n",
    "\n",
    "Let's start by importing the necessary modules:"
   ]
  },
  {
   "cell_type": "code",
   "execution_count": 1,
   "id": "fb31072f-5286-4e69-b963-35aea5f62be6",
   "metadata": {
    "tags": []
   },
   "outputs": [],
   "source": [
    "import numpy as np\n",
    "\n",
    "import pandas as pd\n",
    "# pd.options.future.infer_string = True\n",
    "# pd.options.mode.copy_on_write = True\n",
    "\n",
    "import matplotlib.pyplot as plt\n",
    "\n",
    "plt.rcParams[\"figure.figsize\"] = (8, 6)  # default figure size\n",
    "plt.style.use(\"ggplot\")  # style sheet\n",
    "\n",
    "from tqdm.notebook import tqdm"
   ]
  },
  {
   "cell_type": "markdown",
   "id": "d05d9349-e23c-47a0-918d-5014f1977fff",
   "metadata": {},
   "source": [
    "## Introduction\n",
    "\n",
    "Probability theory allows us to determine how likely some event can be.  For instance, the likelihood that I roll three sixes in a row with a (fair, regular 6-faced) die is $1$ in $6^3 = 216$, or about $0.46\\%$.  So, although it can happen, we can see it is not very likely, and it will likely not happen often.\n",
    "\n",
    "In cases where the probabilities are hard to compute, we can use Python to obtain [empirical probabilities](https://en.wikipedia.org/wiki/Empirical_probability): we simulate the event many times over, and find the proportion of times that we succeeded.  If the number of repetitions is large enough, the proportion of times the event occurred in our simulation is close to the theoretical probability that the even occurs.  (This is a consequence of the [law of large numbers](https://en.wikipedia.org/wiki/Law_of_large_numbers).)\n",
    "\n",
    "For instance, suppose we want to test if a dice is fair.  We can record a set of, say, 500 rolls of this die, and then compute the probability that we would get the observed results (or some particular *statistic* for the observed results) *under the assumption that the die was fair*.  If this probability is low, we would have reason to believe that the die is not fair.\n",
    "\n",
    "(A *statistic* is just some numerical value associated to the data, like the average, median, maximum, etc.)\n",
    "\n",
    "In practice, we can compute this probability empirically: we simulate rolling a fair a large number of times, and then see how often the particular observed statistic, or something \"more extreme\" value for it, occurs in our simulation."
   ]
  },
  {
   "cell_type": "markdown",
   "id": "0449b1ed-30f9-470b-8dce-da5382a6d885",
   "metadata": {},
   "source": [
    "## Testing Die For Bias Toward Sixes\n",
    "\n",
    "Let's investigate the example above. Suppose that rolling some die 500 times, we got the following frequency for each face (in order, from 1 to 6):"
   ]
  },
  {
   "cell_type": "code",
   "execution_count": 2,
   "id": "085091c8-a2cc-4a08-9dd1-5d6ac558f40f",
   "metadata": {
    "tags": []
   },
   "outputs": [],
   "source": [
    "observed_freq = np.array([79, 76, 85, 82, 79, 99])"
   ]
  },
  {
   "cell_type": "markdown",
   "id": "87e0a587-dbac-4723-b818-7a2173539a18",
   "metadata": {},
   "source": [
    "Since the number of sixes seems a bit high (we expected about 83 sixes), we might be suspicious that the die in question yields six too often.  The questions is how likely it is that this extra number of sixes occurred simply due to the randomness of the process of rolling a die, versus the die really being biased towards six."
   ]
  },
  {
   "cell_type": "markdown",
   "id": "2167e56d-a8da-4fab-92b1-023331cae843",
   "metadata": {},
   "source": [
    "### Null Hypothesis\n",
    "\n",
    "So, we have two hypotheses here:\n",
    "\n",
    "* **Null hypothesis:** The die is not biased.\n",
    "* **Alternative Hypothesis:** The die is biased toward sixes.\n",
    "\n",
    "The term [*Null Hypothesis*](https://en.wikipedia.org/wiki/Null_hypothesis) is used to described the assumption that the difference between the observed values differs from the random model *simply due to the randomness*.  \n",
    "\n",
    "Note that the alternative here is more specific than simply that our null hypothesis is false, as we have a particular way in which we are assuming the null hypothesis is false.  This will affect how we draw our conclusion.\n",
    "\n",
    "We will then focus then on the number of sixes.  (This is our statistic for this test.)\n",
    "\n",
    "So, let's investigate this by simulating 500 rolls of a fair die and counting the number of sixes:"
   ]
  },
  {
   "cell_type": "code",
   "execution_count": 3,
   "id": "f857feb8-565a-45bc-ac31-12c8a451a027",
   "metadata": {
    "tags": []
   },
   "outputs": [],
   "source": [
    "def sixes_500_rolls():\n",
    "    \"\"\"\n",
    "    Simulate rolling a die 500 times and returns the number of sixes obtained.\n",
    "\n",
    "    INPUT:\n",
    "    None.\n",
    "\n",
    "    OUTPUT:\n",
    "    Number of sixes from a simulation of rolling a die 500 times.\n",
    "    \"\"\"\n",
    "    rolls = np.random.randint(1, 7, 500)\n",
    "    return np.count_nonzero(rolls == 6)"
   ]
  },
  {
   "cell_type": "markdown",
   "id": "10a80733-e16b-48d2-bd43-1a3ea27e4679",
   "metadata": {},
   "source": [
    "Now we need to simulate this *a large number of times* and collect the data.  This will help us analyze how likely it is we get 99 sixes due simply to the randomness of the process: we just check how many times we obtained 99 sixes *or more* in our simulation!"
   ]
  },
  {
   "cell_type": "code",
   "execution_count": 4,
   "id": "2314443e-7163-4ece-887f-74bc8554b5d2",
   "metadata": {
    "tags": []
   },
   "outputs": [
    {
     "data": {
      "application/vnd.jupyter.widget-view+json": {
       "model_id": "e722dd175127465683c517cd5fcf8815",
       "version_major": 2,
       "version_minor": 0
      },
      "text/plain": [
       "  0%|          | 0/10000 [00:00<?, ?it/s]"
      ]
     },
     "metadata": {},
     "output_type": "display_data"
    },
    {
     "name": "stdout",
     "output_type": "stream",
     "text": [
      "CPU times: user 374 ms, sys: 2.92 ms, total: 377 ms\n",
      "Wall time: 382 ms\n"
     ]
    }
   ],
   "source": [
    "%%time\n",
    "number_of_repetitions = 10_000\n",
    "\n",
    "# initialize array with zeros\n",
    "rolls = np.zeros(number_of_repetitions, dtype=np.int16)\n",
    "\n",
    "# repeat the experiment\n",
    "for i in tqdm(range(number_of_repetitions)):\n",
    "    rolls[i] = sixes_500_rolls()  # add roll to results"
   ]
  },
  {
   "cell_type": "markdown",
   "id": "1fe8eef5-dfd4-422e-ab13-87a42d109e45",
   "metadata": {},
   "source": [
    "#### Technical Digression: Leveraging the Power of NumPy\n",
    "\n",
    "The experiment above runs fast enough, but there is a more efficient way.  `np.random.randint` cat take a tuple for its size.\n",
    "\n",
    "To make the numbers smaller, let's say we want repeat rolling a die 3 times (instead of 500) ten times (instead of 10,000).  We can do:"
   ]
  },
  {
   "cell_type": "code",
   "execution_count": 5,
   "id": "6e53ec4a-4718-4623-9bab-6031165223bc",
   "metadata": {
    "tags": []
   },
   "outputs": [
    {
     "data": {
      "text/plain": [
       "array([[2, 2, 3],\n",
       "       [2, 1, 3],\n",
       "       [2, 3, 2],\n",
       "       [2, 4, 2],\n",
       "       [4, 3, 1],\n",
       "       [1, 4, 4],\n",
       "       [1, 5, 5],\n",
       "       [3, 5, 5],\n",
       "       [4, 1, 6],\n",
       "       [6, 4, 5]])"
      ]
     },
     "execution_count": 5,
     "metadata": {},
     "output_type": "execute_result"
    }
   ],
   "source": [
    "small_rolls = np.random.randint(1, 7, (10, 3))\n",
    "\n",
    "small_rolls"
   ]
  },
  {
   "cell_type": "markdown",
   "id": "dde2a414-f373-48a3-b7ac-4c8b8a0f5996",
   "metadata": {},
   "source": [
    "Then, to get the number of sixes, we pass the optional argument `axis=1` to `np.count_nonzero`, so that it counts the number of sixes  *on rows*:"
   ]
  },
  {
   "cell_type": "code",
   "execution_count": 6,
   "id": "39451b9f-7af3-457f-aaa7-6e17b580a0c9",
   "metadata": {
    "tags": []
   },
   "outputs": [
    {
     "data": {
      "text/plain": [
       "array([0, 0, 0, 0, 0, 0, 0, 0, 1, 1])"
      ]
     },
     "execution_count": 6,
     "metadata": {},
     "output_type": "execute_result"
    }
   ],
   "source": [
    "np.count_nonzero(small_rolls == 6, axis=1)"
   ]
  },
  {
   "cell_type": "markdown",
   "id": "7825ad8d-c4cd-4f29-83b4-0b6335f269c7",
   "metadata": {},
   "source": [
    "Thus, we could do the computation above simply with:"
   ]
  },
  {
   "cell_type": "code",
   "execution_count": 7,
   "id": "a0b4ad45-8d5e-4d9f-a01a-f8836c3f45e8",
   "metadata": {
    "tags": []
   },
   "outputs": [
    {
     "name": "stdout",
     "output_type": "stream",
     "text": [
      "CPU times: user 48 ms, sys: 4.74 ms, total: 52.7 ms\n",
      "Wall time: 53.4 ms\n"
     ]
    }
   ],
   "source": [
    "%%time\n",
    "number_of_repetitions = 10_000\n",
    "\n",
    "rolls = np.count_nonzero(\n",
    "    np.random.randint(1, 7, (number_of_repetitions, 500)) == 6,\n",
    "    axis=1\n",
    ")"
   ]
  },
  {
   "cell_type": "markdown",
   "id": "065eddab-ad46-41f9-9cc9-3db40cf0ee74",
   "metadata": {},
   "source": [
    "(Note that the function `sixes_500_rolls` is not needed.)\n",
    "\n",
    "In my experiments, this new version runs in about half the time.  In this case, either way the code is so fast that it might not be worth implementing this second method, as the first is probably easier to read (and write).  (*Readability counts!*)  But if your code is slow, it is worth considering using NumPy more directly in the computations."
   ]
  },
  {
   "cell_type": "markdown",
   "id": "bfa41ba3-c054-4283-b444-02b5af287fe3",
   "metadata": {},
   "source": [
    "**Back to our problem:** Let's see how many times we obtained 99 or more:"
   ]
  },
  {
   "cell_type": "code",
   "execution_count": 8,
   "id": "b5c7077e-776f-4f11-a30f-be4f82205e8e",
   "metadata": {
    "tags": []
   },
   "outputs": [
    {
     "data": {
      "text/plain": [
       "409"
      ]
     },
     "execution_count": 8,
     "metadata": {},
     "output_type": "execute_result"
    }
   ],
   "source": [
    "np.count_nonzero(rolls >= 99)"
   ]
  },
  {
   "cell_type": "markdown",
   "id": "31922dbd-7024-4111-8ff5-0e630b2b0d4e",
   "metadata": {},
   "source": [
    "That is a \"large\" number, but remember, we repeated the process *many times*.  It is better then to actually see the proportion:"
   ]
  },
  {
   "cell_type": "code",
   "execution_count": 9,
   "id": "d467426d-fe55-4320-beec-f0470dd7bfbe",
   "metadata": {
    "tags": []
   },
   "outputs": [
    {
     "data": {
      "text/plain": [
       "0.0409"
      ]
     },
     "execution_count": 9,
     "metadata": {},
     "output_type": "execute_result"
    }
   ],
   "source": [
    "np.count_nonzero(rolls >= 99) / number_of_repetitions"
   ]
  },
  {
   "cell_type": "markdown",
   "id": "267fc42e-17b0-4bad-bda7-a2cdf853c032",
   "metadata": {},
   "source": [
    "It occurred about $3.675\\%$ of the time.  (This percentage varies each time you run the code, but should not be too far off.)\n",
    "\n",
    "Note that this basically saying that the probability of obtaining 99 or more sixes in 500 rolls of a fair die is about $3.675\\%$.\n",
    "\n",
    "### $p$-Value\n",
    "\n",
    "This percentage is what we call the [*$p$-value*](https://en.wikipedia.org/wiki/P-value) of the test, meaning, the probability of obtaining test results at least as extreme as the result actually observed, under the assumption that the null hypothesis is correct.\n",
    "\n",
    "Here, *more extreme* means to have even more sixes.  So, \"more extreme\" means that we would more inclined in accepting the *alternative* hypothesis.  Hence, its meaning depends on the context.\n",
    "\n",
    "It is clear then that the observed number of sixes, i.e., 99, *could* occur.  But the probability of it occurring is about $3.75\\%$.  So, do we reject or accept the alternative hypothesis (that the die is biased toward sixes)?\n",
    "\n",
    "There are no fast rules, but there are two commonly used values:\n",
    "\n",
    "* A $p$-value of $5\\%$ or less is called *statistically significant*.\n",
    "* A $p$-value of $1\\%$ or less is called *highly statistically significant*.\n",
    "\n",
    "It is usual to accept the alternative hypothesis if the $p$-values is statistically significant, or if we are more cautious, if it is *highly* statistically significant.\n",
    "\n",
    "\n",
    "### Computing Significant Values (`np.percentile`)\n",
    "\n",
    "To find what value would give a $p$-value of $5\\%$, we need to find a value (number of sixes) such that only $5\\%$ of our data has that many *or more* sixes.  (We have \"*or more*\" here because more sixes supports the alternative hypotheses.  In some cases, we might need \"or less\" instead!)\n",
    "\n",
    "We can find this value using `np.percentile`: the [$k$-th percentile](https://en.wikipedia.org/wiki/Percentile) is the value in our data for which $k\\%$ of all values are *below* it.\n",
    "\n",
    "Since we want $5\\%$ of values above it, this means that we have (about) $95\\%$ below it.  So, we need the $95$-th percentile:"
   ]
  },
  {
   "cell_type": "code",
   "execution_count": 10,
   "id": "aaee6279-84db-4077-8bb4-11a6ef9e331f",
   "metadata": {
    "tags": []
   },
   "outputs": [
    {
     "data": {
      "text/plain": [
       "97.04999999999927"
      ]
     },
     "execution_count": 10,
     "metadata": {},
     "output_type": "execute_result"
    }
   ],
   "source": [
    "significant = np.percentile(rolls, 95)  # value for significant\n",
    "significant"
   ]
  },
  {
   "cell_type": "markdown",
   "id": "9c0cb36a-488c-4d7b-bd4b-de66f4150892",
   "metadata": {},
   "source": [
    "Similarly, for *highly* statistically significant, we need $1\\%$ of the values to be equal or above it, so we need the $99$-th percentile:"
   ]
  },
  {
   "cell_type": "code",
   "execution_count": 11,
   "id": "2952d820-c31d-4772-829a-ddda8df60981",
   "metadata": {
    "tags": []
   },
   "outputs": [
    {
     "data": {
      "text/plain": [
       "104.0"
      ]
     },
     "execution_count": 11,
     "metadata": {},
     "output_type": "execute_result"
    }
   ],
   "source": [
    "highly_significant = np.percentile(rolls, 99)  # value for highly significant\n",
    "highly_significant"
   ]
  },
  {
   "cell_type": "markdown",
   "id": "3f639ea1-05bc-4eea-9406-c13246a3defa",
   "metadata": {},
   "source": [
    "### Visualization\n",
    "\n",
    "Let's visualize our data with these values:"
   ]
  },
  {
   "cell_type": "code",
   "execution_count": 12,
   "id": "3d985ca1-a74b-4776-99fb-8e27394d11cc",
   "metadata": {
    "tags": []
   },
   "outputs": [
    {
     "data": {
      "image/png": "[encoded data removed]",
      "text/plain": [
       "<Figure size 800x600 with 1 Axes>"
      ]
     },
     "metadata": {},
     "output_type": "display_data"
    }
   ],
   "source": [
    "# distribution of number of sixes\n",
    "plt.hist(rolls, density=True, ec=\"white\", bins=20)\n",
    "\n",
    "# observed value\n",
    "plt.scatter(observed_freq[-1], 0, c=\"blue\", marker=\"^\", s=200, label=\"Observed Value\")\n",
    "\n",
    "# significant significant value\n",
    "plt.scatter(significant, 0, c=\"gold\", marker=\"^\", s=200, label=\"Significant Value\")\n",
    "\n",
    "# highly significant value\n",
    "plt.scatter(highly_significant, 0, c=\"green\", marker=\"^\", s=200, label=\"Highly Significant Value\")\n",
    "\n",
    "plt.xlabel(\"Number of Sixes\")\n",
    "\n",
    "plt.legend(markerscale=0.5);"
   ]
  },
  {
   "cell_type": "markdown",
   "id": "9a54a19d-ea04-493b-804f-dab2ae08833a",
   "metadata": {},
   "source": [
    "In blue you see our observed number of sixes, and yellow and green you see the boundaries for statistically significant and highly statistically significant, respectively, number of sixes.\n",
    "\n",
    "The usual convention is to accept the alternative hypothesis if the $p$-value is statistically significant, of more conservatively, if highly statistically significant.\n",
    "\n",
    "Thus, we might be inclined in this case to accept the alternative hypothesis that *the die is biased towards sixes*.\n",
    "\n",
    "**In any research or analysis, the actual $p$-value should be made available,** allowing the audience to draw their own conclusions.\n",
    "\n",
    "Again, note that rejecting the alternative hypothesis does not guarantee that the die was actually biases, as we've see that it *could have occurred*!"
   ]
  },
  {
   "cell_type": "markdown",
   "id": "b5bfbbda-536e-4fb9-82ee-0cda2c6f805a",
   "metadata": {},
   "source": [
    "### Actual Probability"
   ]
  },
  {
   "cell_type": "markdown",
   "id": "0932e954-a9c2-4701-a19a-d77ed8deb13e",
   "metadata": {},
   "source": [
    "In this case, it is not hard to compute the actual probability of rolling $99$ or more sixes in $500$ rolls of a fair die.  It is:\n",
    "\n",
    "$$\n",
    "1 - \\sum_{i=0}^{98} \\binom{500}{i} \\left( \\frac{1}{6} \\right)^{i} \\left( \\frac{5}{6} \\right)^{500 - i}  \\approx 0.03657.\n",
    "$$\n",
    "\n",
    "Here is the computation using [SciPy](https://scipy.org/) (and NumPy), which provides the [binomial coefficients](https://en.wikipedia.org/wiki/Binomial_coefficient).\n",
    "\n",
    "Note that SciPy does not come with Python, so it needs to be installed separately.  If you have a *vanilla* installation of Python, you can do it by running \n",
    "\n",
    "```\n",
    "pip install scipy\n",
    "```\n",
    "\n",
    "from a terminal.\n",
    "\n",
    "On the other hand, if you installed Anaconda, it should already be available."
   ]
  },
  {
   "cell_type": "code",
   "execution_count": 13,
   "id": "67b409b5-17ef-45d6-84e4-6239c8bcde36",
   "metadata": {
    "tags": []
   },
   "outputs": [
    {
     "data": {
      "text/plain": [
       "0.03657020131035571"
      ]
     },
     "execution_count": 13,
     "metadata": {},
     "output_type": "execute_result"
    }
   ],
   "source": [
    "# import the function comb for the binomial coefficients:\n",
    "from scipy.special import comb\n",
    "\n",
    "1 - np.sum(\n",
    "    comb(500, np.arange(99))\n",
    "    * ((5 / 6) ** np.arange(500, 500 - 99, -1))\n",
    "    * ((1 / 6) ** np.arange(0, 99))\n",
    ")"
   ]
  },
  {
   "cell_type": "markdown",
   "id": "015c8bae-82cd-49ac-bcff-ffaad0e3725e",
   "metadata": {},
   "source": [
    "On the other hand, in most situations the actual probability can be extremely hard to compute and, as we could see from this example, the empirical probability is usually quite close and easier to compute."
   ]
  },
  {
   "cell_type": "markdown",
   "id": "1cc91ae8-2b3b-49e0-b617-66520f0ae957",
   "metadata": {},
   "source": [
    "## Biased Die\n",
    "\n",
    "Now assume that rolling the die 500 times we obtained the following distribution:\n"
   ]
  },
  {
   "cell_type": "code",
   "execution_count": 14,
   "id": "9c72043a-5acd-41fd-b7aa-860c9e15e2ea",
   "metadata": {
    "tags": []
   },
   "outputs": [],
   "source": [
    "observed_freq = np.array([75, 97, 74, 62, 96, 96])"
   ]
  },
  {
   "cell_type": "markdown",
   "id": "c53b321c-7e85-4872-bbed-2f308969d989",
   "metadata": {},
   "source": [
    "The distribution of values seems strange, with some number low and some numbers high. \n",
    "\n",
    "How could we investigate if it is biased in *any* way?  So our hypothesis in this case are:\n",
    "\n",
    "* **Null hypothesis:** The die is not biased.\n",
    "* **Alternative Hypothesis:** The die is biased.\n",
    "\n",
    "So, we are not specifying a specific way in which the die is biased.  This affects how we will measure this bias.  What *statistic* (i.e., what aspect of the data) will we use to compare the given data with the simulations?"
   ]
  },
  {
   "cell_type": "markdown",
   "id": "f6bf9e44-67b4-485c-82c6-51a5c3e35c3f",
   "metadata": {},
   "source": [
    "### Total Variation Distance (TVD)\n",
    "\n",
    "One possibility is to use the *total variation distance* (TVD) between the roll proportions of the values in a roll and the expected proportions.\n",
    "\n",
    "We expect the proportions to be all (about) $1/6 \\approx 0.1667$.  Let's find the proportions we've found:"
   ]
  },
  {
   "cell_type": "code",
   "execution_count": 15,
   "id": "0585da57-b09b-473b-8817-ec6f50dfedff",
   "metadata": {
    "tags": []
   },
   "outputs": [
    {
     "data": {
      "text/plain": [
       "array([0.15 , 0.194, 0.148, 0.124, 0.192, 0.192])"
      ]
     },
     "execution_count": 15,
     "metadata": {},
     "output_type": "execute_result"
    }
   ],
   "source": [
    "observed_prop = observed_freq / 500\n",
    "\n",
    "observed_prop"
   ]
  },
  {
   "cell_type": "markdown",
   "id": "2fa3c372-6d37-48fa-a069-2e4873c166c3",
   "metadata": {},
   "source": [
    "Let's see what are the differences (to see how much variation from the expected values we obtained):"
   ]
  },
  {
   "cell_type": "code",
   "execution_count": 16,
   "id": "1f577795-be1a-4c6d-8415-0b9ebead8789",
   "metadata": {
    "tags": []
   },
   "outputs": [
    {
     "data": {
      "text/plain": [
       "array([-0.01666667,  0.02733333, -0.01866667, -0.04266667,  0.02533333,\n",
       "        0.02533333])"
      ]
     },
     "execution_count": 16,
     "metadata": {},
     "output_type": "execute_result"
    }
   ],
   "source": [
    "expected_prop = np.array(6 * [1 / 6])\n",
    "\n",
    "observed_prop - expected_prop"
   ]
  },
  {
   "cell_type": "markdown",
   "id": "211c2e0c-2200-4b09-bc46-596cf427d7ff",
   "metadata": {},
   "source": [
    "Since the proportions must add to $1$, the positives differences (frequencies higher than expected) and negative differences (frequencies lower than expected) cancel each other out:"
   ]
  },
  {
   "cell_type": "code",
   "execution_count": 17,
   "id": "a619465e-57f4-4443-8b8c-765d4c4b4c93",
   "metadata": {
    "tags": []
   },
   "outputs": [
    {
     "data": {
      "text/plain": [
       "5.551115123125783e-17"
      ]
     },
     "execution_count": 17,
     "metadata": {},
     "output_type": "execute_result"
    }
   ],
   "source": [
    "np.sum(observed_prop - expected_prop)"
   ]
  },
  {
   "cell_type": "markdown",
   "id": "b69707ec-9155-4813-973e-ba0cd4fc89c5",
   "metadata": {},
   "source": [
    "(Note the number above is *very* close to zero, and not zero due to approximations in floats!)\n",
    "\n",
    "But, if we add the *absolute values* of these difference, and divide by $2$, we get a number that tell us what was *the variation that occurred both up and down*:"
   ]
  },
  {
   "cell_type": "code",
   "execution_count": 18,
   "id": "4939026f-ef16-4690-ab17-ef1df2b2b3f0",
   "metadata": {
    "tags": []
   },
   "outputs": [
    {
     "data": {
      "text/plain": [
       "0.07800000000000001"
      ]
     },
     "execution_count": 18,
     "metadata": {},
     "output_type": "execute_result"
    }
   ],
   "source": [
    "observed_tvd = np.sum(np.abs(observed_prop - expected_prop)) / 2\n",
    "\n",
    "observed_tvd"
   ]
  },
  {
   "cell_type": "markdown",
   "id": "b0f92a84-22de-44ad-86f2-a7096e664c77",
   "metadata": {},
   "source": [
    "This number (half of the sum of the absolute values of the difference between observed and expected proportions) is the *total variation distance (TVD)* between the observed proportion and the expected.\n",
    "\n",
    "As you can see, the TVD is useful when we have more than a single number we want to compare."
   ]
  },
  {
   "cell_type": "markdown",
   "id": "669cde87-ef60-414e-9ac3-562231997849",
   "metadata": {},
   "source": [
    "So, let's create now a function that computes the tvd between two arrays:"
   ]
  },
  {
   "cell_type": "code",
   "execution_count": 19,
   "id": "a98fff34-a485-4af9-ae66-83d7b4e85c8f",
   "metadata": {
    "tags": []
   },
   "outputs": [],
   "source": [
    "def tvd(array1, array2):\n",
    "    \"\"\"\n",
    "    Computes the TVD of two arrays.\n",
    "\n",
    "    INPUTS:\n",
    "    array1: array;\n",
    "    array2: array.\n",
    "\n",
    "    OUTPUT:\n",
    "    TVD between the two arrays.\n",
    "    \"\"\"\n",
    "    return np.sum(np.abs(array1 - array2)) / 2"
   ]
  },
  {
   "cell_type": "markdown",
   "id": "5c9316c2-316a-48b2-a9ce-b87faf4289e0",
   "metadata": {},
   "source": [
    "If we apply it to our observed and expected proportions, we should get the same number as above:"
   ]
  },
  {
   "cell_type": "code",
   "execution_count": 20,
   "id": "3788ddf1-33d9-463e-93ad-d347ca2d12b9",
   "metadata": {
    "tags": []
   },
   "outputs": [
    {
     "data": {
      "text/plain": [
       "0.07800000000000001"
      ]
     },
     "execution_count": 20,
     "metadata": {},
     "output_type": "execute_result"
    }
   ],
   "source": [
    "tvd(observed_prop, expected_prop)"
   ]
  },
  {
   "cell_type": "markdown",
   "id": "dedc4616-714a-44df-a124-484b2799cdd6",
   "metadata": {},
   "source": [
    "Now, let's write a function that rolls a die 500 times and get the TVD between the obtained and the expected proportions:"
   ]
  },
  {
   "cell_type": "code",
   "execution_count": 21,
   "id": "c8a5e192-af4e-412d-9645-c536d741ab03",
   "metadata": {
    "editable": true,
    "slideshow": {
     "slide_type": ""
    },
    "tags": []
   },
   "outputs": [],
   "source": [
    "# The code below assumes we get each face (1, 2,... 6) at least once!\n",
    "# But 500 is large enough that it would be *very* unlikely for it not to happen.\n",
    "\n",
    "def tvd_500():\n",
    "    \"\"\"\n",
    "    Simulates rolling a die 500 and computes the TVD between the proportions of each face and the expected\n",
    "    proportions from a fair die.\n",
    "\n",
    "    INPUT:\n",
    "    None.\n",
    "\n",
    "    OUTPUT:\n",
    "    TVD between the proportions of each face and the expected proportion from a fair die.\n",
    "    \"\"\"\n",
    "    _, freq = np.unique(np.random.randint(1, 7, 500), return_counts=True)\n",
    "    prop = freq / 500\n",
    "    return tvd(prop, expected_prop)"
   ]
  },
  {
   "cell_type": "markdown",
   "id": "b1a4265f-1dfd-45dd-b840-60b8d460c923",
   "metadata": {},
   "source": [
    "**Note:** `np.unique(array)` returns the unique values that appear in `array` *sorted*.  The optional argument `return_counts=True` adds a second output, with the count for each value (in the same order).  \n",
    "\n",
    "So, in the code above, `freq` is an array with the numbers of times each face occurred (in order).  We can discard the first output (the actual values, i.e., `[1, 2, 3, 4, 5, 6]`), since we don't need it. "
   ]
  },
  {
   "cell_type": "markdown",
   "id": "67cbe3be-791f-4bc7-8e2b-8eed1716bb91",
   "metadata": {},
   "source": [
    "We can now repeat this computation a large number of times, and see where our observed TVD sits within this data:"
   ]
  },
  {
   "cell_type": "code",
   "execution_count": 22,
   "id": "93186b5a-6e73-41c2-a30d-072f8de12978",
   "metadata": {
    "tags": []
   },
   "outputs": [
    {
     "data": {
      "application/vnd.jupyter.widget-view+json": {
       "model_id": "6e4a751a08584e0084377870b57cc372",
       "version_major": 2,
       "version_minor": 0
      },
      "text/plain": [
       "  0%|          | 0/10000 [00:00<?, ?it/s]"
      ]
     },
     "metadata": {},
     "output_type": "display_data"
    }
   ],
   "source": [
    "number_of_repetitions = 10_000\n",
    "\n",
    "# initialize results\n",
    "tvds = np.zeros(number_of_repetitions)\n",
    "\n",
    "for i in tqdm(range(number_of_repetitions)):\n",
    "    tvds[i] = tvd_500()  # add new TVD to array of results"
   ]
  },
  {
   "cell_type": "markdown",
   "id": "b4288c07-b80a-4cff-85d9-cf20cb1eb2bd",
   "metadata": {},
   "source": [
    "In this case, *large* TVDs indicate large deviations from the expected values, so they support the alternative hypothesis.  Thus, to find the $p$-value, we see the proportion of TVDs larger than or equal to the observed one:"
   ]
  },
  {
   "cell_type": "code",
   "execution_count": 23,
   "id": "fe929e97-4618-49ff-add3-31c2446bdf31",
   "metadata": {
    "tags": []
   },
   "outputs": [
    {
     "data": {
      "text/plain": [
       "0.0064"
      ]
     },
     "execution_count": 23,
     "metadata": {},
     "output_type": "execute_result"
    }
   ],
   "source": [
    "p_value = np.count_nonzero(tvds >= observed_tvd) / len(tvds)\n",
    "p_value"
   ]
  },
  {
   "cell_type": "markdown",
   "id": "3b94d980-ebfe-4ae9-82d5-cb20297081d5",
   "metadata": {},
   "source": [
    "The actual $p$-value you get will vary, due to randomness, but in my experiments, it was always below $1\\%$, so the observed TVD value is highly statistically significant.  \n",
    "\n",
    "Thus, we would accept the alternative hypothesis, and conclude that *the die is not fair*."
   ]
  },
  {
   "cell_type": "markdown",
   "id": "b6c81302-1331-4e81-8143-e006c7c20c38",
   "metadata": {},
   "source": [
    "### Visualization\n",
    "\n",
    "Let's visualize the data in this case:"
   ]
  },
  {
   "cell_type": "code",
   "execution_count": 24,
   "id": "52863790-b12b-46e8-a881-6208985b3b61",
   "metadata": {
    "tags": []
   },
   "outputs": [
    {
     "data": {
      "image/png": "[encoded data removed]",
      "text/plain": [
       "<Figure size 800x600 with 1 Axes>"
      ]
     },
     "metadata": {},
     "output_type": "display_data"
    }
   ],
   "source": [
    "# distribution of number of sixes\n",
    "plt.hist(tvds, density=True, ec=\"white\", bins=20)\n",
    "\n",
    "# significant values\n",
    "significant = np.quantile(tvds, 0.95)  # value for significant\n",
    "highly_significant = np.quantile(tvds, 0.99)  # value for highly significant\n",
    "\n",
    "# observed value\n",
    "plt.scatter(observed_tvd, 0, c=\"blue\", marker=\"^\", s=200, label=\"Observed Value\")\n",
    "\n",
    "# significant value\n",
    "plt.scatter(significant, 0, c=\"gold\", marker=\"^\", s=200, label=\"Significant Value\")\n",
    "\n",
    "# highly significant value\n",
    "plt.scatter(highly_significant, 0, c=\"green\", marker=\"^\", s=200, label=\"Highly Significant Value\")\n",
    "\n",
    "plt.xlabel(\"TVD\")\n",
    "\n",
    "plt.legend(markerscale=0.5);"
   ]
  },
  {
   "cell_type": "markdown",
   "id": "4601ca0b-2ec0-4638-8699-b6cb45dfd49f",
   "metadata": {
    "tags": []
   },
   "source": [
    "## Robert Swain's Case\n",
    "\n",
    "Robert Swain was indicted and convicted for rape in 1962, in Talladega County, Alabama.  He [appealed his indictment](https://en.wikipedia.org/wiki/Swain_v._Alabama) on the grounds that Black people were systematically excluded from juries in Talladega County.\n",
    "\n",
    "Even though 26% of the eligible jurors in the county were black, in his panel (from which the jury is supposed to be selected) only 8% of them were black.   (The jurors were selected from a panel of people *who were supposed to be representative of the population of eligible jurors*.)\n",
    "\n",
    "But the U.S. Supreme Court reviewed the appeal and concluded:\n",
    "\n",
    "> \"the overall percentage disparity has been small.\" \n",
    "\n",
    "So, here we have:\n",
    "\n",
    "* **Null Hypothesis:** There was no bias in the jury selection.  (The difference to the expected value was due only to the randomness of the draw.)\n",
    "* **Alternative Hypothesis:** There were too few blacks in the panel.\n",
    "\n",
    "As, with the previous examples, we can test if a panel with 8% of blacks is reasonable, by simulating the drawing of 100 jurors for the panel from a population that is 26% black.  We can repeat this many times and see how often we obtained 8% or less black jurors.\n",
    "\n",
    "The following function allows us to simulate the drawing of the panel from the population.  It takes an array of proportions (or probabilities) and a number of samples, and returns the obtained proportions from a random sample of the given size, drawn randomly:"
   ]
  },
  {
   "cell_type": "code",
   "execution_count": 25,
   "id": "869a71d9-a83a-42f3-bad4-5633e0e09b1a",
   "metadata": {
    "tags": []
   },
   "outputs": [],
   "source": [
    "def sample_proportions(sample_size, proportions_array):\n",
    "    \"\"\"\n",
    "    Given an array of proportions/probabilities for categories for a random draw and a sample size,\n",
    "    randomly draws a sample with sample_size elements with the given proababilities for each\n",
    "    category, and returns the obtained proportions of elements in each categoy.\n",
    "\n",
    "    INPUTS:\n",
    "    sample_size: number of elements to be randonly drawn from the population;\n",
    "    proportions_array: an array with the proportions for each category in the population.\n",
    "\n",
    "    OUTPUT:\n",
    "    An array with the proportions in the random sample.\n",
    "\n",
    "    \"\"\"\n",
    "    # number of categories\n",
    "    num_bins = len(proportions_array)\n",
    "\n",
    "    # categories\n",
    "    categories = np.arange(num_bins)\n",
    "\n",
    "    # sample\n",
    "    # (The optional argument p of np.choice is the probability for each entry\n",
    "    # being chosen.)\n",
    "    sample_array = np.random.choice(categories, sample_size, p=proportions_array)\n",
    "\n",
    "    # check for each category\n",
    "    # (np.bincount gives number of 0's, 1's, 2's, etc.  Setting minlength=num_bins\n",
    "    # guarantees that all numbers are counted, even if they never appear.)\n",
    "    counts =  np.bincount(sample_array, minlength=num_bins)\n",
    "\n",
    "    return counts / sample_size"
   ]
  },
  {
   "cell_type": "markdown",
   "id": "d7c41c38-2757-46e6-a3b2-ae64941ede68",
   "metadata": {},
   "source": [
    "We can use this function now to simulate drawing a random sample from the population of the county, with the given breakdown between blacks and whites."
   ]
  },
  {
   "cell_type": "code",
   "execution_count": 26,
   "id": "5fcc2d7d-0acc-4a3b-ae1e-549c41eff9a0",
   "metadata": {
    "tags": []
   },
   "outputs": [],
   "source": [
    "sample_size = 100\n",
    "eligible_population = [0.26, 0.74]"
   ]
  },
  {
   "cell_type": "markdown",
   "id": "47abbbf6-8cb4-4cad-87d9-1a1eec9c37b3",
   "metadata": {},
   "source": [
    "Each time we run this function, we get the proportions of blacks and whites, respectively, from our random draw of 100:"
   ]
  },
  {
   "cell_type": "code",
   "execution_count": 27,
   "id": "1b613e80-5286-473b-82b1-bfbef19de333",
   "metadata": {
    "tags": []
   },
   "outputs": [
    {
     "data": {
      "text/plain": [
       "array([0.21, 0.79])"
      ]
     },
     "execution_count": 27,
     "metadata": {},
     "output_type": "execute_result"
    }
   ],
   "source": [
    "sample_proportions(sample_size, eligible_population)"
   ]
  },
  {
   "cell_type": "markdown",
   "id": "6eeb2b88-fb1a-494b-976e-5098ca6cb8f7",
   "metadata": {},
   "source": [
    "We will use the proportion of black individuals in the panel as our statistic.  In Swain's panel, this proportion was 0.08:"
   ]
  },
  {
   "cell_type": "code",
   "execution_count": 28,
   "id": "a77ca1e8-dcc3-4870-bd8c-4030267c5b5f",
   "metadata": {
    "tags": []
   },
   "outputs": [],
   "source": [
    "observed_prop = 0.08"
   ]
  },
  {
   "cell_type": "markdown",
   "id": "35091448-be17-4a1d-be41-bf0eb7a927c2",
   "metadata": {},
   "source": [
    "Now, draw 20,000 random panels of 100 from the population:"
   ]
  },
  {
   "cell_type": "code",
   "execution_count": 29,
   "id": "cb3b1a23-232a-40d6-9b66-10da6f6bdecb",
   "metadata": {
    "tags": []
   },
   "outputs": [
    {
     "data": {
      "application/vnd.jupyter.widget-view+json": {
       "model_id": "e029b303472a470e81337eb893a0afc3",
       "version_major": 2,
       "version_minor": 0
      },
      "text/plain": [
       "  0%|          | 0/20000 [00:00<?, ?it/s]"
      ]
     },
     "metadata": {},
     "output_type": "display_data"
    }
   ],
   "source": [
    "number_of_repetitions = 20_000\n",
    "\n",
    "# initialize results as zeros\n",
    "props = np.zeros(number_of_repetitions)\n",
    "\n",
    "# repeat the draws\n",
    "for i in tqdm(range(number_of_repetitions)):\n",
    "    props[i] = sample_proportions(100, eligible_population)[0]  # add to results"
   ]
  },
  {
   "cell_type": "markdown",
   "id": "9a83fedb-16cf-4b1c-a7d8-68b03f89b24c",
   "metadata": {},
   "source": [
    "Now, we find the $p$-value for the observed proportion:"
   ]
  },
  {
   "cell_type": "code",
   "execution_count": 30,
   "id": "985759c7-bf53-49cb-a12a-ce5ca2c9e6c2",
   "metadata": {
    "tags": []
   },
   "outputs": [
    {
     "data": {
      "text/plain": [
       "0.0"
      ]
     },
     "execution_count": 30,
     "metadata": {},
     "output_type": "execute_result"
    }
   ],
   "source": [
    "np.count_nonzero(props <= 0.08) / len(props)"
   ]
  },
  {
   "cell_type": "markdown",
   "id": "bf6b948b-f1db-4415-a9bc-f3524432eb42",
   "metadata": {},
   "source": [
    "The proportion seems to be $0$!  So, in 20,000 draws, we *never* got 8% of blacks or less (when drawing from a population that is $26\\%$ black)!  So, the $p$-value is $0$ here, and we should *definitely* accept the alternative hypothesis that the selection process *was biased against blacks*.\n",
    "\n",
    "Let's find the proportions that give us statistically significant and highly statistically significant $p$-values.\n",
    "\n",
    "Note that since in this case *smaller* values support the alternative hypothesis, we need to take the *fifth and first percentiles* (and not the $95$-th and $99$-th, as in the previous examples where *larger* values supported the alternative hypothesis)."
   ]
  },
  {
   "cell_type": "code",
   "execution_count": 31,
   "id": "429ee851-140d-41ca-bd3e-55d7326ce606",
   "metadata": {
    "tags": []
   },
   "outputs": [
    {
     "name": "stdout",
     "output_type": "stream",
     "text": [
      "Statistically significant:        0.19\n",
      "Highly statistically significant: 0.16\n"
     ]
    }
   ],
   "source": [
    "significant = np.percentile(props, 5)\n",
    "highly_significant = np.percentile(props, 1)\n",
    "\n",
    "print(f\"Statistically significant:        {significant:.2f}\")\n",
    "print(f\"Highly statistically significant: {highly_significant:.2f}\")"
   ]
  },
  {
   "cell_type": "markdown",
   "id": "92f263af-30de-40a0-ad8b-3af55deef304",
   "metadata": {},
   "source": [
    "Here is the plot:"
   ]
  },
  {
   "cell_type": "code",
   "execution_count": 32,
   "id": "6432a67d-2c7f-42e6-9a04-e360cfe17da9",
   "metadata": {
    "tags": []
   },
   "outputs": [
    {
     "data": {
      "image/png": "[encoded data removed]",
      "text/plain": [
       "<Figure size 800x600 with 1 Axes>"
      ]
     },
     "metadata": {},
     "output_type": "display_data"
    }
   ],
   "source": [
    "# distribution of proportions of blacks\n",
    "plt.hist(props, density=True, ec=\"white\", bins=20)\n",
    "\n",
    "# observed value\n",
    "plt.scatter(observed_prop, 0, c=\"blue\", marker=\"^\", s=200, label=\"Obseved Value\")  # observed value\n",
    "\n",
    "# significant value\n",
    "plt.scatter(significant, 0, c=\"gold\", marker=\"^\", s=200, label=\"Significant Value\")\n",
    "\n",
    "# highly significant value\n",
    "plt.scatter(highly_significant, 0, c=\"green\", marker=\"^\", s=200, label=\"Highly Significant Value\")\n",
    "\n",
    "plt.xlabel(\"Proportion of Blacks\")\n",
    "\n",
    "plt.legend(markerscale=0.5);"
   ]
  },
  {
   "cell_type": "markdown",
   "id": "8dca273a-4862-4207-b66a-32b5049d8473",
   "metadata": {},
   "source": [
    "### Increase Number of Repetitions\n",
    "\n",
    "Maybe, increasing the number of repetitions, we can see if $8\\%$ can occur.  Let's do *100,000* repetitions:"
   ]
  },
  {
   "cell_type": "code",
   "execution_count": 33,
   "id": "84e1140c-9006-4176-bc21-a718b0b1b701",
   "metadata": {
    "tags": []
   },
   "outputs": [
    {
     "data": {
      "application/vnd.jupyter.widget-view+json": {
       "model_id": "76eeacc3028a4cbcb18059e6fe1da08d",
       "version_major": 2,
       "version_minor": 0
      },
      "text/plain": [
       "  0%|          | 0/100000 [00:00<?, ?it/s]"
      ]
     },
     "metadata": {},
     "output_type": "display_data"
    }
   ],
   "source": [
    "number_of_repetitions = 100_000\n",
    "\n",
    "# initialize with zeros\n",
    "props100K = np.zeros(number_of_repetitions)\n",
    "\n",
    "for i in tqdm(range(number_of_repetitions)):\n",
    "    # add one proportion\n",
    "    props100K[i] = sample_proportions(100, eligible_population)[0]"
   ]
  },
  {
   "cell_type": "markdown",
   "id": "5b376400-2662-4844-8280-bb595aa81f8c",
   "metadata": {},
   "source": [
    "Let's check what was the smallest proportion of blacks in all draws:"
   ]
  },
  {
   "cell_type": "code",
   "execution_count": 34,
   "id": "124d88a4-e78f-4fee-a0fe-5b861a67bfb2",
   "metadata": {
    "tags": []
   },
   "outputs": [
    {
     "data": {
      "text/plain": [
       "0.08"
      ]
     },
     "execution_count": 34,
     "metadata": {},
     "output_type": "execute_result"
    }
   ],
   "source": [
    "np.min(props100K)"
   ]
  },
  {
   "cell_type": "markdown",
   "id": "7d3c0ce1-01c8-4ebb-98ce-8c0cca1a66e3",
   "metadata": {},
   "source": [
    "Although it got closer, even with 100,000 draws, we never got $8\\%$ (or less), so the $p$-value remains $0$.\n",
    "\n",
    "Let's see if the increased number of repetitions changes the significant values:"
   ]
  },
  {
   "cell_type": "code",
   "execution_count": 35,
   "id": "9adc1c66-b128-4be2-ba6c-a6de225395e5",
   "metadata": {
    "tags": []
   },
   "outputs": [
    {
     "name": "stdout",
     "output_type": "stream",
     "text": [
      "Statistically significant:        0.19\n",
      "Highly statistically significant: 0.16\n"
     ]
    }
   ],
   "source": [
    "significant100K = np.percentile(props100K, 5)\n",
    "highly_significant100K = np.percentile(props100K, 1)\n",
    "\n",
    "print(f\"Statistically significant:        {significant:.2f}\")\n",
    "print(f\"Highly statistically significant: {highly_significant:.2f}\")"
   ]
  },
  {
   "cell_type": "markdown",
   "id": "65bf42fd-1539-4608-83ea-9bbb440a4d48",
   "metadata": {},
   "source": [
    "As you can observe, these values don't change much.  Let's see if the histogram changes:"
   ]
  },
  {
   "cell_type": "code",
   "execution_count": 36,
   "id": "48742565-fe77-405d-b348-b0ce04b3946c",
   "metadata": {
    "tags": []
   },
   "outputs": [
    {
     "data": {
      "image/png": "[encoded data removed]",
      "text/plain": [
       "<Figure size 800x600 with 1 Axes>"
      ]
     },
     "metadata": {},
     "output_type": "display_data"
    }
   ],
   "source": [
    "# distribution\n",
    "plt.hist(props100K, density=True, ec=\"white\", bins=20)\n",
    "\n",
    "# observed value\n",
    "plt.scatter(observed_prop, 0, c=\"blue\", marker=\"^\", s=200, label=\"Obseved Value\")  # observed value\n",
    "\n",
    "# significant value\n",
    "plt.scatter(significant, 0, c=\"gold\", marker=\"^\", s=200, label=\"Significant Value\")\n",
    "\n",
    "# highly significant value\n",
    "plt.scatter(highly_significant, 0, c=\"green\", marker=\"^\", s=200, label=\"Highly Significant Value\")\n",
    "\n",
    "plt.xlabel(\"Proportion of Blacks\")\n",
    "\n",
    "plt.legend(markerscale=0.5);"
   ]
  },
  {
   "cell_type": "markdown",
   "id": "189ffe85-deea-4c5e-ae7d-29387c654311",
   "metadata": {},
   "source": [
    "## Comments, Suggestions, Corrections\n",
    "\n",
    "Please send your comments, suggestions, and corrections to lfinotti@utk.edu."
   ]
  }
 ],
 "metadata": {
  "jupytext": {
   "formats": "ipynb,auto:percent"
  },
  "kernelspec": {
   "display_name": "Python 3 (ipykernel)",
   "language": "python",
   "name": "python3"
  },
  "language_info": {
   "codemirror_mode": {
    "name": "ipython",
    "version": 3
   },
   "file_extension": ".py",
   "mimetype": "text/x-python",
   "name": "python",
   "nbconvert_exporter": "python",
   "pygments_lexer": "ipython3",
   "version": "3.11.9"
  }
 },
 "nbformat": 4,
 "nbformat_minor": 5
}
